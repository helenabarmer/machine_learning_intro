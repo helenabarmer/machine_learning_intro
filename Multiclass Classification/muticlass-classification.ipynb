{
  "nbformat": 4,
  "nbformat_minor": 0,
  "metadata": {
    "kernelspec": {
      "display_name": "Python 3",
      "language": "python",
      "name": "python3"
    },
    "language_info": {
      "codemirror_mode": {
        "name": "ipython",
        "version": 3
      },
      "file_extension": ".py",
      "mimetype": "text/x-python",
      "name": "python",
      "nbconvert_exporter": "python",
      "pygments_lexer": "ipython3",
      "version": "3.7.7"
    },
    "colab": {
      "name": "muticlass-classification.ipynb",
      "provenance": []
    }
  },
  "cells": [
    {
      "cell_type": "markdown",
      "metadata": {
        "id": "LVfGaG0Wur3O"
      },
      "source": [
        "# Image Classification \n",
        "\n",
        "* Dataset: [Fashion MNIST](https://www.kaggle.com/zalando-research/fashionmnist)"
      ]
    },
    {
      "cell_type": "code",
      "metadata": {
        "id": "GBpvGXVWur3P"
      },
      "source": [
        "import numpy as np\n",
        "import pandas as pd\n",
        "import matplotlib.pyplot as plt\n",
        "from sklearn.model_selection import train_test_split"
      ],
      "execution_count": null,
      "outputs": []
    },
    {
      "cell_type": "markdown",
      "metadata": {
        "id": "fZq7oieDur3S"
      },
      "source": [
        "## Images\n",
        "* **Images**: Matrix of numbers (pixels). Each pixel holds a number we will work with\n",
        "* **Images with colors**: Multi channel. 3 values needed.\n",
        "* **Greyscale images**: Single channel images. 1 value needed.\n",
        "* Every image is 28x28 pixels.\n",
        "\n",
        "# 4 values\n",
        "\n",
        "* **List of images**: (1, 2, 3, 4)\n",
        "* **Value 1**: Number of images in the list\n",
        "* **Value 2,3**: Height and width of the image\n",
        "* **Value 4**: Number of channels in the image"
      ]
    },
    {
      "cell_type": "code",
      "metadata": {
        "id": "paBXF0Y7ur3S",
        "outputId": "e39105d5-b872-4c3d-f082-e85db434402a"
      },
      "source": [
        "# Get data\n",
        "#data = 'mnist.csv'\n",
        "data = 'https://raw.githubusercontent.com/helenabarmer/machine_learning_intro/master/Multiclass%20Classification/mnist.csv'\n",
        "df = pd.read_csv(data)\n",
        "df.head()"
      ],
      "execution_count": null,
      "outputs": [
        {
          "output_type": "execute_result",
          "data": {
            "text/html": [
              "<div>\n",
              "<style scoped>\n",
              "    .dataframe tbody tr th:only-of-type {\n",
              "        vertical-align: middle;\n",
              "    }\n",
              "\n",
              "    .dataframe tbody tr th {\n",
              "        vertical-align: top;\n",
              "    }\n",
              "\n",
              "    .dataframe thead th {\n",
              "        text-align: right;\n",
              "    }\n",
              "</style>\n",
              "<table border=\"1\" class=\"dataframe\">\n",
              "  <thead>\n",
              "    <tr style=\"text-align: right;\">\n",
              "      <th></th>\n",
              "      <th>label</th>\n",
              "      <th>pixel1</th>\n",
              "      <th>pixel2</th>\n",
              "      <th>pixel3</th>\n",
              "      <th>pixel4</th>\n",
              "      <th>pixel5</th>\n",
              "      <th>pixel6</th>\n",
              "      <th>pixel7</th>\n",
              "      <th>pixel8</th>\n",
              "      <th>pixel9</th>\n",
              "      <th>...</th>\n",
              "      <th>pixel775</th>\n",
              "      <th>pixel776</th>\n",
              "      <th>pixel777</th>\n",
              "      <th>pixel778</th>\n",
              "      <th>pixel779</th>\n",
              "      <th>pixel780</th>\n",
              "      <th>pixel781</th>\n",
              "      <th>pixel782</th>\n",
              "      <th>pixel783</th>\n",
              "      <th>pixel784</th>\n",
              "    </tr>\n",
              "  </thead>\n",
              "  <tbody>\n",
              "    <tr>\n",
              "      <th>0</th>\n",
              "      <td>0</td>\n",
              "      <td>0</td>\n",
              "      <td>0</td>\n",
              "      <td>0</td>\n",
              "      <td>0</td>\n",
              "      <td>0</td>\n",
              "      <td>0</td>\n",
              "      <td>0</td>\n",
              "      <td>9</td>\n",
              "      <td>8</td>\n",
              "      <td>...</td>\n",
              "      <td>103</td>\n",
              "      <td>87</td>\n",
              "      <td>56</td>\n",
              "      <td>0</td>\n",
              "      <td>0</td>\n",
              "      <td>0</td>\n",
              "      <td>0</td>\n",
              "      <td>0</td>\n",
              "      <td>0</td>\n",
              "      <td>0</td>\n",
              "    </tr>\n",
              "    <tr>\n",
              "      <th>1</th>\n",
              "      <td>1</td>\n",
              "      <td>0</td>\n",
              "      <td>0</td>\n",
              "      <td>0</td>\n",
              "      <td>0</td>\n",
              "      <td>0</td>\n",
              "      <td>0</td>\n",
              "      <td>0</td>\n",
              "      <td>0</td>\n",
              "      <td>0</td>\n",
              "      <td>...</td>\n",
              "      <td>34</td>\n",
              "      <td>0</td>\n",
              "      <td>0</td>\n",
              "      <td>0</td>\n",
              "      <td>0</td>\n",
              "      <td>0</td>\n",
              "      <td>0</td>\n",
              "      <td>0</td>\n",
              "      <td>0</td>\n",
              "      <td>0</td>\n",
              "    </tr>\n",
              "    <tr>\n",
              "      <th>2</th>\n",
              "      <td>2</td>\n",
              "      <td>0</td>\n",
              "      <td>0</td>\n",
              "      <td>0</td>\n",
              "      <td>0</td>\n",
              "      <td>0</td>\n",
              "      <td>0</td>\n",
              "      <td>14</td>\n",
              "      <td>53</td>\n",
              "      <td>99</td>\n",
              "      <td>...</td>\n",
              "      <td>0</td>\n",
              "      <td>0</td>\n",
              "      <td>0</td>\n",
              "      <td>0</td>\n",
              "      <td>63</td>\n",
              "      <td>53</td>\n",
              "      <td>31</td>\n",
              "      <td>0</td>\n",
              "      <td>0</td>\n",
              "      <td>0</td>\n",
              "    </tr>\n",
              "    <tr>\n",
              "      <th>3</th>\n",
              "      <td>2</td>\n",
              "      <td>0</td>\n",
              "      <td>0</td>\n",
              "      <td>0</td>\n",
              "      <td>0</td>\n",
              "      <td>0</td>\n",
              "      <td>0</td>\n",
              "      <td>0</td>\n",
              "      <td>0</td>\n",
              "      <td>0</td>\n",
              "      <td>...</td>\n",
              "      <td>137</td>\n",
              "      <td>126</td>\n",
              "      <td>140</td>\n",
              "      <td>0</td>\n",
              "      <td>133</td>\n",
              "      <td>224</td>\n",
              "      <td>222</td>\n",
              "      <td>56</td>\n",
              "      <td>0</td>\n",
              "      <td>0</td>\n",
              "    </tr>\n",
              "    <tr>\n",
              "      <th>4</th>\n",
              "      <td>3</td>\n",
              "      <td>0</td>\n",
              "      <td>0</td>\n",
              "      <td>0</td>\n",
              "      <td>0</td>\n",
              "      <td>0</td>\n",
              "      <td>0</td>\n",
              "      <td>0</td>\n",
              "      <td>0</td>\n",
              "      <td>0</td>\n",
              "      <td>...</td>\n",
              "      <td>0</td>\n",
              "      <td>0</td>\n",
              "      <td>0</td>\n",
              "      <td>0</td>\n",
              "      <td>0</td>\n",
              "      <td>0</td>\n",
              "      <td>0</td>\n",
              "      <td>0</td>\n",
              "      <td>0</td>\n",
              "      <td>0</td>\n",
              "    </tr>\n",
              "  </tbody>\n",
              "</table>\n",
              "<p>5 rows × 785 columns</p>\n",
              "</div>"
            ],
            "text/plain": [
              "   label  pixel1  pixel2  pixel3  pixel4  pixel5  pixel6  pixel7  pixel8  \\\n",
              "0      0       0       0       0       0       0       0       0       9   \n",
              "1      1       0       0       0       0       0       0       0       0   \n",
              "2      2       0       0       0       0       0       0      14      53   \n",
              "3      2       0       0       0       0       0       0       0       0   \n",
              "4      3       0       0       0       0       0       0       0       0   \n",
              "\n",
              "   pixel9  ...  pixel775  pixel776  pixel777  pixel778  pixel779  pixel780  \\\n",
              "0       8  ...       103        87        56         0         0         0   \n",
              "1       0  ...        34         0         0         0         0         0   \n",
              "2      99  ...         0         0         0         0        63        53   \n",
              "3       0  ...       137       126       140         0       133       224   \n",
              "4       0  ...         0         0         0         0         0         0   \n",
              "\n",
              "   pixel781  pixel782  pixel783  pixel784  \n",
              "0         0         0         0         0  \n",
              "1         0         0         0         0  \n",
              "2        31         0         0         0  \n",
              "3       222        56         0         0  \n",
              "4         0         0         0         0  \n",
              "\n",
              "[5 rows x 785 columns]"
            ]
          },
          "metadata": {
            "tags": []
          },
          "execution_count": 6
        }
      ]
    },
    {
      "cell_type": "code",
      "metadata": {
        "id": "cb8OEU2Yur3X",
        "outputId": "4469cfe4-5ea8-4bb0-e9f6-5b7f6ff14be6"
      },
      "source": [
        "# Shape of the data\n",
        "df.shape"
      ],
      "execution_count": null,
      "outputs": [
        {
          "output_type": "execute_result",
          "data": {
            "text/plain": [
              "(10000, 785)"
            ]
          },
          "metadata": {
            "tags": []
          },
          "execution_count": 14
        }
      ]
    },
    {
      "cell_type": "code",
      "metadata": {
        "id": "KfBMn5sYur3Y"
      },
      "source": [
        "# Features\n",
        "X = df[df.columns[1:]]\n",
        "\n",
        "# Labels\n",
        "y = df['label']"
      ],
      "execution_count": null,
      "outputs": []
    },
    {
      "cell_type": "code",
      "metadata": {
        "id": "-egsQFPcur3Y",
        "outputId": "a76ada79-78a3-4b4f-ef35-70e4651ae22d"
      },
      "source": [
        "df.describe()"
      ],
      "execution_count": null,
      "outputs": [
        {
          "output_type": "execute_result",
          "data": {
            "text/html": [
              "<div>\n",
              "<style scoped>\n",
              "    .dataframe tbody tr th:only-of-type {\n",
              "        vertical-align: middle;\n",
              "    }\n",
              "\n",
              "    .dataframe tbody tr th {\n",
              "        vertical-align: top;\n",
              "    }\n",
              "\n",
              "    .dataframe thead th {\n",
              "        text-align: right;\n",
              "    }\n",
              "</style>\n",
              "<table border=\"1\" class=\"dataframe\">\n",
              "  <thead>\n",
              "    <tr style=\"text-align: right;\">\n",
              "      <th></th>\n",
              "      <th>label</th>\n",
              "      <th>pixel1</th>\n",
              "      <th>pixel2</th>\n",
              "      <th>pixel3</th>\n",
              "      <th>pixel4</th>\n",
              "      <th>pixel5</th>\n",
              "      <th>pixel6</th>\n",
              "      <th>pixel7</th>\n",
              "      <th>pixel8</th>\n",
              "      <th>pixel9</th>\n",
              "      <th>...</th>\n",
              "      <th>pixel775</th>\n",
              "      <th>pixel776</th>\n",
              "      <th>pixel777</th>\n",
              "      <th>pixel778</th>\n",
              "      <th>pixel779</th>\n",
              "      <th>pixel780</th>\n",
              "      <th>pixel781</th>\n",
              "      <th>pixel782</th>\n",
              "      <th>pixel783</th>\n",
              "      <th>pixel784</th>\n",
              "    </tr>\n",
              "  </thead>\n",
              "  <tbody>\n",
              "    <tr>\n",
              "      <th>count</th>\n",
              "      <td>10000.000000</td>\n",
              "      <td>10000.000000</td>\n",
              "      <td>10000.000000</td>\n",
              "      <td>10000.000000</td>\n",
              "      <td>10000.000000</td>\n",
              "      <td>10000.000000</td>\n",
              "      <td>10000.000000</td>\n",
              "      <td>10000.000000</td>\n",
              "      <td>10000.000000</td>\n",
              "      <td>10000.000000</td>\n",
              "      <td>...</td>\n",
              "      <td>10000.000000</td>\n",
              "      <td>10000.000000</td>\n",
              "      <td>10000.000000</td>\n",
              "      <td>10000.000000</td>\n",
              "      <td>10000.000000</td>\n",
              "      <td>10000.000000</td>\n",
              "      <td>10000.000000</td>\n",
              "      <td>10000.000000</td>\n",
              "      <td>10000.000000</td>\n",
              "      <td>10000.00000</td>\n",
              "    </tr>\n",
              "    <tr>\n",
              "      <th>mean</th>\n",
              "      <td>4.500000</td>\n",
              "      <td>0.000400</td>\n",
              "      <td>0.010300</td>\n",
              "      <td>0.052100</td>\n",
              "      <td>0.077000</td>\n",
              "      <td>0.208600</td>\n",
              "      <td>0.349200</td>\n",
              "      <td>0.826700</td>\n",
              "      <td>2.321200</td>\n",
              "      <td>5.457800</td>\n",
              "      <td>...</td>\n",
              "      <td>34.320800</td>\n",
              "      <td>23.071900</td>\n",
              "      <td>16.432000</td>\n",
              "      <td>17.870600</td>\n",
              "      <td>22.860000</td>\n",
              "      <td>17.790200</td>\n",
              "      <td>8.353500</td>\n",
              "      <td>2.541600</td>\n",
              "      <td>0.629500</td>\n",
              "      <td>0.06560</td>\n",
              "    </tr>\n",
              "    <tr>\n",
              "      <th>std</th>\n",
              "      <td>2.872425</td>\n",
              "      <td>0.024493</td>\n",
              "      <td>0.525187</td>\n",
              "      <td>2.494315</td>\n",
              "      <td>2.208882</td>\n",
              "      <td>4.669183</td>\n",
              "      <td>5.657849</td>\n",
              "      <td>8.591731</td>\n",
              "      <td>15.031508</td>\n",
              "      <td>23.359019</td>\n",
              "      <td>...</td>\n",
              "      <td>57.888679</td>\n",
              "      <td>49.049749</td>\n",
              "      <td>42.159665</td>\n",
              "      <td>44.140552</td>\n",
              "      <td>51.706601</td>\n",
              "      <td>45.128107</td>\n",
              "      <td>28.765769</td>\n",
              "      <td>16.417363</td>\n",
              "      <td>7.462533</td>\n",
              "      <td>1.93403</td>\n",
              "    </tr>\n",
              "    <tr>\n",
              "      <th>min</th>\n",
              "      <td>0.000000</td>\n",
              "      <td>0.000000</td>\n",
              "      <td>0.000000</td>\n",
              "      <td>0.000000</td>\n",
              "      <td>0.000000</td>\n",
              "      <td>0.000000</td>\n",
              "      <td>0.000000</td>\n",
              "      <td>0.000000</td>\n",
              "      <td>0.000000</td>\n",
              "      <td>0.000000</td>\n",
              "      <td>...</td>\n",
              "      <td>0.000000</td>\n",
              "      <td>0.000000</td>\n",
              "      <td>0.000000</td>\n",
              "      <td>0.000000</td>\n",
              "      <td>0.000000</td>\n",
              "      <td>0.000000</td>\n",
              "      <td>0.000000</td>\n",
              "      <td>0.000000</td>\n",
              "      <td>0.000000</td>\n",
              "      <td>0.00000</td>\n",
              "    </tr>\n",
              "    <tr>\n",
              "      <th>25%</th>\n",
              "      <td>2.000000</td>\n",
              "      <td>0.000000</td>\n",
              "      <td>0.000000</td>\n",
              "      <td>0.000000</td>\n",
              "      <td>0.000000</td>\n",
              "      <td>0.000000</td>\n",
              "      <td>0.000000</td>\n",
              "      <td>0.000000</td>\n",
              "      <td>0.000000</td>\n",
              "      <td>0.000000</td>\n",
              "      <td>...</td>\n",
              "      <td>0.000000</td>\n",
              "      <td>0.000000</td>\n",
              "      <td>0.000000</td>\n",
              "      <td>0.000000</td>\n",
              "      <td>0.000000</td>\n",
              "      <td>0.000000</td>\n",
              "      <td>0.000000</td>\n",
              "      <td>0.000000</td>\n",
              "      <td>0.000000</td>\n",
              "      <td>0.00000</td>\n",
              "    </tr>\n",
              "    <tr>\n",
              "      <th>50%</th>\n",
              "      <td>4.500000</td>\n",
              "      <td>0.000000</td>\n",
              "      <td>0.000000</td>\n",
              "      <td>0.000000</td>\n",
              "      <td>0.000000</td>\n",
              "      <td>0.000000</td>\n",
              "      <td>0.000000</td>\n",
              "      <td>0.000000</td>\n",
              "      <td>0.000000</td>\n",
              "      <td>0.000000</td>\n",
              "      <td>...</td>\n",
              "      <td>0.000000</td>\n",
              "      <td>0.000000</td>\n",
              "      <td>0.000000</td>\n",
              "      <td>0.000000</td>\n",
              "      <td>0.000000</td>\n",
              "      <td>0.000000</td>\n",
              "      <td>0.000000</td>\n",
              "      <td>0.000000</td>\n",
              "      <td>0.000000</td>\n",
              "      <td>0.00000</td>\n",
              "    </tr>\n",
              "    <tr>\n",
              "      <th>75%</th>\n",
              "      <td>7.000000</td>\n",
              "      <td>0.000000</td>\n",
              "      <td>0.000000</td>\n",
              "      <td>0.000000</td>\n",
              "      <td>0.000000</td>\n",
              "      <td>0.000000</td>\n",
              "      <td>0.000000</td>\n",
              "      <td>0.000000</td>\n",
              "      <td>0.000000</td>\n",
              "      <td>0.000000</td>\n",
              "      <td>...</td>\n",
              "      <td>55.000000</td>\n",
              "      <td>6.000000</td>\n",
              "      <td>0.000000</td>\n",
              "      <td>0.000000</td>\n",
              "      <td>1.000000</td>\n",
              "      <td>0.000000</td>\n",
              "      <td>0.000000</td>\n",
              "      <td>0.000000</td>\n",
              "      <td>0.000000</td>\n",
              "      <td>0.00000</td>\n",
              "    </tr>\n",
              "    <tr>\n",
              "      <th>max</th>\n",
              "      <td>9.000000</td>\n",
              "      <td>2.000000</td>\n",
              "      <td>45.000000</td>\n",
              "      <td>218.000000</td>\n",
              "      <td>185.000000</td>\n",
              "      <td>227.000000</td>\n",
              "      <td>223.000000</td>\n",
              "      <td>247.000000</td>\n",
              "      <td>218.000000</td>\n",
              "      <td>244.000000</td>\n",
              "      <td>...</td>\n",
              "      <td>254.000000</td>\n",
              "      <td>252.000000</td>\n",
              "      <td>255.000000</td>\n",
              "      <td>255.000000</td>\n",
              "      <td>255.000000</td>\n",
              "      <td>255.000000</td>\n",
              "      <td>240.000000</td>\n",
              "      <td>225.000000</td>\n",
              "      <td>205.000000</td>\n",
              "      <td>107.00000</td>\n",
              "    </tr>\n",
              "  </tbody>\n",
              "</table>\n",
              "<p>8 rows × 785 columns</p>\n",
              "</div>"
            ],
            "text/plain": [
              "              label        pixel1        pixel2        pixel3        pixel4  \\\n",
              "count  10000.000000  10000.000000  10000.000000  10000.000000  10000.000000   \n",
              "mean       4.500000      0.000400      0.010300      0.052100      0.077000   \n",
              "std        2.872425      0.024493      0.525187      2.494315      2.208882   \n",
              "min        0.000000      0.000000      0.000000      0.000000      0.000000   \n",
              "25%        2.000000      0.000000      0.000000      0.000000      0.000000   \n",
              "50%        4.500000      0.000000      0.000000      0.000000      0.000000   \n",
              "75%        7.000000      0.000000      0.000000      0.000000      0.000000   \n",
              "max        9.000000      2.000000     45.000000    218.000000    185.000000   \n",
              "\n",
              "             pixel5        pixel6        pixel7        pixel8        pixel9  \\\n",
              "count  10000.000000  10000.000000  10000.000000  10000.000000  10000.000000   \n",
              "mean       0.208600      0.349200      0.826700      2.321200      5.457800   \n",
              "std        4.669183      5.657849      8.591731     15.031508     23.359019   \n",
              "min        0.000000      0.000000      0.000000      0.000000      0.000000   \n",
              "25%        0.000000      0.000000      0.000000      0.000000      0.000000   \n",
              "50%        0.000000      0.000000      0.000000      0.000000      0.000000   \n",
              "75%        0.000000      0.000000      0.000000      0.000000      0.000000   \n",
              "max      227.000000    223.000000    247.000000    218.000000    244.000000   \n",
              "\n",
              "       ...      pixel775      pixel776      pixel777      pixel778  \\\n",
              "count  ...  10000.000000  10000.000000  10000.000000  10000.000000   \n",
              "mean   ...     34.320800     23.071900     16.432000     17.870600   \n",
              "std    ...     57.888679     49.049749     42.159665     44.140552   \n",
              "min    ...      0.000000      0.000000      0.000000      0.000000   \n",
              "25%    ...      0.000000      0.000000      0.000000      0.000000   \n",
              "50%    ...      0.000000      0.000000      0.000000      0.000000   \n",
              "75%    ...     55.000000      6.000000      0.000000      0.000000   \n",
              "max    ...    254.000000    252.000000    255.000000    255.000000   \n",
              "\n",
              "           pixel779      pixel780      pixel781      pixel782      pixel783  \\\n",
              "count  10000.000000  10000.000000  10000.000000  10000.000000  10000.000000   \n",
              "mean      22.860000     17.790200      8.353500      2.541600      0.629500   \n",
              "std       51.706601     45.128107     28.765769     16.417363      7.462533   \n",
              "min        0.000000      0.000000      0.000000      0.000000      0.000000   \n",
              "25%        0.000000      0.000000      0.000000      0.000000      0.000000   \n",
              "50%        0.000000      0.000000      0.000000      0.000000      0.000000   \n",
              "75%        1.000000      0.000000      0.000000      0.000000      0.000000   \n",
              "max      255.000000    255.000000    240.000000    225.000000    205.000000   \n",
              "\n",
              "          pixel784  \n",
              "count  10000.00000  \n",
              "mean       0.06560  \n",
              "std        1.93403  \n",
              "min        0.00000  \n",
              "25%        0.00000  \n",
              "50%        0.00000  \n",
              "75%        0.00000  \n",
              "max      107.00000  \n",
              "\n",
              "[8 rows x 785 columns]"
            ]
          },
          "metadata": {
            "tags": []
          },
          "execution_count": 18
        }
      ]
    },
    {
      "cell_type": "markdown",
      "metadata": {
        "id": "D_Bqsao9ur3Z"
      },
      "source": [
        "## Let us scale our data as we can see the variance of the mean.\n",
        "Let's scale the pictures so they are at a value between 0 and 1."
      ]
    },
    {
      "cell_type": "code",
      "metadata": {
        "id": "6bcpvgCvur3Z"
      },
      "source": [
        "from sklearn.preprocessing import MinMaxScaler\n",
        "scaler = MinMaxScaler()\n",
        "fit_scaler = scaler.fit(X)\n",
        "scaled_pixels = scaler.transform(X)"
      ],
      "execution_count": null,
      "outputs": []
    },
    {
      "cell_type": "markdown",
      "metadata": {
        "id": "d0vB5MS3ur3Z"
      },
      "source": [
        "## Helper function to display images"
      ]
    },
    {
      "cell_type": "code",
      "metadata": {
        "id": "fkof0AKUur3Z"
      },
      "source": [
        "# Helper function\n",
        "def display_image(features, image_label):\n",
        "\n",
        "    # Labels\n",
        "    label_names = {\n",
        "        0: 'T-shirt',\n",
        "        1: 'Trouser',\n",
        "        2: 'Pullover',\n",
        "        3: 'Dress',\n",
        "        4: 'Coat',\n",
        "        5: 'Sandal',\n",
        "        6: 'Shirt',\n",
        "        7: 'Sneaker',\n",
        "        8: 'Bag',\n",
        "        9: 'Ankle boot'\n",
        "    }\n",
        "    \n",
        "    print('This is a', label_names[image_label].lower())\n",
        "    plt.imshow(features.reshape(28,28))"
      ],
      "execution_count": null,
      "outputs": []
    },
    {
      "cell_type": "code",
      "metadata": {
        "id": "B0DSDPy5ur3b",
        "outputId": "745e8551-3a5f-4889-c37d-f53265a2b228"
      },
      "source": [
        "# Test to display image\n",
        "display_image(X.loc[5].values, y.loc[5])"
      ],
      "execution_count": null,
      "outputs": [
        {
          "output_type": "stream",
          "text": [
            "This is a pullover\n"
          ],
          "name": "stdout"
        },
        {
          "output_type": "display_data",
          "data": {
            "image/png": "[encoded data removed]",
            "text/plain": [
              "<Figure size 432x288 with 1 Axes>"
            ]
          },
          "metadata": {
            "tags": [],
            "needs_background": "light"
          }
        }
      ]
    },
    {
      "cell_type": "code",
      "metadata": {
        "id": "bkrsQ-1fur3b"
      },
      "source": [
        "#X = X/255\n",
        "#X.head()"
      ],
      "execution_count": null,
      "outputs": []
    },
    {
      "cell_type": "markdown",
      "metadata": {
        "id": "NmCaPAhMur3c"
      },
      "source": [
        "## Split our data\n",
        "We will go ahead and split our data into test and train sets."
      ]
    },
    {
      "cell_type": "code",
      "metadata": {
        "id": "TtCBjhSuur3c"
      },
      "source": [
        "X_train, X_test, y_train, y_test = train_test_split(X, y, test_size=0.4, random_state=1)"
      ],
      "execution_count": null,
      "outputs": []
    },
    {
      "cell_type": "markdown",
      "metadata": {
        "id": "x7Af3IdMur3c"
      },
      "source": [
        "## Fit model"
      ]
    },
    {
      "cell_type": "code",
      "metadata": {
        "id": "aIeLlVisur3c"
      },
      "source": [
        "from sklearn.linear_model import LogisticRegression"
      ],
      "execution_count": null,
      "outputs": []
    },
    {
      "cell_type": "code",
      "metadata": {
        "id": "q5Vp2L0gur3d"
      },
      "source": [
        "model = LogisticRegression(solver='sag', multi_class='auto', max_iter=1000).fit(X_train, y_train)"
      ],
      "execution_count": null,
      "outputs": []
    },
    {
      "cell_type": "markdown",
      "metadata": {
        "id": "A1PfDWsHur3d"
      },
      "source": [
        "## Evaluate"
      ]
    },
    {
      "cell_type": "code",
      "metadata": {
        "id": "EEi9WhK6ur3d"
      },
      "source": [
        "from sklearn.metrics import accuracy_score"
      ],
      "execution_count": null,
      "outputs": []
    },
    {
      "cell_type": "code",
      "metadata": {
        "id": "dkcZaz_dur3d"
      },
      "source": [
        "predict = model.predict(X_test)\n",
        "accuracy = accuracy_score(y_test, predict, normalize=True)\n",
        "print(f'Accuracy of model: {accuracy*100}%')"
      ],
      "execution_count": null,
      "outputs": []
    },
    {
      "cell_type": "markdown",
      "metadata": {
        "id": "__caylBdur3d"
      },
      "source": [
        "# Neural Network comparision\n",
        "CNN with PyTorch"
      ]
    },
    {
      "cell_type": "code",
      "metadata": {
        "id": "cCHBv0h_ur3d",
        "outputId": "91113698-db36-486f-89a2-f4b6369ecfc4"
      },
      "source": [
        "import torch\n",
        "import torchvision\n",
        "\n",
        "cuda = torch.device(\"cuda:0\" if torch.cuda.is_available() else \"cpu\") \n",
        "print(cuda)"
      ],
      "execution_count": null,
      "outputs": [
        {
          "output_type": "stream",
          "text": [
            "cuda:0\n"
          ],
          "name": "stdout"
        }
      ]
    },
    {
      "cell_type": "code",
      "metadata": {
        "id": "_l7hDIdEur3e",
        "outputId": "ce9bd9fd-c845-4b6f-fd74-c8f79fe6592f"
      },
      "source": [
        "image_batch = torch.Tensor(scaled_pixels.reshape((-1, 28, 28)))\n",
        "image_batch.shape"
      ],
      "execution_count": null,
      "outputs": [
        {
          "output_type": "execute_result",
          "data": {
            "text/plain": [
              "torch.Size([10000, 28, 28])"
            ]
          },
          "metadata": {
            "tags": []
          },
          "execution_count": 26
        }
      ]
    },
    {
      "cell_type": "code",
      "metadata": {
        "id": "YbKoOf0Lur3f"
      },
      "source": [
        "sample = df.sample(8)"
      ],
      "execution_count": null,
      "outputs": []
    },
    {
      "cell_type": "code",
      "metadata": {
        "id": "Hnq-o3U5ur3f"
      },
      "source": [
        "grid = torchvision.utils.make_grid(image_batch.unsqueeze(1), nrow=10000)"
      ],
      "execution_count": null,
      "outputs": []
    },
    {
      "cell_type": "code",
      "metadata": {
        "id": "z3s0yix8ur3g"
      },
      "source": [
        "#plt.figure(figsize=(12, 8))\n",
        "\n",
        "#plt.imshow(grid.numpy().transpose((1,2,0)))\n",
        "\n",
        "#plt.axis('off')"
      ],
      "execution_count": null,
      "outputs": []
    },
    {
      "cell_type": "code",
      "metadata": {
        "id": "BS7g2oZzur3g",
        "outputId": "45dd91b9-1768-44b8-92bb-f16c623e71ea"
      },
      "source": [
        "X_train_tensor = torch.tensor(X_train.values, dtype=torch.float)\n",
        "print(\"X_train: \", X_train_tensor.shape)\n",
        "\n",
        "X_test_tensor = torch.tensor(X_test.values, dtype=torch.float)\n",
        "print(\"X_test: \", X_test_tensor.shape)\n",
        "\n",
        "y_train_tensor = torch.tensor(y_train.values, dtype=torch.long)\n",
        "print(\"y_train: \", y_train_tensor.shape)\n",
        "\n",
        "y_test_tensor = torch.tensor(y_test.values, dtype=torch.long)\n",
        "print(\"y_test: \", y_test_tensor.shape)"
      ],
      "execution_count": null,
      "outputs": [
        {
          "output_type": "stream",
          "text": [
            "X_train:  torch.Size([6000, 784])\n",
            "X_test:  torch.Size([4000, 784])\n",
            "y_train:  torch.Size([6000])\n",
            "y_test:  torch.Size([4000])\n"
          ],
          "name": "stdout"
        }
      ]
    },
    {
      "cell_type": "markdown",
      "metadata": {
        "id": "g1RLw6Vour3h"
      },
      "source": [
        "## Reshape images to 1, 28x28"
      ]
    },
    {
      "cell_type": "code",
      "metadata": {
        "id": "oOXqVkAGur3h",
        "outputId": "e6de4329-ab08-47fe-9c93-867142e9a6f5"
      },
      "source": [
        "X_train_tensor = torch.Tensor(X_train_tensor.reshape((-1, 1, 28, 28)))\n",
        "\n",
        "X_test_tensor = torch.Tensor(X_test_tensor.reshape((-1, 1, 28, 28)))\n",
        "\n",
        "print(\"X_train: \", X_train_tensor.shape)\n",
        "print(\"X_test: \", X_test_tensor.shape)"
      ],
      "execution_count": null,
      "outputs": [
        {
          "output_type": "stream",
          "text": [
            "X_train:  torch.Size([6000, 1, 28, 28])\n",
            "X_test:  torch.Size([4000, 1, 28, 28])\n"
          ],
          "name": "stdout"
        }
      ]
    },
    {
      "cell_type": "markdown",
      "metadata": {
        "id": "gsCstJy3ur3i"
      },
      "source": [
        "## Setting up our neural network"
      ]
    },
    {
      "cell_type": "code",
      "metadata": {
        "id": "nQWLspEiur3i",
        "outputId": "06d79031-6e6a-4cb5-f667-22bbd1a13cd6"
      },
      "source": [
        "# Input size, for grayscale 1 and for color 3\n",
        "input_size = 1\n",
        "\n",
        "# Hidden layers\n",
        "hidden_1 = 1\n",
        "hidden_2 = 32\n",
        "\n",
        "# Output values, we have 10 different labels\n",
        "print(f'Check number of labels: {len(df[\"label\"].unique())}')\n",
        "output = 10\n",
        "      \n",
        "nn_size = 5"
      ],
      "execution_count": null,
      "outputs": [
        {
          "output_type": "stream",
          "text": [
            "Check number of labels: 10\n"
          ],
          "name": "stdout"
        }
      ]
    },
    {
      "cell_type": "markdown",
      "metadata": {
        "id": "SJswWZ0Eur3j"
      },
      "source": [
        "## Setting up the layers"
      ]
    },
    {
      "cell_type": "code",
      "metadata": {
        "id": "OM-my_J9ur3j"
      },
      "source": [
        "import torch.nn as nn\n",
        "import torch.nn.functional as F"
      ],
      "execution_count": null,
      "outputs": []
    },
    {
      "cell_type": "code",
      "metadata": {
        "id": "SfCJpPytur3j"
      },
      "source": [
        "class CNN_Model(nn.Module):\n",
        "    \n",
        "    def __init__(self):\n",
        "        super(CNN_Model, self).__init__()\n",
        "        \n",
        "        # Layer 1\n",
        "        self.layer_1 = nn.Sequential(\n",
        "            nn.Conv2d(input_size, hidden_1, nn_size),\n",
        "            nn.BatchNorm2d(hidden_1),\n",
        "            nn.ReLU(),\n",
        "            nn.MaxPool2d(kernel_size=2)\n",
        "        )\n",
        "\n",
        "        # Layer 2\n",
        "        self.layer_2 = nn.Sequential(\n",
        "            nn.Conv2d(input_size, hidden_2, nn_size),\n",
        "            nn.BatchNorm2d(hidden_2),\n",
        "            nn.ReLU(),\n",
        "            nn.MaxPool2d(kernel_size=2)\n",
        "        )\n",
        "\n",
        "        # Final layer\n",
        "        self.final_layer = nn.Linear(512, output)\n",
        "        \n",
        "    def forward(self, x):\n",
        "        \n",
        "        out = self.layer_1(x)\n",
        "        print(\"Layer 1: \", out.shape)\n",
        "\n",
        "        out = self.layer_2(out)\n",
        "        print(\"Layer 2: \", out.shape)\n",
        "\n",
        "        out = out.reshape(out.size(0), -1)\n",
        "\n",
        "        out = self.final_layer(out)\n",
        "        print(\"Final layer: \", out.shape)\n",
        "        \n",
        "        return out"
      ],
      "execution_count": null,
      "outputs": []
    },
    {
      "cell_type": "code",
      "metadata": {
        "id": "y6fkQDaMur3j",
        "outputId": "aeed7d23-ab9a-43d9-8dec-47c562bcfdaa"
      },
      "source": [
        "# Move model to cuda\n",
        "model = CNN_Model()\n",
        "model.to(cuda)"
      ],
      "execution_count": null,
      "outputs": [
        {
          "output_type": "execute_result",
          "data": {
            "text/plain": [
              "CNN_Model(\n",
              "  (layer_1): Sequential(\n",
              "    (0): Conv2d(1, 1, kernel_size=(5, 5), stride=(1, 1))\n",
              "    (1): BatchNorm2d(1, eps=1e-05, momentum=0.1, affine=True, track_running_stats=True)\n",
              "    (2): ReLU()\n",
              "    (3): MaxPool2d(kernel_size=2, stride=2, padding=0, dilation=1, ceil_mode=False)\n",
              "  )\n",
              "  (layer_2): Sequential(\n",
              "    (0): Conv2d(1, 32, kernel_size=(5, 5), stride=(1, 1))\n",
              "    (1): BatchNorm2d(32, eps=1e-05, momentum=0.1, affine=True, track_running_stats=True)\n",
              "    (2): ReLU()\n",
              "    (3): MaxPool2d(kernel_size=2, stride=2, padding=0, dilation=1, ceil_mode=False)\n",
              "  )\n",
              "  (final_layer): Linear(in_features=512, out_features=10, bias=True)\n",
              ")"
            ]
          },
          "metadata": {
            "tags": []
          },
          "execution_count": 120
        }
      ]
    },
    {
      "cell_type": "code",
      "metadata": {
        "id": "xV0rMQVsur3k"
      },
      "source": [
        "# Move X and y to cuda\n",
        "X_train_tensor = X_train_tensor.to(cuda)\n",
        "X_test_tensor = X_test_tensor.to(cuda)\n",
        "\n",
        "y_train_tensor = y_train_tensor.to(cuda)\n",
        "y_test_tensor = y_test_tensor.to(cuda)"
      ],
      "execution_count": null,
      "outputs": []
    },
    {
      "cell_type": "markdown",
      "metadata": {
        "id": "935hUwsbur3k"
      },
      "source": [
        "## Setting up parameters"
      ]
    },
    {
      "cell_type": "code",
      "metadata": {
        "id": "pJnkiRlvur3k"
      },
      "source": [
        "learning_rate = 0.001\n",
        "criterion = nn.CrossEntropyLoss()\n",
        "optimizer = torch.optim.Adam(model.parameters(), lr=learning_rate)"
      ],
      "execution_count": null,
      "outputs": []
    },
    {
      "cell_type": "code",
      "metadata": {
        "id": "fT8iPNKDur3k",
        "outputId": "2c8cc674-1085-418d-974a-9394e71b6927"
      },
      "source": [
        "epochs = 10\n",
        "loss_list = list()\n",
        "\n",
        "for epoch in range(1, epochs):\n",
        "    \n",
        "    # Calculate output and loss\n",
        "    outputs = model(X_train_tensor)\n",
        "    loss = criterion(outputs, y_train_tensor)\n",
        "    \n",
        "    # Zero out gradient\n",
        "    optimizer.zero_grad()\n",
        "    \n",
        "    # Backward pas\n",
        "    loss.backward()\n",
        "    \n",
        "    # Update model parameters\n",
        "    optimizer.step()\n",
        "    \n",
        "    print(f'Epoch: {epoch} Loss {loss.item()}')\n",
        "    loss_list.append(loss.item())"
      ],
      "execution_count": null,
      "outputs": [
        {
          "output_type": "stream",
          "text": [
            "Layer 1:  torch.Size([6000, 1, 12, 12])\n",
            "Layer 2:  torch.Size([6000, 32, 4, 4])\n",
            "Final layer:  torch.Size([6000, 10])\n",
            "Epoch: 1 Loss 1.591275691986084\n",
            "Layer 1:  torch.Size([6000, 1, 12, 12])\n",
            "Layer 2:  torch.Size([6000, 32, 4, 4])\n",
            "Final layer:  torch.Size([6000, 10])\n",
            "Epoch: 2 Loss 1.532687783241272\n",
            "Layer 1:  torch.Size([6000, 1, 12, 12])\n",
            "Layer 2:  torch.Size([6000, 32, 4, 4])\n",
            "Final layer:  torch.Size([6000, 10])\n",
            "Epoch: 3 Loss 1.4776623249053955\n",
            "Layer 1:  torch.Size([6000, 1, 12, 12])\n",
            "Layer 2:  torch.Size([6000, 32, 4, 4])\n",
            "Final layer:  torch.Size([6000, 10])\n",
            "Epoch: 4 Loss 1.4259698390960693\n",
            "Layer 1:  torch.Size([6000, 1, 12, 12])\n",
            "Layer 2:  torch.Size([6000, 32, 4, 4])\n",
            "Final layer:  torch.Size([6000, 10])\n",
            "Epoch: 5 Loss 1.3776600360870361\n",
            "Layer 1:  torch.Size([6000, 1, 12, 12])\n",
            "Layer 2:  torch.Size([6000, 32, 4, 4])\n",
            "Final layer:  torch.Size([6000, 10])\n",
            "Epoch: 6 Loss 1.3331023454666138\n",
            "Layer 1:  torch.Size([6000, 1, 12, 12])\n",
            "Layer 2:  torch.Size([6000, 32, 4, 4])\n",
            "Final layer:  torch.Size([6000, 10])\n",
            "Epoch: 7 Loss 1.2927424907684326\n",
            "Layer 1:  torch.Size([6000, 1, 12, 12])\n",
            "Layer 2:  torch.Size([6000, 32, 4, 4])\n",
            "Final layer:  torch.Size([6000, 10])\n",
            "Epoch: 8 Loss 1.2567553520202637\n",
            "Layer 1:  torch.Size([6000, 1, 12, 12])\n",
            "Layer 2:  torch.Size([6000, 32, 4, 4])\n",
            "Final layer:  torch.Size([6000, 10])\n",
            "Epoch: 9 Loss 1.224782109260559\n"
          ],
          "name": "stdout"
        }
      ]
    },
    {
      "cell_type": "code",
      "metadata": {
        "id": "5t7QF8AQur3l",
        "outputId": "63011d81-2b45-46a9-feaa-be9d0515ea10"
      },
      "source": [
        "loss_list"
      ],
      "execution_count": null,
      "outputs": [
        {
          "output_type": "execute_result",
          "data": {
            "text/plain": [
              "[1.591275691986084,\n",
              " 1.532687783241272,\n",
              " 1.4776623249053955,\n",
              " 1.4259698390960693,\n",
              " 1.3776600360870361,\n",
              " 1.3331023454666138,\n",
              " 1.2927424907684326,\n",
              " 1.2567553520202637,\n",
              " 1.224782109260559]"
            ]
          },
          "metadata": {
            "tags": []
          },
          "execution_count": 130
        }
      ]
    },
    {
      "cell_type": "markdown",
      "metadata": {
        "id": "jKBRYQQaur3l"
      },
      "source": [
        "## Plot loss values"
      ]
    },
    {
      "cell_type": "code",
      "metadata": {
        "id": "yB6p5Wgjur3l",
        "outputId": "ac3621ed-961d-42cd-9d67-b46795b73b14"
      },
      "source": [
        "x = (range(0, 9))\n",
        "\n",
        "plt.figure(figsize=(12,8))\n",
        "plt.plot(x, loss_list, 'go--', linewidth=2, markersize=12, color='purple')\n",
        "plt.xlabel('Epoch', fontsize=22, color='white')\n",
        "plt.ylabel('Loss', fontsize=22, color='white')\n",
        "plt.gcf().set_facecolor(\"purple\");"
      ],
      "execution_count": null,
      "outputs": [
        {
          "output_type": "display_data",
          "data": {
            "image/png": "[encoded data removed]",
            "text/plain": [
              "<Figure size 864x576 with 1 Axes>"
            ]
          },
          "metadata": {
            "tags": []
          }
        }
      ]
    },
    {
      "cell_type": "markdown",
      "metadata": {
        "id": "oHMYceFRur3n"
      },
      "source": [
        "## Evaluate model"
      ]
    },
    {
      "cell_type": "code",
      "metadata": {
        "id": "ruZGG7Duur3n",
        "outputId": "63bee91f-bd95-4f66-e680-c98c0c0303c7"
      },
      "source": [
        "model.eval()"
      ],
      "execution_count": null,
      "outputs": [
        {
          "output_type": "execute_result",
          "data": {
            "text/plain": [
              "CNN_Model(\n",
              "  (layer_1): Sequential(\n",
              "    (0): Conv2d(1, 1, kernel_size=(5, 5), stride=(1, 1))\n",
              "    (1): BatchNorm2d(1, eps=1e-05, momentum=0.1, affine=True, track_running_stats=True)\n",
              "    (2): ReLU()\n",
              "    (3): MaxPool2d(kernel_size=2, stride=2, padding=0, dilation=1, ceil_mode=False)\n",
              "  )\n",
              "  (layer_2): Sequential(\n",
              "    (0): Conv2d(1, 32, kernel_size=(5, 5), stride=(1, 1))\n",
              "    (1): BatchNorm2d(32, eps=1e-05, momentum=0.1, affine=True, track_running_stats=True)\n",
              "    (2): ReLU()\n",
              "    (3): MaxPool2d(kernel_size=2, stride=2, padding=0, dilation=1, ceil_mode=False)\n",
              "  )\n",
              "  (final_layer): Linear(in_features=512, out_features=10, bias=True)\n",
              ")"
            ]
          },
          "metadata": {
            "tags": []
          },
          "execution_count": 159
        }
      ]
    },
    {
      "cell_type": "code",
      "metadata": {
        "id": "P43_P3hUur3n",
        "outputId": "9236b62a-133c-4044-a6dc-a534ee11418d"
      },
      "source": [
        "with torch.no_grad():\n",
        "    correct = 0\n",
        "    total = 0\n",
        "    outputs = model(X_test_tensor)\n",
        "    _, predicted = torch.max(outputs.data, 1)\n",
        "    \n",
        "    y_test = y_test_tensor.cpu().numpy()\n",
        "    predicted = predicted.cpu()\n",
        "    \n",
        "    print(f'Accuracy: {accuracy_score(predicted, y_test)}')"
      ],
      "execution_count": null,
      "outputs": [
        {
          "output_type": "stream",
          "text": [
            "Layer 1:  torch.Size([4000, 1, 12, 12])\n",
            "Layer 2:  torch.Size([4000, 32, 4, 4])\n",
            "Final layer:  torch.Size([4000, 10])\n"
          ],
          "name": "stdout"
        },
        {
          "output_type": "error",
          "ename": "NameError",
          "evalue": "name 'accuracy_score' is not defined",
          "traceback": [
            "\u001b[1;31m---------------------------------------------------------------------------\u001b[0m",
            "\u001b[1;31mNameError\u001b[0m                                 Traceback (most recent call last)",
            "\u001b[1;32m<ipython-input-160-e2dd36c24ddf>\u001b[0m in \u001b[0;36m<module>\u001b[1;34m\u001b[0m\n\u001b[0;32m      8\u001b[0m     \u001b[0mpredicted\u001b[0m \u001b[1;33m=\u001b[0m \u001b[0mpredicted\u001b[0m\u001b[1;33m.\u001b[0m\u001b[0mcpu\u001b[0m\u001b[1;33m(\u001b[0m\u001b[1;33m)\u001b[0m\u001b[1;33m\u001b[0m\u001b[1;33m\u001b[0m\u001b[0m\n\u001b[0;32m      9\u001b[0m \u001b[1;33m\u001b[0m\u001b[0m\n\u001b[1;32m---> 10\u001b[1;33m     \u001b[0mprint\u001b[0m\u001b[1;33m(\u001b[0m\u001b[1;34mf'Accuracy: {accuracy_score(predicted, y_test)}'\u001b[0m\u001b[1;33m)\u001b[0m\u001b[1;33m\u001b[0m\u001b[1;33m\u001b[0m\u001b[0m\n\u001b[0m",
            "\u001b[1;31mNameError\u001b[0m: name 'accuracy_score' is not defined"
          ]
        }
      ]
    },
    {
      "cell_type": "code",
      "metadata": {
        "id": "vBjbX27kur3n"
      },
      "source": [
        "\n",
        "y_train_tensor = y_train_tensor.to(cuda)\n",
        "y_test_tensor = y_test_tensor.to(cuda)"
      ],
      "execution_count": null,
      "outputs": []
    },
    {
      "cell_type": "code",
      "metadata": {
        "id": "j2WirDGBur3n"
      },
      "source": [
        ""
      ],
      "execution_count": null,
      "outputs": []
    },
    {
      "cell_type": "code",
      "metadata": {
        "id": "aomQJeMGur3n"
      },
      "source": [
        ""
      ],
      "execution_count": null,
      "outputs": []
    },
    {
      "cell_type": "code",
      "metadata": {
        "id": "-UhXEdn2ur3n"
      },
      "source": [
        ""
      ],
      "execution_count": null,
      "outputs": []
    },
    {
      "cell_type": "code",
      "metadata": {
        "id": "eIyEZCi-ur3o"
      },
      "source": [
        ""
      ],
      "execution_count": null,
      "outputs": []
    }
  ]
}