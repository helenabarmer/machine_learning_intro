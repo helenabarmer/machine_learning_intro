{
<<<<<<< HEAD
 "cells": [
  {
   "cell_type": "markdown",
   "metadata": {},
   "source": [
    "# Image Classification \n",
    "\n",
    "* Dataset: [Fashion MNIST](https://www.kaggle.com/zalando-research/fashionmnist)"
   ]
  },
  {
   "cell_type": "code",
   "execution_count": 1,
   "metadata": {},
   "outputs": [],
   "source": [
    "import numpy as np\n",
    "import pandas as pd\n",
    "import matplotlib.pyplot as plt\n",
    "from sklearn.model_selection import train_test_split"
   ]
  },
  {
   "cell_type": "markdown",
   "metadata": {},
   "source": [
    "## Images\n",
    "* **Images**: Matrix of numbers (pixels). Each pixel holds a number we will work with\n",
    "* **Images with colors**: Multi channel. 3 values needed.\n",
    "* **Greyscale images**: Single channel images. 1 value needed.\n",
    "* Every image is 28x28 pixels.\n",
    "\n",
    "# 4 values\n",
    "\n",
    "* **List of images**: (1, 2, 3, 4)\n",
    "* **Value 1**: Number of images in the list\n",
    "* **Value 2,3**: Height and width of the image\n",
    "* **Value 4**: Number of channels in the image"
   ]
  },
  {
   "cell_type": "code",
   "execution_count": 2,
   "metadata": {},
   "outputs": [
=======
  "nbformat": 4,
  "nbformat_minor": 0,
  "metadata": {
    "kernelspec": {
      "display_name": "Python 3",
      "language": "python",
      "name": "python3"
    },
    "language_info": {
      "codemirror_mode": {
        "name": "ipython",
        "version": 3
      },
      "file_extension": ".py",
      "mimetype": "text/x-python",
      "name": "python",
      "nbconvert_exporter": "python",
      "pygments_lexer": "ipython3",
      "version": "3.7.7"
    },
    "colab": {
      "name": "muticlass-classification.ipynb",
      "provenance": []
    }
  },
  "cells": [
>>>>>>> 0052453404c4a0889fc6e4df06157c9031a1e59d
    {
      "cell_type": "markdown",
      "metadata": {
        "id": "LVfGaG0Wur3O"
      },
      "source": [
        "# Image Classification \n",
        "\n",
        "* Dataset: [Fashion MNIST](https://www.kaggle.com/zalando-research/fashionmnist)"
      ]
    },
    {
      "cell_type": "code",
      "metadata": {
        "id": "GBpvGXVWur3P"
      },
      "source": [
        "import numpy as np\n",
        "import pandas as pd\n",
        "import matplotlib.pyplot as plt\n",
        "from sklearn.model_selection import train_test_split"
      ],
      "execution_count": null,
      "outputs": []
    },
    {
      "cell_type": "markdown",
      "metadata": {
        "id": "fZq7oieDur3S"
      },
      "source": [
        "## Images\n",
        "* **Images**: Matrix of numbers (pixels). Each pixel holds a number we will work with\n",
        "* **Images with colors**: Multi channel. 3 values needed.\n",
        "* **Greyscale images**: Single channel images. 1 value needed.\n",
        "* Every image is 28x28 pixels.\n",
        "\n",
        "# 4 values\n",
        "\n",
        "* **List of images**: (1, 2, 3, 4)\n",
        "* **Value 1**: Number of images in the list\n",
        "* **Value 2,3**: Height and width of the image\n",
        "* **Value 4**: Number of channels in the image"
      ]
<<<<<<< HEAD
     },
     "execution_count": 2,
     "metadata": {},
     "output_type": "execute_result"
    }
   ],
   "source": [
    "# Get data\n",
    "#data = 'mnist.csv'\n",
    "data = 'https://raw.githubusercontent.com/helenabarmer/machine_learning_intro/master/Multiclass%20Classification/mnist.csv'\n",
    "df = pd.read_csv(data)\n",
    "df.head()"
   ]
  },
  {
   "cell_type": "code",
   "execution_count": 3,
   "metadata": {},
   "outputs": [
=======
    },
>>>>>>> 0052453404c4a0889fc6e4df06157c9031a1e59d
    {
      "cell_type": "code",
      "metadata": {
        "id": "paBXF0Y7ur3S",
        "outputId": "e39105d5-b872-4c3d-f082-e85db434402a"
      },
      "source": [
        "# Get data\n",
        "#data = 'mnist.csv'\n",
        "data = 'https://raw.githubusercontent.com/helenabarmer/machine_learning_intro/master/Multiclass%20Classification/mnist.csv'\n",
        "df = pd.read_csv(data)\n",
        "df.head()"
      ],
      "execution_count": null,
      "outputs": [
        {
          "output_type": "execute_result",
          "data": {
            "text/html": [
              "<div>\n",
              "<style scoped>\n",
              "    .dataframe tbody tr th:only-of-type {\n",
              "        vertical-align: middle;\n",
              "    }\n",
              "\n",
              "    .dataframe tbody tr th {\n",
              "        vertical-align: top;\n",
              "    }\n",
              "\n",
              "    .dataframe thead th {\n",
              "        text-align: right;\n",
              "    }\n",
              "</style>\n",
              "<table border=\"1\" class=\"dataframe\">\n",
              "  <thead>\n",
              "    <tr style=\"text-align: right;\">\n",
              "      <th></th>\n",
              "      <th>label</th>\n",
              "      <th>pixel1</th>\n",
              "      <th>pixel2</th>\n",
              "      <th>pixel3</th>\n",
              "      <th>pixel4</th>\n",
              "      <th>pixel5</th>\n",
              "      <th>pixel6</th>\n",
              "      <th>pixel7</th>\n",
              "      <th>pixel8</th>\n",
              "      <th>pixel9</th>\n",
              "      <th>...</th>\n",
              "      <th>pixel775</th>\n",
              "      <th>pixel776</th>\n",
              "      <th>pixel777</th>\n",
              "      <th>pixel778</th>\n",
              "      <th>pixel779</th>\n",
              "      <th>pixel780</th>\n",
              "      <th>pixel781</th>\n",
              "      <th>pixel782</th>\n",
              "      <th>pixel783</th>\n",
              "      <th>pixel784</th>\n",
              "    </tr>\n",
              "  </thead>\n",
              "  <tbody>\n",
              "    <tr>\n",
              "      <th>0</th>\n",
              "      <td>0</td>\n",
              "      <td>0</td>\n",
              "      <td>0</td>\n",
              "      <td>0</td>\n",
              "      <td>0</td>\n",
              "      <td>0</td>\n",
              "      <td>0</td>\n",
              "      <td>0</td>\n",
              "      <td>9</td>\n",
              "      <td>8</td>\n",
              "      <td>...</td>\n",
              "      <td>103</td>\n",
              "      <td>87</td>\n",
              "      <td>56</td>\n",
              "      <td>0</td>\n",
              "      <td>0</td>\n",
              "      <td>0</td>\n",
              "      <td>0</td>\n",
              "      <td>0</td>\n",
              "      <td>0</td>\n",
              "      <td>0</td>\n",
              "    </tr>\n",
              "    <tr>\n",
              "      <th>1</th>\n",
              "      <td>1</td>\n",
              "      <td>0</td>\n",
              "      <td>0</td>\n",
              "      <td>0</td>\n",
              "      <td>0</td>\n",
              "      <td>0</td>\n",
              "      <td>0</td>\n",
              "      <td>0</td>\n",
              "      <td>0</td>\n",
              "      <td>0</td>\n",
              "      <td>...</td>\n",
              "      <td>34</td>\n",
              "      <td>0</td>\n",
              "      <td>0</td>\n",
              "      <td>0</td>\n",
              "      <td>0</td>\n",
              "      <td>0</td>\n",
              "      <td>0</td>\n",
              "      <td>0</td>\n",
              "      <td>0</td>\n",
              "      <td>0</td>\n",
              "    </tr>\n",
              "    <tr>\n",
              "      <th>2</th>\n",
              "      <td>2</td>\n",
              "      <td>0</td>\n",
              "      <td>0</td>\n",
              "      <td>0</td>\n",
              "      <td>0</td>\n",
              "      <td>0</td>\n",
              "      <td>0</td>\n",
              "      <td>14</td>\n",
              "      <td>53</td>\n",
              "      <td>99</td>\n",
              "      <td>...</td>\n",
              "      <td>0</td>\n",
              "      <td>0</td>\n",
              "      <td>0</td>\n",
              "      <td>0</td>\n",
              "      <td>63</td>\n",
              "      <td>53</td>\n",
              "      <td>31</td>\n",
              "      <td>0</td>\n",
              "      <td>0</td>\n",
              "      <td>0</td>\n",
              "    </tr>\n",
              "    <tr>\n",
              "      <th>3</th>\n",
              "      <td>2</td>\n",
              "      <td>0</td>\n",
              "      <td>0</td>\n",
              "      <td>0</td>\n",
              "      <td>0</td>\n",
              "      <td>0</td>\n",
              "      <td>0</td>\n",
              "      <td>0</td>\n",
              "      <td>0</td>\n",
              "      <td>0</td>\n",
              "      <td>...</td>\n",
              "      <td>137</td>\n",
              "      <td>126</td>\n",
              "      <td>140</td>\n",
              "      <td>0</td>\n",
              "      <td>133</td>\n",
              "      <td>224</td>\n",
              "      <td>222</td>\n",
              "      <td>56</td>\n",
              "      <td>0</td>\n",
              "      <td>0</td>\n",
              "    </tr>\n",
              "    <tr>\n",
              "      <th>4</th>\n",
              "      <td>3</td>\n",
              "      <td>0</td>\n",
              "      <td>0</td>\n",
              "      <td>0</td>\n",
              "      <td>0</td>\n",
              "      <td>0</td>\n",
              "      <td>0</td>\n",
              "      <td>0</td>\n",
              "      <td>0</td>\n",
              "      <td>0</td>\n",
              "      <td>...</td>\n",
              "      <td>0</td>\n",
              "      <td>0</td>\n",
              "      <td>0</td>\n",
              "      <td>0</td>\n",
              "      <td>0</td>\n",
              "      <td>0</td>\n",
              "      <td>0</td>\n",
              "      <td>0</td>\n",
              "      <td>0</td>\n",
              "      <td>0</td>\n",
              "    </tr>\n",
              "  </tbody>\n",
              "</table>\n",
              "<p>5 rows × 785 columns</p>\n",
              "</div>"
            ],
            "text/plain": [
              "   label  pixel1  pixel2  pixel3  pixel4  pixel5  pixel6  pixel7  pixel8  \\\n",
              "0      0       0       0       0       0       0       0       0       9   \n",
              "1      1       0       0       0       0       0       0       0       0   \n",
              "2      2       0       0       0       0       0       0      14      53   \n",
              "3      2       0       0       0       0       0       0       0       0   \n",
              "4      3       0       0       0       0       0       0       0       0   \n",
              "\n",
              "   pixel9  ...  pixel775  pixel776  pixel777  pixel778  pixel779  pixel780  \\\n",
              "0       8  ...       103        87        56         0         0         0   \n",
              "1       0  ...        34         0         0         0         0         0   \n",
              "2      99  ...         0         0         0         0        63        53   \n",
              "3       0  ...       137       126       140         0       133       224   \n",
              "4       0  ...         0         0         0         0         0         0   \n",
              "\n",
              "   pixel781  pixel782  pixel783  pixel784  \n",
              "0         0         0         0         0  \n",
              "1         0         0         0         0  \n",
              "2        31         0         0         0  \n",
              "3       222        56         0         0  \n",
              "4         0         0         0         0  \n",
              "\n",
              "[5 rows x 785 columns]"
            ]
          },
          "metadata": {
            "tags": []
          },
          "execution_count": 6
        }
      ]
<<<<<<< HEAD
     },
     "execution_count": 3,
     "metadata": {},
     "output_type": "execute_result"
    }
   ],
   "source": [
    "# Shape of the data\n",
    "df.shape"
   ]
  },
  {
   "cell_type": "code",
   "execution_count": 4,
   "metadata": {},
   "outputs": [],
   "source": [
    "# Features\n",
    "X = df[df.columns[1:]]\n",
    "\n",
    "# Labels\n",
    "y = df['label']"
   ]
  },
  {
   "cell_type": "code",
   "execution_count": 5,
   "metadata": {},
   "outputs": [
=======
    },
>>>>>>> 0052453404c4a0889fc6e4df06157c9031a1e59d
    {
      "cell_type": "code",
      "metadata": {
        "id": "cb8OEU2Yur3X",
        "outputId": "4469cfe4-5ea8-4bb0-e9f6-5b7f6ff14be6"
      },
      "source": [
        "# Shape of the data\n",
        "df.shape"
      ],
      "execution_count": null,
      "outputs": [
        {
          "output_type": "execute_result",
          "data": {
            "text/plain": [
              "(10000, 785)"
            ]
          },
          "metadata": {
            "tags": []
          },
          "execution_count": 14
        }
      ]
<<<<<<< HEAD
     },
     "execution_count": 5,
     "metadata": {},
     "output_type": "execute_result"
    }
   ],
   "source": [
    "df.describe()"
   ]
  },
  {
   "cell_type": "markdown",
   "metadata": {},
   "source": [
    "## Let us scale our data as we can see the variance of the mean.\n",
    "Let's scale the pictures so they are at a value between 0 and 1."
   ]
  },
  {
   "cell_type": "code",
   "execution_count": 6,
   "metadata": {},
   "outputs": [],
   "source": [
    "from sklearn.preprocessing import MinMaxScaler\n",
    "scaler = MinMaxScaler()\n",
    "fit_scaler = scaler.fit(X)\n",
    "scaled_pixels = scaler.transform(X)"
   ]
  },
  {
   "cell_type": "markdown",
   "metadata": {},
   "source": [
    "## Helper function to display images"
   ]
  },
  {
   "cell_type": "code",
   "execution_count": 7,
   "metadata": {},
   "outputs": [],
   "source": [
    "# Helper function\n",
    "def display_image(features, image_label):\n",
    "\n",
    "    # Labels\n",
    "    label_names = {\n",
    "        0: 'T-shirt',\n",
    "        1: 'Trouser',\n",
    "        2: 'Pullover',\n",
    "        3: 'Dress',\n",
    "        4: 'Coat',\n",
    "        5: 'Sandal',\n",
    "        6: 'Shirt',\n",
    "        7: 'Sneaker',\n",
    "        8: 'Bag',\n",
    "        9: 'Ankle boot'\n",
    "    }\n",
    "    \n",
    "    print('This is a', label_names[image_label].lower())\n",
    "    plt.imshow(features.reshape(28,28))"
   ]
  },
  {
   "cell_type": "code",
   "execution_count": 8,
   "metadata": {},
   "outputs": [
=======
    },
>>>>>>> 0052453404c4a0889fc6e4df06157c9031a1e59d
    {
      "cell_type": "code",
      "metadata": {
        "id": "KfBMn5sYur3Y"
      },
      "source": [
        "# Features\n",
        "X = df[df.columns[1:]]\n",
        "\n",
        "# Labels\n",
        "y = df['label']"
      ],
      "execution_count": null,
      "outputs": []
    },
    {
      "cell_type": "code",
      "metadata": {
        "id": "-egsQFPcur3Y",
        "outputId": "a76ada79-78a3-4b4f-ef35-70e4651ae22d"
      },
      "source": [
        "df.describe()"
      ],
      "execution_count": null,
      "outputs": [
        {
          "output_type": "execute_result",
          "data": {
            "text/html": [
              "<div>\n",
              "<style scoped>\n",
              "    .dataframe tbody tr th:only-of-type {\n",
              "        vertical-align: middle;\n",
              "    }\n",
              "\n",
              "    .dataframe tbody tr th {\n",
              "        vertical-align: top;\n",
              "    }\n",
              "\n",
              "    .dataframe thead th {\n",
              "        text-align: right;\n",
              "    }\n",
              "</style>\n",
              "<table border=\"1\" class=\"dataframe\">\n",
              "  <thead>\n",
              "    <tr style=\"text-align: right;\">\n",
              "      <th></th>\n",
              "      <th>label</th>\n",
              "      <th>pixel1</th>\n",
              "      <th>pixel2</th>\n",
              "      <th>pixel3</th>\n",
              "      <th>pixel4</th>\n",
              "      <th>pixel5</th>\n",
              "      <th>pixel6</th>\n",
              "      <th>pixel7</th>\n",
              "      <th>pixel8</th>\n",
              "      <th>pixel9</th>\n",
              "      <th>...</th>\n",
              "      <th>pixel775</th>\n",
              "      <th>pixel776</th>\n",
              "      <th>pixel777</th>\n",
              "      <th>pixel778</th>\n",
              "      <th>pixel779</th>\n",
              "      <th>pixel780</th>\n",
              "      <th>pixel781</th>\n",
              "      <th>pixel782</th>\n",
              "      <th>pixel783</th>\n",
              "      <th>pixel784</th>\n",
              "    </tr>\n",
              "  </thead>\n",
              "  <tbody>\n",
              "    <tr>\n",
              "      <th>count</th>\n",
              "      <td>10000.000000</td>\n",
              "      <td>10000.000000</td>\n",
              "      <td>10000.000000</td>\n",
              "      <td>10000.000000</td>\n",
              "      <td>10000.000000</td>\n",
              "      <td>10000.000000</td>\n",
              "      <td>10000.000000</td>\n",
              "      <td>10000.000000</td>\n",
              "      <td>10000.000000</td>\n",
              "      <td>10000.000000</td>\n",
              "      <td>...</td>\n",
              "      <td>10000.000000</td>\n",
              "      <td>10000.000000</td>\n",
              "      <td>10000.000000</td>\n",
              "      <td>10000.000000</td>\n",
              "      <td>10000.000000</td>\n",
              "      <td>10000.000000</td>\n",
              "      <td>10000.000000</td>\n",
              "      <td>10000.000000</td>\n",
              "      <td>10000.000000</td>\n",
              "      <td>10000.00000</td>\n",
              "    </tr>\n",
              "    <tr>\n",
              "      <th>mean</th>\n",
              "      <td>4.500000</td>\n",
              "      <td>0.000400</td>\n",
              "      <td>0.010300</td>\n",
              "      <td>0.052100</td>\n",
              "      <td>0.077000</td>\n",
              "      <td>0.208600</td>\n",
              "      <td>0.349200</td>\n",
              "      <td>0.826700</td>\n",
              "      <td>2.321200</td>\n",
              "      <td>5.457800</td>\n",
              "      <td>...</td>\n",
              "      <td>34.320800</td>\n",
              "      <td>23.071900</td>\n",
              "      <td>16.432000</td>\n",
              "      <td>17.870600</td>\n",
              "      <td>22.860000</td>\n",
              "      <td>17.790200</td>\n",
              "      <td>8.353500</td>\n",
              "      <td>2.541600</td>\n",
              "      <td>0.629500</td>\n",
              "      <td>0.06560</td>\n",
              "    </tr>\n",
              "    <tr>\n",
              "      <th>std</th>\n",
              "      <td>2.872425</td>\n",
              "      <td>0.024493</td>\n",
              "      <td>0.525187</td>\n",
              "      <td>2.494315</td>\n",
              "      <td>2.208882</td>\n",
              "      <td>4.669183</td>\n",
              "      <td>5.657849</td>\n",
              "      <td>8.591731</td>\n",
              "      <td>15.031508</td>\n",
              "      <td>23.359019</td>\n",
              "      <td>...</td>\n",
              "      <td>57.888679</td>\n",
              "      <td>49.049749</td>\n",
              "      <td>42.159665</td>\n",
              "      <td>44.140552</td>\n",
              "      <td>51.706601</td>\n",
              "      <td>45.128107</td>\n",
              "      <td>28.765769</td>\n",
              "      <td>16.417363</td>\n",
              "      <td>7.462533</td>\n",
              "      <td>1.93403</td>\n",
              "    </tr>\n",
              "    <tr>\n",
              "      <th>min</th>\n",
              "      <td>0.000000</td>\n",
              "      <td>0.000000</td>\n",
              "      <td>0.000000</td>\n",
              "      <td>0.000000</td>\n",
              "      <td>0.000000</td>\n",
              "      <td>0.000000</td>\n",
              "      <td>0.000000</td>\n",
              "      <td>0.000000</td>\n",
              "      <td>0.000000</td>\n",
              "      <td>0.000000</td>\n",
              "      <td>...</td>\n",
              "      <td>0.000000</td>\n",
              "      <td>0.000000</td>\n",
              "      <td>0.000000</td>\n",
              "      <td>0.000000</td>\n",
              "      <td>0.000000</td>\n",
              "      <td>0.000000</td>\n",
              "      <td>0.000000</td>\n",
              "      <td>0.000000</td>\n",
              "      <td>0.000000</td>\n",
              "      <td>0.00000</td>\n",
              "    </tr>\n",
              "    <tr>\n",
              "      <th>25%</th>\n",
              "      <td>2.000000</td>\n",
              "      <td>0.000000</td>\n",
              "      <td>0.000000</td>\n",
              "      <td>0.000000</td>\n",
              "      <td>0.000000</td>\n",
              "      <td>0.000000</td>\n",
              "      <td>0.000000</td>\n",
              "      <td>0.000000</td>\n",
              "      <td>0.000000</td>\n",
              "      <td>0.000000</td>\n",
              "      <td>...</td>\n",
              "      <td>0.000000</td>\n",
              "      <td>0.000000</td>\n",
              "      <td>0.000000</td>\n",
              "      <td>0.000000</td>\n",
              "      <td>0.000000</td>\n",
              "      <td>0.000000</td>\n",
              "      <td>0.000000</td>\n",
              "      <td>0.000000</td>\n",
              "      <td>0.000000</td>\n",
              "      <td>0.00000</td>\n",
              "    </tr>\n",
              "    <tr>\n",
              "      <th>50%</th>\n",
              "      <td>4.500000</td>\n",
              "      <td>0.000000</td>\n",
              "      <td>0.000000</td>\n",
              "      <td>0.000000</td>\n",
              "      <td>0.000000</td>\n",
              "      <td>0.000000</td>\n",
              "      <td>0.000000</td>\n",
              "      <td>0.000000</td>\n",
              "      <td>0.000000</td>\n",
              "      <td>0.000000</td>\n",
              "      <td>...</td>\n",
              "      <td>0.000000</td>\n",
              "      <td>0.000000</td>\n",
              "      <td>0.000000</td>\n",
              "      <td>0.000000</td>\n",
              "      <td>0.000000</td>\n",
              "      <td>0.000000</td>\n",
              "      <td>0.000000</td>\n",
              "      <td>0.000000</td>\n",
              "      <td>0.000000</td>\n",
              "      <td>0.00000</td>\n",
              "    </tr>\n",
              "    <tr>\n",
              "      <th>75%</th>\n",
              "      <td>7.000000</td>\n",
              "      <td>0.000000</td>\n",
              "      <td>0.000000</td>\n",
              "      <td>0.000000</td>\n",
              "      <td>0.000000</td>\n",
              "      <td>0.000000</td>\n",
              "      <td>0.000000</td>\n",
              "      <td>0.000000</td>\n",
              "      <td>0.000000</td>\n",
              "      <td>0.000000</td>\n",
              "      <td>...</td>\n",
              "      <td>55.000000</td>\n",
              "      <td>6.000000</td>\n",
              "      <td>0.000000</td>\n",
              "      <td>0.000000</td>\n",
              "      <td>1.000000</td>\n",
              "      <td>0.000000</td>\n",
              "      <td>0.000000</td>\n",
              "      <td>0.000000</td>\n",
              "      <td>0.000000</td>\n",
              "      <td>0.00000</td>\n",
              "    </tr>\n",
              "    <tr>\n",
              "      <th>max</th>\n",
              "      <td>9.000000</td>\n",
              "      <td>2.000000</td>\n",
              "      <td>45.000000</td>\n",
              "      <td>218.000000</td>\n",
              "      <td>185.000000</td>\n",
              "      <td>227.000000</td>\n",
              "      <td>223.000000</td>\n",
              "      <td>247.000000</td>\n",
              "      <td>218.000000</td>\n",
              "      <td>244.000000</td>\n",
              "      <td>...</td>\n",
              "      <td>254.000000</td>\n",
              "      <td>252.000000</td>\n",
              "      <td>255.000000</td>\n",
              "      <td>255.000000</td>\n",
              "      <td>255.000000</td>\n",
              "      <td>255.000000</td>\n",
              "      <td>240.000000</td>\n",
              "      <td>225.000000</td>\n",
              "      <td>205.000000</td>\n",
              "      <td>107.00000</td>\n",
              "    </tr>\n",
              "  </tbody>\n",
              "</table>\n",
              "<p>8 rows × 785 columns</p>\n",
              "</div>"
            ],
            "text/plain": [
              "              label        pixel1        pixel2        pixel3        pixel4  \\\n",
              "count  10000.000000  10000.000000  10000.000000  10000.000000  10000.000000   \n",
              "mean       4.500000      0.000400      0.010300      0.052100      0.077000   \n",
              "std        2.872425      0.024493      0.525187      2.494315      2.208882   \n",
              "min        0.000000      0.000000      0.000000      0.000000      0.000000   \n",
              "25%        2.000000      0.000000      0.000000      0.000000      0.000000   \n",
              "50%        4.500000      0.000000      0.000000      0.000000      0.000000   \n",
              "75%        7.000000      0.000000      0.000000      0.000000      0.000000   \n",
              "max        9.000000      2.000000     45.000000    218.000000    185.000000   \n",
              "\n",
              "             pixel5        pixel6        pixel7        pixel8        pixel9  \\\n",
              "count  10000.000000  10000.000000  10000.000000  10000.000000  10000.000000   \n",
              "mean       0.208600      0.349200      0.826700      2.321200      5.457800   \n",
              "std        4.669183      5.657849      8.591731     15.031508     23.359019   \n",
              "min        0.000000      0.000000      0.000000      0.000000      0.000000   \n",
              "25%        0.000000      0.000000      0.000000      0.000000      0.000000   \n",
              "50%        0.000000      0.000000      0.000000      0.000000      0.000000   \n",
              "75%        0.000000      0.000000      0.000000      0.000000      0.000000   \n",
              "max      227.000000    223.000000    247.000000    218.000000    244.000000   \n",
              "\n",
              "       ...      pixel775      pixel776      pixel777      pixel778  \\\n",
              "count  ...  10000.000000  10000.000000  10000.000000  10000.000000   \n",
              "mean   ...     34.320800     23.071900     16.432000     17.870600   \n",
              "std    ...     57.888679     49.049749     42.159665     44.140552   \n",
              "min    ...      0.000000      0.000000      0.000000      0.000000   \n",
              "25%    ...      0.000000      0.000000      0.000000      0.000000   \n",
              "50%    ...      0.000000      0.000000      0.000000      0.000000   \n",
              "75%    ...     55.000000      6.000000      0.000000      0.000000   \n",
              "max    ...    254.000000    252.000000    255.000000    255.000000   \n",
              "\n",
              "           pixel779      pixel780      pixel781      pixel782      pixel783  \\\n",
              "count  10000.000000  10000.000000  10000.000000  10000.000000  10000.000000   \n",
              "mean      22.860000     17.790200      8.353500      2.541600      0.629500   \n",
              "std       51.706601     45.128107     28.765769     16.417363      7.462533   \n",
              "min        0.000000      0.000000      0.000000      0.000000      0.000000   \n",
              "25%        0.000000      0.000000      0.000000      0.000000      0.000000   \n",
              "50%        0.000000      0.000000      0.000000      0.000000      0.000000   \n",
              "75%        1.000000      0.000000      0.000000      0.000000      0.000000   \n",
              "max      255.000000    255.000000    240.000000    225.000000    205.000000   \n",
              "\n",
              "          pixel784  \n",
              "count  10000.00000  \n",
              "mean       0.06560  \n",
              "std        1.93403  \n",
              "min        0.00000  \n",
              "25%        0.00000  \n",
              "50%        0.00000  \n",
              "75%        0.00000  \n",
              "max      107.00000  \n",
              "\n",
              "[8 rows x 785 columns]"
            ]
          },
          "metadata": {
            "tags": []
          },
          "execution_count": 18
        }
      ]
<<<<<<< HEAD
     },
     "metadata": {
      "needs_background": "light"
     },
     "output_type": "display_data"
    }
   ],
   "source": [
    "# Test to display image\n",
    "display_image(X.loc[5].values, y.loc[5])"
   ]
  },
  {
   "cell_type": "markdown",
   "metadata": {},
   "source": [
    "## Split our data\n",
    "We will go ahead and split our data into test and train sets."
   ]
  },
  {
   "cell_type": "code",
   "execution_count": 10,
   "metadata": {},
   "outputs": [],
   "source": [
    "X_train, X_test, y_train, y_test = train_test_split(X, y, test_size=0.4, random_state=1)"
   ]
  },
  {
   "cell_type": "markdown",
   "metadata": {},
   "source": [
    "## Fit model"
   ]
  },
  {
   "cell_type": "code",
   "execution_count": 11,
   "metadata": {},
   "outputs": [],
   "source": [
    "from sklearn.linear_model import LogisticRegression"
   ]
  },
  {
   "cell_type": "code",
   "execution_count": 12,
   "metadata": {},
   "outputs": [
    {
     "name": "stderr",
     "output_type": "stream",
     "text": [
      "C:\\Users\\Helena\\Anaconda3\\envs\\pysyft\\lib\\site-packages\\sklearn\\linear_model\\_sag.py:330: ConvergenceWarning: The max_iter was reached which means the coef_ did not converge\n",
      "  \"the coef_ did not converge\", ConvergenceWarning)\n"
     ]
    }
   ],
   "source": [
    "model = LogisticRegression(solver='sag', multi_class='auto', max_iter=1000).fit(X_train, y_train)"
   ]
  },
  {
   "cell_type": "markdown",
   "metadata": {},
   "source": [
    "## Evaluate"
   ]
  },
  {
   "cell_type": "code",
   "execution_count": 13,
   "metadata": {},
   "outputs": [],
   "source": [
    "from sklearn.metrics import accuracy_score"
   ]
  },
  {
   "cell_type": "code",
   "execution_count": 14,
   "metadata": {},
   "outputs": [
    {
     "name": "stdout",
     "output_type": "stream",
     "text": [
      "Accuracy of model: 78.325%\n"
     ]
    }
   ],
   "source": [
    "predict = model.predict(X_test)\n",
    "accuracy = accuracy_score(y_test, predict, normalize=True)\n",
    "print(f'Accuracy of model: {accuracy*100}%')"
   ]
  },
  {
   "cell_type": "markdown",
   "metadata": {},
   "source": [
    "# Neural Network comparision\n",
    "CNN with PyTorch"
   ]
  },
  {
   "cell_type": "code",
   "execution_count": 15,
   "metadata": {},
   "outputs": [
    {
     "name": "stdout",
     "output_type": "stream",
     "text": [
      "cuda:0\n"
     ]
    }
   ],
   "source": [
    "import torch\n",
    "import torchvision\n",
    "\n",
    "cuda = torch.device(\"cuda:0\" if torch.cuda.is_available() else \"cpu\") \n",
    "print(cuda)"
   ]
  },
  {
   "cell_type": "code",
   "execution_count": 19,
   "metadata": {},
   "outputs": [
    {
     "name": "stdout",
     "output_type": "stream",
     "text": [
      "X_train:  torch.Size([6000, 784])\n",
      "X_test:  torch.Size([4000, 784])\n",
      "y_train:  torch.Size([6000])\n",
      "y_test:  torch.Size([4000])\n"
     ]
    }
   ],
   "source": [
    "X_train_tensor = torch.tensor(X_train.values, dtype=torch.float)\n",
    "print(\"X_train: \", X_train_tensor.shape)\n",
    "\n",
    "X_test_tensor = torch.tensor(X_test.values, dtype=torch.float)\n",
    "print(\"X_test: \", X_test_tensor.shape)\n",
    "\n",
    "y_train_tensor = torch.tensor(y_train.values, dtype=torch.long)\n",
    "print(\"y_train: \", y_train_tensor.shape)\n",
    "\n",
    "y_test_tensor = torch.tensor(y_test.values, dtype=torch.long)\n",
    "print(\"y_test: \", y_test_tensor.shape)"
   ]
  },
  {
   "cell_type": "markdown",
   "metadata": {},
   "source": [
    "## Reshape images to 1, 28x28"
   ]
  },
  {
   "cell_type": "code",
   "execution_count": 20,
   "metadata": {},
   "outputs": [
    {
     "name": "stdout",
     "output_type": "stream",
     "text": [
      "X_train:  torch.Size([6000, 1, 28, 28])\n",
      "X_test:  torch.Size([4000, 1, 28, 28])\n"
     ]
    }
   ],
   "source": [
    "X_train_tensor = torch.Tensor(X_train_tensor.reshape((-1, 1, 28, 28)))\n",
    "\n",
    "X_test_tensor = torch.Tensor(X_test_tensor.reshape((-1, 1, 28, 28)))\n",
    "\n",
    "print(\"X_train: \", X_train_tensor.shape)\n",
    "print(\"X_test: \", X_test_tensor.shape)"
   ]
  },
  {
   "cell_type": "markdown",
   "metadata": {},
   "source": [
    "## Setting up our neural network"
   ]
  },
  {
   "cell_type": "code",
   "execution_count": 21,
   "metadata": {},
   "outputs": [
    {
     "name": "stdout",
     "output_type": "stream",
     "text": [
      "Check number of labels: 10\n"
     ]
    }
   ],
   "source": [
    "# Input size, for grayscale 1 and for color 3\n",
    "input_size = 1\n",
    "\n",
    "# Hidden layers\n",
    "hidden_1 = 1\n",
    "hidden_2 = 32\n",
    "\n",
    "# Output values, we have 10 different labels\n",
    "print(f'Check number of labels: {len(df[\"label\"].unique())}')\n",
    "output = 10\n",
    "      \n",
    "nn_size = 5"
   ]
  },
  {
   "cell_type": "markdown",
   "metadata": {},
   "source": [
    "## Setting up the model"
   ]
  },
  {
   "cell_type": "code",
   "execution_count": 24,
   "metadata": {},
   "outputs": [],
   "source": [
    "import torch.nn as nn\n",
    "import torch.nn.functional as F"
   ]
  },
  {
   "cell_type": "code",
   "execution_count": 25,
   "metadata": {},
   "outputs": [],
   "source": [
    "class CNN_Model(nn.Module):\n",
    "    \n",
    "    def __init__(self):\n",
    "        super(CNN_Model, self).__init__()\n",
    "        \n",
    "        # Layer 1\n",
    "        self.layer_1 = nn.Sequential(\n",
    "            nn.Conv2d(input_size, hidden_1, nn_size),\n",
    "            nn.BatchNorm2d(hidden_1),\n",
    "            nn.ReLU(),\n",
    "            nn.MaxPool2d(kernel_size=2)\n",
    "        )\n",
    "\n",
    "        # Layer 2\n",
    "        self.layer_2 = nn.Sequential(\n",
    "            nn.Conv2d(input_size, hidden_2, nn_size),\n",
    "            nn.BatchNorm2d(hidden_2),\n",
    "            nn.ReLU(),\n",
    "            nn.MaxPool2d(kernel_size=2)\n",
    "        )\n",
    "\n",
    "        # Final layer\n",
    "        self.final_layer = nn.Linear(512, output)\n",
    "        \n",
    "    def forward(self, x):\n",
    "        \n",
    "        out = self.layer_1(x)\n",
    "        print(\"Layer 1: \", out.shape)\n",
    "\n",
    "        out = self.layer_2(out)\n",
    "        print(\"Layer 2: \", out.shape)\n",
    "\n",
    "        out = out.reshape(out.size(0), -1)\n",
    "\n",
    "        out = self.final_layer(out)\n",
    "        print(\"Final layer: \", out.shape)\n",
    "        \n",
    "        return out"
   ]
  },
  {
   "cell_type": "code",
   "execution_count": 26,
   "metadata": {},
   "outputs": [
=======
    },
    {
      "cell_type": "markdown",
      "metadata": {
        "id": "D_Bqsao9ur3Z"
      },
      "source": [
        "## Let us scale our data as we can see the variance of the mean.\n",
        "Let's scale the pictures so they are at a value between 0 and 1."
      ]
    },
    {
      "cell_type": "code",
      "metadata": {
        "id": "6bcpvgCvur3Z"
      },
      "source": [
        "from sklearn.preprocessing import MinMaxScaler\n",
        "scaler = MinMaxScaler()\n",
        "fit_scaler = scaler.fit(X)\n",
        "scaled_pixels = scaler.transform(X)"
      ],
      "execution_count": null,
      "outputs": []
    },
    {
      "cell_type": "markdown",
      "metadata": {
        "id": "d0vB5MS3ur3Z"
      },
      "source": [
        "## Helper function to display images"
      ]
    },
    {
      "cell_type": "code",
      "metadata": {
        "id": "fkof0AKUur3Z"
      },
      "source": [
        "# Helper function\n",
        "def display_image(features, image_label):\n",
        "\n",
        "    # Labels\n",
        "    label_names = {\n",
        "        0: 'T-shirt',\n",
        "        1: 'Trouser',\n",
        "        2: 'Pullover',\n",
        "        3: 'Dress',\n",
        "        4: 'Coat',\n",
        "        5: 'Sandal',\n",
        "        6: 'Shirt',\n",
        "        7: 'Sneaker',\n",
        "        8: 'Bag',\n",
        "        9: 'Ankle boot'\n",
        "    }\n",
        "    \n",
        "    print('This is a', label_names[image_label].lower())\n",
        "    plt.imshow(features.reshape(28,28))"
      ],
      "execution_count": null,
      "outputs": []
    },
    {
      "cell_type": "code",
      "metadata": {
        "id": "B0DSDPy5ur3b",
        "outputId": "745e8551-3a5f-4889-c37d-f53265a2b228"
      },
      "source": [
        "# Test to display image\n",
        "display_image(X.loc[5].values, y.loc[5])"
      ],
      "execution_count": null,
      "outputs": [
        {
          "output_type": "stream",
          "text": [
            "This is a pullover\n"
          ],
          "name": "stdout"
        },
        {
          "output_type": "display_data",
          "data": {
            "image/png": "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\n",
            "text/plain": [
              "<Figure size 432x288 with 1 Axes>"
            ]
          },
          "metadata": {
            "tags": [],
            "needs_background": "light"
          }
        }
      ]
    },
    {
      "cell_type": "code",
      "metadata": {
        "id": "bkrsQ-1fur3b"
      },
      "source": [
        "#X = X/255\n",
        "#X.head()"
      ],
      "execution_count": null,
      "outputs": []
    },
>>>>>>> 0052453404c4a0889fc6e4df06157c9031a1e59d
    {
      "cell_type": "markdown",
      "metadata": {
        "id": "NmCaPAhMur3c"
      },
      "source": [
        "## Split our data\n",
        "We will go ahead and split our data into test and train sets."
      ]
<<<<<<< HEAD
     },
     "execution_count": 26,
     "metadata": {},
     "output_type": "execute_result"
    }
   ],
   "source": [
    "# Move model to cuda\n",
    "model = CNN_Model()\n",
    "model.to(cuda)"
   ]
  },
  {
   "cell_type": "code",
   "execution_count": 27,
   "metadata": {},
   "outputs": [],
   "source": [
    "# Move X and y to cuda\n",
    "X_train_tensor = X_train_tensor.to(cuda)\n",
    "X_test_tensor = X_test_tensor.to(cuda)\n",
    "\n",
    "y_train_tensor = y_train_tensor.to(cuda)\n",
    "y_test_tensor = y_test_tensor.to(cuda)"
   ]
  },
  {
   "cell_type": "markdown",
   "metadata": {},
   "source": [
    "## Setting up parameters"
   ]
  },
  {
   "cell_type": "code",
   "execution_count": 28,
   "metadata": {},
   "outputs": [],
   "source": [
    "learning_rate = 0.001\n",
    "criterion = nn.CrossEntropyLoss()\n",
    "optimizer = torch.optim.Adam(model.parameters(), lr=learning_rate)"
   ]
  },
  {
   "cell_type": "code",
   "execution_count": 32,
   "metadata": {},
   "outputs": [
    {
     "name": "stdout",
     "output_type": "stream",
     "text": [
      "Layer 1:  torch.Size([6000, 1, 12, 12])\n",
      "Layer 2:  torch.Size([6000, 32, 4, 4])\n",
      "Final layer:  torch.Size([6000, 10])\n",
      "Epoch: 1 Loss 0.5122336745262146\n",
      "Layer 1:  torch.Size([6000, 1, 12, 12])\n",
      "Layer 2:  torch.Size([6000, 32, 4, 4])\n",
      "Final layer:  torch.Size([6000, 10])\n",
      "Epoch: 2 Loss 0.5102289915084839\n",
      "Layer 1:  torch.Size([6000, 1, 12, 12])\n",
      "Layer 2:  torch.Size([6000, 32, 4, 4])\n",
      "Final layer:  torch.Size([6000, 10])\n",
      "Epoch: 3 Loss 0.508249044418335\n",
      "Layer 1:  torch.Size([6000, 1, 12, 12])\n",
      "Layer 2:  torch.Size([6000, 32, 4, 4])\n",
      "Final layer:  torch.Size([6000, 10])\n",
      "Epoch: 4 Loss 0.506294846534729\n",
      "Layer 1:  torch.Size([6000, 1, 12, 12])\n",
      "Layer 2:  torch.Size([6000, 32, 4, 4])\n",
      "Final layer:  torch.Size([6000, 10])\n",
      "Epoch: 5 Loss 0.5043638348579407\n",
      "Layer 1:  torch.Size([6000, 1, 12, 12])\n",
      "Layer 2:  torch.Size([6000, 32, 4, 4])\n",
      "Final layer:  torch.Size([6000, 10])\n",
      "Epoch: 6 Loss 0.5024544596672058\n",
      "Layer 1:  torch.Size([6000, 1, 12, 12])\n",
      "Layer 2:  torch.Size([6000, 32, 4, 4])\n",
      "Final layer:  torch.Size([6000, 10])\n",
      "Epoch: 7 Loss 0.5005643963813782\n",
      "Layer 1:  torch.Size([6000, 1, 12, 12])\n",
      "Layer 2:  torch.Size([6000, 32, 4, 4])\n",
      "Final layer:  torch.Size([6000, 10])\n",
      "Epoch: 8 Loss 0.49869275093078613\n",
      "Layer 1:  torch.Size([6000, 1, 12, 12])\n",
      "Layer 2:  torch.Size([6000, 32, 4, 4])\n",
      "Final layer:  torch.Size([6000, 10])\n",
      "Epoch: 9 Loss 0.4968380928039551\n",
      "Layer 1:  torch.Size([6000, 1, 12, 12])\n",
      "Layer 2:  torch.Size([6000, 32, 4, 4])\n",
      "Final layer:  torch.Size([6000, 10])\n",
      "Epoch: 10 Loss 0.49500417709350586\n",
      "Layer 1:  torch.Size([6000, 1, 12, 12])\n",
      "Layer 2:  torch.Size([6000, 32, 4, 4])\n",
      "Final layer:  torch.Size([6000, 10])\n",
      "Epoch: 11 Loss 0.4931865632534027\n",
      "Layer 1:  torch.Size([6000, 1, 12, 12])\n",
      "Layer 2:  torch.Size([6000, 32, 4, 4])\n",
      "Final layer:  torch.Size([6000, 10])\n",
      "Epoch: 12 Loss 0.4913816750049591\n",
      "Layer 1:  torch.Size([6000, 1, 12, 12])\n",
      "Layer 2:  torch.Size([6000, 32, 4, 4])\n",
      "Final layer:  torch.Size([6000, 10])\n",
      "Epoch: 13 Loss 0.48959264159202576\n",
      "Layer 1:  torch.Size([6000, 1, 12, 12])\n",
      "Layer 2:  torch.Size([6000, 32, 4, 4])\n",
      "Final layer:  torch.Size([6000, 10])\n",
      "Epoch: 14 Loss 0.4878191649913788\n",
      "Layer 1:  torch.Size([6000, 1, 12, 12])\n",
      "Layer 2:  torch.Size([6000, 32, 4, 4])\n",
      "Final layer:  torch.Size([6000, 10])\n",
      "Epoch: 15 Loss 0.48606348037719727\n",
      "Layer 1:  torch.Size([6000, 1, 12, 12])\n",
      "Layer 2:  torch.Size([6000, 32, 4, 4])\n",
      "Final layer:  torch.Size([6000, 10])\n",
      "Epoch: 16 Loss 0.48432686924934387\n",
      "Layer 1:  torch.Size([6000, 1, 12, 12])\n",
      "Layer 2:  torch.Size([6000, 32, 4, 4])\n",
      "Final layer:  torch.Size([6000, 10])\n",
      "Epoch: 17 Loss 0.482604444026947\n",
      "Layer 1:  torch.Size([6000, 1, 12, 12])\n",
      "Layer 2:  torch.Size([6000, 32, 4, 4])\n",
      "Final layer:  torch.Size([6000, 10])\n",
      "Epoch: 18 Loss 0.48089730739593506\n",
      "Layer 1:  torch.Size([6000, 1, 12, 12])\n",
      "Layer 2:  torch.Size([6000, 32, 4, 4])\n",
      "Final layer:  torch.Size([6000, 10])\n",
      "Epoch: 19 Loss 0.47920331358909607\n",
      "Layer 1:  torch.Size([6000, 1, 12, 12])\n",
      "Layer 2:  torch.Size([6000, 32, 4, 4])\n",
      "Final layer:  torch.Size([6000, 10])\n",
      "Epoch: 20 Loss 0.47752371430397034\n",
      "Layer 1:  torch.Size([6000, 1, 12, 12])\n",
      "Layer 2:  torch.Size([6000, 32, 4, 4])\n",
      "Final layer:  torch.Size([6000, 10])\n",
      "Epoch: 21 Loss 0.47586071491241455\n",
      "Layer 1:  torch.Size([6000, 1, 12, 12])\n",
      "Layer 2:  torch.Size([6000, 32, 4, 4])\n",
      "Final layer:  torch.Size([6000, 10])\n",
      "Epoch: 22 Loss 0.47421374917030334\n",
      "Layer 1:  torch.Size([6000, 1, 12, 12])\n",
      "Layer 2:  torch.Size([6000, 32, 4, 4])\n",
      "Final layer:  torch.Size([6000, 10])\n",
      "Epoch: 23 Loss 0.47258198261260986\n",
      "Layer 1:  torch.Size([6000, 1, 12, 12])\n",
      "Layer 2:  torch.Size([6000, 32, 4, 4])\n",
      "Final layer:  torch.Size([6000, 10])\n",
      "Epoch: 24 Loss 0.4709624946117401\n",
      "Layer 1:  torch.Size([6000, 1, 12, 12])\n",
      "Layer 2:  torch.Size([6000, 32, 4, 4])\n",
      "Final layer:  torch.Size([6000, 10])\n",
      "Epoch: 25 Loss 0.46935832500457764\n",
      "Layer 1:  torch.Size([6000, 1, 12, 12])\n",
      "Layer 2:  torch.Size([6000, 32, 4, 4])\n",
      "Final layer:  torch.Size([6000, 10])\n",
      "Epoch: 26 Loss 0.4677671194076538\n",
      "Layer 1:  torch.Size([6000, 1, 12, 12])\n",
      "Layer 2:  torch.Size([6000, 32, 4, 4])\n",
      "Final layer:  torch.Size([6000, 10])\n",
      "Epoch: 27 Loss 0.4661887586116791\n",
      "Layer 1:  torch.Size([6000, 1, 12, 12])\n",
      "Layer 2:  torch.Size([6000, 32, 4, 4])\n",
      "Final layer:  torch.Size([6000, 10])\n",
      "Epoch: 28 Loss 0.46462276577949524\n",
      "Layer 1:  torch.Size([6000, 1, 12, 12])\n",
      "Layer 2:  torch.Size([6000, 32, 4, 4])\n",
      "Final layer:  torch.Size([6000, 10])\n",
      "Epoch: 29 Loss 0.4630710482597351\n",
      "Layer 1:  torch.Size([6000, 1, 12, 12])\n",
      "Layer 2:  torch.Size([6000, 32, 4, 4])\n",
      "Final layer:  torch.Size([6000, 10])\n",
      "Epoch: 30 Loss 0.4615322947502136\n",
      "Layer 1:  torch.Size([6000, 1, 12, 12])\n",
      "Layer 2:  torch.Size([6000, 32, 4, 4])\n",
      "Final layer:  torch.Size([6000, 10])\n",
      "Epoch: 31 Loss 0.46000468730926514\n",
      "Layer 1:  torch.Size([6000, 1, 12, 12])\n",
      "Layer 2:  torch.Size([6000, 32, 4, 4])\n",
      "Final layer:  torch.Size([6000, 10])\n",
      "Epoch: 32 Loss 0.45848900079727173\n",
      "Layer 1:  torch.Size([6000, 1, 12, 12])\n",
      "Layer 2:  torch.Size([6000, 32, 4, 4])\n",
      "Final layer:  torch.Size([6000, 10])\n",
      "Epoch: 33 Loss 0.45698633790016174\n",
      "Layer 1:  torch.Size([6000, 1, 12, 12])\n",
      "Layer 2:  torch.Size([6000, 32, 4, 4])\n",
      "Final layer:  torch.Size([6000, 10])\n",
      "Epoch: 34 Loss 0.45549750328063965\n",
      "Layer 1:  torch.Size([6000, 1, 12, 12])\n",
      "Layer 2:  torch.Size([6000, 32, 4, 4])\n",
      "Final layer:  torch.Size([6000, 10])\n",
      "Epoch: 35 Loss 0.4540215730667114\n",
      "Layer 1:  torch.Size([6000, 1, 12, 12])\n",
      "Layer 2:  torch.Size([6000, 32, 4, 4])\n",
      "Final layer:  torch.Size([6000, 10])\n",
      "Epoch: 36 Loss 0.45255643129348755\n",
      "Layer 1:  torch.Size([6000, 1, 12, 12])\n",
      "Layer 2:  torch.Size([6000, 32, 4, 4])\n",
      "Final layer:  torch.Size([6000, 10])\n",
      "Epoch: 37 Loss 0.4511019289493561\n",
      "Layer 1:  torch.Size([6000, 1, 12, 12])\n",
      "Layer 2:  torch.Size([6000, 32, 4, 4])\n",
      "Final layer:  torch.Size([6000, 10])\n",
      "Epoch: 38 Loss 0.4496583342552185\n",
      "Layer 1:  torch.Size([6000, 1, 12, 12])\n",
      "Layer 2:  torch.Size([6000, 32, 4, 4])\n",
      "Final layer:  torch.Size([6000, 10])\n",
      "Epoch: 39 Loss 0.44822433590888977\n",
      "Layer 1:  torch.Size([6000, 1, 12, 12])\n",
      "Layer 2:  torch.Size([6000, 32, 4, 4])\n",
      "Final layer:  torch.Size([6000, 10])\n",
      "Epoch: 40 Loss 0.44680073857307434\n",
      "Layer 1:  torch.Size([6000, 1, 12, 12])\n",
      "Layer 2:  torch.Size([6000, 32, 4, 4])\n",
      "Final layer:  torch.Size([6000, 10])\n",
      "Epoch: 41 Loss 0.44538944959640503\n",
      "Layer 1:  torch.Size([6000, 1, 12, 12])\n",
      "Layer 2:  torch.Size([6000, 32, 4, 4])\n",
      "Final layer:  torch.Size([6000, 10])\n",
      "Epoch: 42 Loss 0.4439903497695923\n",
      "Layer 1:  torch.Size([6000, 1, 12, 12])\n",
      "Layer 2:  torch.Size([6000, 32, 4, 4])\n",
      "Final layer:  torch.Size([6000, 10])\n",
      "Epoch: 43 Loss 0.44260159134864807\n",
      "Layer 1:  torch.Size([6000, 1, 12, 12])\n",
      "Layer 2:  torch.Size([6000, 32, 4, 4])\n",
      "Final layer:  torch.Size([6000, 10])\n",
      "Epoch: 44 Loss 0.441223680973053\n",
      "Layer 1:  torch.Size([6000, 1, 12, 12])\n",
      "Layer 2:  torch.Size([6000, 32, 4, 4])\n",
      "Final layer:  torch.Size([6000, 10])\n",
      "Epoch: 45 Loss 0.43985649943351746\n",
      "Layer 1:  torch.Size([6000, 1, 12, 12])\n",
      "Layer 2:  torch.Size([6000, 32, 4, 4])\n",
      "Final layer:  torch.Size([6000, 10])\n",
      "Epoch: 46 Loss 0.43849846720695496\n",
      "Layer 1:  torch.Size([6000, 1, 12, 12])\n",
      "Layer 2:  torch.Size([6000, 32, 4, 4])\n",
      "Final layer:  torch.Size([6000, 10])\n",
      "Epoch: 47 Loss 0.4371481239795685\n",
      "Layer 1:  torch.Size([6000, 1, 12, 12])\n",
      "Layer 2:  torch.Size([6000, 32, 4, 4])\n",
      "Final layer:  torch.Size([6000, 10])\n",
      "Epoch: 48 Loss 0.43580639362335205\n",
      "Layer 1:  torch.Size([6000, 1, 12, 12])\n",
      "Layer 2:  torch.Size([6000, 32, 4, 4])\n",
      "Final layer:  torch.Size([6000, 10])\n",
      "Epoch: 49 Loss 0.43447229266166687\n",
      "Layer 1:  torch.Size([6000, 1, 12, 12])\n",
      "Layer 2:  torch.Size([6000, 32, 4, 4])\n",
      "Final layer:  torch.Size([6000, 10])\n",
      "Epoch: 50 Loss 0.43314531445503235\n",
      "Layer 1:  torch.Size([6000, 1, 12, 12])\n",
      "Layer 2:  torch.Size([6000, 32, 4, 4])\n",
      "Final layer:  torch.Size([6000, 10])\n",
      "Epoch: 51 Loss 0.4318273961544037\n",
      "Layer 1:  torch.Size([6000, 1, 12, 12])\n",
      "Layer 2:  torch.Size([6000, 32, 4, 4])\n",
      "Final layer:  torch.Size([6000, 10])\n",
      "Epoch: 52 Loss 0.4305194616317749\n",
      "Layer 1:  torch.Size([6000, 1, 12, 12])\n",
      "Layer 2:  torch.Size([6000, 32, 4, 4])\n",
      "Final layer:  torch.Size([6000, 10])\n",
      "Epoch: 53 Loss 0.4292202293872833\n",
      "Layer 1:  torch.Size([6000, 1, 12, 12])\n",
      "Layer 2:  torch.Size([6000, 32, 4, 4])\n",
      "Final layer:  torch.Size([6000, 10])\n",
      "Epoch: 54 Loss 0.42792749404907227\n",
      "Layer 1:  torch.Size([6000, 1, 12, 12])\n",
      "Layer 2:  torch.Size([6000, 32, 4, 4])\n",
      "Final layer:  torch.Size([6000, 10])\n",
      "Epoch: 55 Loss 0.42664217948913574\n",
      "Layer 1:  torch.Size([6000, 1, 12, 12])\n",
      "Layer 2:  torch.Size([6000, 32, 4, 4])\n",
      "Final layer:  torch.Size([6000, 10])\n"
     ]
    },
    {
     "name": "stdout",
     "output_type": "stream",
     "text": [
      "Epoch: 56 Loss 0.42536357045173645\n",
      "Layer 1:  torch.Size([6000, 1, 12, 12])\n",
      "Layer 2:  torch.Size([6000, 32, 4, 4])\n",
      "Final layer:  torch.Size([6000, 10])\n",
      "Epoch: 57 Loss 0.4240924119949341\n",
      "Layer 1:  torch.Size([6000, 1, 12, 12])\n",
      "Layer 2:  torch.Size([6000, 32, 4, 4])\n",
      "Final layer:  torch.Size([6000, 10])\n",
      "Epoch: 58 Loss 0.42282792925834656\n",
      "Layer 1:  torch.Size([6000, 1, 12, 12])\n",
      "Layer 2:  torch.Size([6000, 32, 4, 4])\n",
      "Final layer:  torch.Size([6000, 10])\n",
      "Epoch: 59 Loss 0.4215727150440216\n",
      "Layer 1:  torch.Size([6000, 1, 12, 12])\n",
      "Layer 2:  torch.Size([6000, 32, 4, 4])\n",
      "Final layer:  torch.Size([6000, 10])\n",
      "Epoch: 60 Loss 0.42032742500305176\n",
      "Layer 1:  torch.Size([6000, 1, 12, 12])\n",
      "Layer 2:  torch.Size([6000, 32, 4, 4])\n",
      "Final layer:  torch.Size([6000, 10])\n",
      "Epoch: 61 Loss 0.4190911054611206\n",
      "Layer 1:  torch.Size([6000, 1, 12, 12])\n",
      "Layer 2:  torch.Size([6000, 32, 4, 4])\n",
      "Final layer:  torch.Size([6000, 10])\n",
      "Epoch: 62 Loss 0.41786253452301025\n",
      "Layer 1:  torch.Size([6000, 1, 12, 12])\n",
      "Layer 2:  torch.Size([6000, 32, 4, 4])\n",
      "Final layer:  torch.Size([6000, 10])\n",
      "Epoch: 63 Loss 0.4166417717933655\n",
      "Layer 1:  torch.Size([6000, 1, 12, 12])\n",
      "Layer 2:  torch.Size([6000, 32, 4, 4])\n",
      "Final layer:  torch.Size([6000, 10])\n",
      "Epoch: 64 Loss 0.4154285192489624\n",
      "Layer 1:  torch.Size([6000, 1, 12, 12])\n",
      "Layer 2:  torch.Size([6000, 32, 4, 4])\n",
      "Final layer:  torch.Size([6000, 10])\n",
      "Epoch: 65 Loss 0.4142242968082428\n",
      "Layer 1:  torch.Size([6000, 1, 12, 12])\n",
      "Layer 2:  torch.Size([6000, 32, 4, 4])\n",
      "Final layer:  torch.Size([6000, 10])\n",
      "Epoch: 66 Loss 0.4130280315876007\n",
      "Layer 1:  torch.Size([6000, 1, 12, 12])\n",
      "Layer 2:  torch.Size([6000, 32, 4, 4])\n",
      "Final layer:  torch.Size([6000, 10])\n",
      "Epoch: 67 Loss 0.4118386209011078\n",
      "Layer 1:  torch.Size([6000, 1, 12, 12])\n",
      "Layer 2:  torch.Size([6000, 32, 4, 4])\n",
      "Final layer:  torch.Size([6000, 10])\n",
      "Epoch: 68 Loss 0.41065648198127747\n",
      "Layer 1:  torch.Size([6000, 1, 12, 12])\n",
      "Layer 2:  torch.Size([6000, 32, 4, 4])\n",
      "Final layer:  torch.Size([6000, 10])\n",
      "Epoch: 69 Loss 0.40948227047920227\n",
      "Layer 1:  torch.Size([6000, 1, 12, 12])\n",
      "Layer 2:  torch.Size([6000, 32, 4, 4])\n",
      "Final layer:  torch.Size([6000, 10])\n",
      "Epoch: 70 Loss 0.40831640362739563\n",
      "Layer 1:  torch.Size([6000, 1, 12, 12])\n",
      "Layer 2:  torch.Size([6000, 32, 4, 4])\n",
      "Final layer:  torch.Size([6000, 10])\n",
      "Epoch: 71 Loss 0.407155305147171\n",
      "Layer 1:  torch.Size([6000, 1, 12, 12])\n",
      "Layer 2:  torch.Size([6000, 32, 4, 4])\n",
      "Final layer:  torch.Size([6000, 10])\n",
      "Epoch: 72 Loss 0.4060019254684448\n",
      "Layer 1:  torch.Size([6000, 1, 12, 12])\n",
      "Layer 2:  torch.Size([6000, 32, 4, 4])\n",
      "Final layer:  torch.Size([6000, 10])\n",
      "Epoch: 73 Loss 0.4048556685447693\n",
      "Layer 1:  torch.Size([6000, 1, 12, 12])\n",
      "Layer 2:  torch.Size([6000, 32, 4, 4])\n",
      "Final layer:  torch.Size([6000, 10])\n",
      "Epoch: 74 Loss 0.4037160575389862\n",
      "Layer 1:  torch.Size([6000, 1, 12, 12])\n",
      "Layer 2:  torch.Size([6000, 32, 4, 4])\n",
      "Final layer:  torch.Size([6000, 10])\n",
      "Epoch: 75 Loss 0.4025808870792389\n",
      "Layer 1:  torch.Size([6000, 1, 12, 12])\n",
      "Layer 2:  torch.Size([6000, 32, 4, 4])\n",
      "Final layer:  torch.Size([6000, 10])\n",
      "Epoch: 76 Loss 0.40145134925842285\n",
      "Layer 1:  torch.Size([6000, 1, 12, 12])\n",
      "Layer 2:  torch.Size([6000, 32, 4, 4])\n",
      "Final layer:  torch.Size([6000, 10])\n",
      "Epoch: 77 Loss 0.4003276228904724\n",
      "Layer 1:  torch.Size([6000, 1, 12, 12])\n",
      "Layer 2:  torch.Size([6000, 32, 4, 4])\n",
      "Final layer:  torch.Size([6000, 10])\n",
      "Epoch: 78 Loss 0.39920932054519653\n",
      "Layer 1:  torch.Size([6000, 1, 12, 12])\n",
      "Layer 2:  torch.Size([6000, 32, 4, 4])\n",
      "Final layer:  torch.Size([6000, 10])\n",
      "Epoch: 79 Loss 0.3980957567691803\n",
      "Layer 1:  torch.Size([6000, 1, 12, 12])\n",
      "Layer 2:  torch.Size([6000, 32, 4, 4])\n",
      "Final layer:  torch.Size([6000, 10])\n",
      "Epoch: 80 Loss 0.39698705077171326\n",
      "Layer 1:  torch.Size([6000, 1, 12, 12])\n",
      "Layer 2:  torch.Size([6000, 32, 4, 4])\n",
      "Final layer:  torch.Size([6000, 10])\n",
      "Epoch: 81 Loss 0.39588281512260437\n",
      "Layer 1:  torch.Size([6000, 1, 12, 12])\n",
      "Layer 2:  torch.Size([6000, 32, 4, 4])\n",
      "Final layer:  torch.Size([6000, 10])\n",
      "Epoch: 82 Loss 0.39478442072868347\n",
      "Layer 1:  torch.Size([6000, 1, 12, 12])\n",
      "Layer 2:  torch.Size([6000, 32, 4, 4])\n",
      "Final layer:  torch.Size([6000, 10])\n",
      "Epoch: 83 Loss 0.3936917185783386\n",
      "Layer 1:  torch.Size([6000, 1, 12, 12])\n",
      "Layer 2:  torch.Size([6000, 32, 4, 4])\n",
      "Final layer:  torch.Size([6000, 10])\n",
      "Epoch: 84 Loss 0.3926066756248474\n",
      "Layer 1:  torch.Size([6000, 1, 12, 12])\n",
      "Layer 2:  torch.Size([6000, 32, 4, 4])\n",
      "Final layer:  torch.Size([6000, 10])\n",
      "Epoch: 85 Loss 0.3915274739265442\n",
      "Layer 1:  torch.Size([6000, 1, 12, 12])\n",
      "Layer 2:  torch.Size([6000, 32, 4, 4])\n",
      "Final layer:  torch.Size([6000, 10])\n",
      "Epoch: 86 Loss 0.39045435190200806\n",
      "Layer 1:  torch.Size([6000, 1, 12, 12])\n",
      "Layer 2:  torch.Size([6000, 32, 4, 4])\n",
      "Final layer:  torch.Size([6000, 10])\n",
      "Epoch: 87 Loss 0.38938722014427185\n",
      "Layer 1:  torch.Size([6000, 1, 12, 12])\n",
      "Layer 2:  torch.Size([6000, 32, 4, 4])\n",
      "Final layer:  torch.Size([6000, 10])\n",
      "Epoch: 88 Loss 0.3883250653743744\n",
      "Layer 1:  torch.Size([6000, 1, 12, 12])\n",
      "Layer 2:  torch.Size([6000, 32, 4, 4])\n",
      "Final layer:  torch.Size([6000, 10])\n",
      "Epoch: 89 Loss 0.3872684836387634\n",
      "Layer 1:  torch.Size([6000, 1, 12, 12])\n",
      "Layer 2:  torch.Size([6000, 32, 4, 4])\n",
      "Final layer:  torch.Size([6000, 10])\n",
      "Epoch: 90 Loss 0.386217325925827\n",
      "Layer 1:  torch.Size([6000, 1, 12, 12])\n",
      "Layer 2:  torch.Size([6000, 32, 4, 4])\n",
      "Final layer:  torch.Size([6000, 10])\n",
      "Epoch: 91 Loss 0.38516974449157715\n",
      "Layer 1:  torch.Size([6000, 1, 12, 12])\n",
      "Layer 2:  torch.Size([6000, 32, 4, 4])\n",
      "Final layer:  torch.Size([6000, 10])\n",
      "Epoch: 92 Loss 0.3841286897659302\n",
      "Layer 1:  torch.Size([6000, 1, 12, 12])\n",
      "Layer 2:  torch.Size([6000, 32, 4, 4])\n",
      "Final layer:  torch.Size([6000, 10])\n",
      "Epoch: 93 Loss 0.3830929696559906\n",
      "Layer 1:  torch.Size([6000, 1, 12, 12])\n",
      "Layer 2:  torch.Size([6000, 32, 4, 4])\n",
      "Final layer:  torch.Size([6000, 10])\n",
      "Epoch: 94 Loss 0.3820629119873047\n",
      "Layer 1:  torch.Size([6000, 1, 12, 12])\n",
      "Layer 2:  torch.Size([6000, 32, 4, 4])\n",
      "Final layer:  torch.Size([6000, 10])\n",
      "Epoch: 95 Loss 0.38103803992271423\n",
      "Layer 1:  torch.Size([6000, 1, 12, 12])\n",
      "Layer 2:  torch.Size([6000, 32, 4, 4])\n",
      "Final layer:  torch.Size([6000, 10])\n",
      "Epoch: 96 Loss 0.38001981377601624\n",
      "Layer 1:  torch.Size([6000, 1, 12, 12])\n",
      "Layer 2:  torch.Size([6000, 32, 4, 4])\n",
      "Final layer:  torch.Size([6000, 10])\n",
      "Epoch: 97 Loss 0.37900662422180176\n",
      "Layer 1:  torch.Size([6000, 1, 12, 12])\n",
      "Layer 2:  torch.Size([6000, 32, 4, 4])\n",
      "Final layer:  torch.Size([6000, 10])\n",
      "Epoch: 98 Loss 0.3779992163181305\n",
      "Layer 1:  torch.Size([6000, 1, 12, 12])\n",
      "Layer 2:  torch.Size([6000, 32, 4, 4])\n",
      "Final layer:  torch.Size([6000, 10])\n",
      "Epoch: 99 Loss 0.37699776887893677\n"
     ]
    }
   ],
   "source": [
    "epochs = 100\n",
    "loss_list = list()\n",
    "\n",
    "for epoch in range(1, epochs):\n",
    "    \n",
    "    # Calculate output and loss\n",
    "    outputs = model(X_train_tensor)\n",
    "    loss = criterion(outputs, y_train_tensor)\n",
    "    \n",
    "    # Zero out gradient\n",
    "    optimizer.zero_grad()\n",
    "    \n",
    "    # Backward pas\n",
    "    loss.backward()\n",
    "    \n",
    "    # Update model parameters\n",
    "    optimizer.step()\n",
    "    \n",
    "    print(f'Epoch: {epoch} Loss {loss.item()}')\n",
    "    loss_list.append(loss.item())"
   ]
  },
  {
   "cell_type": "markdown",
   "metadata": {},
   "source": [
    "## Plot loss values"
   ]
  },
  {
   "cell_type": "code",
   "execution_count": 33,
   "metadata": {},
   "outputs": [
    {
     "data": {
      "image/png": "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\n",
      "text/plain": [
       "<Figure size 864x576 with 1 Axes>"
      ]
     },
     "metadata": {},
     "output_type": "display_data"
    }
   ],
   "source": [
    "x = (range(0, 99))\n",
    "\n",
    "plt.figure(figsize=(12,8))\n",
    "plt.plot(x, loss_list, 'go--', linewidth=2, markersize=12, color='purple')\n",
    "plt.xlabel('Epoch', fontsize=22, color='white')\n",
    "plt.ylabel('Loss', fontsize=22, color='white')\n",
    "plt.gcf().set_facecolor(\"purple\");"
   ]
  },
  {
   "cell_type": "markdown",
   "metadata": {},
   "source": [
    "## Evaluate model"
   ]
  },
  {
   "cell_type": "code",
   "execution_count": 34,
   "metadata": {},
   "outputs": [
=======
    },
    {
      "cell_type": "code",
      "metadata": {
        "id": "TtCBjhSuur3c"
      },
      "source": [
        "X_train, X_test, y_train, y_test = train_test_split(X, y, test_size=0.4, random_state=1)"
      ],
      "execution_count": null,
      "outputs": []
    },
    {
      "cell_type": "markdown",
      "metadata": {
        "id": "x7Af3IdMur3c"
      },
      "source": [
        "## Fit model"
      ]
    },
    {
      "cell_type": "code",
      "metadata": {
        "id": "aIeLlVisur3c"
      },
      "source": [
        "from sklearn.linear_model import LogisticRegression"
      ],
      "execution_count": null,
      "outputs": []
    },
    {
      "cell_type": "code",
      "metadata": {
        "id": "q5Vp2L0gur3d"
      },
      "source": [
        "model = LogisticRegression(solver='sag', multi_class='auto', max_iter=1000).fit(X_train, y_train)"
      ],
      "execution_count": null,
      "outputs": []
    },
    {
      "cell_type": "markdown",
      "metadata": {
        "id": "A1PfDWsHur3d"
      },
      "source": [
        "## Evaluate"
      ]
    },
    {
      "cell_type": "code",
      "metadata": {
        "id": "EEi9WhK6ur3d"
      },
      "source": [
        "from sklearn.metrics import accuracy_score"
      ],
      "execution_count": null,
      "outputs": []
    },
    {
      "cell_type": "code",
      "metadata": {
        "id": "dkcZaz_dur3d"
      },
      "source": [
        "predict = model.predict(X_test)\n",
        "accuracy = accuracy_score(y_test, predict, normalize=True)\n",
        "print(f'Accuracy of model: {accuracy*100}%')"
      ],
      "execution_count": null,
      "outputs": []
    },
>>>>>>> 0052453404c4a0889fc6e4df06157c9031a1e59d
    {
      "cell_type": "markdown",
      "metadata": {
        "id": "__caylBdur3d"
      },
      "source": [
        "# Neural Network comparision\n",
        "CNN with PyTorch"
      ]
<<<<<<< HEAD
     },
     "execution_count": 34,
     "metadata": {},
     "output_type": "execute_result"
    }
   ],
   "source": [
    "model.eval()"
   ]
  },
  {
   "cell_type": "code",
   "execution_count": 35,
   "metadata": {},
   "outputs": [
    {
     "name": "stdout",
     "output_type": "stream",
     "text": [
      "Layer 1:  torch.Size([4000, 1, 12, 12])\n",
      "Layer 2:  torch.Size([4000, 32, 4, 4])\n",
      "Final layer:  torch.Size([4000, 10])\n",
      "Accuracy: 0.82475\n"
     ]
    }
   ],
   "source": [
    "with torch.no_grad():\n",
    "    correct = 0\n",
    "    total = 0\n",
    "    outputs = model(X_test_tensor)\n",
    "    _, predicted = torch.max(outputs.data, 1)\n",
    "    \n",
    "    y_test = y_test_tensor.cpu().numpy()\n",
    "    predicted = predicted.cpu()\n",
    "    \n",
    "    accuracy_cnn = accuracy_score(predicted, y_test)\n",
    "    \n",
    "    print(f'Accuracy: {accuracy_score(predicted, y_test)}')"
   ]
  },
  {
   "cell_type": "markdown",
   "metadata": {},
   "source": [
    "## Conclusions"
   ]
  },
  {
   "cell_type": "code",
   "execution_count": 36,
   "metadata": {},
   "outputs": [
    {
     "name": "stdout",
     "output_type": "stream",
     "text": [
      "Accuracy of LogisticRegression: 78.325%\n",
      "Accuracy of CNN/PyTorch: 82.475%\n"
     ]
    }
   ],
   "source": [
    "# Compared models\n",
    "print(f'Accuracy of LogisticRegression: {accuracy*100}%')\n",
    "print(f'Accuracy of CNN/PyTorch: {accuracy_cnn*100}%')"
   ]
  },
  {
   "cell_type": "markdown",
   "metadata": {},
   "source": [
    "Our neural network did better during the image classification."
   ]
  },
  {
   "cell_type": "code",
   "execution_count": null,
   "metadata": {},
   "outputs": [],
   "source": []
  }
 ],
 "metadata": {
  "kernelspec": {
   "display_name": "Python 3",
   "language": "python",
   "name": "python3"
  },
  "language_info": {
   "codemirror_mode": {
    "name": "ipython",
    "version": 3
   },
   "file_extension": ".py",
   "mimetype": "text/x-python",
   "name": "python",
   "nbconvert_exporter": "python",
   "pygments_lexer": "ipython3",
   "version": "3.7.7"
  }
 },
 "nbformat": 4,
 "nbformat_minor": 4
}
=======
    },
    {
      "cell_type": "code",
      "metadata": {
        "id": "cCHBv0h_ur3d",
        "outputId": "91113698-db36-486f-89a2-f4b6369ecfc4"
      },
      "source": [
        "import torch\n",
        "import torchvision\n",
        "\n",
        "cuda = torch.device(\"cuda:0\" if torch.cuda.is_available() else \"cpu\") \n",
        "print(cuda)"
      ],
      "execution_count": null,
      "outputs": [
        {
          "output_type": "stream",
          "text": [
            "cuda:0\n"
          ],
          "name": "stdout"
        }
      ]
    },
    {
      "cell_type": "code",
      "metadata": {
        "id": "_l7hDIdEur3e",
        "outputId": "ce9bd9fd-c845-4b6f-fd74-c8f79fe6592f"
      },
      "source": [
        "image_batch = torch.Tensor(scaled_pixels.reshape((-1, 28, 28)))\n",
        "image_batch.shape"
      ],
      "execution_count": null,
      "outputs": [
        {
          "output_type": "execute_result",
          "data": {
            "text/plain": [
              "torch.Size([10000, 28, 28])"
            ]
          },
          "metadata": {
            "tags": []
          },
          "execution_count": 26
        }
      ]
    },
    {
      "cell_type": "code",
      "metadata": {
        "id": "YbKoOf0Lur3f"
      },
      "source": [
        "sample = df.sample(8)"
      ],
      "execution_count": null,
      "outputs": []
    },
    {
      "cell_type": "code",
      "metadata": {
        "id": "Hnq-o3U5ur3f"
      },
      "source": [
        "grid = torchvision.utils.make_grid(image_batch.unsqueeze(1), nrow=10000)"
      ],
      "execution_count": null,
      "outputs": []
    },
    {
      "cell_type": "code",
      "metadata": {
        "id": "z3s0yix8ur3g"
      },
      "source": [
        "#plt.figure(figsize=(12, 8))\n",
        "\n",
        "#plt.imshow(grid.numpy().transpose((1,2,0)))\n",
        "\n",
        "#plt.axis('off')"
      ],
      "execution_count": null,
      "outputs": []
    },
    {
      "cell_type": "code",
      "metadata": {
        "id": "BS7g2oZzur3g",
        "outputId": "45dd91b9-1768-44b8-92bb-f16c623e71ea"
      },
      "source": [
        "X_train_tensor = torch.tensor(X_train.values, dtype=torch.float)\n",
        "print(\"X_train: \", X_train_tensor.shape)\n",
        "\n",
        "X_test_tensor = torch.tensor(X_test.values, dtype=torch.float)\n",
        "print(\"X_test: \", X_test_tensor.shape)\n",
        "\n",
        "y_train_tensor = torch.tensor(y_train.values, dtype=torch.long)\n",
        "print(\"y_train: \", y_train_tensor.shape)\n",
        "\n",
        "y_test_tensor = torch.tensor(y_test.values, dtype=torch.long)\n",
        "print(\"y_test: \", y_test_tensor.shape)"
      ],
      "execution_count": null,
      "outputs": [
        {
          "output_type": "stream",
          "text": [
            "X_train:  torch.Size([6000, 784])\n",
            "X_test:  torch.Size([4000, 784])\n",
            "y_train:  torch.Size([6000])\n",
            "y_test:  torch.Size([4000])\n"
          ],
          "name": "stdout"
        }
      ]
    },
    {
      "cell_type": "markdown",
      "metadata": {
        "id": "g1RLw6Vour3h"
      },
      "source": [
        "## Reshape images to 1, 28x28"
      ]
    },
    {
      "cell_type": "code",
      "metadata": {
        "id": "oOXqVkAGur3h",
        "outputId": "e6de4329-ab08-47fe-9c93-867142e9a6f5"
      },
      "source": [
        "X_train_tensor = torch.Tensor(X_train_tensor.reshape((-1, 1, 28, 28)))\n",
        "\n",
        "X_test_tensor = torch.Tensor(X_test_tensor.reshape((-1, 1, 28, 28)))\n",
        "\n",
        "print(\"X_train: \", X_train_tensor.shape)\n",
        "print(\"X_test: \", X_test_tensor.shape)"
      ],
      "execution_count": null,
      "outputs": [
        {
          "output_type": "stream",
          "text": [
            "X_train:  torch.Size([6000, 1, 28, 28])\n",
            "X_test:  torch.Size([4000, 1, 28, 28])\n"
          ],
          "name": "stdout"
        }
      ]
    },
    {
      "cell_type": "markdown",
      "metadata": {
        "id": "gsCstJy3ur3i"
      },
      "source": [
        "## Setting up our neural network"
      ]
    },
    {
      "cell_type": "code",
      "metadata": {
        "id": "nQWLspEiur3i",
        "outputId": "06d79031-6e6a-4cb5-f667-22bbd1a13cd6"
      },
      "source": [
        "# Input size, for grayscale 1 and for color 3\n",
        "input_size = 1\n",
        "\n",
        "# Hidden layers\n",
        "hidden_1 = 1\n",
        "hidden_2 = 32\n",
        "\n",
        "# Output values, we have 10 different labels\n",
        "print(f'Check number of labels: {len(df[\"label\"].unique())}')\n",
        "output = 10\n",
        "      \n",
        "nn_size = 5"
      ],
      "execution_count": null,
      "outputs": [
        {
          "output_type": "stream",
          "text": [
            "Check number of labels: 10\n"
          ],
          "name": "stdout"
        }
      ]
    },
    {
      "cell_type": "markdown",
      "metadata": {
        "id": "SJswWZ0Eur3j"
      },
      "source": [
        "## Setting up the layers"
      ]
    },
    {
      "cell_type": "code",
      "metadata": {
        "id": "OM-my_J9ur3j"
      },
      "source": [
        "import torch.nn as nn\n",
        "import torch.nn.functional as F"
      ],
      "execution_count": null,
      "outputs": []
    },
    {
      "cell_type": "code",
      "metadata": {
        "id": "SfCJpPytur3j"
      },
      "source": [
        "class CNN_Model(nn.Module):\n",
        "    \n",
        "    def __init__(self):\n",
        "        super(CNN_Model, self).__init__()\n",
        "        \n",
        "        # Layer 1\n",
        "        self.layer_1 = nn.Sequential(\n",
        "            nn.Conv2d(input_size, hidden_1, nn_size),\n",
        "            nn.BatchNorm2d(hidden_1),\n",
        "            nn.ReLU(),\n",
        "            nn.MaxPool2d(kernel_size=2)\n",
        "        )\n",
        "\n",
        "        # Layer 2\n",
        "        self.layer_2 = nn.Sequential(\n",
        "            nn.Conv2d(input_size, hidden_2, nn_size),\n",
        "            nn.BatchNorm2d(hidden_2),\n",
        "            nn.ReLU(),\n",
        "            nn.MaxPool2d(kernel_size=2)\n",
        "        )\n",
        "\n",
        "        # Final layer\n",
        "        self.final_layer = nn.Linear(512, output)\n",
        "        \n",
        "    def forward(self, x):\n",
        "        \n",
        "        out = self.layer_1(x)\n",
        "        print(\"Layer 1: \", out.shape)\n",
        "\n",
        "        out = self.layer_2(out)\n",
        "        print(\"Layer 2: \", out.shape)\n",
        "\n",
        "        out = out.reshape(out.size(0), -1)\n",
        "\n",
        "        out = self.final_layer(out)\n",
        "        print(\"Final layer: \", out.shape)\n",
        "        \n",
        "        return out"
      ],
      "execution_count": null,
      "outputs": []
    },
    {
      "cell_type": "code",
      "metadata": {
        "id": "y6fkQDaMur3j",
        "outputId": "aeed7d23-ab9a-43d9-8dec-47c562bcfdaa"
      },
      "source": [
        "# Move model to cuda\n",
        "model = CNN_Model()\n",
        "model.to(cuda)"
      ],
      "execution_count": null,
      "outputs": [
        {
          "output_type": "execute_result",
          "data": {
            "text/plain": [
              "CNN_Model(\n",
              "  (layer_1): Sequential(\n",
              "    (0): Conv2d(1, 1, kernel_size=(5, 5), stride=(1, 1))\n",
              "    (1): BatchNorm2d(1, eps=1e-05, momentum=0.1, affine=True, track_running_stats=True)\n",
              "    (2): ReLU()\n",
              "    (3): MaxPool2d(kernel_size=2, stride=2, padding=0, dilation=1, ceil_mode=False)\n",
              "  )\n",
              "  (layer_2): Sequential(\n",
              "    (0): Conv2d(1, 32, kernel_size=(5, 5), stride=(1, 1))\n",
              "    (1): BatchNorm2d(32, eps=1e-05, momentum=0.1, affine=True, track_running_stats=True)\n",
              "    (2): ReLU()\n",
              "    (3): MaxPool2d(kernel_size=2, stride=2, padding=0, dilation=1, ceil_mode=False)\n",
              "  )\n",
              "  (final_layer): Linear(in_features=512, out_features=10, bias=True)\n",
              ")"
            ]
          },
          "metadata": {
            "tags": []
          },
          "execution_count": 120
        }
      ]
    },
    {
      "cell_type": "code",
      "metadata": {
        "id": "xV0rMQVsur3k"
      },
      "source": [
        "# Move X and y to cuda\n",
        "X_train_tensor = X_train_tensor.to(cuda)\n",
        "X_test_tensor = X_test_tensor.to(cuda)\n",
        "\n",
        "y_train_tensor = y_train_tensor.to(cuda)\n",
        "y_test_tensor = y_test_tensor.to(cuda)"
      ],
      "execution_count": null,
      "outputs": []
    },
    {
      "cell_type": "markdown",
      "metadata": {
        "id": "935hUwsbur3k"
      },
      "source": [
        "## Setting up parameters"
      ]
    },
    {
      "cell_type": "code",
      "metadata": {
        "id": "pJnkiRlvur3k"
      },
      "source": [
        "learning_rate = 0.001\n",
        "criterion = nn.CrossEntropyLoss()\n",
        "optimizer = torch.optim.Adam(model.parameters(), lr=learning_rate)"
      ],
      "execution_count": null,
      "outputs": []
    },
    {
      "cell_type": "code",
      "metadata": {
        "id": "fT8iPNKDur3k",
        "outputId": "2c8cc674-1085-418d-974a-9394e71b6927"
      },
      "source": [
        "epochs = 10\n",
        "loss_list = list()\n",
        "\n",
        "for epoch in range(1, epochs):\n",
        "    \n",
        "    # Calculate output and loss\n",
        "    outputs = model(X_train_tensor)\n",
        "    loss = criterion(outputs, y_train_tensor)\n",
        "    \n",
        "    # Zero out gradient\n",
        "    optimizer.zero_grad()\n",
        "    \n",
        "    # Backward pas\n",
        "    loss.backward()\n",
        "    \n",
        "    # Update model parameters\n",
        "    optimizer.step()\n",
        "    \n",
        "    print(f'Epoch: {epoch} Loss {loss.item()}')\n",
        "    loss_list.append(loss.item())"
      ],
      "execution_count": null,
      "outputs": [
        {
          "output_type": "stream",
          "text": [
            "Layer 1:  torch.Size([6000, 1, 12, 12])\n",
            "Layer 2:  torch.Size([6000, 32, 4, 4])\n",
            "Final layer:  torch.Size([6000, 10])\n",
            "Epoch: 1 Loss 1.591275691986084\n",
            "Layer 1:  torch.Size([6000, 1, 12, 12])\n",
            "Layer 2:  torch.Size([6000, 32, 4, 4])\n",
            "Final layer:  torch.Size([6000, 10])\n",
            "Epoch: 2 Loss 1.532687783241272\n",
            "Layer 1:  torch.Size([6000, 1, 12, 12])\n",
            "Layer 2:  torch.Size([6000, 32, 4, 4])\n",
            "Final layer:  torch.Size([6000, 10])\n",
            "Epoch: 3 Loss 1.4776623249053955\n",
            "Layer 1:  torch.Size([6000, 1, 12, 12])\n",
            "Layer 2:  torch.Size([6000, 32, 4, 4])\n",
            "Final layer:  torch.Size([6000, 10])\n",
            "Epoch: 4 Loss 1.4259698390960693\n",
            "Layer 1:  torch.Size([6000, 1, 12, 12])\n",
            "Layer 2:  torch.Size([6000, 32, 4, 4])\n",
            "Final layer:  torch.Size([6000, 10])\n",
            "Epoch: 5 Loss 1.3776600360870361\n",
            "Layer 1:  torch.Size([6000, 1, 12, 12])\n",
            "Layer 2:  torch.Size([6000, 32, 4, 4])\n",
            "Final layer:  torch.Size([6000, 10])\n",
            "Epoch: 6 Loss 1.3331023454666138\n",
            "Layer 1:  torch.Size([6000, 1, 12, 12])\n",
            "Layer 2:  torch.Size([6000, 32, 4, 4])\n",
            "Final layer:  torch.Size([6000, 10])\n",
            "Epoch: 7 Loss 1.2927424907684326\n",
            "Layer 1:  torch.Size([6000, 1, 12, 12])\n",
            "Layer 2:  torch.Size([6000, 32, 4, 4])\n",
            "Final layer:  torch.Size([6000, 10])\n",
            "Epoch: 8 Loss 1.2567553520202637\n",
            "Layer 1:  torch.Size([6000, 1, 12, 12])\n",
            "Layer 2:  torch.Size([6000, 32, 4, 4])\n",
            "Final layer:  torch.Size([6000, 10])\n",
            "Epoch: 9 Loss 1.224782109260559\n"
          ],
          "name": "stdout"
        }
      ]
    },
    {
      "cell_type": "code",
      "metadata": {
        "id": "5t7QF8AQur3l",
        "outputId": "63011d81-2b45-46a9-feaa-be9d0515ea10"
      },
      "source": [
        "loss_list"
      ],
      "execution_count": null,
      "outputs": [
        {
          "output_type": "execute_result",
          "data": {
            "text/plain": [
              "[1.591275691986084,\n",
              " 1.532687783241272,\n",
              " 1.4776623249053955,\n",
              " 1.4259698390960693,\n",
              " 1.3776600360870361,\n",
              " 1.3331023454666138,\n",
              " 1.2927424907684326,\n",
              " 1.2567553520202637,\n",
              " 1.224782109260559]"
            ]
          },
          "metadata": {
            "tags": []
          },
          "execution_count": 130
        }
      ]
    },
    {
      "cell_type": "markdown",
      "metadata": {
        "id": "jKBRYQQaur3l"
      },
      "source": [
        "## Plot loss values"
      ]
    },
    {
      "cell_type": "code",
      "metadata": {
        "id": "yB6p5Wgjur3l",
        "outputId": "ac3621ed-961d-42cd-9d67-b46795b73b14"
      },
      "source": [
        "x = (range(0, 9))\n",
        "\n",
        "plt.figure(figsize=(12,8))\n",
        "plt.plot(x, loss_list, 'go--', linewidth=2, markersize=12, color='purple')\n",
        "plt.xlabel('Epoch', fontsize=22, color='white')\n",
        "plt.ylabel('Loss', fontsize=22, color='white')\n",
        "plt.gcf().set_facecolor(\"purple\");"
      ],
      "execution_count": null,
      "outputs": [
        {
          "output_type": "display_data",
          "data": {
            "image/png": "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\n",
            "text/plain": [
              "<Figure size 864x576 with 1 Axes>"
            ]
          },
          "metadata": {
            "tags": []
          }
        }
      ]
    },
    {
      "cell_type": "markdown",
      "metadata": {
        "id": "oHMYceFRur3n"
      },
      "source": [
        "## Evaluate model"
      ]
    },
    {
      "cell_type": "code",
      "metadata": {
        "id": "ruZGG7Duur3n",
        "outputId": "63bee91f-bd95-4f66-e680-c98c0c0303c7"
      },
      "source": [
        "model.eval()"
      ],
      "execution_count": null,
      "outputs": [
        {
          "output_type": "execute_result",
          "data": {
            "text/plain": [
              "CNN_Model(\n",
              "  (layer_1): Sequential(\n",
              "    (0): Conv2d(1, 1, kernel_size=(5, 5), stride=(1, 1))\n",
              "    (1): BatchNorm2d(1, eps=1e-05, momentum=0.1, affine=True, track_running_stats=True)\n",
              "    (2): ReLU()\n",
              "    (3): MaxPool2d(kernel_size=2, stride=2, padding=0, dilation=1, ceil_mode=False)\n",
              "  )\n",
              "  (layer_2): Sequential(\n",
              "    (0): Conv2d(1, 32, kernel_size=(5, 5), stride=(1, 1))\n",
              "    (1): BatchNorm2d(32, eps=1e-05, momentum=0.1, affine=True, track_running_stats=True)\n",
              "    (2): ReLU()\n",
              "    (3): MaxPool2d(kernel_size=2, stride=2, padding=0, dilation=1, ceil_mode=False)\n",
              "  )\n",
              "  (final_layer): Linear(in_features=512, out_features=10, bias=True)\n",
              ")"
            ]
          },
          "metadata": {
            "tags": []
          },
          "execution_count": 159
        }
      ]
    },
    {
      "cell_type": "code",
      "metadata": {
        "id": "P43_P3hUur3n",
        "outputId": "9236b62a-133c-4044-a6dc-a534ee11418d"
      },
      "source": [
        "with torch.no_grad():\n",
        "    correct = 0\n",
        "    total = 0\n",
        "    outputs = model(X_test_tensor)\n",
        "    _, predicted = torch.max(outputs.data, 1)\n",
        "    \n",
        "    y_test = y_test_tensor.cpu().numpy()\n",
        "    predicted = predicted.cpu()\n",
        "    \n",
        "    print(f'Accuracy: {accuracy_score(predicted, y_test)}')"
      ],
      "execution_count": null,
      "outputs": [
        {
          "output_type": "stream",
          "text": [
            "Layer 1:  torch.Size([4000, 1, 12, 12])\n",
            "Layer 2:  torch.Size([4000, 32, 4, 4])\n",
            "Final layer:  torch.Size([4000, 10])\n"
          ],
          "name": "stdout"
        },
        {
          "output_type": "error",
          "ename": "NameError",
          "evalue": "name 'accuracy_score' is not defined",
          "traceback": [
            "\u001b[1;31m---------------------------------------------------------------------------\u001b[0m",
            "\u001b[1;31mNameError\u001b[0m                                 Traceback (most recent call last)",
            "\u001b[1;32m<ipython-input-160-e2dd36c24ddf>\u001b[0m in \u001b[0;36m<module>\u001b[1;34m\u001b[0m\n\u001b[0;32m      8\u001b[0m     \u001b[0mpredicted\u001b[0m \u001b[1;33m=\u001b[0m \u001b[0mpredicted\u001b[0m\u001b[1;33m.\u001b[0m\u001b[0mcpu\u001b[0m\u001b[1;33m(\u001b[0m\u001b[1;33m)\u001b[0m\u001b[1;33m\u001b[0m\u001b[1;33m\u001b[0m\u001b[0m\n\u001b[0;32m      9\u001b[0m \u001b[1;33m\u001b[0m\u001b[0m\n\u001b[1;32m---> 10\u001b[1;33m     \u001b[0mprint\u001b[0m\u001b[1;33m(\u001b[0m\u001b[1;34mf'Accuracy: {accuracy_score(predicted, y_test)}'\u001b[0m\u001b[1;33m)\u001b[0m\u001b[1;33m\u001b[0m\u001b[1;33m\u001b[0m\u001b[0m\n\u001b[0m",
            "\u001b[1;31mNameError\u001b[0m: name 'accuracy_score' is not defined"
          ]
        }
      ]
    },
    {
      "cell_type": "code",
      "metadata": {
        "id": "vBjbX27kur3n"
      },
      "source": [
        "\n",
        "y_train_tensor = y_train_tensor.to(cuda)\n",
        "y_test_tensor = y_test_tensor.to(cuda)"
      ],
      "execution_count": null,
      "outputs": []
    },
    {
      "cell_type": "code",
      "metadata": {
        "id": "j2WirDGBur3n"
      },
      "source": [
        ""
      ],
      "execution_count": null,
      "outputs": []
    },
    {
      "cell_type": "code",
      "metadata": {
        "id": "aomQJeMGur3n"
      },
      "source": [
        ""
      ],
      "execution_count": null,
      "outputs": []
    },
    {
      "cell_type": "code",
      "metadata": {
        "id": "-UhXEdn2ur3n"
      },
      "source": [
        ""
      ],
      "execution_count": null,
      "outputs": []
    },
    {
      "cell_type": "code",
      "metadata": {
        "id": "eIyEZCi-ur3o"
      },
      "source": [
        ""
      ],
      "execution_count": null,
      "outputs": []
    }
  ]
}
>>>>>>> 0052453404c4a0889fc6e4df06157c9031a1e59d
