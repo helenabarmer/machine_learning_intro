{
 "cells": [
  {
   "cell_type": "markdown",
   "metadata": {},
   "source": [
    "# Image Classification \n",
    "\n",
    "* Dataset: [Fashion MNIST](https://www.kaggle.com/zalando-research/fashionmnist)"
   ]
  },
  {
   "cell_type": "code",
   "execution_count": null,
   "metadata": {},
   "outputs": [],
   "source": [
    "import numpy as np\n",
    "import pandas as pd\n",
    "import matplotlib.pyplot as plt\n",
    "from sklearn.model_selection import train_test_split"
   ]
  },
  {
   "cell_type": "markdown",
   "metadata": {},
   "source": [
    "## Images\n",
    "* **Images**: Matrix of numbers (pixels). Each pixel holds a number we will work with\n",
    "* **Images with colors**: Multi channel. 3 values needed.\n",
    "* **Greyscale images**: Single channel images. 1 value needed.\n",
    "* Every image is 28x28 pixels.\n",
    "\n",
    "# 4 values\n",
    "\n",
    "* **List of images**: (1, 2, 3, 4)\n",
    "* **Value 1**: Number of images in the list\n",
    "* **Value 2,3**: Height and width of the image\n",
    "* **Value 4**: Number of channels in the image"
   ]
  },
  {
   "cell_type": "code",
   "execution_count": null,
   "metadata": {},
   "outputs": [],
   "source": [
    "# Get data\n",
    "#data = 'mnist.csv'\n",
    "data = 'https://raw.githubusercontent.com/helenabarmer/machine_learning_intro/master/Multiclass%20Classification/mnist.csv'\n",
    "df = pd.read_csv(data)\n",
    "df.head()"
   ]
  },
  {
   "cell_type": "code",
   "execution_count": null,
   "metadata": {},
   "outputs": [],
   "source": [
    "# Shape of the data\n",
    "df.shape"
   ]
  },
  {
   "cell_type": "code",
   "execution_count": null,
   "metadata": {},
   "outputs": [],
   "source": [
    "# Features\n",
    "X = df[df.columns[1:]]\n",
    "\n",
    "# Labels\n",
    "y = df['label']"
   ]
  },
  {
   "cell_type": "code",
   "execution_count": null,
   "metadata": {},
   "outputs": [],
   "source": [
    "df.describe()"
   ]
  },
  {
   "cell_type": "markdown",
   "metadata": {},
   "source": [
    "## Let us scale our data as we can see the variance of the mean.\n",
    "Let's scale the pictures so they are at a value between 0 and 1."
   ]
  },
  {
   "cell_type": "code",
   "execution_count": null,
   "metadata": {},
   "outputs": [],
   "source": [
    "from sklearn.preprocessing import MinMaxScaler\n",
    "scaler = MinMaxScaler()\n",
    "fit_scaler = scaler.fit(X)\n",
    "scaled_pixels = scaler.transform(X)"
   ]
  },
  {
   "cell_type": "code",
   "execution_count": null,
   "metadata": {},
   "outputs": [],
   "source": [
    "# Helper function\n",
    "def display_image(features, image_label):\n",
    "\n",
    "    # Labels\n",
    "    label_names = {\n",
    "        0: 'T-shirt',\n",
    "        1: 'Trouser',\n",
    "        2: 'Pullover',\n",
    "        3: 'Dress',\n",
    "        4: 'Coat',\n",
    "        5: 'Sandal',\n",
    "        6: 'Shirt',\n",
    "        7: 'Sneaker',\n",
    "        8: 'Bag',\n",
    "        9: 'Ankle boot'\n",
    "    }\n",
    "    \n",
    "    print('This is a', label_names[image_label].lower())\n",
    "    plt.imshow(features.reshape(28,28))"
   ]
  },
  {
   "cell_type": "code",
   "execution_count": null,
   "metadata": {},
   "outputs": [],
   "source": [
    "# Test to display image\n",
    "display_image(X.loc[5].values, y.loc[5])"
   ]
  },
  {
   "cell_type": "markdown",
   "metadata": {},
   "source": [
    "## Split our data\n",
    "We will go ahead and split our data into test and train sets."
   ]
  },
  {
   "cell_type": "code",
   "execution_count": null,
   "metadata": {},
   "outputs": [],
   "source": [
    "X_train, X_test, y_train, y_test = train_test_split(X, y, test_size=0.4, random_state=1)"
   ]
  },
  {
   "cell_type": "markdown",
   "metadata": {},
   "source": [
    "## Fit model"
   ]
  },
  {
   "cell_type": "code",
   "execution_count": null,
   "metadata": {},
   "outputs": [],
   "source": [
    "from sklearn.linear_model import LogisticRegression"
   ]
  },
  {
   "cell_type": "code",
   "execution_count": null,
   "metadata": {},
   "outputs": [],
   "source": [
    "predict = model.predict(X_test)\n",
    "accuracy = accuracy_score(y_test, predict, normalize=True)\n",
    "print(f'Accuracy of model: {accuracy*100}%')"
   ]
  },
  {
   "cell_type": "markdown",
   "metadata": {},
   "source": [
    "## Neural networks\n",
    "CNN with PyTorch"
   ]
  },
  {
   "cell_type": "code",
   "execution_count": null,
   "metadata": {},
   "outputs": [],
   "source": [
    "import torch\n",
    "import torchvision\n",
    "\n",
    "cuda = torch.device(\"cuda:0\" if torch.cuda.is_available() else \"cpu\") \n",
    "print(cuda)"
   ]
  },
  {
   "cell_type": "code",
   "execution_count": null,
   "metadata": {},
   "outputs": [],
   "source": [
    "X_train_tensor = torch.tensor(X_train.values, dtype=torch.float)\n",
    "print(\"X_train: \", X_train_tensor.shape)\n",
    "\n",
    "X_test_tensor = torch.tensor(X_test.values, dtype=torch.float)\n",
    "print(\"X_test: \", X_test_tensor.shape)\n",
    "\n",
    "y_train_tensor = torch.tensor(y_train.values, dtype=torch.long)\n",
    "print(\"y_train: \", y_train_tensor.shape)\n",
    "\n",
    "y_test_tensor = torch.tensor(y_test.values, dtype=torch.long)\n",
    "print(\"y_test: \", y_test_tensor.shape)"
   ]
  },
  {
   "cell_type": "markdown",
   "metadata": {},
   "source": [
    "## Reshape images to 1, 28x28"
   ]
  },
  {
   "cell_type": "code",
   "execution_count": null,
   "metadata": {},
   "outputs": [],
   "source": [
    "X_train_tensor = torch.Tensor(X_train_tensor.reshape((-1, 1, 28, 28)))\n",
    "\n",
    "X_test_tensor = torch.Tensor(X_test_tensor.reshape((-1, 1, 28, 28)))\n",
    "\n",
    "print(\"X_train: \", X_train_tensor.shape)\n",
    "print(\"X_test: \", X_test_tensor.shape)"
   ]
  },
  {
   "cell_type": "markdown",
   "metadata": {},
   "source": [
    "## Setting up our neural network"
   ]
  },
  {
   "cell_type": "code",
   "execution_count": null,
   "metadata": {},
   "outputs": [],
   "source": [
    "# Input size, for grayscale 1 and for color 3\n",
    "input_size = 1\n",
    "\n",
    "# Hidden layers\n",
    "hidden_1 = 1\n",
    "hidden_2 = 32\n",
    "\n",
    "# Output values, we have 10 different labels\n",
    "print(f'Check number of labels: {len(df[\"label\"].unique())}')\n",
    "output = 10\n",
    "      \n",
    "nn_size = 5"
   ]
  },
  {
   "cell_type": "markdown",
   "metadata": {},
   "source": [
    "## Setting up the model"
   ]
  },
  {
   "cell_type": "code",
   "execution_count": null,
   "metadata": {},
   "outputs": [],
   "source": [
    "import torch.nn as nn\n",
    "import torch.nn.functional as F"
   ]
  },
  {
   "cell_type": "code",
   "execution_count": null,
   "metadata": {},
   "outputs": [],
   "source": [
    "class CNN_Model(nn.Module):\n",
    "    \n",
    "    def __init__(self):\n",
    "        super(CNN_Model, self).__init__()\n",
    "        \n",
    "        # Layer 1\n",
    "        self.layer_1 = nn.Sequential(\n",
    "            nn.Conv2d(input_size, hidden_1, nn_size),\n",
    "            nn.BatchNorm2d(hidden_1),\n",
    "            nn.ReLU(),\n",
    "            nn.MaxPool2d(kernel_size=2)\n",
    "        )\n",
    "\n",
    "        # Layer 2\n",
    "        self.layer_2 = nn.Sequential(\n",
    "            nn.Conv2d(input_size, hidden_2, nn_size),\n",
    "            nn.BatchNorm2d(hidden_2),\n",
    "            nn.ReLU(),\n",
    "            nn.MaxPool2d(kernel_size=2)\n",
    "        )\n",
    "\n",
    "        # Final layer\n",
    "        self.final_layer = nn.Linear(512, output)\n",
    "        \n",
    "    def forward(self, x):\n",
    "        \n",
    "        out = self.layer_1(x)\n",
    "        print(\"Layer 1: \", out.shape)\n",
    "\n",
    "        out = self.layer_2(out)\n",
    "        print(\"Layer 2: \", out.shape)\n",
    "\n",
    "        out = out.reshape(out.size(0), -1)\n",
    "\n",
    "        out = self.final_layer(out)\n",
    "        print(\"Final layer: \", out.shape)\n",
    "        \n",
    "        return out"
   ]
  },
  {
   "cell_type": "code",
   "execution_count": null,
   "metadata": {},
   "outputs": [],
   "source": [
    "# Move model to cuda\n",
    "model = CNN_Model()\n",
    "model.to(cuda)"
   ]
  },
  {
   "cell_type": "code",
   "execution_count": null,
   "metadata": {},
   "outputs": [],
   "source": [
    "# Move X and y to cuda\n",
    "X_train_tensor = X_train_tensor.to(cuda)\n",
    "X_test_tensor = X_test_tensor.to(cuda)\n",
    "\n",
    "y_train_tensor = y_train_tensor.to(cuda)\n",
    "y_test_tensor = y_test_tensor.to(cuda)"
   ]
  },
  {
   "cell_type": "markdown",
   "metadata": {},
   "source": [
    "## Parameters"
   ]
  },
  {
   "cell_type": "code",
   "execution_count": null,
   "metadata": {},
   "outputs": [],
   "source": [
    "learning_rate = 0.001\n",
    "criterion = nn.CrossEntropyLoss()\n",
    "optimizer = torch.optim.Adam(model.parameters(), lr=learning_rate)"
   ]
  },
  {
   "cell_type": "code",
   "execution_count": null,
   "metadata": {},
   "outputs": [],
   "source": [
    "epochs = 100\n",
    "loss_list = list()\n",
    "\n",
    "for epoch in range(1, epochs):\n",
    "    \n",
    "    # Calculate output and loss\n",
    "    outputs = model(X_train_tensor)\n",
    "    loss = criterion(outputs, y_train_tensor)\n",
    "    \n",
    "    # Zero out gradient\n",
    "    optimizer.zero_grad()\n",
    "    \n",
    "    # Backward pas\n",
    "    loss.backward()\n",
    "    \n",
    "    # Update model parameters\n",
    "    optimizer.step()\n",
    "    \n",
    "    print(f'Epoch: {epoch} Loss {loss.item()}')\n",
    "    loss_list.append(loss.item())"
   ]
  },
  {
   "cell_type": "markdown",
   "metadata": {},
   "source": [
    "## Plot loss values"
   ]
  },
  {
   "cell_type": "code",
   "execution_count": null,
   "metadata": {},
   "outputs": [],
   "source": [
    "x = (range(0, 99))\n",
    "\n",
    "plt.figure(figsize=(12,8))\n",
    "plt.plot(x, loss_list, 'go--', linewidth=2, markersize=12, color='purple')\n",
    "plt.xlabel('Epoch', fontsize=22, color='white')\n",
    "plt.ylabel('Loss', fontsize=22, color='white')\n",
    "plt.gcf().set_facecolor(\"purple\");"
   ]
  },
  {
   "cell_type": "markdown",
   "metadata": {},
   "source": [
    "## Evaluate model"
   ]
  },
  {
   "cell_type": "code",
   "execution_count": null,
   "metadata": {},
   "outputs": [],
   "source": [
    "model.eval()"
   ]
  },
  {
   "cell_type": "code",
   "execution_count": null,
   "metadata": {},
   "outputs": [],
   "source": [
    "with torch.no_grad():\n",
    "    correct = 0\n",
    "    total = 0\n",
    "    outputs = model(X_test_tensor)\n",
    "    _, predicted = torch.max(outputs.data, 1)\n",
    "    \n",
    "    y_test = y_test_tensor.cpu().numpy()\n",
    "    predicted = predicted.cpu()\n",
    "    \n",
    "    accuracy_cnn = accuracy_score(predicted, y_test)\n",
    "    \n",
    "    print(f'Accuracy: {accuracy_score(predicted, y_test)}')"
   ]
  },
  {
   "cell_type": "markdown",
   "metadata": {},
   "source": [
    "## Conclusions"
   ]
  },
  {
   "cell_type": "code",
   "execution_count": null,
   "metadata": {},
   "outputs": [],
   "source": [
    "# Compared models\n",
    "print(f'Accuracy of LogisticRegression: {accuracy*100}%')\n",
    "print(f'Accuracy of CNN/PyTorch: {accuracy_cnn*100}%')"
   ]
  },
  {
   "cell_type": "code",
   "execution_count": null,
   "metadata": {},
   "outputs": [],
   "source": [
    "Our neural network did better during the image classification."
   ]
  },
  {
   "cell_type": "code",
   "execution_count": null,
   "metadata": {},
   "outputs": [],
   "source": []
  },
  {
   "cell_type": "code",
   "execution_count": null,
   "metadata": {},
   "outputs": [],
   "source": []
  },
  {
   "cell_type": "code",
   "execution_count": null,
   "metadata": {},
   "outputs": [],
   "source": []
  },
  {
   "cell_type": "code",
   "execution_count": null,
   "metadata": {},
   "outputs": [],
   "source": []
  }
 ],
 "metadata": {
  "kernelspec": {
   "display_name": "Python 3",
   "language": "python",
   "name": "python3"
  },
  "language_info": {
   "codemirror_mode": {
    "name": "ipython",
    "version": 3
   },
   "file_extension": ".py",
   "mimetype": "text/x-python",
   "name": "python",
   "nbconvert_exporter": "python",
   "pygments_lexer": "ipython3",
   "version": "3.7.7"
  }
 },
 "nbformat": 4,
 "nbformat_minor": 4
}
