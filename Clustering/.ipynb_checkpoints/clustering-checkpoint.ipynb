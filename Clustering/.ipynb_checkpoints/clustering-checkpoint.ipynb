{
 "cells": [
  {
   "cell_type": "markdown",
   "metadata": {},
   "source": [
    "## Clustering\n",
    "Clustering is used to see how data is organized, or clustered. It is an unsupervised learning technique, meaning we are working with unlabeled data. With clustering we are grouping similar data together.\n",
    "\n",
    "\n",
    "## Methods\n",
    "We will use Kmeans and Hierarchical Clustering.\n",
    "\n",
    "\n",
    "## Dataset\n",
    "We will use a dataset with hike regions and ratings.<br>\n",
    "You can find the original repo and dataset [here](https://github.com/oschow/take-a-hike).\n",
    "\n",
    "\n",
    "## Use case\n",
    "By clustering similar data together we will create a high-level recommendation system. This recommendation system will give us suggestions of hike regions we have not hiked before based on similarity to a hike we have done."
   ]
  },
  {
   "cell_type": "code",
   "execution_count": 3,
   "metadata": {},
   "outputs": [],
   "source": [
    "import pandas as pd\n",
    "import seaborn as sns\n",
    "import matplotlib.pyplot as plt\n",
    "%matplotlib inline"
   ]
  },
  {
   "cell_type": "markdown",
   "metadata": {},
   "source": [
    "## Data preproccesing"
   ]
  },
  {
   "cell_type": "code",
   "execution_count": 4,
   "metadata": {},
   "outputs": [],
   "source": [
    "# User data\n",
    "data = 'https://raw.githubusercontent.com/oschow/take-a-hike/master/AllTrails/data/all_ratings_matrix.csv'\n",
    "df = pd.read_csv(data)\n",
    "\n",
    "# Features\n",
    "#data_features = 'https://raw.githubusercontent.com/oschow/take-a-hike/master/AllTrails/data/all_hikes_with_hike_id.csv'\n",
    "data_features = 'https://raw.githubusercontent.com/oschow/take-a-hike/master/AllTrails/data/all_hikes_with_hike_name.csv'\n",
    "df_features = pd.read_csv(data_features)"
   ]
  },
  {
   "cell_type": "code",
   "execution_count": 5,
   "metadata": {},
   "outputs": [
    {
     "name": "stdout",
     "output_type": "stream",
     "text": [
      "| Dataset shapes |\n",
      "User ratings: 23842\n",
      "Hike features: 1487\n"
     ]
    }
   ],
   "source": [
    "print(f'| Dataset shapes |\\nUser ratings: {len(df)}\\nHike features: {len(df_features)}')"
   ]
  },
  {
   "cell_type": "code",
   "execution_count": 6,
   "metadata": {},
   "outputs": [
    {
     "data": {
      "text/html": [
       "<div>\n",
       "<style scoped>\n",
       "    .dataframe tbody tr th:only-of-type {\n",
       "        vertical-align: middle;\n",
       "    }\n",
       "\n",
       "    .dataframe tbody tr th {\n",
       "        vertical-align: top;\n",
       "    }\n",
       "\n",
       "    .dataframe thead th {\n",
       "        text-align: right;\n",
       "    }\n",
       "</style>\n",
       "<table border=\"1\" class=\"dataframe\">\n",
       "  <thead>\n",
       "    <tr style=\"text-align: right;\">\n",
       "      <th></th>\n",
       "      <th>hike_name</th>\n",
       "      <th>hike_region</th>\n",
       "      <th>total_distance</th>\n",
       "      <th>elevation_gain</th>\n",
       "      <th>hike_difficulty</th>\n",
       "      <th>stars</th>\n",
       "      <th>hike_id</th>\n",
       "      <th>loop</th>\n",
       "      <th>out_and_back</th>\n",
       "      <th>point_to_point</th>\n",
       "      <th>dog_friendly</th>\n",
       "      <th>kid_friendly</th>\n",
       "      <th>camping</th>\n",
       "      <th>waterfall</th>\n",
       "      <th>river</th>\n",
       "      <th>lake</th>\n",
       "      <th>wildflowers</th>\n",
       "      <th>wildlife</th>\n",
       "      <th>views</th>\n",
       "    </tr>\n",
       "  </thead>\n",
       "  <tbody>\n",
       "    <tr>\n",
       "      <th>0</th>\n",
       "      <td>Maxwell Falls Lower Trail</td>\n",
       "      <td>Arapaho National Forest</td>\n",
       "      <td>4.2</td>\n",
       "      <td>1008</td>\n",
       "      <td>2</td>\n",
       "      <td>3.9</td>\n",
       "      <td>hike0</td>\n",
       "      <td>1</td>\n",
       "      <td>0</td>\n",
       "      <td>0</td>\n",
       "      <td>1</td>\n",
       "      <td>0</td>\n",
       "      <td>1</td>\n",
       "      <td>1</td>\n",
       "      <td>1</td>\n",
       "      <td>0</td>\n",
       "      <td>1</td>\n",
       "      <td>0</td>\n",
       "      <td>0</td>\n",
       "    </tr>\n",
       "  </tbody>\n",
       "</table>\n",
       "</div>"
      ],
      "text/plain": [
       "                   hike_name              hike_region  total_distance  \\\n",
       "0  Maxwell Falls Lower Trail  Arapaho National Forest             4.2   \n",
       "\n",
       "   elevation_gain  hike_difficulty  stars hike_id  loop  out_and_back  \\\n",
       "0            1008                2    3.9   hike0     1             0   \n",
       "\n",
       "   point_to_point  dog_friendly  kid_friendly  camping  waterfall  river  \\\n",
       "0               0             1             0        1          1      1   \n",
       "\n",
       "   lake  wildflowers  wildlife  views  \n",
       "0     0            1         0      0  "
      ]
     },
     "execution_count": 6,
     "metadata": {},
     "output_type": "execute_result"
    }
   ],
   "source": [
    "df_features.head(1)"
   ]
  },
  {
   "cell_type": "code",
   "execution_count": 7,
   "metadata": {},
   "outputs": [
    {
     "data": {
      "text/html": [
       "<div>\n",
       "<style scoped>\n",
       "    .dataframe tbody tr th:only-of-type {\n",
       "        vertical-align: middle;\n",
       "    }\n",
       "\n",
       "    .dataframe tbody tr th {\n",
       "        vertical-align: top;\n",
       "    }\n",
       "\n",
       "    .dataframe thead th {\n",
       "        text-align: right;\n",
       "    }\n",
       "</style>\n",
       "<table border=\"1\" class=\"dataframe\">\n",
       "  <thead>\n",
       "    <tr style=\"text-align: right;\">\n",
       "      <th></th>\n",
       "      <th>hike_id</th>\n",
       "      <th>variable</th>\n",
       "      <th>value</th>\n",
       "    </tr>\n",
       "  </thead>\n",
       "  <tbody>\n",
       "    <tr>\n",
       "      <th>0</th>\n",
       "      <td>hike43</td>\n",
       "      <td>user1</td>\n",
       "      <td>4</td>\n",
       "    </tr>\n",
       "  </tbody>\n",
       "</table>\n",
       "</div>"
      ],
      "text/plain": [
       "  hike_id variable  value\n",
       "0  hike43    user1      4"
      ]
     },
     "execution_count": 7,
     "metadata": {},
     "output_type": "execute_result"
    }
   ],
   "source": [
    "df.head(1)"
   ]
  },
  {
   "cell_type": "markdown",
   "metadata": {},
   "source": [
    "Rename columns `variable` and `value` for `df`"
   ]
  },
  {
   "cell_type": "code",
   "execution_count": 8,
   "metadata": {},
   "outputs": [],
   "source": [
    "# Rename variable to user id\n",
    "df['user_id'] = df['variable'] \n",
    "df = df.drop('variable', 1)\n",
    "\n",
    "# Rename value to rating\n",
    "df['rating'] = df['value'] \n",
    "df = df.drop('value', 1)"
   ]
  },
  {
   "cell_type": "markdown",
   "metadata": {},
   "source": [
    "Remove string and convert to int"
   ]
  },
  {
   "cell_type": "code",
   "execution_count": 9,
   "metadata": {},
   "outputs": [],
   "source": [
    "# Remove string\n",
    "df['hike_id'] = df.hike_id.str.strip('hike')\n",
    "\n",
    "df['user_id'] = df.user_id.str.strip('user')\n",
    "\n",
    "# Convert to int\n",
    "df['hike_id'] = pd.to_numeric(df.hike_id, errors='coerce')\n",
    "\n",
    "df['user_id'] = pd.to_numeric(df.user_id, errors='coerce')\n",
    "\n",
    "# Change order of column names\n",
    "df = df[['user_id', 'hike_id', 'rating']]"
   ]
  },
  {
   "cell_type": "code",
   "execution_count": 10,
   "metadata": {},
   "outputs": [
    {
     "data": {
      "text/html": [
       "<div>\n",
       "<style scoped>\n",
       "    .dataframe tbody tr th:only-of-type {\n",
       "        vertical-align: middle;\n",
       "    }\n",
       "\n",
       "    .dataframe tbody tr th {\n",
       "        vertical-align: top;\n",
       "    }\n",
       "\n",
       "    .dataframe thead th {\n",
       "        text-align: right;\n",
       "    }\n",
       "</style>\n",
       "<table border=\"1\" class=\"dataframe\">\n",
       "  <thead>\n",
       "    <tr style=\"text-align: right;\">\n",
       "      <th></th>\n",
       "      <th>user_id</th>\n",
       "      <th>hike_id</th>\n",
       "      <th>rating</th>\n",
       "    </tr>\n",
       "  </thead>\n",
       "  <tbody>\n",
       "    <tr>\n",
       "      <th>0</th>\n",
       "      <td>1</td>\n",
       "      <td>43</td>\n",
       "      <td>4</td>\n",
       "    </tr>\n",
       "  </tbody>\n",
       "</table>\n",
       "</div>"
      ],
      "text/plain": [
       "   user_id  hike_id  rating\n",
       "0        1       43       4"
      ]
     },
     "execution_count": 10,
     "metadata": {},
     "output_type": "execute_result"
    }
   ],
   "source": [
    "# Updated df\n",
    "df.head(1)"
   ]
  },
  {
   "cell_type": "markdown",
   "metadata": {},
   "source": [
    "Remove string and convert to int"
   ]
  },
  {
   "cell_type": "code",
   "execution_count": 11,
   "metadata": {},
   "outputs": [],
   "source": [
    "# Remove string\n",
    "df_features['hike_id'] = df_features.hike_id.str.strip('hike')\n",
    "\n",
    "# Convert to int\n",
    "df_features['hike_id'] = pd.to_numeric(df_features.hike_id, errors='coerce')"
   ]
  },
  {
   "cell_type": "code",
   "execution_count": 12,
   "metadata": {},
   "outputs": [
    {
     "data": {
      "text/html": [
       "<div>\n",
       "<style scoped>\n",
       "    .dataframe tbody tr th:only-of-type {\n",
       "        vertical-align: middle;\n",
       "    }\n",
       "\n",
       "    .dataframe tbody tr th {\n",
       "        vertical-align: top;\n",
       "    }\n",
       "\n",
       "    .dataframe thead th {\n",
       "        text-align: right;\n",
       "    }\n",
       "</style>\n",
       "<table border=\"1\" class=\"dataframe\">\n",
       "  <thead>\n",
       "    <tr style=\"text-align: right;\">\n",
       "      <th></th>\n",
       "      <th>hike_name</th>\n",
       "      <th>hike_region</th>\n",
       "      <th>total_distance</th>\n",
       "      <th>elevation_gain</th>\n",
       "      <th>hike_difficulty</th>\n",
       "      <th>stars</th>\n",
       "      <th>hike_id</th>\n",
       "      <th>loop</th>\n",
       "      <th>out_and_back</th>\n",
       "      <th>point_to_point</th>\n",
       "      <th>dog_friendly</th>\n",
       "      <th>kid_friendly</th>\n",
       "      <th>camping</th>\n",
       "      <th>waterfall</th>\n",
       "      <th>river</th>\n",
       "      <th>lake</th>\n",
       "      <th>wildflowers</th>\n",
       "      <th>wildlife</th>\n",
       "      <th>views</th>\n",
       "    </tr>\n",
       "  </thead>\n",
       "  <tbody>\n",
       "    <tr>\n",
       "      <th>0</th>\n",
       "      <td>Maxwell Falls Lower Trail</td>\n",
       "      <td>Arapaho National Forest</td>\n",
       "      <td>4.2</td>\n",
       "      <td>1008</td>\n",
       "      <td>2</td>\n",
       "      <td>3.9</td>\n",
       "      <td>0</td>\n",
       "      <td>1</td>\n",
       "      <td>0</td>\n",
       "      <td>0</td>\n",
       "      <td>1</td>\n",
       "      <td>0</td>\n",
       "      <td>1</td>\n",
       "      <td>1</td>\n",
       "      <td>1</td>\n",
       "      <td>0</td>\n",
       "      <td>1</td>\n",
       "      <td>0</td>\n",
       "      <td>0</td>\n",
       "    </tr>\n",
       "  </tbody>\n",
       "</table>\n",
       "</div>"
      ],
      "text/plain": [
       "                   hike_name              hike_region  total_distance  \\\n",
       "0  Maxwell Falls Lower Trail  Arapaho National Forest             4.2   \n",
       "\n",
       "   elevation_gain  hike_difficulty  stars  hike_id  loop  out_and_back  \\\n",
       "0            1008                2    3.9        0     1             0   \n",
       "\n",
       "   point_to_point  dog_friendly  kid_friendly  camping  waterfall  river  \\\n",
       "0               0             1             0        1          1      1   \n",
       "\n",
       "   lake  wildflowers  wildlife  views  \n",
       "0     0            1         0      0  "
      ]
     },
     "execution_count": 12,
     "metadata": {},
     "output_type": "execute_result"
    }
   ],
   "source": [
    "df_features.head(1)"
   ]
  },
  {
   "cell_type": "markdown",
   "metadata": {},
   "source": [
    "Change order of column names"
   ]
  },
  {
   "cell_type": "code",
   "execution_count": 13,
   "metadata": {},
   "outputs": [
    {
     "data": {
      "text/html": [
       "<div>\n",
       "<style scoped>\n",
       "    .dataframe tbody tr th:only-of-type {\n",
       "        vertical-align: middle;\n",
       "    }\n",
       "\n",
       "    .dataframe tbody tr th {\n",
       "        vertical-align: top;\n",
       "    }\n",
       "\n",
       "    .dataframe thead th {\n",
       "        text-align: right;\n",
       "    }\n",
       "</style>\n",
       "<table border=\"1\" class=\"dataframe\">\n",
       "  <thead>\n",
       "    <tr style=\"text-align: right;\">\n",
       "      <th></th>\n",
       "      <th>hike_id</th>\n",
       "      <th>hike_name</th>\n",
       "      <th>hike_region</th>\n",
       "      <th>total_distance</th>\n",
       "      <th>elevation_gain</th>\n",
       "      <th>hike_difficulty</th>\n",
       "      <th>loop</th>\n",
       "      <th>out_and_back</th>\n",
       "      <th>point_to_point</th>\n",
       "      <th>dog_friendly</th>\n",
       "      <th>kid_friendly</th>\n",
       "      <th>camping</th>\n",
       "      <th>waterfall</th>\n",
       "      <th>river</th>\n",
       "      <th>lake</th>\n",
       "      <th>wildflowers</th>\n",
       "      <th>wildlife</th>\n",
       "      <th>views</th>\n",
       "    </tr>\n",
       "  </thead>\n",
       "  <tbody>\n",
       "    <tr>\n",
       "      <th>0</th>\n",
       "      <td>0</td>\n",
       "      <td>Maxwell Falls Lower Trail</td>\n",
       "      <td>Arapaho National Forest</td>\n",
       "      <td>4.2</td>\n",
       "      <td>1008</td>\n",
       "      <td>2</td>\n",
       "      <td>1</td>\n",
       "      <td>0</td>\n",
       "      <td>0</td>\n",
       "      <td>1</td>\n",
       "      <td>0</td>\n",
       "      <td>1</td>\n",
       "      <td>1</td>\n",
       "      <td>1</td>\n",
       "      <td>0</td>\n",
       "      <td>1</td>\n",
       "      <td>0</td>\n",
       "      <td>0</td>\n",
       "    </tr>\n",
       "  </tbody>\n",
       "</table>\n",
       "</div>"
      ],
      "text/plain": [
       "   hike_id                  hike_name              hike_region  \\\n",
       "0        0  Maxwell Falls Lower Trail  Arapaho National Forest   \n",
       "\n",
       "   total_distance  elevation_gain  hike_difficulty  loop  out_and_back  \\\n",
       "0             4.2            1008                2     1             0   \n",
       "\n",
       "   point_to_point  dog_friendly  kid_friendly  camping  waterfall  river  \\\n",
       "0               0             1             0        1          1      1   \n",
       "\n",
       "   lake  wildflowers  wildlife  views  \n",
       "0     0            1         0      0  "
      ]
     },
     "execution_count": 13,
     "metadata": {},
     "output_type": "execute_result"
    }
   ],
   "source": [
    "# Change order of columns\n",
    "df_features = df_features[['hike_id', 'hike_name', 'hike_region','total_distance','elevation_gain','hike_difficulty','stars','loop', 'out_and_back', 'point_to_point','dog_friendly', 'kid_friendly', 'camping', 'waterfall', 'river','lake', 'wildflowers', 'wildlife','views']]\n",
    "\n",
    "# Drop \"stars\"\n",
    "df_features = df_features.drop('stars', axis=1)\n",
    "df_features.head(1)"
   ]
  },
  {
   "cell_type": "markdown",
   "metadata": {},
   "source": [
    "## Statistics"
   ]
  },
  {
   "cell_type": "markdown",
   "metadata": {},
   "source": [
    "We only need the descriptive statistics for the ratings, as we are not looking at the ID for users and hikes."
   ]
  },
  {
   "cell_type": "code",
   "execution_count": 14,
   "metadata": {},
   "outputs": [
    {
     "data": {
      "text/plain": [
       "count    23842.000000\n",
       "mean         4.240164\n",
       "std          0.829412\n",
       "min          0.000000\n",
       "25%          4.000000\n",
       "50%          4.000000\n",
       "75%          5.000000\n",
       "max          5.000000\n",
       "Name: rating, dtype: float64"
      ]
     },
     "execution_count": 14,
     "metadata": {},
     "output_type": "execute_result"
    }
   ],
   "source": [
    "df['rating'].describe()"
   ]
  },
  {
   "cell_type": "markdown",
   "metadata": {},
   "source": [
    "Descriptive statistics for features."
   ]
  },
  {
   "cell_type": "code",
   "execution_count": 15,
   "metadata": {},
   "outputs": [
    {
     "data": {
      "text/html": [
       "<div>\n",
       "<style scoped>\n",
       "    .dataframe tbody tr th:only-of-type {\n",
       "        vertical-align: middle;\n",
       "    }\n",
       "\n",
       "    .dataframe tbody tr th {\n",
       "        vertical-align: top;\n",
       "    }\n",
       "\n",
       "    .dataframe thead th {\n",
       "        text-align: right;\n",
       "    }\n",
       "</style>\n",
       "<table border=\"1\" class=\"dataframe\">\n",
       "  <thead>\n",
       "    <tr style=\"text-align: right;\">\n",
       "      <th></th>\n",
       "      <th>hike_id</th>\n",
       "      <th>total_distance</th>\n",
       "      <th>elevation_gain</th>\n",
       "      <th>hike_difficulty</th>\n",
       "      <th>loop</th>\n",
       "      <th>out_and_back</th>\n",
       "      <th>point_to_point</th>\n",
       "      <th>dog_friendly</th>\n",
       "      <th>kid_friendly</th>\n",
       "      <th>camping</th>\n",
       "      <th>waterfall</th>\n",
       "      <th>river</th>\n",
       "      <th>lake</th>\n",
       "      <th>wildflowers</th>\n",
       "      <th>wildlife</th>\n",
       "      <th>views</th>\n",
       "    </tr>\n",
       "  </thead>\n",
       "  <tbody>\n",
       "    <tr>\n",
       "      <th>count</th>\n",
       "      <td>1487.000000</td>\n",
       "      <td>1487.000000</td>\n",
       "      <td>1487.000000</td>\n",
       "      <td>1487.000000</td>\n",
       "      <td>1487.000000</td>\n",
       "      <td>1487.000000</td>\n",
       "      <td>1487.000000</td>\n",
       "      <td>1487.000000</td>\n",
       "      <td>1487.000000</td>\n",
       "      <td>1487.000000</td>\n",
       "      <td>1487.000000</td>\n",
       "      <td>1487.000000</td>\n",
       "      <td>1487.000000</td>\n",
       "      <td>1487.000000</td>\n",
       "      <td>1487.000000</td>\n",
       "      <td>1487.000000</td>\n",
       "    </tr>\n",
       "    <tr>\n",
       "      <th>mean</th>\n",
       "      <td>743.000000</td>\n",
       "      <td>7.742636</td>\n",
       "      <td>1726.087424</td>\n",
       "      <td>1.914593</td>\n",
       "      <td>0.342300</td>\n",
       "      <td>0.600538</td>\n",
       "      <td>0.057162</td>\n",
       "      <td>0.503026</td>\n",
       "      <td>0.405514</td>\n",
       "      <td>0.134499</td>\n",
       "      <td>0.111634</td>\n",
       "      <td>0.236718</td>\n",
       "      <td>0.271015</td>\n",
       "      <td>0.675185</td>\n",
       "      <td>0.560188</td>\n",
       "      <td>0.750504</td>\n",
       "    </tr>\n",
       "    <tr>\n",
       "      <th>std</th>\n",
       "      <td>429.404238</td>\n",
       "      <td>8.705549</td>\n",
       "      <td>1652.256755</td>\n",
       "      <td>0.726426</td>\n",
       "      <td>0.474639</td>\n",
       "      <td>0.489953</td>\n",
       "      <td>0.232230</td>\n",
       "      <td>0.500159</td>\n",
       "      <td>0.491157</td>\n",
       "      <td>0.341302</td>\n",
       "      <td>0.315022</td>\n",
       "      <td>0.425211</td>\n",
       "      <td>0.444634</td>\n",
       "      <td>0.468463</td>\n",
       "      <td>0.496531</td>\n",
       "      <td>0.432867</td>\n",
       "    </tr>\n",
       "    <tr>\n",
       "      <th>min</th>\n",
       "      <td>0.000000</td>\n",
       "      <td>0.000000</td>\n",
       "      <td>0.000000</td>\n",
       "      <td>1.000000</td>\n",
       "      <td>0.000000</td>\n",
       "      <td>0.000000</td>\n",
       "      <td>0.000000</td>\n",
       "      <td>0.000000</td>\n",
       "      <td>0.000000</td>\n",
       "      <td>0.000000</td>\n",
       "      <td>0.000000</td>\n",
       "      <td>0.000000</td>\n",
       "      <td>0.000000</td>\n",
       "      <td>0.000000</td>\n",
       "      <td>0.000000</td>\n",
       "      <td>0.000000</td>\n",
       "    </tr>\n",
       "    <tr>\n",
       "      <th>25%</th>\n",
       "      <td>371.500000</td>\n",
       "      <td>3.200000</td>\n",
       "      <td>501.000000</td>\n",
       "      <td>1.000000</td>\n",
       "      <td>0.000000</td>\n",
       "      <td>0.000000</td>\n",
       "      <td>0.000000</td>\n",
       "      <td>0.000000</td>\n",
       "      <td>0.000000</td>\n",
       "      <td>0.000000</td>\n",
       "      <td>0.000000</td>\n",
       "      <td>0.000000</td>\n",
       "      <td>0.000000</td>\n",
       "      <td>0.000000</td>\n",
       "      <td>0.000000</td>\n",
       "      <td>1.000000</td>\n",
       "    </tr>\n",
       "    <tr>\n",
       "      <th>50%</th>\n",
       "      <td>743.000000</td>\n",
       "      <td>6.000000</td>\n",
       "      <td>1320.000000</td>\n",
       "      <td>2.000000</td>\n",
       "      <td>0.000000</td>\n",
       "      <td>1.000000</td>\n",
       "      <td>0.000000</td>\n",
       "      <td>1.000000</td>\n",
       "      <td>0.000000</td>\n",
       "      <td>0.000000</td>\n",
       "      <td>0.000000</td>\n",
       "      <td>0.000000</td>\n",
       "      <td>0.000000</td>\n",
       "      <td>1.000000</td>\n",
       "      <td>1.000000</td>\n",
       "      <td>1.000000</td>\n",
       "    </tr>\n",
       "    <tr>\n",
       "      <th>75%</th>\n",
       "      <td>1114.500000</td>\n",
       "      <td>9.900000</td>\n",
       "      <td>2427.000000</td>\n",
       "      <td>2.000000</td>\n",
       "      <td>1.000000</td>\n",
       "      <td>1.000000</td>\n",
       "      <td>0.000000</td>\n",
       "      <td>1.000000</td>\n",
       "      <td>1.000000</td>\n",
       "      <td>0.000000</td>\n",
       "      <td>0.000000</td>\n",
       "      <td>0.000000</td>\n",
       "      <td>1.000000</td>\n",
       "      <td>1.000000</td>\n",
       "      <td>1.000000</td>\n",
       "      <td>1.000000</td>\n",
       "    </tr>\n",
       "    <tr>\n",
       "      <th>max</th>\n",
       "      <td>1486.000000</td>\n",
       "      <td>230.600000</td>\n",
       "      <td>20714.000000</td>\n",
       "      <td>3.000000</td>\n",
       "      <td>1.000000</td>\n",
       "      <td>1.000000</td>\n",
       "      <td>1.000000</td>\n",
       "      <td>1.000000</td>\n",
       "      <td>1.000000</td>\n",
       "      <td>1.000000</td>\n",
       "      <td>1.000000</td>\n",
       "      <td>1.000000</td>\n",
       "      <td>1.000000</td>\n",
       "      <td>1.000000</td>\n",
       "      <td>1.000000</td>\n",
       "      <td>1.000000</td>\n",
       "    </tr>\n",
       "  </tbody>\n",
       "</table>\n",
       "</div>"
      ],
      "text/plain": [
       "           hike_id  total_distance  elevation_gain  hike_difficulty  \\\n",
       "count  1487.000000     1487.000000     1487.000000      1487.000000   \n",
       "mean    743.000000        7.742636     1726.087424         1.914593   \n",
       "std     429.404238        8.705549     1652.256755         0.726426   \n",
       "min       0.000000        0.000000        0.000000         1.000000   \n",
       "25%     371.500000        3.200000      501.000000         1.000000   \n",
       "50%     743.000000        6.000000     1320.000000         2.000000   \n",
       "75%    1114.500000        9.900000     2427.000000         2.000000   \n",
       "max    1486.000000      230.600000    20714.000000         3.000000   \n",
       "\n",
       "              loop  out_and_back  point_to_point  dog_friendly  kid_friendly  \\\n",
       "count  1487.000000   1487.000000     1487.000000   1487.000000   1487.000000   \n",
       "mean      0.342300      0.600538        0.057162      0.503026      0.405514   \n",
       "std       0.474639      0.489953        0.232230      0.500159      0.491157   \n",
       "min       0.000000      0.000000        0.000000      0.000000      0.000000   \n",
       "25%       0.000000      0.000000        0.000000      0.000000      0.000000   \n",
       "50%       0.000000      1.000000        0.000000      1.000000      0.000000   \n",
       "75%       1.000000      1.000000        0.000000      1.000000      1.000000   \n",
       "max       1.000000      1.000000        1.000000      1.000000      1.000000   \n",
       "\n",
       "           camping    waterfall        river         lake  wildflowers  \\\n",
       "count  1487.000000  1487.000000  1487.000000  1487.000000  1487.000000   \n",
       "mean      0.134499     0.111634     0.236718     0.271015     0.675185   \n",
       "std       0.341302     0.315022     0.425211     0.444634     0.468463   \n",
       "min       0.000000     0.000000     0.000000     0.000000     0.000000   \n",
       "25%       0.000000     0.000000     0.000000     0.000000     0.000000   \n",
       "50%       0.000000     0.000000     0.000000     0.000000     1.000000   \n",
       "75%       0.000000     0.000000     0.000000     1.000000     1.000000   \n",
       "max       1.000000     1.000000     1.000000     1.000000     1.000000   \n",
       "\n",
       "          wildlife        views  \n",
       "count  1487.000000  1487.000000  \n",
       "mean      0.560188     0.750504  \n",
       "std       0.496531     0.432867  \n",
       "min       0.000000     0.000000  \n",
       "25%       0.000000     1.000000  \n",
       "50%       1.000000     1.000000  \n",
       "75%       1.000000     1.000000  \n",
       "max       1.000000     1.000000  "
      ]
     },
     "execution_count": 15,
     "metadata": {},
     "output_type": "execute_result"
    }
   ],
   "source": [
    "df_features.describe()"
   ]
  },
  {
   "cell_type": "markdown",
   "metadata": {},
   "source": [
    "## Conclusions descriptive statistics\n",
    "Looking at the mean of the above statistics the conclusion is we would need to normalize our values to scale them to similar values. This is important since we are using a clustering algorithm and calculating distance from each cluster and point. <br><br>\n",
    "If we have values differing from (mean) 1726 to 0.057162, the distances will be according to this and not evenly measured. Now our data have values that are far off each other."
   ]
  },
  {
   "cell_type": "markdown",
   "metadata": {},
   "source": [
    "## Helper function\n",
    "Helper function for plotting descriptive statistics."
   ]
  },
  {
   "cell_type": "code",
   "execution_count": 80,
   "metadata": {},
   "outputs": [],
   "source": [
    "# Helper function plot values\n",
    "\n",
    "def plot_function(df):\n",
    "    \n",
    "    describe_num_df = df.describe(include=['int64','float64'])\n",
    "\n",
    "    describe_num_df.reset_index(inplace=True)\n",
    "\n",
    "    # To remove any variable from plot\n",
    "    describe_num_df = describe_num_df[describe_num_df['index'] != 'count']\n",
    "\n",
    "    for i in num_col:\n",
    "        if i in ['index']:\n",
    "            continue\n",
    "\n",
    "        fig, ax = plt.subplots(figsize=(6, 6))\n",
    "        plt.ylabel('Distribution [%]', fontsize=16)\n",
    "        sns.pointplot(x='index', y=i, data=describe_num_df)\n",
    "\n",
    "        plt.show()\n",
    "    "
   ]
  },
  {
   "cell_type": "markdown",
   "metadata": {},
   "source": [
    "## Plotting before normalization"
   ]
  },
  {
   "cell_type": "code",
   "execution_count": 81,
   "metadata": {},
   "outputs": [
    {
     "data": {
      "image/png": "[encoded data removed]",
      "text/plain": [
       "<Figure size 432x432 with 1 Axes>"
      ]
     },
     "metadata": {
      "needs_background": "light"
     },
     "output_type": "display_data"
    },
    {
     "data": {
      "image/png": "[encoded data removed]",
      "text/plain": [
       "<Figure size 432x432 with 1 Axes>"
      ]
     },
     "metadata": {
      "needs_background": "light"
     },
     "output_type": "display_data"
    },
    {
     "data": {
      "image/png": "[encoded data removed]",
      "text/plain": [
       "<Figure size 432x432 with 1 Axes>"
      ]
     },
     "metadata": {
      "needs_background": "light"
     },
     "output_type": "display_data"
    },
    {
     "data": {
      "image/png": "[encoded data removed]",
      "text/plain": [
       "<Figure size 432x432 with 1 Axes>"
      ]
     },
     "metadata": {
      "needs_background": "light"
     },
     "output_type": "display_data"
    },
    {
     "data": {
      "image/png": "[encoded data removed]",
      "text/plain": [
       "<Figure size 432x432 with 1 Axes>"
      ]
     },
     "metadata": {
      "needs_background": "light"
     },
     "output_type": "display_data"
    },
    {
     "data": {
      "image/png": "[encoded data removed]",
      "text/plain": [
       "<Figure size 432x432 with 1 Axes>"
      ]
     },
     "metadata": {
      "needs_background": "light"
     },
     "output_type": "display_data"
    },
    {
     "data": {
      "image/png": "[encoded data removed]",
      "text/plain": [
       "<Figure size 432x432 with 1 Axes>"
      ]
     },
     "metadata": {
      "needs_background": "light"
     },
     "output_type": "display_data"
    },
    {
     "data": {
      "image/png": "[encoded data removed]",
      "text/plain": [
       "<Figure size 432x432 with 1 Axes>"
      ]
     },
     "metadata": {
      "needs_background": "light"
     },
     "output_type": "display_data"
    },
    {
     "data": {
      "image/png": "[encoded data removed]",
      "text/plain": [
       "<Figure size 432x432 with 1 Axes>"
      ]
     },
     "metadata": {
      "needs_background": "light"
     },
     "output_type": "display_data"
    },
    {
     "data": {
      "image/png": "[encoded data removed]",
      "text/plain": [
       "<Figure size 432x432 with 1 Axes>"
      ]
     },
     "metadata": {
      "needs_background": "light"
     },
     "output_type": "display_data"
    },
    {
     "data": {
      "image/png": "[encoded data removed]",
      "text/plain": [
       "<Figure size 432x432 with 1 Axes>"
      ]
     },
     "metadata": {
      "needs_background": "light"
     },
     "output_type": "display_data"
    },
    {
     "data": {
      "image/png": "[encoded data removed]",
      "text/plain": [
       "<Figure size 432x432 with 1 Axes>"
      ]
     },
     "metadata": {
      "needs_background": "light"
     },
     "output_type": "display_data"
    },
    {
     "data": {
      "image/png": "[encoded data removed]",
      "text/plain": [
       "<Figure size 432x432 with 1 Axes>"
      ]
     },
     "metadata": {
      "needs_background": "light"
     },
     "output_type": "display_data"
    },
    {
     "data": {
      "image/png": "[encoded data removed]",
      "text/plain": [
       "<Figure size 432x432 with 1 Axes>"
      ]
     },
     "metadata": {
      "needs_background": "light"
     },
     "output_type": "display_data"
    },
    {
     "data": {
      "image/png": "[encoded data removed]",
      "text/plain": [
       "<Figure size 432x432 with 1 Axes>"
      ]
     },
     "metadata": {
      "needs_background": "light"
     },
     "output_type": "display_data"
    }
   ],
   "source": [
    "plot_function(df_features)"
   ]
  },
  {
   "cell_type": "markdown",
   "metadata": {},
   "source": [
    "## Normalizing values using MinMaXScaler\n",
    "We are using the MinMaxScaler fro sklearn since we want to scale values to the range (0,1)"
   ]
  },
  {
   "cell_type": "code",
   "execution_count": 82,
   "metadata": {},
   "outputs": [
    {
     "data": {
      "text/html": [
       "<div>\n",
       "<style scoped>\n",
       "    .dataframe tbody tr th:only-of-type {\n",
       "        vertical-align: middle;\n",
       "    }\n",
       "\n",
       "    .dataframe tbody tr th {\n",
       "        vertical-align: top;\n",
       "    }\n",
       "\n",
       "    .dataframe thead th {\n",
       "        text-align: right;\n",
       "    }\n",
       "</style>\n",
       "<table border=\"1\" class=\"dataframe\">\n",
       "  <thead>\n",
       "    <tr style=\"text-align: right;\">\n",
       "      <th></th>\n",
       "      <th>total_distance</th>\n",
       "      <th>elevation_gain</th>\n",
       "      <th>hike_difficulty</th>\n",
       "      <th>loop</th>\n",
       "      <th>out_and_back</th>\n",
       "      <th>point_to_point</th>\n",
       "      <th>dog_friendly</th>\n",
       "      <th>kid_friendly</th>\n",
       "      <th>camping</th>\n",
       "      <th>waterfall</th>\n",
       "      <th>river</th>\n",
       "      <th>lake</th>\n",
       "      <th>wildflowers</th>\n",
       "      <th>wildlife</th>\n",
       "      <th>views</th>\n",
       "    </tr>\n",
       "  </thead>\n",
       "  <tbody>\n",
       "    <tr>\n",
       "      <th>0</th>\n",
       "      <td>-0.268657</td>\n",
       "      <td>-0.161994</td>\n",
       "      <td>0.0</td>\n",
       "      <td>1.0</td>\n",
       "      <td>-1.0</td>\n",
       "      <td>0.0</td>\n",
       "      <td>0.0</td>\n",
       "      <td>0.0</td>\n",
       "      <td>1.0</td>\n",
       "      <td>1.0</td>\n",
       "      <td>1.0</td>\n",
       "      <td>0.0</td>\n",
       "      <td>0.0</td>\n",
       "      <td>-1.0</td>\n",
       "      <td>-1.0</td>\n",
       "    </tr>\n",
       "    <tr>\n",
       "      <th>1</th>\n",
       "      <td>-0.388060</td>\n",
       "      <td>0.171859</td>\n",
       "      <td>1.0</td>\n",
       "      <td>0.0</td>\n",
       "      <td>0.0</td>\n",
       "      <td>0.0</td>\n",
       "      <td>0.0</td>\n",
       "      <td>0.0</td>\n",
       "      <td>0.0</td>\n",
       "      <td>0.0</td>\n",
       "      <td>0.0</td>\n",
       "      <td>0.0</td>\n",
       "      <td>0.0</td>\n",
       "      <td>-1.0</td>\n",
       "      <td>0.0</td>\n",
       "    </tr>\n",
       "    <tr>\n",
       "      <th>2</th>\n",
       "      <td>-0.313433</td>\n",
       "      <td>-0.161994</td>\n",
       "      <td>0.0</td>\n",
       "      <td>1.0</td>\n",
       "      <td>-1.0</td>\n",
       "      <td>0.0</td>\n",
       "      <td>0.0</td>\n",
       "      <td>0.0</td>\n",
       "      <td>0.0</td>\n",
       "      <td>1.0</td>\n",
       "      <td>1.0</td>\n",
       "      <td>0.0</td>\n",
       "      <td>-1.0</td>\n",
       "      <td>0.0</td>\n",
       "      <td>-1.0</td>\n",
       "    </tr>\n",
       "    <tr>\n",
       "      <th>3</th>\n",
       "      <td>-0.358209</td>\n",
       "      <td>0.340602</td>\n",
       "      <td>1.0</td>\n",
       "      <td>1.0</td>\n",
       "      <td>-1.0</td>\n",
       "      <td>0.0</td>\n",
       "      <td>-1.0</td>\n",
       "      <td>0.0</td>\n",
       "      <td>0.0</td>\n",
       "      <td>0.0</td>\n",
       "      <td>0.0</td>\n",
       "      <td>0.0</td>\n",
       "      <td>0.0</td>\n",
       "      <td>0.0</td>\n",
       "      <td>0.0</td>\n",
       "    </tr>\n",
       "    <tr>\n",
       "      <th>4</th>\n",
       "      <td>-0.402985</td>\n",
       "      <td>-0.287124</td>\n",
       "      <td>-1.0</td>\n",
       "      <td>0.0</td>\n",
       "      <td>0.0</td>\n",
       "      <td>0.0</td>\n",
       "      <td>-1.0</td>\n",
       "      <td>1.0</td>\n",
       "      <td>0.0</td>\n",
       "      <td>0.0</td>\n",
       "      <td>1.0</td>\n",
       "      <td>1.0</td>\n",
       "      <td>0.0</td>\n",
       "      <td>0.0</td>\n",
       "      <td>0.0</td>\n",
       "    </tr>\n",
       "  </tbody>\n",
       "</table>\n",
       "</div>"
      ],
      "text/plain": [
       "   total_distance  elevation_gain  hike_difficulty  loop  out_and_back  \\\n",
       "0       -0.268657       -0.161994              0.0   1.0          -1.0   \n",
       "1       -0.388060        0.171859              1.0   0.0           0.0   \n",
       "2       -0.313433       -0.161994              0.0   1.0          -1.0   \n",
       "3       -0.358209        0.340602              1.0   1.0          -1.0   \n",
       "4       -0.402985       -0.287124             -1.0   0.0           0.0   \n",
       "\n",
       "   point_to_point  dog_friendly  kid_friendly  camping  waterfall  river  \\\n",
       "0             0.0           0.0           0.0      1.0        1.0    1.0   \n",
       "1             0.0           0.0           0.0      0.0        0.0    0.0   \n",
       "2             0.0           0.0           0.0      0.0        1.0    1.0   \n",
       "3             0.0          -1.0           0.0      0.0        0.0    0.0   \n",
       "4             0.0          -1.0           1.0      0.0        0.0    1.0   \n",
       "\n",
       "   lake  wildflowers  wildlife  views  \n",
       "0   0.0          0.0      -1.0   -1.0  \n",
       "1   0.0          0.0      -1.0    0.0  \n",
       "2   0.0         -1.0       0.0   -1.0  \n",
       "3   0.0          0.0       0.0    0.0  \n",
       "4   1.0          0.0       0.0    0.0  "
      ]
     },
     "execution_count": 82,
     "metadata": {},
     "output_type": "execute_result"
    }
   ],
   "source": [
    "#from sklearn.preprocessing import MinMaxScaler\n",
    "from sklearn.preprocessing import RobustScaler\n",
    "\n",
    "X = df_features.iloc[:, 3:].values\n",
    "scaler = RobustScaler()\n",
    "rescale = scaler.fit_transform(X)\n",
    "df_scaled = pd.DataFrame(rescale, columns=['total_distance','elevation_gain','hike_difficulty','loop', 'out_and_back', 'point_to_point','dog_friendly', 'kid_friendly', 'camping', 'waterfall', 'river','lake', 'wildflowers', 'wildlife','views'])\n",
    "df_scaled.head()\n"
   ]
  },
  {
   "cell_type": "code",
   "execution_count": 83,
   "metadata": {},
   "outputs": [
    {
     "data": {
      "text/html": [
       "<div>\n",
       "<style scoped>\n",
       "    .dataframe tbody tr th:only-of-type {\n",
       "        vertical-align: middle;\n",
       "    }\n",
       "\n",
       "    .dataframe tbody tr th {\n",
       "        vertical-align: top;\n",
       "    }\n",
       "\n",
       "    .dataframe thead th {\n",
       "        text-align: right;\n",
       "    }\n",
       "</style>\n",
       "<table border=\"1\" class=\"dataframe\">\n",
       "  <thead>\n",
       "    <tr style=\"text-align: right;\">\n",
       "      <th></th>\n",
       "      <th>total_distance</th>\n",
       "      <th>elevation_gain</th>\n",
       "      <th>hike_difficulty</th>\n",
       "      <th>loop</th>\n",
       "      <th>out_and_back</th>\n",
       "      <th>point_to_point</th>\n",
       "      <th>dog_friendly</th>\n",
       "      <th>kid_friendly</th>\n",
       "      <th>camping</th>\n",
       "      <th>waterfall</th>\n",
       "      <th>river</th>\n",
       "      <th>lake</th>\n",
       "      <th>wildflowers</th>\n",
       "      <th>wildlife</th>\n",
       "      <th>views</th>\n",
       "    </tr>\n",
       "  </thead>\n",
       "  <tbody>\n",
       "    <tr>\n",
       "      <th>count</th>\n",
       "      <td>1487.000000</td>\n",
       "      <td>1487.000000</td>\n",
       "      <td>1487.000000</td>\n",
       "      <td>1487.000000</td>\n",
       "      <td>1487.000000</td>\n",
       "      <td>1487.000000</td>\n",
       "      <td>1487.000000</td>\n",
       "      <td>1487.000000</td>\n",
       "      <td>1487.000000</td>\n",
       "      <td>1487.000000</td>\n",
       "      <td>1487.000000</td>\n",
       "      <td>1487.000000</td>\n",
       "      <td>1487.000000</td>\n",
       "      <td>1487.000000</td>\n",
       "      <td>1487.000000</td>\n",
       "    </tr>\n",
       "    <tr>\n",
       "      <th>mean</th>\n",
       "      <td>0.260095</td>\n",
       "      <td>0.210845</td>\n",
       "      <td>-0.085407</td>\n",
       "      <td>0.342300</td>\n",
       "      <td>-0.399462</td>\n",
       "      <td>0.057162</td>\n",
       "      <td>-0.496974</td>\n",
       "      <td>0.405514</td>\n",
       "      <td>0.134499</td>\n",
       "      <td>0.111634</td>\n",
       "      <td>0.236718</td>\n",
       "      <td>0.271015</td>\n",
       "      <td>-0.324815</td>\n",
       "      <td>-0.439812</td>\n",
       "      <td>-0.249496</td>\n",
       "    </tr>\n",
       "    <tr>\n",
       "      <th>std</th>\n",
       "      <td>1.299336</td>\n",
       "      <td>0.857870</td>\n",
       "      <td>0.726426</td>\n",
       "      <td>0.474639</td>\n",
       "      <td>0.489953</td>\n",
       "      <td>0.232230</td>\n",
       "      <td>0.500159</td>\n",
       "      <td>0.491157</td>\n",
       "      <td>0.341302</td>\n",
       "      <td>0.315022</td>\n",
       "      <td>0.425211</td>\n",
       "      <td>0.444634</td>\n",
       "      <td>0.468463</td>\n",
       "      <td>0.496531</td>\n",
       "      <td>0.432867</td>\n",
       "    </tr>\n",
       "    <tr>\n",
       "      <th>min</th>\n",
       "      <td>-0.895522</td>\n",
       "      <td>-0.685358</td>\n",
       "      <td>-1.000000</td>\n",
       "      <td>0.000000</td>\n",
       "      <td>-1.000000</td>\n",
       "      <td>0.000000</td>\n",
       "      <td>-1.000000</td>\n",
       "      <td>0.000000</td>\n",
       "      <td>0.000000</td>\n",
       "      <td>0.000000</td>\n",
       "      <td>0.000000</td>\n",
       "      <td>0.000000</td>\n",
       "      <td>-1.000000</td>\n",
       "      <td>-1.000000</td>\n",
       "      <td>-1.000000</td>\n",
       "    </tr>\n",
       "    <tr>\n",
       "      <th>25%</th>\n",
       "      <td>-0.417910</td>\n",
       "      <td>-0.425234</td>\n",
       "      <td>-1.000000</td>\n",
       "      <td>0.000000</td>\n",
       "      <td>-1.000000</td>\n",
       "      <td>0.000000</td>\n",
       "      <td>-1.000000</td>\n",
       "      <td>0.000000</td>\n",
       "      <td>0.000000</td>\n",
       "      <td>0.000000</td>\n",
       "      <td>0.000000</td>\n",
       "      <td>0.000000</td>\n",
       "      <td>-1.000000</td>\n",
       "      <td>-1.000000</td>\n",
       "      <td>0.000000</td>\n",
       "    </tr>\n",
       "    <tr>\n",
       "      <th>50%</th>\n",
       "      <td>0.000000</td>\n",
       "      <td>0.000000</td>\n",
       "      <td>0.000000</td>\n",
       "      <td>0.000000</td>\n",
       "      <td>0.000000</td>\n",
       "      <td>0.000000</td>\n",
       "      <td>0.000000</td>\n",
       "      <td>0.000000</td>\n",
       "      <td>0.000000</td>\n",
       "      <td>0.000000</td>\n",
       "      <td>0.000000</td>\n",
       "      <td>0.000000</td>\n",
       "      <td>0.000000</td>\n",
       "      <td>0.000000</td>\n",
       "      <td>0.000000</td>\n",
       "    </tr>\n",
       "    <tr>\n",
       "      <th>75%</th>\n",
       "      <td>0.582090</td>\n",
       "      <td>0.574766</td>\n",
       "      <td>0.000000</td>\n",
       "      <td>1.000000</td>\n",
       "      <td>0.000000</td>\n",
       "      <td>0.000000</td>\n",
       "      <td>0.000000</td>\n",
       "      <td>1.000000</td>\n",
       "      <td>0.000000</td>\n",
       "      <td>0.000000</td>\n",
       "      <td>0.000000</td>\n",
       "      <td>1.000000</td>\n",
       "      <td>0.000000</td>\n",
       "      <td>0.000000</td>\n",
       "      <td>0.000000</td>\n",
       "    </tr>\n",
       "    <tr>\n",
       "      <th>max</th>\n",
       "      <td>33.522388</td>\n",
       "      <td>10.069574</td>\n",
       "      <td>1.000000</td>\n",
       "      <td>1.000000</td>\n",
       "      <td>0.000000</td>\n",
       "      <td>1.000000</td>\n",
       "      <td>0.000000</td>\n",
       "      <td>1.000000</td>\n",
       "      <td>1.000000</td>\n",
       "      <td>1.000000</td>\n",
       "      <td>1.000000</td>\n",
       "      <td>1.000000</td>\n",
       "      <td>0.000000</td>\n",
       "      <td>0.000000</td>\n",
       "      <td>0.000000</td>\n",
       "    </tr>\n",
       "  </tbody>\n",
       "</table>\n",
       "</div>"
      ],
      "text/plain": [
       "       total_distance  elevation_gain  hike_difficulty         loop  \\\n",
       "count     1487.000000     1487.000000      1487.000000  1487.000000   \n",
       "mean         0.260095        0.210845        -0.085407     0.342300   \n",
       "std          1.299336        0.857870         0.726426     0.474639   \n",
       "min         -0.895522       -0.685358        -1.000000     0.000000   \n",
       "25%         -0.417910       -0.425234        -1.000000     0.000000   \n",
       "50%          0.000000        0.000000         0.000000     0.000000   \n",
       "75%          0.582090        0.574766         0.000000     1.000000   \n",
       "max         33.522388       10.069574         1.000000     1.000000   \n",
       "\n",
       "       out_and_back  point_to_point  dog_friendly  kid_friendly      camping  \\\n",
       "count   1487.000000     1487.000000   1487.000000   1487.000000  1487.000000   \n",
       "mean      -0.399462        0.057162     -0.496974      0.405514     0.134499   \n",
       "std        0.489953        0.232230      0.500159      0.491157     0.341302   \n",
       "min       -1.000000        0.000000     -1.000000      0.000000     0.000000   \n",
       "25%       -1.000000        0.000000     -1.000000      0.000000     0.000000   \n",
       "50%        0.000000        0.000000      0.000000      0.000000     0.000000   \n",
       "75%        0.000000        0.000000      0.000000      1.000000     0.000000   \n",
       "max        0.000000        1.000000      0.000000      1.000000     1.000000   \n",
       "\n",
       "         waterfall        river         lake  wildflowers     wildlife  \\\n",
       "count  1487.000000  1487.000000  1487.000000  1487.000000  1487.000000   \n",
       "mean      0.111634     0.236718     0.271015    -0.324815    -0.439812   \n",
       "std       0.315022     0.425211     0.444634     0.468463     0.496531   \n",
       "min       0.000000     0.000000     0.000000    -1.000000    -1.000000   \n",
       "25%       0.000000     0.000000     0.000000    -1.000000    -1.000000   \n",
       "50%       0.000000     0.000000     0.000000     0.000000     0.000000   \n",
       "75%       0.000000     0.000000     1.000000     0.000000     0.000000   \n",
       "max       1.000000     1.000000     1.000000     0.000000     0.000000   \n",
       "\n",
       "             views  \n",
       "count  1487.000000  \n",
       "mean     -0.249496  \n",
       "std       0.432867  \n",
       "min      -1.000000  \n",
       "25%       0.000000  \n",
       "50%       0.000000  \n",
       "75%       0.000000  \n",
       "max       0.000000  "
      ]
     },
     "execution_count": 83,
     "metadata": {},
     "output_type": "execute_result"
    }
   ],
   "source": [
    "df_scaled.describe()"
   ]
  },
  {
   "cell_type": "code",
   "execution_count": 48,
   "metadata": {},
   "outputs": [],
   "source": [
    "des_mean = df_scaled.describe().iloc[1:2, :]\n",
    "num_col = df_scaled._get_numeric_data().columns"
   ]
  },
  {
   "cell_type": "code",
   "execution_count": 79,
   "metadata": {},
   "outputs": [
    {
     "data": {
      "image/png": "[encoded data removed]",
      "text/plain": [
       "<Figure size 432x432 with 1 Axes>"
      ]
     },
     "metadata": {
      "needs_background": "light"
     },
     "output_type": "display_data"
    },
    {
     "data": {
      "image/png": "[encoded data removed]",
      "text/plain": [
       "<Figure size 432x432 with 1 Axes>"
      ]
     },
     "metadata": {
      "needs_background": "light"
     },
     "output_type": "display_data"
    },
    {
     "data": {
      "image/png": "[encoded data removed]",
      "text/plain": [
       "<Figure size 432x432 with 1 Axes>"
      ]
     },
     "metadata": {
      "needs_background": "light"
     },
     "output_type": "display_data"
    },
    {
     "data": {
      "image/png": "[encoded data removed]",
      "text/plain": [
       "<Figure size 432x432 with 1 Axes>"
      ]
     },
     "metadata": {
      "needs_background": "light"
     },
     "output_type": "display_data"
    },
    {
     "data": {
      "image/png": "[encoded data removed]",
      "text/plain": [
       "<Figure size 432x432 with 1 Axes>"
      ]
     },
     "metadata": {
      "needs_background": "light"
     },
     "output_type": "display_data"
    },
    {
     "data": {
      "image/png": "[encoded data removed]",
      "text/plain": [
       "<Figure size 432x432 with 1 Axes>"
      ]
     },
     "metadata": {
      "needs_background": "light"
     },
     "output_type": "display_data"
    },
    {
     "data": {
      "image/png": "[encoded data removed]",
      "text/plain": [
       "<Figure size 432x432 with 1 Axes>"
      ]
     },
     "metadata": {
      "needs_background": "light"
     },
     "output_type": "display_data"
    },
    {
     "data": {
      "image/png": "[encoded data removed]",
      "text/plain": [
       "<Figure size 432x432 with 1 Axes>"
      ]
     },
     "metadata": {
      "needs_background": "light"
     },
     "output_type": "display_data"
    },
    {
     "data": {
      "image/png": "[encoded data removed]",
      "text/plain": [
       "<Figure size 432x432 with 1 Axes>"
      ]
     },
     "metadata": {
      "needs_background": "light"
     },
     "output_type": "display_data"
    },
    {
     "data": {
      "image/png": "[encoded data removed]",
      "text/plain": [
       "<Figure size 432x432 with 1 Axes>"
      ]
     },
     "metadata": {
      "needs_background": "light"
     },
     "output_type": "display_data"
    },
    {
     "data": {
      "image/png": "[encoded data removed]",
      "text/plain": [
       "<Figure size 432x432 with 1 Axes>"
      ]
     },
     "metadata": {
      "needs_background": "light"
     },
     "output_type": "display_data"
    },
    {
     "data": {
      "image/png": "[encoded data removed]",
      "text/plain": [
       "<Figure size 432x432 with 1 Axes>"
      ]
     },
     "metadata": {
      "needs_background": "light"
     },
     "output_type": "display_data"
    },
    {
     "data": {
      "image/png": "[encoded data removed]",
      "text/plain": [
       "<Figure size 432x432 with 1 Axes>"
      ]
     },
     "metadata": {
      "needs_background": "light"
     },
     "output_type": "display_data"
    },
    {
     "data": {
      "image/png": "[encoded data removed]",
      "text/plain": [
       "<Figure size 432x432 with 1 Axes>"
      ]
     },
     "metadata": {
      "needs_background": "light"
     },
     "output_type": "display_data"
    },
    {
     "data": {
      "image/png": "[encoded data removed]",
      "text/plain": [
       "<Figure size 432x432 with 1 Axes>"
      ]
     },
     "metadata": {
      "needs_background": "light"
     },
     "output_type": "display_data"
    }
   ],
   "source": [
    "plot_function(df_scaled)"
   ]
  },
  {
   "cell_type": "code",
   "execution_count": 84,
   "metadata": {},
   "outputs": [
    {
     "data": {
      "text/html": [
       "<div>\n",
       "<style scoped>\n",
       "    .dataframe tbody tr th:only-of-type {\n",
       "        vertical-align: middle;\n",
       "    }\n",
       "\n",
       "    .dataframe tbody tr th {\n",
       "        vertical-align: top;\n",
       "    }\n",
       "\n",
       "    .dataframe thead th {\n",
       "        text-align: right;\n",
       "    }\n",
       "</style>\n",
       "<table border=\"1\" class=\"dataframe\">\n",
       "  <thead>\n",
       "    <tr style=\"text-align: right;\">\n",
       "      <th></th>\n",
       "      <th>hike_id</th>\n",
       "      <th>hike_name</th>\n",
       "      <th>hike_region</th>\n",
       "    </tr>\n",
       "  </thead>\n",
       "  <tbody>\n",
       "    <tr>\n",
       "      <th>0</th>\n",
       "      <td>0</td>\n",
       "      <td>Maxwell Falls Lower Trail</td>\n",
       "      <td>Arapaho National Forest</td>\n",
       "    </tr>\n",
       "    <tr>\n",
       "      <th>1</th>\n",
       "      <td>1</td>\n",
       "      <td>Royal Arch Trail</td>\n",
       "      <td>Chautauqua Park</td>\n",
       "    </tr>\n",
       "    <tr>\n",
       "      <th>2</th>\n",
       "      <td>2</td>\n",
       "      <td>Beaver Brook /Chavez Trail Loop</td>\n",
       "      <td>Genesee Park</td>\n",
       "    </tr>\n",
       "    <tr>\n",
       "      <th>3</th>\n",
       "      <td>3</td>\n",
       "      <td>The Incline Trail</td>\n",
       "      <td>Manitou Park Recreation Area</td>\n",
       "    </tr>\n",
       "    <tr>\n",
       "      <th>4</th>\n",
       "      <td>4</td>\n",
       "      <td>Emerald Lake Trail</td>\n",
       "      <td>Rocky Mountain National Park</td>\n",
       "    </tr>\n",
       "    <tr>\n",
       "      <th>...</th>\n",
       "      <td>...</td>\n",
       "      <td>...</td>\n",
       "      <td>...</td>\n",
       "    </tr>\n",
       "    <tr>\n",
       "      <th>1482</th>\n",
       "      <td>1482</td>\n",
       "      <td>Foothills Nature Trail to CCC Shelter</td>\n",
       "      <td>Roosevelt National Forest</td>\n",
       "    </tr>\n",
       "    <tr>\n",
       "      <th>1483</th>\n",
       "      <td>1483</td>\n",
       "      <td>Sinton Trail</td>\n",
       "      <td>Roswell, Colorado</td>\n",
       "    </tr>\n",
       "    <tr>\n",
       "      <th>1484</th>\n",
       "      <td>1484</td>\n",
       "      <td>Uncompahgre River Walk</td>\n",
       "      <td>Montrose, Colorado</td>\n",
       "    </tr>\n",
       "    <tr>\n",
       "      <th>1485</th>\n",
       "      <td>1485</td>\n",
       "      <td>Mayhoffer Trail Loop</td>\n",
       "      <td>Superior, Colorado</td>\n",
       "    </tr>\n",
       "    <tr>\n",
       "      <th>1486</th>\n",
       "      <td>1486</td>\n",
       "      <td>River Ponds Trail Loop trail</td>\n",
       "      <td>Fort Collins, Colorado</td>\n",
       "    </tr>\n",
       "  </tbody>\n",
       "</table>\n",
       "<p>1487 rows × 3 columns</p>\n",
       "</div>"
      ],
      "text/plain": [
       "      hike_id                              hike_name  \\\n",
       "0           0              Maxwell Falls Lower Trail   \n",
       "1           1                       Royal Arch Trail   \n",
       "2           2        Beaver Brook /Chavez Trail Loop   \n",
       "3           3                      The Incline Trail   \n",
       "4           4                     Emerald Lake Trail   \n",
       "...       ...                                    ...   \n",
       "1482     1482  Foothills Nature Trail to CCC Shelter   \n",
       "1483     1483                           Sinton Trail   \n",
       "1484     1484                 Uncompahgre River Walk   \n",
       "1485     1485                   Mayhoffer Trail Loop   \n",
       "1486     1486           River Ponds Trail Loop trail   \n",
       "\n",
       "                       hike_region  \n",
       "0          Arapaho National Forest  \n",
       "1                  Chautauqua Park  \n",
       "2                     Genesee Park  \n",
       "3     Manitou Park Recreation Area  \n",
       "4     Rocky Mountain National Park  \n",
       "...                            ...  \n",
       "1482     Roosevelt National Forest  \n",
       "1483             Roswell, Colorado  \n",
       "1484            Montrose, Colorado  \n",
       "1485            Superior, Colorado  \n",
       "1486        Fort Collins, Colorado  \n",
       "\n",
       "[1487 rows x 3 columns]"
      ]
     },
     "execution_count": 84,
     "metadata": {},
     "output_type": "execute_result"
    }
   ],
   "source": [
    "df_features.iloc[:, :3]"
   ]
  },
  {
   "cell_type": "code",
   "execution_count": 85,
   "metadata": {},
   "outputs": [],
   "source": [
    "# Lock hike_id, hike_name_hike_region\n",
    "X2 = df_features.iloc[:, :3]"
   ]
  },
  {
   "cell_type": "markdown",
   "metadata": {},
   "source": [
    "Merge dataframes: Normalized values with hike_id, hike_name and hike_region"
   ]
  },
  {
   "cell_type": "code",
   "execution_count": 87,
   "metadata": {},
   "outputs": [
    {
     "data": {
      "text/html": [
       "<div>\n",
       "<style scoped>\n",
       "    .dataframe tbody tr th:only-of-type {\n",
       "        vertical-align: middle;\n",
       "    }\n",
       "\n",
       "    .dataframe tbody tr th {\n",
       "        vertical-align: top;\n",
       "    }\n",
       "\n",
       "    .dataframe thead th {\n",
       "        text-align: right;\n",
       "    }\n",
       "</style>\n",
       "<table border=\"1\" class=\"dataframe\">\n",
       "  <thead>\n",
       "    <tr style=\"text-align: right;\">\n",
       "      <th></th>\n",
       "      <th>hike_id</th>\n",
       "      <th>hike_name</th>\n",
       "      <th>hike_region</th>\n",
       "      <th>total_distance</th>\n",
       "      <th>elevation_gain</th>\n",
       "      <th>hike_difficulty</th>\n",
       "      <th>loop</th>\n",
       "      <th>out_and_back</th>\n",
       "      <th>point_to_point</th>\n",
       "      <th>dog_friendly</th>\n",
       "      <th>kid_friendly</th>\n",
       "      <th>camping</th>\n",
       "      <th>waterfall</th>\n",
       "      <th>river</th>\n",
       "      <th>lake</th>\n",
       "      <th>wildflowers</th>\n",
       "      <th>wildlife</th>\n",
       "      <th>views</th>\n",
       "    </tr>\n",
       "  </thead>\n",
       "  <tbody>\n",
       "    <tr>\n",
       "      <th>0</th>\n",
       "      <td>0</td>\n",
       "      <td>Maxwell Falls Lower Trail</td>\n",
       "      <td>Arapaho National Forest</td>\n",
       "      <td>-0.268657</td>\n",
       "      <td>-0.161994</td>\n",
       "      <td>0.0</td>\n",
       "      <td>1.0</td>\n",
       "      <td>-1.0</td>\n",
       "      <td>0.0</td>\n",
       "      <td>0.0</td>\n",
       "      <td>0.0</td>\n",
       "      <td>1.0</td>\n",
       "      <td>1.0</td>\n",
       "      <td>1.0</td>\n",
       "      <td>0.0</td>\n",
       "      <td>0.0</td>\n",
       "      <td>-1.0</td>\n",
       "      <td>-1.0</td>\n",
       "    </tr>\n",
       "    <tr>\n",
       "      <th>1</th>\n",
       "      <td>1</td>\n",
       "      <td>Royal Arch Trail</td>\n",
       "      <td>Chautauqua Park</td>\n",
       "      <td>-0.388060</td>\n",
       "      <td>0.171859</td>\n",
       "      <td>1.0</td>\n",
       "      <td>0.0</td>\n",
       "      <td>0.0</td>\n",
       "      <td>0.0</td>\n",
       "      <td>0.0</td>\n",
       "      <td>0.0</td>\n",
       "      <td>0.0</td>\n",
       "      <td>0.0</td>\n",
       "      <td>0.0</td>\n",
       "      <td>0.0</td>\n",
       "      <td>0.0</td>\n",
       "      <td>-1.0</td>\n",
       "      <td>0.0</td>\n",
       "    </tr>\n",
       "    <tr>\n",
       "      <th>2</th>\n",
       "      <td>2</td>\n",
       "      <td>Beaver Brook /Chavez Trail Loop</td>\n",
       "      <td>Genesee Park</td>\n",
       "      <td>-0.313433</td>\n",
       "      <td>-0.161994</td>\n",
       "      <td>0.0</td>\n",
       "      <td>1.0</td>\n",
       "      <td>-1.0</td>\n",
       "      <td>0.0</td>\n",
       "      <td>0.0</td>\n",
       "      <td>0.0</td>\n",
       "      <td>0.0</td>\n",
       "      <td>1.0</td>\n",
       "      <td>1.0</td>\n",
       "      <td>0.0</td>\n",
       "      <td>-1.0</td>\n",
       "      <td>0.0</td>\n",
       "      <td>-1.0</td>\n",
       "    </tr>\n",
       "    <tr>\n",
       "      <th>3</th>\n",
       "      <td>3</td>\n",
       "      <td>The Incline Trail</td>\n",
       "      <td>Manitou Park Recreation Area</td>\n",
       "      <td>-0.358209</td>\n",
       "      <td>0.340602</td>\n",
       "      <td>1.0</td>\n",
       "      <td>1.0</td>\n",
       "      <td>-1.0</td>\n",
       "      <td>0.0</td>\n",
       "      <td>-1.0</td>\n",
       "      <td>0.0</td>\n",
       "      <td>0.0</td>\n",
       "      <td>0.0</td>\n",
       "      <td>0.0</td>\n",
       "      <td>0.0</td>\n",
       "      <td>0.0</td>\n",
       "      <td>0.0</td>\n",
       "      <td>0.0</td>\n",
       "    </tr>\n",
       "    <tr>\n",
       "      <th>4</th>\n",
       "      <td>4</td>\n",
       "      <td>Emerald Lake Trail</td>\n",
       "      <td>Rocky Mountain National Park</td>\n",
       "      <td>-0.402985</td>\n",
       "      <td>-0.287124</td>\n",
       "      <td>-1.0</td>\n",
       "      <td>0.0</td>\n",
       "      <td>0.0</td>\n",
       "      <td>0.0</td>\n",
       "      <td>-1.0</td>\n",
       "      <td>1.0</td>\n",
       "      <td>0.0</td>\n",
       "      <td>0.0</td>\n",
       "      <td>1.0</td>\n",
       "      <td>1.0</td>\n",
       "      <td>0.0</td>\n",
       "      <td>0.0</td>\n",
       "      <td>0.0</td>\n",
       "    </tr>\n",
       "  </tbody>\n",
       "</table>\n",
       "</div>"
      ],
      "text/plain": [
       "   hike_id                        hike_name                   hike_region  \\\n",
       "0        0        Maxwell Falls Lower Trail       Arapaho National Forest   \n",
       "1        1                 Royal Arch Trail               Chautauqua Park   \n",
       "2        2  Beaver Brook /Chavez Trail Loop                  Genesee Park   \n",
       "3        3                The Incline Trail  Manitou Park Recreation Area   \n",
       "4        4               Emerald Lake Trail  Rocky Mountain National Park   \n",
       "\n",
       "   total_distance  elevation_gain  hike_difficulty  loop  out_and_back  \\\n",
       "0       -0.268657       -0.161994              0.0   1.0          -1.0   \n",
       "1       -0.388060        0.171859              1.0   0.0           0.0   \n",
       "2       -0.313433       -0.161994              0.0   1.0          -1.0   \n",
       "3       -0.358209        0.340602              1.0   1.0          -1.0   \n",
       "4       -0.402985       -0.287124             -1.0   0.0           0.0   \n",
       "\n",
       "   point_to_point  dog_friendly  kid_friendly  camping  waterfall  river  \\\n",
       "0             0.0           0.0           0.0      1.0        1.0    1.0   \n",
       "1             0.0           0.0           0.0      0.0        0.0    0.0   \n",
       "2             0.0           0.0           0.0      0.0        1.0    1.0   \n",
       "3             0.0          -1.0           0.0      0.0        0.0    0.0   \n",
       "4             0.0          -1.0           1.0      0.0        0.0    1.0   \n",
       "\n",
       "   lake  wildflowers  wildlife  views  \n",
       "0   0.0          0.0      -1.0   -1.0  \n",
       "1   0.0          0.0      -1.0    0.0  \n",
       "2   0.0         -1.0       0.0   -1.0  \n",
       "3   0.0          0.0       0.0    0.0  \n",
       "4   1.0          0.0       0.0    0.0  "
      ]
     },
     "execution_count": 87,
     "metadata": {},
     "output_type": "execute_result"
    }
   ],
   "source": [
    "df_features = pd.merge(X2, df_scaled, left_index=True, right_index=True)\n",
    "df_features.head()"
   ]
  },
  {
   "cell_type": "markdown",
   "metadata": {},
   "source": [
    "## Pivot table\n",
    "Now we will create a pivot table to add ratings for every user and every hike region.<br>\n",
    "All unrated hike regions will show as `NaN`."
   ]
  },
  {
   "cell_type": "code",
   "execution_count": 190,
   "metadata": {},
   "outputs": [
    {
     "name": "stdout",
     "output_type": "stream",
     "text": [
      "Pivot tavle shape: 11891\n"
     ]
    },
    {
     "data": {
      "text/html": [
       "<div>\n",
       "<style scoped>\n",
       "    .dataframe tbody tr th:only-of-type {\n",
       "        vertical-align: middle;\n",
       "    }\n",
       "\n",
       "    .dataframe tbody tr th {\n",
       "        vertical-align: top;\n",
       "    }\n",
       "\n",
       "    .dataframe thead th {\n",
       "        text-align: right;\n",
       "    }\n",
       "</style>\n",
       "<table border=\"1\" class=\"dataframe\">\n",
       "  <thead>\n",
       "    <tr style=\"text-align: right;\">\n",
       "      <th>hike_name</th>\n",
       "      <th>18 Road System Trail</th>\n",
       "      <th>4th of July Road</th>\n",
       "      <th>5 Lake Loop</th>\n",
       "      <th>5 Point Gulch Trail</th>\n",
       "      <th>Abyss Lake</th>\n",
       "      <th>Abyss Trail</th>\n",
       "      <th>Acorn Creek Trail</th>\n",
       "      <th>Adams Falls Trail</th>\n",
       "      <th>Agnes Vaille Falls [CLOSED]</th>\n",
       "      <th>Aiken Canyon Loop Trail</th>\n",
       "    </tr>\n",
       "    <tr>\n",
       "      <th>user_id</th>\n",
       "      <th></th>\n",
       "      <th></th>\n",
       "      <th></th>\n",
       "      <th></th>\n",
       "      <th></th>\n",
       "      <th></th>\n",
       "      <th></th>\n",
       "      <th></th>\n",
       "      <th></th>\n",
       "      <th></th>\n",
       "    </tr>\n",
       "  </thead>\n",
       "  <tbody>\n",
       "    <tr>\n",
       "      <th>5001</th>\n",
       "      <td>NaN</td>\n",
       "      <td>NaN</td>\n",
       "      <td>NaN</td>\n",
       "      <td>NaN</td>\n",
       "      <td>NaN</td>\n",
       "      <td>NaN</td>\n",
       "      <td>NaN</td>\n",
       "      <td>NaN</td>\n",
       "      <td>NaN</td>\n",
       "      <td>NaN</td>\n",
       "    </tr>\n",
       "    <tr>\n",
       "      <th>5002</th>\n",
       "      <td>NaN</td>\n",
       "      <td>NaN</td>\n",
       "      <td>NaN</td>\n",
       "      <td>NaN</td>\n",
       "      <td>NaN</td>\n",
       "      <td>NaN</td>\n",
       "      <td>NaN</td>\n",
       "      <td>NaN</td>\n",
       "      <td>NaN</td>\n",
       "      <td>4.0</td>\n",
       "    </tr>\n",
       "    <tr>\n",
       "      <th>5003</th>\n",
       "      <td>NaN</td>\n",
       "      <td>NaN</td>\n",
       "      <td>NaN</td>\n",
       "      <td>NaN</td>\n",
       "      <td>NaN</td>\n",
       "      <td>NaN</td>\n",
       "      <td>NaN</td>\n",
       "      <td>NaN</td>\n",
       "      <td>NaN</td>\n",
       "      <td>NaN</td>\n",
       "    </tr>\n",
       "    <tr>\n",
       "      <th>5004</th>\n",
       "      <td>NaN</td>\n",
       "      <td>NaN</td>\n",
       "      <td>NaN</td>\n",
       "      <td>NaN</td>\n",
       "      <td>NaN</td>\n",
       "      <td>NaN</td>\n",
       "      <td>NaN</td>\n",
       "      <td>NaN</td>\n",
       "      <td>NaN</td>\n",
       "      <td>NaN</td>\n",
       "    </tr>\n",
       "    <tr>\n",
       "      <th>5005</th>\n",
       "      <td>NaN</td>\n",
       "      <td>NaN</td>\n",
       "      <td>NaN</td>\n",
       "      <td>NaN</td>\n",
       "      <td>NaN</td>\n",
       "      <td>NaN</td>\n",
       "      <td>NaN</td>\n",
       "      <td>NaN</td>\n",
       "      <td>NaN</td>\n",
       "      <td>NaN</td>\n",
       "    </tr>\n",
       "    <tr>\n",
       "      <th>...</th>\n",
       "      <td>...</td>\n",
       "      <td>...</td>\n",
       "      <td>...</td>\n",
       "      <td>...</td>\n",
       "      <td>...</td>\n",
       "      <td>...</td>\n",
       "      <td>...</td>\n",
       "      <td>...</td>\n",
       "      <td>...</td>\n",
       "      <td>...</td>\n",
       "    </tr>\n",
       "    <tr>\n",
       "      <th>7996</th>\n",
       "      <td>NaN</td>\n",
       "      <td>NaN</td>\n",
       "      <td>NaN</td>\n",
       "      <td>NaN</td>\n",
       "      <td>NaN</td>\n",
       "      <td>NaN</td>\n",
       "      <td>NaN</td>\n",
       "      <td>NaN</td>\n",
       "      <td>NaN</td>\n",
       "      <td>NaN</td>\n",
       "    </tr>\n",
       "    <tr>\n",
       "      <th>7997</th>\n",
       "      <td>NaN</td>\n",
       "      <td>NaN</td>\n",
       "      <td>NaN</td>\n",
       "      <td>NaN</td>\n",
       "      <td>NaN</td>\n",
       "      <td>NaN</td>\n",
       "      <td>NaN</td>\n",
       "      <td>NaN</td>\n",
       "      <td>NaN</td>\n",
       "      <td>NaN</td>\n",
       "    </tr>\n",
       "    <tr>\n",
       "      <th>7998</th>\n",
       "      <td>NaN</td>\n",
       "      <td>NaN</td>\n",
       "      <td>NaN</td>\n",
       "      <td>NaN</td>\n",
       "      <td>NaN</td>\n",
       "      <td>NaN</td>\n",
       "      <td>NaN</td>\n",
       "      <td>NaN</td>\n",
       "      <td>NaN</td>\n",
       "      <td>NaN</td>\n",
       "    </tr>\n",
       "    <tr>\n",
       "      <th>7999</th>\n",
       "      <td>NaN</td>\n",
       "      <td>NaN</td>\n",
       "      <td>NaN</td>\n",
       "      <td>NaN</td>\n",
       "      <td>NaN</td>\n",
       "      <td>NaN</td>\n",
       "      <td>NaN</td>\n",
       "      <td>NaN</td>\n",
       "      <td>NaN</td>\n",
       "      <td>NaN</td>\n",
       "    </tr>\n",
       "    <tr>\n",
       "      <th>8000</th>\n",
       "      <td>NaN</td>\n",
       "      <td>NaN</td>\n",
       "      <td>NaN</td>\n",
       "      <td>NaN</td>\n",
       "      <td>NaN</td>\n",
       "      <td>NaN</td>\n",
       "      <td>NaN</td>\n",
       "      <td>NaN</td>\n",
       "      <td>NaN</td>\n",
       "      <td>NaN</td>\n",
       "    </tr>\n",
       "  </tbody>\n",
       "</table>\n",
       "<p>3000 rows × 10 columns</p>\n",
       "</div>"
      ],
      "text/plain": [
       "hike_name  18 Road System Trail  4th of July Road  5 Lake Loop  \\\n",
       "user_id                                                          \n",
       "5001                        NaN               NaN          NaN   \n",
       "5002                        NaN               NaN          NaN   \n",
       "5003                        NaN               NaN          NaN   \n",
       "5004                        NaN               NaN          NaN   \n",
       "5005                        NaN               NaN          NaN   \n",
       "...                         ...               ...          ...   \n",
       "7996                        NaN               NaN          NaN   \n",
       "7997                        NaN               NaN          NaN   \n",
       "7998                        NaN               NaN          NaN   \n",
       "7999                        NaN               NaN          NaN   \n",
       "8000                        NaN               NaN          NaN   \n",
       "\n",
       "hike_name  5 Point Gulch Trail  Abyss Lake  Abyss Trail  Acorn Creek Trail   \\\n",
       "user_id                                                                       \n",
       "5001                       NaN         NaN          NaN                 NaN   \n",
       "5002                       NaN         NaN          NaN                 NaN   \n",
       "5003                       NaN         NaN          NaN                 NaN   \n",
       "5004                       NaN         NaN          NaN                 NaN   \n",
       "5005                       NaN         NaN          NaN                 NaN   \n",
       "...                        ...         ...          ...                 ...   \n",
       "7996                       NaN         NaN          NaN                 NaN   \n",
       "7997                       NaN         NaN          NaN                 NaN   \n",
       "7998                       NaN         NaN          NaN                 NaN   \n",
       "7999                       NaN         NaN          NaN                 NaN   \n",
       "8000                       NaN         NaN          NaN                 NaN   \n",
       "\n",
       "hike_name  Adams Falls Trail  Agnes Vaille Falls [CLOSED]  \\\n",
       "user_id                                                     \n",
       "5001                     NaN                          NaN   \n",
       "5002                     NaN                          NaN   \n",
       "5003                     NaN                          NaN   \n",
       "5004                     NaN                          NaN   \n",
       "5005                     NaN                          NaN   \n",
       "...                      ...                          ...   \n",
       "7996                     NaN                          NaN   \n",
       "7997                     NaN                          NaN   \n",
       "7998                     NaN                          NaN   \n",
       "7999                     NaN                          NaN   \n",
       "8000                     NaN                          NaN   \n",
       "\n",
       "hike_name  Aiken Canyon Loop Trail  \n",
       "user_id                             \n",
       "5001                           NaN  \n",
       "5002                           4.0  \n",
       "5003                           NaN  \n",
       "5004                           NaN  \n",
       "5005                           NaN  \n",
       "...                            ...  \n",
       "7996                           NaN  \n",
       "7997                           NaN  \n",
       "7998                           NaN  \n",
       "7999                           NaN  \n",
       "8000                           NaN  \n",
       "\n",
       "[3000 rows x 10 columns]"
      ]
     },
     "execution_count": 190,
     "metadata": {},
     "output_type": "execute_result"
    }
   ],
   "source": [
    "# Merge dataframes\n",
    "merged_df = pd.merge(df, df_features, on='hike_id')\n",
    "\n",
    "# Create pivot table\n",
    "df_pivot = pd.pivot_table(merged_df, index='user_id', columns='hike_name', values='rating')\n",
    "\n",
    "print(f'Pivot tavle shape: {len(df_pivot)}')\n",
    "\n",
    "# First 5 rows, and 10 columns\n",
    "df_pivot.iloc[5000:8000, :10]"
   ]
  },
  {
   "cell_type": "markdown",
   "metadata": {},
   "source": [
    "## Sparse matrix\n",
    "A sparse matrix is a matrix where most values are 0.<br>\n",
    "By using the COOrdinate format we can save memory and get a faster computation.<br>\n",
    "We want to only represent the non zero values in our matrix, and by using scipy.sparse and too_coo() we will achieve this.<br>\n",
    "Find more information about sparse matrices [here](https://matteding.github.io/2019/04/25/sparse-matrices/)."
   ]
  },
  {
   "cell_type": "code",
   "execution_count": 191,
   "metadata": {},
   "outputs": [
    {
     "name": "stdout",
     "output_type": "stream",
     "text": [
      "  (4007, 0)\t5.0\n",
      "  (11444, 0)\t5.0\n",
      "  (2693, 1)\t5.0\n",
      "  (4643, 2)\t4.0\n",
      "  (10728, 2)\t4.0\n",
      "  (5351, 3)\t2.0\n",
      "  (9570, 3)\t4.0\n",
      "  (9933, 3)\t1.0\n",
      "  (10787, 4)\t5.0\n",
      "  (24, 5)\t3.0\n",
      "  (492, 5)\t5.0\n",
      "  (885, 5)\t4.0\n",
      "  (954, 5)\t5.0\n",
      "  (1265, 5)\t4.0\n",
      "  (1584, 5)\t5.0\n",
      "  (1802, 5)\t5.0\n",
      "  (2669, 5)\t5.0\n",
      "  (2807, 5)\t4.0\n",
      "  (4054, 5)\t4.0\n",
      "  (4996, 5)\t4.0\n",
      "  (5006, 5)\t4.0\n",
      "  (5232, 5)\t5.0\n",
      "  (5954, 5)\t5.0\n",
      "  (6476, 5)\t3.0\n",
      "  (6548, 5)\t5.0\n",
      "  :\t:\n",
      "  (7270, 1458)\t4.0\n",
      "  (7537, 1458)\t4.0\n",
      "  (7716, 1458)\t4.0\n",
      "  (8019, 1458)\t4.0\n",
      "  (8050, 1458)\t5.0\n",
      "  (8545, 1458)\t4.0\n",
      "  (9677, 1458)\t4.0\n",
      "  (9742, 1458)\t5.0\n",
      "  (9896, 1458)\t5.0\n",
      "  (9978, 1458)\t5.0\n",
      "  (11022, 1458)\t5.0\n",
      "  (11297, 1458)\t5.0\n",
      "  (11847, 1458)\t5.0\n",
      "  (704, 1459)\t4.0\n",
      "  (1738, 1459)\t5.0\n",
      "  (5132, 1459)\t5.0\n",
      "  (5443, 1459)\t5.0\n",
      "  (7785, 1459)\t5.0\n",
      "  (10066, 1459)\t5.0\n",
      "  (11491, 1459)\t3.0\n",
      "  (1847, 1460)\t5.0\n",
      "  (3734, 1460)\t5.0\n",
      "  (3724, 1461)\t3.0\n",
      "  (7544, 1461)\t5.0\n",
      "  (8961, 1462)\t2.0\n"
     ]
    }
   ],
   "source": [
    "import scipy.sparse \n",
    "#most_rated_hikes = get_most_rated_hikes(df_pivot, 300)\n",
    "sparse = df_pivot.astype('Sparse')\n",
    "coo = sparse.sparse.to_coo()\n",
    "print(coo)"
   ]
  },
  {
   "cell_type": "markdown",
   "metadata": {},
   "source": [
    "## Clustering algorithms\n",
    "We will start by using Kmeans for our clustering and find the optimal K-values by using the elbow method."
   ]
  },
  {
   "cell_type": "markdown",
   "metadata": {},
   "source": [
    "## Kmeans clustering\n",
    "* Centroids\n",
    "* Inertia"
   ]
  },
  {
   "cell_type": "code",
   "execution_count": 192,
   "metadata": {},
   "outputs": [],
   "source": [
    "from sklearn.cluster import KMeans \n",
    "\n",
    "# K range to iterate\n",
    "K= range(1,10)\n",
    "\n",
    "# Within cluster sum of squared\n",
    "wss= []\n",
    "\n",
    "for k in K:\n",
    "  kmeans= KMeans(n_clusters=k, algorithm='full', init='k-means++')\n",
    "  kmeans= kmeans.fit(coo)\n",
    "  wss_iter= kmeans.inertia_\n",
    "  wss.append(wss_iter)"
   ]
  },
  {
   "cell_type": "code",
   "execution_count": 193,
   "metadata": {},
   "outputs": [
    {
     "data": {
      "text/html": [
       "<div>\n",
       "<style scoped>\n",
       "    .dataframe tbody tr th:only-of-type {\n",
       "        vertical-align: middle;\n",
       "    }\n",
       "\n",
       "    .dataframe tbody tr th {\n",
       "        vertical-align: top;\n",
       "    }\n",
       "\n",
       "    .dataframe thead th {\n",
       "        text-align: right;\n",
       "    }\n",
       "</style>\n",
       "<table border=\"1\" class=\"dataframe\">\n",
       "  <thead>\n",
       "    <tr style=\"text-align: right;\">\n",
       "      <th></th>\n",
       "      <th>Clusters</th>\n",
       "      <th>WSS</th>\n",
       "    </tr>\n",
       "  </thead>\n",
       "  <tbody>\n",
       "    <tr>\n",
       "      <th>0</th>\n",
       "      <td>1</td>\n",
       "      <td>441519.366958</td>\n",
       "    </tr>\n",
       "    <tr>\n",
       "      <th>1</th>\n",
       "      <td>2</td>\n",
       "      <td>433269.925739</td>\n",
       "    </tr>\n",
       "    <tr>\n",
       "      <th>2</th>\n",
       "      <td>3</td>\n",
       "      <td>426028.083792</td>\n",
       "    </tr>\n",
       "    <tr>\n",
       "      <th>3</th>\n",
       "      <td>4</td>\n",
       "      <td>423982.241738</td>\n",
       "    </tr>\n",
       "    <tr>\n",
       "      <th>4</th>\n",
       "      <td>5</td>\n",
       "      <td>413980.587273</td>\n",
       "    </tr>\n",
       "    <tr>\n",
       "      <th>5</th>\n",
       "      <td>6</td>\n",
       "      <td>412608.925620</td>\n",
       "    </tr>\n",
       "    <tr>\n",
       "      <th>6</th>\n",
       "      <td>7</td>\n",
       "      <td>411846.928666</td>\n",
       "    </tr>\n",
       "    <tr>\n",
       "      <th>7</th>\n",
       "      <td>8</td>\n",
       "      <td>403852.966737</td>\n",
       "    </tr>\n",
       "    <tr>\n",
       "      <th>8</th>\n",
       "      <td>9</td>\n",
       "      <td>406003.552043</td>\n",
       "    </tr>\n",
       "  </tbody>\n",
       "</table>\n",
       "</div>"
      ],
      "text/plain": [
       "   Clusters            WSS\n",
       "0         1  441519.366958\n",
       "1         2  433269.925739\n",
       "2         3  426028.083792\n",
       "3         4  423982.241738\n",
       "4         5  413980.587273\n",
       "5         6  412608.925620\n",
       "6         7  411846.928666\n",
       "7         8  403852.966737\n",
       "8         9  406003.552043"
      ]
     },
     "execution_count": 193,
     "metadata": {},
     "output_type": "execute_result"
    }
   ],
   "source": [
    "# Centroids\n",
    "centroids = pd.DataFrame({'Clusters': K, 'WSS': wss})\n",
    "centroids"
   ]
  },
  {
   "cell_type": "markdown",
   "metadata": {},
   "source": [
    "## Evaluation\n",
    "\n",
    "We will find our optimal K value by using the elbow method."
   ]
  },
  {
   "cell_type": "code",
   "execution_count": 194,
   "metadata": {},
   "outputs": [
    {
     "data": {
      "image/png": "[encoded data removed]",
      "text/plain": [
       "<Figure size 432x288 with 1 Axes>"
      ]
     },
     "metadata": {
      "needs_background": "light"
     },
     "output_type": "display_data"
    }
   ],
   "source": [
    "sns.scatterplot(x='Clusters', y='WSS', data= centroids);"
   ]
  },
  {
   "cell_type": "markdown",
   "metadata": {},
   "source": [
    "It was not very easy to see our elbow, but we will use 4 as a K-value for our model below."
   ]
  },
  {
   "cell_type": "code",
   "execution_count": 195,
   "metadata": {},
   "outputs": [],
   "source": [
    "# With optimal value of clusters\n",
    "predictions = KMeans(n_clusters=4, algorithm='full', init='k-means++').fit_predict(coo)"
   ]
  },
  {
   "cell_type": "markdown",
   "metadata": {},
   "source": [
    "Let's add our clusters to our dataframe."
   ]
  },
  {
   "cell_type": "code",
   "execution_count": 197,
   "metadata": {},
   "outputs": [],
   "source": [
    "clusters = pd.concat([df_pivot, pd.DataFrame({'Cluster':predictions})], axis=1)"
   ]
  },
  {
   "cell_type": "markdown",
   "metadata": {},
   "source": [
    "First 5 rows, filling all `NaN` with ''."
   ]
  },
  {
   "cell_type": "code",
   "execution_count": null,
   "metadata": {},
   "outputs": [],
   "source": [
    "clusters.fillna('').head()"
   ]
  },
  {
   "cell_type": "code",
   "execution_count": 185,
   "metadata": {},
   "outputs": [],
   "source": [
    "user_id = 119\n",
    "\n",
    "# Get all this user's ratings\n",
    "user_ratings  = clusters.loc[user_id, :]\n",
    "\n",
    "# Which hikes did they not rate? (We don't want to recommend movies they've already rated)\n",
    "user_unrated_hikes =  user_ratings[user_ratings.isnull()]"
   ]
  },
  {
   "cell_type": "code",
   "execution_count": 188,
   "metadata": {},
   "outputs": [
    {
     "data": {
      "text/plain": [
       "Neota Wilderness                          5.0\n",
       "James M Robb Colorado River State Park    5.0\n",
       "Frisco, Colorado                          5.0\n",
       "Cherry Knolls Park                        5.0\n",
       "Elephant Butte Park                       5.0\n",
       "Name: 0, dtype: float64"
      ]
     },
     "execution_count": 188,
     "metadata": {},
     "output_type": "execute_result"
    }
   ],
   "source": [
    "# What are the ratings of these movies the user did not rate?\n",
    "avg_ratings = pd.concat([user_unrated_hikes, clusters.mean()], axis=1, join='inner').loc[:,0]\n",
    "\n",
    "# Let's sort by rating so the highest rated hikes are presented first\n",
    "avg_ratings.sort_values(ascending=False)[:5]"
   ]
  },
  {
   "cell_type": "code",
   "execution_count": null,
   "metadata": {},
   "outputs": [],
   "source": []
  },
  {
   "cell_type": "code",
   "execution_count": null,
   "metadata": {},
   "outputs": [],
   "source": []
  },
  {
   "cell_type": "code",
   "execution_count": null,
   "metadata": {},
   "outputs": [],
   "source": []
  },
  {
   "cell_type": "code",
   "execution_count": null,
   "metadata": {},
   "outputs": [],
   "source": []
  },
  {
   "cell_type": "code",
   "execution_count": 178,
   "metadata": {},
   "outputs": [],
   "source": [
    "clustered = pd.concat([most_rated_hikes, pd.DataFrame({'Cluster':predictions})], axis=1)"
   ]
  },
  {
   "cell_type": "code",
   "execution_count": 159,
   "metadata": {},
   "outputs": [],
   "source": [
    "cluster_ID = 2\n",
    "cluster = clustered[clustered.Cluster == cluster_ID].drop(['Cluster'], axis=1)"
   ]
  },
  {
   "cell_type": "code",
   "execution_count": 160,
   "metadata": {},
   "outputs": [],
   "source": [
    "n_users = 1000\n",
    "n_hikes = 300\n",
    "cluster = sort_by_rating_density(cluster, n_hikes, n_users)"
   ]
  },
  {
   "cell_type": "code",
   "execution_count": 166,
   "metadata": {},
   "outputs": [
    {
     "data": {
      "text/html": [
       "<div>\n",
       "<style scoped>\n",
       "    .dataframe tbody tr th:only-of-type {\n",
       "        vertical-align: middle;\n",
       "    }\n",
       "\n",
       "    .dataframe tbody tr th {\n",
       "        vertical-align: top;\n",
       "    }\n",
       "\n",
       "    .dataframe thead th {\n",
       "        text-align: right;\n",
       "    }\n",
       "</style>\n",
       "<table border=\"1\" class=\"dataframe\">\n",
       "  <thead>\n",
       "    <tr style=\"text-align: right;\">\n",
       "      <th></th>\n",
       "      <th>White River National Forest</th>\n",
       "      <th>Arapaho National Forest</th>\n",
       "      <th>Holy Cross Wilderness</th>\n",
       "      <th>Roosevelt National Forest</th>\n",
       "      <th>Maroon Bells Snowmass Wilderness</th>\n",
       "      <th>Pike National Forest</th>\n",
       "      <th>Walter Byron Memorial Park</th>\n",
       "      <th>Eagles Nest Wilderness</th>\n",
       "      <th>San Isabel National Forest</th>\n",
       "      <th>Chautauqua Park</th>\n",
       "      <th>...</th>\n",
       "      <th>Mack, Colorado</th>\n",
       "      <th>Limbach Park</th>\n",
       "      <th>Rawah Wilderness</th>\n",
       "      <th>Lake City, Colorado</th>\n",
       "      <th>Great Sand Dunes National Preserve</th>\n",
       "      <th>Lousiville Sports Complex</th>\n",
       "      <th>Pueblo Mountain Park</th>\n",
       "      <th>Manitou Springs Open Space</th>\n",
       "      <th>Morrison, Colorado</th>\n",
       "      <th>Dedisse Park</th>\n",
       "    </tr>\n",
       "  </thead>\n",
       "  <tbody>\n",
       "    <tr>\n",
       "      <th>986</th>\n",
       "      <td>5.0</td>\n",
       "      <td></td>\n",
       "      <td></td>\n",
       "      <td></td>\n",
       "      <td></td>\n",
       "      <td></td>\n",
       "      <td></td>\n",
       "      <td></td>\n",
       "      <td></td>\n",
       "      <td></td>\n",
       "      <td>...</td>\n",
       "      <td></td>\n",
       "      <td></td>\n",
       "      <td></td>\n",
       "      <td></td>\n",
       "      <td></td>\n",
       "      <td></td>\n",
       "      <td></td>\n",
       "      <td></td>\n",
       "      <td></td>\n",
       "      <td></td>\n",
       "    </tr>\n",
       "    <tr>\n",
       "      <th>1169</th>\n",
       "      <td>5.0</td>\n",
       "      <td>4</td>\n",
       "      <td></td>\n",
       "      <td>4</td>\n",
       "      <td></td>\n",
       "      <td>4</td>\n",
       "      <td></td>\n",
       "      <td></td>\n",
       "      <td></td>\n",
       "      <td></td>\n",
       "      <td>...</td>\n",
       "      <td></td>\n",
       "      <td></td>\n",
       "      <td></td>\n",
       "      <td></td>\n",
       "      <td></td>\n",
       "      <td></td>\n",
       "      <td></td>\n",
       "      <td></td>\n",
       "      <td></td>\n",
       "      <td></td>\n",
       "    </tr>\n",
       "    <tr>\n",
       "      <th>582</th>\n",
       "      <td>3.0</td>\n",
       "      <td></td>\n",
       "      <td></td>\n",
       "      <td>3</td>\n",
       "      <td></td>\n",
       "      <td></td>\n",
       "      <td></td>\n",
       "      <td></td>\n",
       "      <td>5</td>\n",
       "      <td>5</td>\n",
       "      <td>...</td>\n",
       "      <td></td>\n",
       "      <td></td>\n",
       "      <td></td>\n",
       "      <td></td>\n",
       "      <td></td>\n",
       "      <td></td>\n",
       "      <td></td>\n",
       "      <td></td>\n",
       "      <td></td>\n",
       "      <td></td>\n",
       "    </tr>\n",
       "    <tr>\n",
       "      <th>361</th>\n",
       "      <td>4.0</td>\n",
       "      <td></td>\n",
       "      <td></td>\n",
       "      <td></td>\n",
       "      <td></td>\n",
       "      <td></td>\n",
       "      <td></td>\n",
       "      <td></td>\n",
       "      <td></td>\n",
       "      <td></td>\n",
       "      <td>...</td>\n",
       "      <td></td>\n",
       "      <td></td>\n",
       "      <td></td>\n",
       "      <td></td>\n",
       "      <td></td>\n",
       "      <td></td>\n",
       "      <td></td>\n",
       "      <td></td>\n",
       "      <td></td>\n",
       "      <td></td>\n",
       "    </tr>\n",
       "    <tr>\n",
       "      <th>841</th>\n",
       "      <td>5.0</td>\n",
       "      <td>3.5</td>\n",
       "      <td></td>\n",
       "      <td></td>\n",
       "      <td></td>\n",
       "      <td></td>\n",
       "      <td></td>\n",
       "      <td></td>\n",
       "      <td></td>\n",
       "      <td></td>\n",
       "      <td>...</td>\n",
       "      <td></td>\n",
       "      <td></td>\n",
       "      <td></td>\n",
       "      <td></td>\n",
       "      <td></td>\n",
       "      <td></td>\n",
       "      <td></td>\n",
       "      <td></td>\n",
       "      <td></td>\n",
       "      <td></td>\n",
       "    </tr>\n",
       "  </tbody>\n",
       "</table>\n",
       "<p>5 rows × 300 columns</p>\n",
       "</div>"
      ],
      "text/plain": [
       "      White River National Forest Arapaho National Forest  \\\n",
       "986                           5.0                           \n",
       "1169                          5.0                       4   \n",
       "582                           3.0                           \n",
       "361                           4.0                           \n",
       "841                           5.0                     3.5   \n",
       "\n",
       "     Holy Cross Wilderness Roosevelt National Forest  \\\n",
       "986                                                    \n",
       "1169                                               4   \n",
       "582                                                3   \n",
       "361                                                    \n",
       "841                                                    \n",
       "\n",
       "     Maroon Bells Snowmass Wilderness Pike National Forest  \\\n",
       "986                                                          \n",
       "1169                                                     4   \n",
       "582                                                          \n",
       "361                                                          \n",
       "841                                                          \n",
       "\n",
       "     Walter Byron Memorial Park Eagles Nest Wilderness  \\\n",
       "986                                                      \n",
       "1169                                                     \n",
       "582                                                      \n",
       "361                                                      \n",
       "841                                                      \n",
       "\n",
       "     San Isabel National Forest Chautauqua Park  ... Mack, Colorado  \\\n",
       "986                                              ...                  \n",
       "1169                                             ...                  \n",
       "582                           5               5  ...                  \n",
       "361                                              ...                  \n",
       "841                                              ...                  \n",
       "\n",
       "     Limbach Park Rawah Wilderness Lake City, Colorado  \\\n",
       "986                                                      \n",
       "1169                                                     \n",
       "582                                                      \n",
       "361                                                      \n",
       "841                                                      \n",
       "\n",
       "     Great Sand Dunes National Preserve Lousiville Sports Complex  \\\n",
       "986                                                                 \n",
       "1169                                                                \n",
       "582                                                                 \n",
       "361                                                                 \n",
       "841                                                                 \n",
       "\n",
       "     Pueblo Mountain Park Manitou Springs Open Space Morrison, Colorado  \\\n",
       "986                                                                       \n",
       "1169                                                                      \n",
       "582                                                                       \n",
       "361                                                                       \n",
       "841                                                                       \n",
       "\n",
       "     Dedisse Park  \n",
       "986                \n",
       "1169               \n",
       "582                \n",
       "361                \n",
       "841                \n",
       "\n",
       "[5 rows x 300 columns]"
      ]
     },
     "execution_count": 166,
     "metadata": {},
     "output_type": "execute_result"
    }
   ],
   "source": [
    "cluster.fillna('').head()"
   ]
  },
  {
   "cell_type": "code",
   "execution_count": 167,
   "metadata": {},
   "outputs": [
    {
     "data": {
      "text/html": [
       "<div>\n",
       "<style scoped>\n",
       "    .dataframe tbody tr th:only-of-type {\n",
       "        vertical-align: middle;\n",
       "    }\n",
       "\n",
       "    .dataframe tbody tr th {\n",
       "        vertical-align: top;\n",
       "    }\n",
       "\n",
       "    .dataframe thead th {\n",
       "        text-align: right;\n",
       "    }\n",
       "</style>\n",
       "<table border=\"1\" class=\"dataframe\">\n",
       "  <thead>\n",
       "    <tr style=\"text-align: right;\">\n",
       "      <th></th>\n",
       "      <th>White River National Forest</th>\n",
       "      <th>Arapaho National Forest</th>\n",
       "      <th>Holy Cross Wilderness</th>\n",
       "      <th>Roosevelt National Forest</th>\n",
       "      <th>Maroon Bells Snowmass Wilderness</th>\n",
       "      <th>Pike National Forest</th>\n",
       "      <th>Walter Byron Memorial Park</th>\n",
       "      <th>Eagles Nest Wilderness</th>\n",
       "      <th>San Isabel National Forest</th>\n",
       "      <th>Chautauqua Park</th>\n",
       "      <th>...</th>\n",
       "      <th>Mack, Colorado</th>\n",
       "      <th>Limbach Park</th>\n",
       "      <th>Rawah Wilderness</th>\n",
       "      <th>Lake City, Colorado</th>\n",
       "      <th>Great Sand Dunes National Preserve</th>\n",
       "      <th>Lousiville Sports Complex</th>\n",
       "      <th>Pueblo Mountain Park</th>\n",
       "      <th>Manitou Springs Open Space</th>\n",
       "      <th>Morrison, Colorado</th>\n",
       "      <th>Dedisse Park</th>\n",
       "    </tr>\n",
       "  </thead>\n",
       "  <tbody>\n",
       "    <tr>\n",
       "      <th>986</th>\n",
       "      <td>5.0</td>\n",
       "      <td></td>\n",
       "      <td></td>\n",
       "      <td></td>\n",
       "      <td></td>\n",
       "      <td></td>\n",
       "      <td></td>\n",
       "      <td></td>\n",
       "      <td></td>\n",
       "      <td></td>\n",
       "      <td>...</td>\n",
       "      <td></td>\n",
       "      <td></td>\n",
       "      <td></td>\n",
       "      <td></td>\n",
       "      <td></td>\n",
       "      <td></td>\n",
       "      <td></td>\n",
       "      <td></td>\n",
       "      <td></td>\n",
       "      <td></td>\n",
       "    </tr>\n",
       "    <tr>\n",
       "      <th>1169</th>\n",
       "      <td>5.0</td>\n",
       "      <td>4</td>\n",
       "      <td></td>\n",
       "      <td>4</td>\n",
       "      <td></td>\n",
       "      <td>4</td>\n",
       "      <td></td>\n",
       "      <td></td>\n",
       "      <td></td>\n",
       "      <td></td>\n",
       "      <td>...</td>\n",
       "      <td></td>\n",
       "      <td></td>\n",
       "      <td></td>\n",
       "      <td></td>\n",
       "      <td></td>\n",
       "      <td></td>\n",
       "      <td></td>\n",
       "      <td></td>\n",
       "      <td></td>\n",
       "      <td></td>\n",
       "    </tr>\n",
       "    <tr>\n",
       "      <th>582</th>\n",
       "      <td>3.0</td>\n",
       "      <td></td>\n",
       "      <td></td>\n",
       "      <td>3</td>\n",
       "      <td></td>\n",
       "      <td></td>\n",
       "      <td></td>\n",
       "      <td></td>\n",
       "      <td>5</td>\n",
       "      <td>5</td>\n",
       "      <td>...</td>\n",
       "      <td></td>\n",
       "      <td></td>\n",
       "      <td></td>\n",
       "      <td></td>\n",
       "      <td></td>\n",
       "      <td></td>\n",
       "      <td></td>\n",
       "      <td></td>\n",
       "      <td></td>\n",
       "      <td></td>\n",
       "    </tr>\n",
       "    <tr>\n",
       "      <th>361</th>\n",
       "      <td>4.0</td>\n",
       "      <td></td>\n",
       "      <td></td>\n",
       "      <td></td>\n",
       "      <td></td>\n",
       "      <td></td>\n",
       "      <td></td>\n",
       "      <td></td>\n",
       "      <td></td>\n",
       "      <td></td>\n",
       "      <td>...</td>\n",
       "      <td></td>\n",
       "      <td></td>\n",
       "      <td></td>\n",
       "      <td></td>\n",
       "      <td></td>\n",
       "      <td></td>\n",
       "      <td></td>\n",
       "      <td></td>\n",
       "      <td></td>\n",
       "      <td></td>\n",
       "    </tr>\n",
       "    <tr>\n",
       "      <th>841</th>\n",
       "      <td>5.0</td>\n",
       "      <td>3.5</td>\n",
       "      <td></td>\n",
       "      <td></td>\n",
       "      <td></td>\n",
       "      <td></td>\n",
       "      <td></td>\n",
       "      <td></td>\n",
       "      <td></td>\n",
       "      <td></td>\n",
       "      <td>...</td>\n",
       "      <td></td>\n",
       "      <td></td>\n",
       "      <td></td>\n",
       "      <td></td>\n",
       "      <td></td>\n",
       "      <td></td>\n",
       "      <td></td>\n",
       "      <td></td>\n",
       "      <td></td>\n",
       "      <td></td>\n",
       "    </tr>\n",
       "  </tbody>\n",
       "</table>\n",
       "<p>5 rows × 300 columns</p>\n",
       "</div>"
      ],
      "text/plain": [
       "      White River National Forest Arapaho National Forest  \\\n",
       "986                           5.0                           \n",
       "1169                          5.0                       4   \n",
       "582                           3.0                           \n",
       "361                           4.0                           \n",
       "841                           5.0                     3.5   \n",
       "\n",
       "     Holy Cross Wilderness Roosevelt National Forest  \\\n",
       "986                                                    \n",
       "1169                                               4   \n",
       "582                                                3   \n",
       "361                                                    \n",
       "841                                                    \n",
       "\n",
       "     Maroon Bells Snowmass Wilderness Pike National Forest  \\\n",
       "986                                                          \n",
       "1169                                                     4   \n",
       "582                                                          \n",
       "361                                                          \n",
       "841                                                          \n",
       "\n",
       "     Walter Byron Memorial Park Eagles Nest Wilderness  \\\n",
       "986                                                      \n",
       "1169                                                     \n",
       "582                                                      \n",
       "361                                                      \n",
       "841                                                      \n",
       "\n",
       "     San Isabel National Forest Chautauqua Park  ... Mack, Colorado  \\\n",
       "986                                              ...                  \n",
       "1169                                             ...                  \n",
       "582                           5               5  ...                  \n",
       "361                                              ...                  \n",
       "841                                              ...                  \n",
       "\n",
       "     Limbach Park Rawah Wilderness Lake City, Colorado  \\\n",
       "986                                                      \n",
       "1169                                                     \n",
       "582                                                      \n",
       "361                                                      \n",
       "841                                                      \n",
       "\n",
       "     Great Sand Dunes National Preserve Lousiville Sports Complex  \\\n",
       "986                                                                 \n",
       "1169                                                                \n",
       "582                                                                 \n",
       "361                                                                 \n",
       "841                                                                 \n",
       "\n",
       "     Pueblo Mountain Park Manitou Springs Open Space Morrison, Colorado  \\\n",
       "986                                                                       \n",
       "1169                                                                      \n",
       "582                                                                       \n",
       "361                                                                       \n",
       "841                                                                       \n",
       "\n",
       "     Dedisse Park  \n",
       "986                \n",
       "1169               \n",
       "582                \n",
       "361                \n",
       "841                \n",
       "\n",
       "[5 rows x 300 columns]"
      ]
     },
     "execution_count": 167,
     "metadata": {},
     "output_type": "execute_result"
    }
   ],
   "source": [
    "cluster.fillna('').head()"
   ]
  },
  {
   "cell_type": "code",
   "execution_count": 186,
   "metadata": {},
   "outputs": [
    {
     "data": {
      "text/plain": [
       "Indian Peaks Wilderness         4.497748\n",
       "Roosevelt National Forest       4.325170\n",
       "Rocky Mountain National Park    4.471454\n",
       "Arapaho National Forest         4.334781\n",
       "Chautauqua Park                 3.973958\n",
       "dtype: float64"
      ]
     },
     "execution_count": 186,
     "metadata": {},
     "output_type": "execute_result"
    }
   ],
   "source": [
    "cluster.mean().head()"
   ]
  },
  {
   "cell_type": "code",
   "execution_count": 188,
   "metadata": {},
   "outputs": [
    {
     "data": {
      "text/plain": [
       "Indian Peaks Wilderness         5.000000\n",
       "Roosevelt National Forest       4.000000\n",
       "Rocky Mountain National Park    4.333333\n",
       "Arapaho National Forest         4.500000\n",
       "Chautauqua Park                 4.000000\n",
       "                                  ...   \n",
       "Dominguez Canyon Wilderness          NaN\n",
       "Cottonwood Glen Park                 NaN\n",
       "Waverly Park                         NaN\n",
       "Aurora, Colorado                     NaN\n",
       "Peninsula Recreation Area            NaN\n",
       "Name: 119, Length: 300, dtype: float64"
      ]
     },
     "execution_count": 188,
     "metadata": {},
     "output_type": "execute_result"
    }
   ],
   "source": [
    "cluster.loc[119, :]"
   ]
  },
  {
   "cell_type": "code",
   "execution_count": 189,
   "metadata": {},
   "outputs": [],
   "source": [
    "user_id = 119\n",
    "\n",
    "# Get all this user's ratings\n",
    "user_2_ratings  = cluster.loc[user_id, :]\n",
    "\n",
    "# Which hikes did they not rate? (We don't want to recommend movies they've already rated)\n",
    "user_2_unrated_movies =  user_2_ratings[user_2_ratings.isnull()]"
   ]
  },
  {
   "cell_type": "code",
   "execution_count": 190,
   "metadata": {},
   "outputs": [
    {
     "data": {
      "text/plain": [
       "Franktown, Colorado         5.0\n",
       "Caribou Ranch Open Space    5.0\n",
       "Star K Ranch Park           5.0\n",
       "Cub Creek Park              5.0\n",
       "Twin Lakes, Colorado        5.0\n",
       "Name: 0, dtype: float64"
      ]
     },
     "execution_count": 190,
     "metadata": {},
     "output_type": "execute_result"
    }
   ],
   "source": [
    "# What are the ratings of these movies the user did not rate?\n",
    "avg_ratings = pd.concat([user_2_unrated_movies, cluster.mean()], axis=1, join='inner').loc[:,0]\n",
    "\n",
    "# Let's sort by rating so the highest rated hikes are presented first\n",
    "avg_ratings.sort_values(ascending=False)[:5]"
   ]
  },
  {
   "cell_type": "code",
   "execution_count": null,
   "metadata": {},
   "outputs": [],
   "source": []
  },
  {
   "cell_type": "code",
   "execution_count": null,
   "metadata": {},
   "outputs": [],
   "source": []
  }
 ],
 "metadata": {
  "kernelspec": {
   "display_name": "Python 3",
   "language": "python",
   "name": "python3"
  },
  "language_info": {
   "codemirror_mode": {
    "name": "ipython",
    "version": 3
   },
   "file_extension": ".py",
   "mimetype": "text/x-python",
   "name": "python",
   "nbconvert_exporter": "python",
   "pygments_lexer": "ipython3",
   "version": "3.7.7"
  }
 },
 "nbformat": 4,
 "nbformat_minor": 4
}
