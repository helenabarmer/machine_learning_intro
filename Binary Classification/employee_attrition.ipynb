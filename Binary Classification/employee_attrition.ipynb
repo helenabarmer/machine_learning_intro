{
  "nbformat": 4,
  "nbformat_minor": 0,
  "metadata": {
    "colab": {
      "name": "employee_attrition.ipynb",
      "provenance": [],
      "collapsed_sections": [],
      "toc_visible": true,
      "authorship_tag": "ABX9TyOsMdy2pu4alwuaaBrJeiek",
      "include_colab_link": true
    },
    "kernelspec": {
      "name": "python3",
      "display_name": "Python 3"
    },
    "accelerator": "GPU"
  },
  "cells": [
    {
      "cell_type": "markdown",
      "metadata": {
        "id": "view-in-github",
        "colab_type": "text"
      },
      "source": [
        "<a href=\"https://colab.research.google.com/github/helenabarmer/machine_learning_intro/blob/master/employee_attrition.ipynb\" target=\"_parent\"><img src=\"https://colab.research.google.com/assets/colab-badge.svg\" alt=\"Open In Colab\"/></a>"
      ]
    },
    {
      "cell_type": "markdown",
      "metadata": {
        "id": "qvyp4CqKTJHW",
        "colab_type": "text"
      },
      "source": [
        "# **Binary Classification for recruiters**\n",
        "\n",
        "### Binary Classification\n",
        "In binary classification we are looking for a yes or no / true or false answer from the machine. In this case we would like to ask if the candidate we are recruiting will be staying long term at our company.\n",
        "\n",
        "### Use Case\n",
        "We are recruiting new people for our different departments. To save time we are using a machine learning model to help us answer if the candidate will be a long term fit for our company or not. We will use previous information from our employees.\n",
        "\n",
        "### Dataset\n",
        "For this task we are using IBM:s dataset HR Employee Attrition.\n",
        "You can find and download the dataset [here](https://www.kaggle.com/pavansubhasht/ibm-hr-analytics-attrition-dataset).\n",
        "\n"
      ]
    },
    {
      "cell_type": "markdown",
      "metadata": {
        "id": "03wGCBL1UiAc",
        "colab_type": "text"
      },
      "source": [
        "**This will be our workflow:**\n",
        "1. Prepare and explore our dataset\n",
        "2. Define our machine learning model\n",
        "3. Do the training of our machine learning model\n",
        "4. Evaluate results of our machine learning model\n",
        "5. Use our model to classify our question\n",
        "\n",
        "We will start with importing all the libraries we need for our workflow:"
      ]
    },
    {
      "cell_type": "code",
      "metadata": {
        "id": "mne5tXZP7I8y",
        "colab_type": "code",
        "colab": {
          "base_uri": "https://localhost:8080/",
          "height": 92
        },
        "outputId": "dbe86327-c7da-487a-ae9a-5baaf17fefde"
      },
      "source": [
        "# Import all libraries needed\n",
        "import numpy as np \n",
        "import pandas as pd \n",
        "\n",
        "import matplotlib.pyplot as plt \n",
        "import seaborn as sns \n",
        "%matplotlib inline \n",
        "\n",
        "print('All libraries imported. ')"
      ],
      "execution_count": 1,
      "outputs": [
        {
          "output_type": "stream",
          "text": [
            "All libraries imported. \n"
          ],
          "name": "stdout"
        },
        {
          "output_type": "stream",
          "text": [
            "/usr/local/lib/python3.6/dist-packages/statsmodels/tools/_testing.py:19: FutureWarning: pandas.util.testing is deprecated. Use the functions in the public API at pandas.testing instead.\n",
            "  import pandas.util.testing as tm\n"
          ],
          "name": "stderr"
        }
      ]
    },
    {
      "cell_type": "markdown",
      "metadata": {
        "id": "QKgWwZvIVHdE",
        "colab_type": "text"
      },
      "source": [
        "## Preparing and exploring our data"
      ]
    },
    {
      "cell_type": "code",
      "metadata": {
        "id": "h5NtZh71AEXf",
        "colab_type": "code",
        "colab": {
          "base_uri": "https://localhost:8080/",
          "height": 35
        },
        "outputId": "bd1c7bf0-6c8c-4691-ae6d-2c0d25e80b4d"
      },
      "source": [
        "# Upload the dataset to Google drive, or use the raw format of the dataset:\n",
        "# data = 'data = 'https://raw.githubusercontent.com/helenabarmer/machine_learning_intro/master/Binary%20Classification/WA_Fn-UseC_-HR-Employee-Attrition.csv'\n",
        "data = '/content/WA_Fn-UseC_-HR-Employee-Attrition.csv'\n",
        "df = pd.read_csv(data)\n",
        "print('Dataset loaded')"
      ],
      "execution_count": 2,
      "outputs": [
        {
          "output_type": "stream",
          "text": [
            "Dataset loaded\n"
          ],
          "name": "stdout"
        }
      ]
    },
    {
      "cell_type": "markdown",
      "metadata": {
        "id": "5c-x1KNjV9cA",
        "colab_type": "text"
      },
      "source": [
        "We will now start to explore our data and have a look at:\n",
        "*   First 5 rows\n",
        "*   Last 5 rows\n",
        "*   The shape of our data in the format rows and columns\n",
        "* The name of all the columns\n",
        "* See total columns\n",
        "* Check if we can find any null values in our data\n",
        "* See the divide between people who have stayed and people who have left the company\n",
        "\n",
        "\n"
      ]
    },
    {
      "cell_type": "code",
      "metadata": {
        "id": "sFkw7-E8A4tR",
        "colab_type": "code",
        "colab": {
          "base_uri": "https://localhost:8080/",
          "height": 313
        },
        "outputId": "93a2cf00-0129-4a50-b682-ecdad7d287ec"
      },
      "source": [
        "# First 5 rows\n",
        "df.head()"
      ],
      "execution_count": null,
      "outputs": [
        {
          "output_type": "execute_result",
          "data": {
            "text/html": [
              "<div>\n",
              "<style scoped>\n",
              "    .dataframe tbody tr th:only-of-type {\n",
              "        vertical-align: middle;\n",
              "    }\n",
              "\n",
              "    .dataframe tbody tr th {\n",
              "        vertical-align: top;\n",
              "    }\n",
              "\n",
              "    .dataframe thead th {\n",
              "        text-align: right;\n",
              "    }\n",
              "</style>\n",
              "<table border=\"1\" class=\"dataframe\">\n",
              "  <thead>\n",
              "    <tr style=\"text-align: right;\">\n",
              "      <th></th>\n",
              "      <th>Age</th>\n",
              "      <th>Attrition</th>\n",
              "      <th>BusinessTravel</th>\n",
              "      <th>DailyRate</th>\n",
              "      <th>Department</th>\n",
              "      <th>DistanceFromHome</th>\n",
              "      <th>Education</th>\n",
              "      <th>EducationField</th>\n",
              "      <th>EmployeeCount</th>\n",
              "      <th>EmployeeNumber</th>\n",
              "      <th>EnvironmentSatisfaction</th>\n",
              "      <th>Gender</th>\n",
              "      <th>HourlyRate</th>\n",
              "      <th>JobInvolvement</th>\n",
              "      <th>JobLevel</th>\n",
              "      <th>JobRole</th>\n",
              "      <th>JobSatisfaction</th>\n",
              "      <th>MaritalStatus</th>\n",
              "      <th>MonthlyIncome</th>\n",
              "      <th>MonthlyRate</th>\n",
              "      <th>NumCompaniesWorked</th>\n",
              "      <th>Over18</th>\n",
              "      <th>OverTime</th>\n",
              "      <th>PercentSalaryHike</th>\n",
              "      <th>PerformanceRating</th>\n",
              "      <th>RelationshipSatisfaction</th>\n",
              "      <th>StandardHours</th>\n",
              "      <th>StockOptionLevel</th>\n",
              "      <th>TotalWorkingYears</th>\n",
              "      <th>TrainingTimesLastYear</th>\n",
              "      <th>WorkLifeBalance</th>\n",
              "      <th>YearsAtCompany</th>\n",
              "      <th>YearsInCurrentRole</th>\n",
              "      <th>YearsSinceLastPromotion</th>\n",
              "      <th>YearsWithCurrManager</th>\n",
              "    </tr>\n",
              "  </thead>\n",
              "  <tbody>\n",
              "    <tr>\n",
              "      <th>0</th>\n",
              "      <td>41</td>\n",
              "      <td>Yes</td>\n",
              "      <td>Travel_Rarely</td>\n",
              "      <td>1102</td>\n",
              "      <td>Sales</td>\n",
              "      <td>1</td>\n",
              "      <td>2</td>\n",
              "      <td>Life Sciences</td>\n",
              "      <td>1</td>\n",
              "      <td>1</td>\n",
              "      <td>2</td>\n",
              "      <td>Female</td>\n",
              "      <td>94</td>\n",
              "      <td>3</td>\n",
              "      <td>2</td>\n",
              "      <td>Sales Executive</td>\n",
              "      <td>4</td>\n",
              "      <td>Single</td>\n",
              "      <td>5993</td>\n",
              "      <td>19479</td>\n",
              "      <td>8</td>\n",
              "      <td>Y</td>\n",
              "      <td>Yes</td>\n",
              "      <td>11</td>\n",
              "      <td>3</td>\n",
              "      <td>1</td>\n",
              "      <td>80</td>\n",
              "      <td>0</td>\n",
              "      <td>8</td>\n",
              "      <td>0</td>\n",
              "      <td>1</td>\n",
              "      <td>6</td>\n",
              "      <td>4</td>\n",
              "      <td>0</td>\n",
              "      <td>5</td>\n",
              "    </tr>\n",
              "    <tr>\n",
              "      <th>1</th>\n",
              "      <td>49</td>\n",
              "      <td>No</td>\n",
              "      <td>Travel_Frequently</td>\n",
              "      <td>279</td>\n",
              "      <td>Research &amp; Development</td>\n",
              "      <td>8</td>\n",
              "      <td>1</td>\n",
              "      <td>Life Sciences</td>\n",
              "      <td>1</td>\n",
              "      <td>2</td>\n",
              "      <td>3</td>\n",
              "      <td>Male</td>\n",
              "      <td>61</td>\n",
              "      <td>2</td>\n",
              "      <td>2</td>\n",
              "      <td>Research Scientist</td>\n",
              "      <td>2</td>\n",
              "      <td>Married</td>\n",
              "      <td>5130</td>\n",
              "      <td>24907</td>\n",
              "      <td>1</td>\n",
              "      <td>Y</td>\n",
              "      <td>No</td>\n",
              "      <td>23</td>\n",
              "      <td>4</td>\n",
              "      <td>4</td>\n",
              "      <td>80</td>\n",
              "      <td>1</td>\n",
              "      <td>10</td>\n",
              "      <td>3</td>\n",
              "      <td>3</td>\n",
              "      <td>10</td>\n",
              "      <td>7</td>\n",
              "      <td>1</td>\n",
              "      <td>7</td>\n",
              "    </tr>\n",
              "    <tr>\n",
              "      <th>2</th>\n",
              "      <td>37</td>\n",
              "      <td>Yes</td>\n",
              "      <td>Travel_Rarely</td>\n",
              "      <td>1373</td>\n",
              "      <td>Research &amp; Development</td>\n",
              "      <td>2</td>\n",
              "      <td>2</td>\n",
              "      <td>Other</td>\n",
              "      <td>1</td>\n",
              "      <td>4</td>\n",
              "      <td>4</td>\n",
              "      <td>Male</td>\n",
              "      <td>92</td>\n",
              "      <td>2</td>\n",
              "      <td>1</td>\n",
              "      <td>Laboratory Technician</td>\n",
              "      <td>3</td>\n",
              "      <td>Single</td>\n",
              "      <td>2090</td>\n",
              "      <td>2396</td>\n",
              "      <td>6</td>\n",
              "      <td>Y</td>\n",
              "      <td>Yes</td>\n",
              "      <td>15</td>\n",
              "      <td>3</td>\n",
              "      <td>2</td>\n",
              "      <td>80</td>\n",
              "      <td>0</td>\n",
              "      <td>7</td>\n",
              "      <td>3</td>\n",
              "      <td>3</td>\n",
              "      <td>0</td>\n",
              "      <td>0</td>\n",
              "      <td>0</td>\n",
              "      <td>0</td>\n",
              "    </tr>\n",
              "    <tr>\n",
              "      <th>3</th>\n",
              "      <td>33</td>\n",
              "      <td>No</td>\n",
              "      <td>Travel_Frequently</td>\n",
              "      <td>1392</td>\n",
              "      <td>Research &amp; Development</td>\n",
              "      <td>3</td>\n",
              "      <td>4</td>\n",
              "      <td>Life Sciences</td>\n",
              "      <td>1</td>\n",
              "      <td>5</td>\n",
              "      <td>4</td>\n",
              "      <td>Female</td>\n",
              "      <td>56</td>\n",
              "      <td>3</td>\n",
              "      <td>1</td>\n",
              "      <td>Research Scientist</td>\n",
              "      <td>3</td>\n",
              "      <td>Married</td>\n",
              "      <td>2909</td>\n",
              "      <td>23159</td>\n",
              "      <td>1</td>\n",
              "      <td>Y</td>\n",
              "      <td>Yes</td>\n",
              "      <td>11</td>\n",
              "      <td>3</td>\n",
              "      <td>3</td>\n",
              "      <td>80</td>\n",
              "      <td>0</td>\n",
              "      <td>8</td>\n",
              "      <td>3</td>\n",
              "      <td>3</td>\n",
              "      <td>8</td>\n",
              "      <td>7</td>\n",
              "      <td>3</td>\n",
              "      <td>0</td>\n",
              "    </tr>\n",
              "    <tr>\n",
              "      <th>4</th>\n",
              "      <td>27</td>\n",
              "      <td>No</td>\n",
              "      <td>Travel_Rarely</td>\n",
              "      <td>591</td>\n",
              "      <td>Research &amp; Development</td>\n",
              "      <td>2</td>\n",
              "      <td>1</td>\n",
              "      <td>Medical</td>\n",
              "      <td>1</td>\n",
              "      <td>7</td>\n",
              "      <td>1</td>\n",
              "      <td>Male</td>\n",
              "      <td>40</td>\n",
              "      <td>3</td>\n",
              "      <td>1</td>\n",
              "      <td>Laboratory Technician</td>\n",
              "      <td>2</td>\n",
              "      <td>Married</td>\n",
              "      <td>3468</td>\n",
              "      <td>16632</td>\n",
              "      <td>9</td>\n",
              "      <td>Y</td>\n",
              "      <td>No</td>\n",
              "      <td>12</td>\n",
              "      <td>3</td>\n",
              "      <td>4</td>\n",
              "      <td>80</td>\n",
              "      <td>1</td>\n",
              "      <td>6</td>\n",
              "      <td>3</td>\n",
              "      <td>3</td>\n",
              "      <td>2</td>\n",
              "      <td>2</td>\n",
              "      <td>2</td>\n",
              "      <td>2</td>\n",
              "    </tr>\n",
              "  </tbody>\n",
              "</table>\n",
              "</div>"
            ],
            "text/plain": [
              "   Age Attrition  ... YearsSinceLastPromotion  YearsWithCurrManager\n",
              "0   41       Yes  ...                       0                     5\n",
              "1   49        No  ...                       1                     7\n",
              "2   37       Yes  ...                       0                     0\n",
              "3   33        No  ...                       3                     0\n",
              "4   27        No  ...                       2                     2\n",
              "\n",
              "[5 rows x 35 columns]"
            ]
          },
          "metadata": {
            "tags": []
          },
          "execution_count": 84
        }
      ]
    },
    {
      "cell_type": "code",
      "metadata": {
        "id": "nbNHiHEwWH8E",
        "colab_type": "code",
        "colab": {
          "base_uri": "https://localhost:8080/",
          "height": 313
        },
        "outputId": "b9a85446-09b0-4262-e85a-06a3e6c7736c"
      },
      "source": [
        "# Last 5 rows, shows us how many datarows we have\n",
        "df.tail()"
      ],
      "execution_count": null,
      "outputs": [
        {
          "output_type": "execute_result",
          "data": {
            "text/html": [
              "<div>\n",
              "<style scoped>\n",
              "    .dataframe tbody tr th:only-of-type {\n",
              "        vertical-align: middle;\n",
              "    }\n",
              "\n",
              "    .dataframe tbody tr th {\n",
              "        vertical-align: top;\n",
              "    }\n",
              "\n",
              "    .dataframe thead th {\n",
              "        text-align: right;\n",
              "    }\n",
              "</style>\n",
              "<table border=\"1\" class=\"dataframe\">\n",
              "  <thead>\n",
              "    <tr style=\"text-align: right;\">\n",
              "      <th></th>\n",
              "      <th>Age</th>\n",
              "      <th>Attrition</th>\n",
              "      <th>BusinessTravel</th>\n",
              "      <th>DailyRate</th>\n",
              "      <th>Department</th>\n",
              "      <th>DistanceFromHome</th>\n",
              "      <th>Education</th>\n",
              "      <th>EducationField</th>\n",
              "      <th>EmployeeCount</th>\n",
              "      <th>EmployeeNumber</th>\n",
              "      <th>EnvironmentSatisfaction</th>\n",
              "      <th>Gender</th>\n",
              "      <th>HourlyRate</th>\n",
              "      <th>JobInvolvement</th>\n",
              "      <th>JobLevel</th>\n",
              "      <th>JobRole</th>\n",
              "      <th>JobSatisfaction</th>\n",
              "      <th>MaritalStatus</th>\n",
              "      <th>MonthlyIncome</th>\n",
              "      <th>MonthlyRate</th>\n",
              "      <th>NumCompaniesWorked</th>\n",
              "      <th>Over18</th>\n",
              "      <th>OverTime</th>\n",
              "      <th>PercentSalaryHike</th>\n",
              "      <th>PerformanceRating</th>\n",
              "      <th>RelationshipSatisfaction</th>\n",
              "      <th>StandardHours</th>\n",
              "      <th>StockOptionLevel</th>\n",
              "      <th>TotalWorkingYears</th>\n",
              "      <th>TrainingTimesLastYear</th>\n",
              "      <th>WorkLifeBalance</th>\n",
              "      <th>YearsAtCompany</th>\n",
              "      <th>YearsInCurrentRole</th>\n",
              "      <th>YearsSinceLastPromotion</th>\n",
              "      <th>YearsWithCurrManager</th>\n",
              "    </tr>\n",
              "  </thead>\n",
              "  <tbody>\n",
              "    <tr>\n",
              "      <th>1465</th>\n",
              "      <td>36</td>\n",
              "      <td>No</td>\n",
              "      <td>Travel_Frequently</td>\n",
              "      <td>884</td>\n",
              "      <td>Research &amp; Development</td>\n",
              "      <td>23</td>\n",
              "      <td>2</td>\n",
              "      <td>Medical</td>\n",
              "      <td>1</td>\n",
              "      <td>2061</td>\n",
              "      <td>3</td>\n",
              "      <td>Male</td>\n",
              "      <td>41</td>\n",
              "      <td>4</td>\n",
              "      <td>2</td>\n",
              "      <td>Laboratory Technician</td>\n",
              "      <td>4</td>\n",
              "      <td>Married</td>\n",
              "      <td>2571</td>\n",
              "      <td>12290</td>\n",
              "      <td>4</td>\n",
              "      <td>Y</td>\n",
              "      <td>No</td>\n",
              "      <td>17</td>\n",
              "      <td>3</td>\n",
              "      <td>3</td>\n",
              "      <td>80</td>\n",
              "      <td>1</td>\n",
              "      <td>17</td>\n",
              "      <td>3</td>\n",
              "      <td>3</td>\n",
              "      <td>5</td>\n",
              "      <td>2</td>\n",
              "      <td>0</td>\n",
              "      <td>3</td>\n",
              "    </tr>\n",
              "    <tr>\n",
              "      <th>1466</th>\n",
              "      <td>39</td>\n",
              "      <td>No</td>\n",
              "      <td>Travel_Rarely</td>\n",
              "      <td>613</td>\n",
              "      <td>Research &amp; Development</td>\n",
              "      <td>6</td>\n",
              "      <td>1</td>\n",
              "      <td>Medical</td>\n",
              "      <td>1</td>\n",
              "      <td>2062</td>\n",
              "      <td>4</td>\n",
              "      <td>Male</td>\n",
              "      <td>42</td>\n",
              "      <td>2</td>\n",
              "      <td>3</td>\n",
              "      <td>Healthcare Representative</td>\n",
              "      <td>1</td>\n",
              "      <td>Married</td>\n",
              "      <td>9991</td>\n",
              "      <td>21457</td>\n",
              "      <td>4</td>\n",
              "      <td>Y</td>\n",
              "      <td>No</td>\n",
              "      <td>15</td>\n",
              "      <td>3</td>\n",
              "      <td>1</td>\n",
              "      <td>80</td>\n",
              "      <td>1</td>\n",
              "      <td>9</td>\n",
              "      <td>5</td>\n",
              "      <td>3</td>\n",
              "      <td>7</td>\n",
              "      <td>7</td>\n",
              "      <td>1</td>\n",
              "      <td>7</td>\n",
              "    </tr>\n",
              "    <tr>\n",
              "      <th>1467</th>\n",
              "      <td>27</td>\n",
              "      <td>No</td>\n",
              "      <td>Travel_Rarely</td>\n",
              "      <td>155</td>\n",
              "      <td>Research &amp; Development</td>\n",
              "      <td>4</td>\n",
              "      <td>3</td>\n",
              "      <td>Life Sciences</td>\n",
              "      <td>1</td>\n",
              "      <td>2064</td>\n",
              "      <td>2</td>\n",
              "      <td>Male</td>\n",
              "      <td>87</td>\n",
              "      <td>4</td>\n",
              "      <td>2</td>\n",
              "      <td>Manufacturing Director</td>\n",
              "      <td>2</td>\n",
              "      <td>Married</td>\n",
              "      <td>6142</td>\n",
              "      <td>5174</td>\n",
              "      <td>1</td>\n",
              "      <td>Y</td>\n",
              "      <td>Yes</td>\n",
              "      <td>20</td>\n",
              "      <td>4</td>\n",
              "      <td>2</td>\n",
              "      <td>80</td>\n",
              "      <td>1</td>\n",
              "      <td>6</td>\n",
              "      <td>0</td>\n",
              "      <td>3</td>\n",
              "      <td>6</td>\n",
              "      <td>2</td>\n",
              "      <td>0</td>\n",
              "      <td>3</td>\n",
              "    </tr>\n",
              "    <tr>\n",
              "      <th>1468</th>\n",
              "      <td>49</td>\n",
              "      <td>No</td>\n",
              "      <td>Travel_Frequently</td>\n",
              "      <td>1023</td>\n",
              "      <td>Sales</td>\n",
              "      <td>2</td>\n",
              "      <td>3</td>\n",
              "      <td>Medical</td>\n",
              "      <td>1</td>\n",
              "      <td>2065</td>\n",
              "      <td>4</td>\n",
              "      <td>Male</td>\n",
              "      <td>63</td>\n",
              "      <td>2</td>\n",
              "      <td>2</td>\n",
              "      <td>Sales Executive</td>\n",
              "      <td>2</td>\n",
              "      <td>Married</td>\n",
              "      <td>5390</td>\n",
              "      <td>13243</td>\n",
              "      <td>2</td>\n",
              "      <td>Y</td>\n",
              "      <td>No</td>\n",
              "      <td>14</td>\n",
              "      <td>3</td>\n",
              "      <td>4</td>\n",
              "      <td>80</td>\n",
              "      <td>0</td>\n",
              "      <td>17</td>\n",
              "      <td>3</td>\n",
              "      <td>2</td>\n",
              "      <td>9</td>\n",
              "      <td>6</td>\n",
              "      <td>0</td>\n",
              "      <td>8</td>\n",
              "    </tr>\n",
              "    <tr>\n",
              "      <th>1469</th>\n",
              "      <td>34</td>\n",
              "      <td>No</td>\n",
              "      <td>Travel_Rarely</td>\n",
              "      <td>628</td>\n",
              "      <td>Research &amp; Development</td>\n",
              "      <td>8</td>\n",
              "      <td>3</td>\n",
              "      <td>Medical</td>\n",
              "      <td>1</td>\n",
              "      <td>2068</td>\n",
              "      <td>2</td>\n",
              "      <td>Male</td>\n",
              "      <td>82</td>\n",
              "      <td>4</td>\n",
              "      <td>2</td>\n",
              "      <td>Laboratory Technician</td>\n",
              "      <td>3</td>\n",
              "      <td>Married</td>\n",
              "      <td>4404</td>\n",
              "      <td>10228</td>\n",
              "      <td>2</td>\n",
              "      <td>Y</td>\n",
              "      <td>No</td>\n",
              "      <td>12</td>\n",
              "      <td>3</td>\n",
              "      <td>1</td>\n",
              "      <td>80</td>\n",
              "      <td>0</td>\n",
              "      <td>6</td>\n",
              "      <td>3</td>\n",
              "      <td>4</td>\n",
              "      <td>4</td>\n",
              "      <td>3</td>\n",
              "      <td>1</td>\n",
              "      <td>2</td>\n",
              "    </tr>\n",
              "  </tbody>\n",
              "</table>\n",
              "</div>"
            ],
            "text/plain": [
              "      Age Attrition  ... YearsSinceLastPromotion  YearsWithCurrManager\n",
              "1465   36        No  ...                       0                     3\n",
              "1466   39        No  ...                       1                     7\n",
              "1467   27        No  ...                       0                     3\n",
              "1468   49        No  ...                       0                     8\n",
              "1469   34        No  ...                       1                     2\n",
              "\n",
              "[5 rows x 35 columns]"
            ]
          },
          "metadata": {
            "tags": []
          },
          "execution_count": 85
        }
      ]
    },
    {
      "cell_type": "code",
      "metadata": {
        "id": "Ycch5h4TWQtw",
        "colab_type": "code",
        "colab": {
          "base_uri": "https://localhost:8080/",
          "height": 35
        },
        "outputId": "bb346678-a29f-498a-b292-b8eea6f9df0a"
      },
      "source": [
        "# Rows, columns\n",
        "df.shape"
      ],
      "execution_count": null,
      "outputs": [
        {
          "output_type": "execute_result",
          "data": {
            "text/plain": [
              "(1470, 35)"
            ]
          },
          "metadata": {
            "tags": []
          },
          "execution_count": 46
        }
      ]
    },
    {
      "cell_type": "code",
      "metadata": {
        "id": "L2bnoZ34W4Q7",
        "colab_type": "code",
        "colab": {
          "base_uri": "https://localhost:8080/",
          "height": 217
        },
        "outputId": "33ca147f-4896-483a-c320-149073d01d47"
      },
      "source": [
        "# Column names\n",
        "df.columns"
      ],
      "execution_count": null,
      "outputs": [
        {
          "output_type": "execute_result",
          "data": {
            "text/plain": [
              "Index(['Age', 'Attrition', 'BusinessTravel', 'DailyRate', 'Department',\n",
              "       'DistanceFromHome', 'Education', 'EducationField', 'EmployeeCount',\n",
              "       'EmployeeNumber', 'EnvironmentSatisfaction', 'Gender', 'HourlyRate',\n",
              "       'JobInvolvement', 'JobLevel', 'JobRole', 'JobSatisfaction',\n",
              "       'MaritalStatus', 'MonthlyIncome', 'MonthlyRate', 'NumCompaniesWorked',\n",
              "       'Over18', 'OverTime', 'PercentSalaryHike', 'PerformanceRating',\n",
              "       'RelationshipSatisfaction', 'StandardHours', 'StockOptionLevel',\n",
              "       'TotalWorkingYears', 'TrainingTimesLastYear', 'WorkLifeBalance',\n",
              "       'YearsAtCompany', 'YearsInCurrentRole', 'YearsSinceLastPromotion',\n",
              "       'YearsWithCurrManager'],\n",
              "      dtype='object')"
            ]
          },
          "metadata": {
            "tags": []
          },
          "execution_count": 51
        }
      ]
    },
    {
      "cell_type": "code",
      "metadata": {
        "id": "sxASnt0QaBVj",
        "colab_type": "code",
        "colab": {
          "base_uri": "https://localhost:8080/",
          "height": 35
        },
        "outputId": "9d771a07-663c-4286-c15a-978ad048ab27"
      },
      "source": [
        "# See how many columns we have\n",
        "print(f'There are {len(df.columns)} columns in the dataset')"
      ],
      "execution_count": null,
      "outputs": [
        {
          "output_type": "stream",
          "text": [
            "There are 35 columns in the dataset\n"
          ],
          "name": "stdout"
        }
      ]
    },
    {
      "cell_type": "code",
      "metadata": {
        "id": "I4TfPuYQaThG",
        "colab_type": "code",
        "colab": {
          "base_uri": "https://localhost:8080/",
          "height": 35
        },
        "outputId": "16696dcb-8482-4388-d060-80012691991b"
      },
      "source": [
        "# See if there are any null values in our data\n",
        "is_null = df.columns[df.isnull().any()].tolist()\n",
        "\n",
        "if(is_null == []):\n",
        "  print('There are no missing values in our data')\n",
        "else:\n",
        "  print(f'Missing values in our data = {is_null}')"
      ],
      "execution_count": null,
      "outputs": [
        {
          "output_type": "stream",
          "text": [
            "There are no missing values in our data\n"
          ],
          "name": "stdout"
        }
      ]
    },
    {
      "cell_type": "code",
      "metadata": {
        "id": "Vg0KVtNUTCYY",
        "colab_type": "code",
        "colab": {
          "base_uri": "https://localhost:8080/",
          "height": 53
        },
        "outputId": "f918de72-865c-4754-c769-17cdedd01d69"
      },
      "source": [
        "# See how many has left vs stayed at the company\n",
        "attrition = df.Attrition.value_counts() / len(df) * 100\n",
        "no = int(round(attrition[0]))\n",
        "yes = int(round(attrition[1]))\n",
        "\n",
        "print(f'{no} % has stayed with the company')\n",
        "print(f'{yes} % has left the company')"
      ],
      "execution_count": null,
      "outputs": [
        {
          "output_type": "stream",
          "text": [
            "84 % has stayed with the company\n",
            "16 % has left the company\n"
          ],
          "name": "stdout"
        }
      ]
    },
    {
      "cell_type": "code",
      "metadata": {
        "id": "MAGmZ9T6UtKc",
        "colab_type": "code",
        "colab": {
          "base_uri": "https://localhost:8080/",
          "height": 350
        },
        "outputId": "43406ec1-a9e0-4b07-9553-32ab7d0ac7e9"
      },
      "source": [
        "# Visualisation of the attrition\n",
        "plt.figure(figsize=(8, 5))\n",
        "sns.set_style(\"whitegrid\", {'axes.grid' : False})\n",
        "plt.title(\"Percentage Attrition\")\n",
        "\n",
        "ax = (df.Attrition.value_counts()/len(df)*100).sort_index().plot(kind=\"bar\", rot=0)\n",
        "\n",
        "df_len = int(len(df))\n",
        "\n",
        "sns.countplot(x ='Attrition', data = df, palette = \"Set2\")\n",
        "\n",
        "for p in ax.patches:\n",
        "    height = p.get_height()\n",
        "    ax.text(p.get_x()+p.get_width()/2.,\n",
        "            height + 3,\n",
        "            '{:0.0f}%'.format(height/df_len*100),\n",
        "            ha=\"center\") \n",
        "    "
      ],
      "execution_count": null,
      "outputs": [
        {
          "output_type": "display_data",
          "data": {
            "image/png": "[encoded data removed]",
            "text/plain": [
              "<Figure size 576x360 with 1 Axes>"
            ]
          },
          "metadata": {
            "tags": []
          }
        }
      ]
    },
    {
      "cell_type": "markdown",
      "metadata": {
        "id": "slEi7f4LhJ3l",
        "colab_type": "text"
      },
      "source": [
        "## Attrition summary\n",
        "\n",
        "Looking at the summary below we will see the average statistics of people staying vs not staying at the company.\n",
        "\n",
        "In the average these people tend to leave the company (compared to those who stay):\n",
        "* Younger people around 33 years of age, we can also see this in the visualization below\n",
        "* Lower job level than people who tend to stay\n",
        "* Less monthly income\n",
        "* Less stock option level\n",
        "* Fewer total working years\n",
        "* Less years in the current role\n",
        "* Less time with their current manager"
      ]
    },
    {
      "cell_type": "code",
      "metadata": {
        "id": "CNjcOZUvfV6q",
        "colab_type": "code",
        "colab": {
          "base_uri": "https://localhost:8080/",
          "height": 163
        },
        "outputId": "e2f2544c-8f11-4b96-dc07-4224e66179a3"
      },
      "source": [
        "# Overview of summary (staying vs not staying at the company)\n",
        "attrition_summary = df.groupby('Attrition')\n",
        "attrition_summary.mean()"
      ],
      "execution_count": null,
      "outputs": [
        {
          "output_type": "execute_result",
          "data": {
            "text/html": [
              "<div>\n",
              "<style scoped>\n",
              "    .dataframe tbody tr th:only-of-type {\n",
              "        vertical-align: middle;\n",
              "    }\n",
              "\n",
              "    .dataframe tbody tr th {\n",
              "        vertical-align: top;\n",
              "    }\n",
              "\n",
              "    .dataframe thead th {\n",
              "        text-align: right;\n",
              "    }\n",
              "</style>\n",
              "<table border=\"1\" class=\"dataframe\">\n",
              "  <thead>\n",
              "    <tr style=\"text-align: right;\">\n",
              "      <th></th>\n",
              "      <th>Age</th>\n",
              "      <th>DailyRate</th>\n",
              "      <th>DistanceFromHome</th>\n",
              "      <th>Education</th>\n",
              "      <th>EmployeeCount</th>\n",
              "      <th>EmployeeNumber</th>\n",
              "      <th>EnvironmentSatisfaction</th>\n",
              "      <th>HourlyRate</th>\n",
              "      <th>JobInvolvement</th>\n",
              "      <th>JobLevel</th>\n",
              "      <th>JobSatisfaction</th>\n",
              "      <th>MonthlyIncome</th>\n",
              "      <th>MonthlyRate</th>\n",
              "      <th>NumCompaniesWorked</th>\n",
              "      <th>PercentSalaryHike</th>\n",
              "      <th>PerformanceRating</th>\n",
              "      <th>RelationshipSatisfaction</th>\n",
              "      <th>StandardHours</th>\n",
              "      <th>StockOptionLevel</th>\n",
              "      <th>TotalWorkingYears</th>\n",
              "      <th>TrainingTimesLastYear</th>\n",
              "      <th>WorkLifeBalance</th>\n",
              "      <th>YearsAtCompany</th>\n",
              "      <th>YearsInCurrentRole</th>\n",
              "      <th>YearsSinceLastPromotion</th>\n",
              "      <th>YearsWithCurrManager</th>\n",
              "    </tr>\n",
              "    <tr>\n",
              "      <th>Attrition</th>\n",
              "      <th></th>\n",
              "      <th></th>\n",
              "      <th></th>\n",
              "      <th></th>\n",
              "      <th></th>\n",
              "      <th></th>\n",
              "      <th></th>\n",
              "      <th></th>\n",
              "      <th></th>\n",
              "      <th></th>\n",
              "      <th></th>\n",
              "      <th></th>\n",
              "      <th></th>\n",
              "      <th></th>\n",
              "      <th></th>\n",
              "      <th></th>\n",
              "      <th></th>\n",
              "      <th></th>\n",
              "      <th></th>\n",
              "      <th></th>\n",
              "      <th></th>\n",
              "      <th></th>\n",
              "      <th></th>\n",
              "      <th></th>\n",
              "      <th></th>\n",
              "      <th></th>\n",
              "    </tr>\n",
              "  </thead>\n",
              "  <tbody>\n",
              "    <tr>\n",
              "      <th>No</th>\n",
              "      <td>37.561233</td>\n",
              "      <td>812.504461</td>\n",
              "      <td>8.915653</td>\n",
              "      <td>2.927007</td>\n",
              "      <td>1.0</td>\n",
              "      <td>1027.656123</td>\n",
              "      <td>2.771290</td>\n",
              "      <td>65.952149</td>\n",
              "      <td>2.770479</td>\n",
              "      <td>2.145985</td>\n",
              "      <td>2.778589</td>\n",
              "      <td>6832.739659</td>\n",
              "      <td>14265.779400</td>\n",
              "      <td>2.645580</td>\n",
              "      <td>15.231144</td>\n",
              "      <td>3.153285</td>\n",
              "      <td>2.733982</td>\n",
              "      <td>80.0</td>\n",
              "      <td>0.845093</td>\n",
              "      <td>11.862936</td>\n",
              "      <td>2.832928</td>\n",
              "      <td>2.781022</td>\n",
              "      <td>7.369019</td>\n",
              "      <td>4.484185</td>\n",
              "      <td>2.234388</td>\n",
              "      <td>4.367397</td>\n",
              "    </tr>\n",
              "    <tr>\n",
              "      <th>Yes</th>\n",
              "      <td>33.607595</td>\n",
              "      <td>750.362869</td>\n",
              "      <td>10.632911</td>\n",
              "      <td>2.839662</td>\n",
              "      <td>1.0</td>\n",
              "      <td>1010.345992</td>\n",
              "      <td>2.464135</td>\n",
              "      <td>65.573840</td>\n",
              "      <td>2.518987</td>\n",
              "      <td>1.637131</td>\n",
              "      <td>2.468354</td>\n",
              "      <td>4787.092827</td>\n",
              "      <td>14559.308017</td>\n",
              "      <td>2.940928</td>\n",
              "      <td>15.097046</td>\n",
              "      <td>3.156118</td>\n",
              "      <td>2.599156</td>\n",
              "      <td>80.0</td>\n",
              "      <td>0.527426</td>\n",
              "      <td>8.244726</td>\n",
              "      <td>2.624473</td>\n",
              "      <td>2.658228</td>\n",
              "      <td>5.130802</td>\n",
              "      <td>2.902954</td>\n",
              "      <td>1.945148</td>\n",
              "      <td>2.852321</td>\n",
              "    </tr>\n",
              "  </tbody>\n",
              "</table>\n",
              "</div>"
            ],
            "text/plain": [
              "                 Age   DailyRate  ...  YearsSinceLastPromotion  YearsWithCurrManager\n",
              "Attrition                         ...                                               \n",
              "No         37.561233  812.504461  ...                 2.234388              4.367397\n",
              "Yes        33.607595  750.362869  ...                 1.945148              2.852321\n",
              "\n",
              "[2 rows x 26 columns]"
            ]
          },
          "metadata": {
            "tags": []
          },
          "execution_count": 115
        }
      ]
    },
    {
      "cell_type": "code",
      "metadata": {
        "id": "tcoBkBNRtikf",
        "colab_type": "code",
        "colab": {
          "base_uri": "https://localhost:8080/",
          "height": 627
        },
        "outputId": "5233ccbf-12b1-468a-9acd-f51ecafa4f08"
      },
      "source": [
        "# Plot attrition vs age\n",
        "plt.figure(figsize=(14, 10))\n",
        "sns.set_style(\"whitegrid\", {'axes.grid' : False})\n",
        "plt.title(\"Age as an attrition factor\")\n",
        "\n",
        "sns.countplot(x ='Age', hue='Attrition', data = df, palette = \"Set2\");"
      ],
      "execution_count": null,
      "outputs": [
        {
          "output_type": "display_data",
          "data": {
            "image/png": "[encoded data removed]",
            "text/plain": [
              "<Figure size 1008x720 with 1 Axes>"
            ]
          },
          "metadata": {
            "tags": []
          }
        }
      ]
    },
    {
      "cell_type": "markdown",
      "metadata": {
        "id": "30ky9o0ijIhb",
        "colab_type": "text"
      },
      "source": [
        "# Correlations\n",
        "\n",
        "We will now create a heatmap to see correlations in our data.\n",
        "\n",
        "At a first glance moste values seems weekly correlated.\n",
        "\n",
        "\n",
        "* positive(+) correlation: One example is total working years correlated with job level (when you work at a company for a longer time you will have the possibility to advance)\n",
        "* neagtive(-) correlation: Number of years someone has worked on the company has a negative correlation with numbers of companies worked."
      ]
    },
    {
      "cell_type": "code",
      "metadata": {
        "id": "CBF9rjBBicZE",
        "colab_type": "code",
        "colab": {
          "base_uri": "https://localhost:8080/",
          "height": 998
        },
        "outputId": "7e2d538a-acec-48ab-ff18-f3c0a763eb88"
      },
      "source": [
        "fig, ax = plt.subplots(figsize=(16, 15))\n",
        "corr = df.corr()\n",
        "ax =sns.heatmap(corr, cmap=sns.diverging_palette(220, 10, as_cmap=True), annot=True, linewidths=5, \n",
        "            vmin=-1, vmax=1, annot_kws={'size': \"8\"})\n",
        "plt.show()\n"
      ],
      "execution_count": null,
      "outputs": [
        {
          "output_type": "display_data",
          "data": {
            "image/png": "[encoded data removed]",
            "text/plain": [
              "<Figure size 1152x1080 with 2 Axes>"
            ]
          },
          "metadata": {
            "tags": []
          }
        }
      ]
    },
    {
      "cell_type": "markdown",
      "metadata": {
        "id": "8tBypVR4gbUP",
        "colab_type": "text"
      },
      "source": [
        "## Descriptive Statistics\n",
        "\n",
        "Statistics will help us describe our data and make it more meaningful.\n",
        "\n",
        "We will see what is central to out dataset and also how spread out or data is.\n",
        "\n",
        "It is also important for us to know the type of our data so we know how we can change it to use it. The machine only understands numbers and will not be able to process non numerical values.\n"
      ]
    },
    {
      "cell_type": "code",
      "metadata": {
        "id": "ZvyMIcH6A-i9",
        "colab_type": "code",
        "colab": {
          "base_uri": "https://localhost:8080/",
          "height": 780
        },
        "outputId": "09ee384f-92df-4b8d-8103-ffc7d169831b"
      },
      "source": [
        "# See the datatypes\n",
        "df.info()"
      ],
      "execution_count": null,
      "outputs": [
        {
          "output_type": "stream",
          "text": [
            "<class 'pandas.core.frame.DataFrame'>\n",
            "RangeIndex: 1470 entries, 0 to 1469\n",
            "Data columns (total 35 columns):\n",
            " #   Column                    Non-Null Count  Dtype \n",
            "---  ------                    --------------  ----- \n",
            " 0   Age                       1470 non-null   int64 \n",
            " 1   Attrition                 1470 non-null   object\n",
            " 2   BusinessTravel            1470 non-null   object\n",
            " 3   DailyRate                 1470 non-null   int64 \n",
            " 4   Department                1470 non-null   object\n",
            " 5   DistanceFromHome          1470 non-null   int64 \n",
            " 6   Education                 1470 non-null   int64 \n",
            " 7   EducationField            1470 non-null   object\n",
            " 8   EmployeeCount             1470 non-null   int64 \n",
            " 9   EmployeeNumber            1470 non-null   int64 \n",
            " 10  EnvironmentSatisfaction   1470 non-null   int64 \n",
            " 11  Gender                    1470 non-null   object\n",
            " 12  HourlyRate                1470 non-null   int64 \n",
            " 13  JobInvolvement            1470 non-null   int64 \n",
            " 14  JobLevel                  1470 non-null   int64 \n",
            " 15  JobRole                   1470 non-null   object\n",
            " 16  JobSatisfaction           1470 non-null   int64 \n",
            " 17  MaritalStatus             1470 non-null   object\n",
            " 18  MonthlyIncome             1470 non-null   int64 \n",
            " 19  MonthlyRate               1470 non-null   int64 \n",
            " 20  NumCompaniesWorked        1470 non-null   int64 \n",
            " 21  Over18                    1470 non-null   object\n",
            " 22  OverTime                  1470 non-null   object\n",
            " 23  PercentSalaryHike         1470 non-null   int64 \n",
            " 24  PerformanceRating         1470 non-null   int64 \n",
            " 25  RelationshipSatisfaction  1470 non-null   int64 \n",
            " 26  StandardHours             1470 non-null   int64 \n",
            " 27  StockOptionLevel          1470 non-null   int64 \n",
            " 28  TotalWorkingYears         1470 non-null   int64 \n",
            " 29  TrainingTimesLastYear     1470 non-null   int64 \n",
            " 30  WorkLifeBalance           1470 non-null   int64 \n",
            " 31  YearsAtCompany            1470 non-null   int64 \n",
            " 32  YearsInCurrentRole        1470 non-null   int64 \n",
            " 33  YearsSinceLastPromotion   1470 non-null   int64 \n",
            " 34  YearsWithCurrManager      1470 non-null   int64 \n",
            "dtypes: int64(26), object(9)\n",
            "memory usage: 402.1+ KB\n"
          ],
          "name": "stdout"
        }
      ]
    },
    {
      "cell_type": "code",
      "metadata": {
        "id": "7zYGV1nIi9d4",
        "colab_type": "code",
        "colab": {
          "base_uri": "https://localhost:8080/",
          "height": 653
        },
        "outputId": "2c98d972-e578-4af0-ff14-3a6b2f0dbc61"
      },
      "source": [
        "# Our unique values for every column name\n",
        "columns = df.columns.tolist()\n",
        "for i in columns:\n",
        "  print(i + \" = \" + str(len(df[i].unique())))"
      ],
      "execution_count": null,
      "outputs": [
        {
          "output_type": "stream",
          "text": [
            "Age = 43\n",
            "Attrition = 2\n",
            "BusinessTravel = 3\n",
            "DailyRate = 886\n",
            "Department = 3\n",
            "DistanceFromHome = 29\n",
            "Education = 5\n",
            "EducationField = 6\n",
            "EmployeeCount = 1\n",
            "EmployeeNumber = 1470\n",
            "EnvironmentSatisfaction = 4\n",
            "Gender = 2\n",
            "HourlyRate = 71\n",
            "JobInvolvement = 4\n",
            "JobLevel = 5\n",
            "JobRole = 9\n",
            "JobSatisfaction = 4\n",
            "MaritalStatus = 3\n",
            "MonthlyIncome = 1349\n",
            "MonthlyRate = 1427\n",
            "NumCompaniesWorked = 10\n",
            "Over18 = 1\n",
            "OverTime = 2\n",
            "PercentSalaryHike = 15\n",
            "PerformanceRating = 2\n",
            "RelationshipSatisfaction = 4\n",
            "StandardHours = 1\n",
            "StockOptionLevel = 4\n",
            "TotalWorkingYears = 40\n",
            "TrainingTimesLastYear = 7\n",
            "WorkLifeBalance = 4\n",
            "YearsAtCompany = 37\n",
            "YearsInCurrentRole = 19\n",
            "YearsSinceLastPromotion = 16\n",
            "YearsWithCurrManager = 18\n"
          ],
          "name": "stdout"
        }
      ]
    },
    {
      "cell_type": "code",
      "metadata": {
        "id": "Xzycpu2ZjHhp",
        "colab_type": "code",
        "colab": {
          "base_uri": "https://localhost:8080/",
          "height": 320
        },
        "outputId": "8b2e323a-9630-4c0b-dfde-625ebdf93f83"
      },
      "source": [
        "# Statistical overview\n",
        "df.describe()"
      ],
      "execution_count": null,
      "outputs": [
        {
          "output_type": "execute_result",
          "data": {
            "text/html": [
              "<div>\n",
              "<style scoped>\n",
              "    .dataframe tbody tr th:only-of-type {\n",
              "        vertical-align: middle;\n",
              "    }\n",
              "\n",
              "    .dataframe tbody tr th {\n",
              "        vertical-align: top;\n",
              "    }\n",
              "\n",
              "    .dataframe thead th {\n",
              "        text-align: right;\n",
              "    }\n",
              "</style>\n",
              "<table border=\"1\" class=\"dataframe\">\n",
              "  <thead>\n",
              "    <tr style=\"text-align: right;\">\n",
              "      <th></th>\n",
              "      <th>Age</th>\n",
              "      <th>DailyRate</th>\n",
              "      <th>DistanceFromHome</th>\n",
              "      <th>Education</th>\n",
              "      <th>EmployeeCount</th>\n",
              "      <th>EmployeeNumber</th>\n",
              "      <th>EnvironmentSatisfaction</th>\n",
              "      <th>HourlyRate</th>\n",
              "      <th>JobInvolvement</th>\n",
              "      <th>JobLevel</th>\n",
              "      <th>JobSatisfaction</th>\n",
              "      <th>MonthlyIncome</th>\n",
              "      <th>MonthlyRate</th>\n",
              "      <th>NumCompaniesWorked</th>\n",
              "      <th>PercentSalaryHike</th>\n",
              "      <th>PerformanceRating</th>\n",
              "      <th>RelationshipSatisfaction</th>\n",
              "      <th>StandardHours</th>\n",
              "      <th>StockOptionLevel</th>\n",
              "      <th>TotalWorkingYears</th>\n",
              "      <th>TrainingTimesLastYear</th>\n",
              "      <th>WorkLifeBalance</th>\n",
              "      <th>YearsAtCompany</th>\n",
              "      <th>YearsInCurrentRole</th>\n",
              "      <th>YearsSinceLastPromotion</th>\n",
              "      <th>YearsWithCurrManager</th>\n",
              "    </tr>\n",
              "  </thead>\n",
              "  <tbody>\n",
              "    <tr>\n",
              "      <th>count</th>\n",
              "      <td>1470.000000</td>\n",
              "      <td>1470.000000</td>\n",
              "      <td>1470.000000</td>\n",
              "      <td>1470.000000</td>\n",
              "      <td>1470.0</td>\n",
              "      <td>1470.000000</td>\n",
              "      <td>1470.000000</td>\n",
              "      <td>1470.000000</td>\n",
              "      <td>1470.000000</td>\n",
              "      <td>1470.000000</td>\n",
              "      <td>1470.000000</td>\n",
              "      <td>1470.000000</td>\n",
              "      <td>1470.000000</td>\n",
              "      <td>1470.000000</td>\n",
              "      <td>1470.000000</td>\n",
              "      <td>1470.000000</td>\n",
              "      <td>1470.000000</td>\n",
              "      <td>1470.0</td>\n",
              "      <td>1470.000000</td>\n",
              "      <td>1470.000000</td>\n",
              "      <td>1470.000000</td>\n",
              "      <td>1470.000000</td>\n",
              "      <td>1470.000000</td>\n",
              "      <td>1470.000000</td>\n",
              "      <td>1470.000000</td>\n",
              "      <td>1470.000000</td>\n",
              "    </tr>\n",
              "    <tr>\n",
              "      <th>mean</th>\n",
              "      <td>36.923810</td>\n",
              "      <td>802.485714</td>\n",
              "      <td>9.192517</td>\n",
              "      <td>2.912925</td>\n",
              "      <td>1.0</td>\n",
              "      <td>1024.865306</td>\n",
              "      <td>2.721769</td>\n",
              "      <td>65.891156</td>\n",
              "      <td>2.729932</td>\n",
              "      <td>2.063946</td>\n",
              "      <td>2.728571</td>\n",
              "      <td>6502.931293</td>\n",
              "      <td>14313.103401</td>\n",
              "      <td>2.693197</td>\n",
              "      <td>15.209524</td>\n",
              "      <td>3.153741</td>\n",
              "      <td>2.712245</td>\n",
              "      <td>80.0</td>\n",
              "      <td>0.793878</td>\n",
              "      <td>11.279592</td>\n",
              "      <td>2.799320</td>\n",
              "      <td>2.761224</td>\n",
              "      <td>7.008163</td>\n",
              "      <td>4.229252</td>\n",
              "      <td>2.187755</td>\n",
              "      <td>4.123129</td>\n",
              "    </tr>\n",
              "    <tr>\n",
              "      <th>std</th>\n",
              "      <td>9.135373</td>\n",
              "      <td>403.509100</td>\n",
              "      <td>8.106864</td>\n",
              "      <td>1.024165</td>\n",
              "      <td>0.0</td>\n",
              "      <td>602.024335</td>\n",
              "      <td>1.093082</td>\n",
              "      <td>20.329428</td>\n",
              "      <td>0.711561</td>\n",
              "      <td>1.106940</td>\n",
              "      <td>1.102846</td>\n",
              "      <td>4707.956783</td>\n",
              "      <td>7117.786044</td>\n",
              "      <td>2.498009</td>\n",
              "      <td>3.659938</td>\n",
              "      <td>0.360824</td>\n",
              "      <td>1.081209</td>\n",
              "      <td>0.0</td>\n",
              "      <td>0.852077</td>\n",
              "      <td>7.780782</td>\n",
              "      <td>1.289271</td>\n",
              "      <td>0.706476</td>\n",
              "      <td>6.126525</td>\n",
              "      <td>3.623137</td>\n",
              "      <td>3.222430</td>\n",
              "      <td>3.568136</td>\n",
              "    </tr>\n",
              "    <tr>\n",
              "      <th>min</th>\n",
              "      <td>18.000000</td>\n",
              "      <td>102.000000</td>\n",
              "      <td>1.000000</td>\n",
              "      <td>1.000000</td>\n",
              "      <td>1.0</td>\n",
              "      <td>1.000000</td>\n",
              "      <td>1.000000</td>\n",
              "      <td>30.000000</td>\n",
              "      <td>1.000000</td>\n",
              "      <td>1.000000</td>\n",
              "      <td>1.000000</td>\n",
              "      <td>1009.000000</td>\n",
              "      <td>2094.000000</td>\n",
              "      <td>0.000000</td>\n",
              "      <td>11.000000</td>\n",
              "      <td>3.000000</td>\n",
              "      <td>1.000000</td>\n",
              "      <td>80.0</td>\n",
              "      <td>0.000000</td>\n",
              "      <td>0.000000</td>\n",
              "      <td>0.000000</td>\n",
              "      <td>1.000000</td>\n",
              "      <td>0.000000</td>\n",
              "      <td>0.000000</td>\n",
              "      <td>0.000000</td>\n",
              "      <td>0.000000</td>\n",
              "    </tr>\n",
              "    <tr>\n",
              "      <th>25%</th>\n",
              "      <td>30.000000</td>\n",
              "      <td>465.000000</td>\n",
              "      <td>2.000000</td>\n",
              "      <td>2.000000</td>\n",
              "      <td>1.0</td>\n",
              "      <td>491.250000</td>\n",
              "      <td>2.000000</td>\n",
              "      <td>48.000000</td>\n",
              "      <td>2.000000</td>\n",
              "      <td>1.000000</td>\n",
              "      <td>2.000000</td>\n",
              "      <td>2911.000000</td>\n",
              "      <td>8047.000000</td>\n",
              "      <td>1.000000</td>\n",
              "      <td>12.000000</td>\n",
              "      <td>3.000000</td>\n",
              "      <td>2.000000</td>\n",
              "      <td>80.0</td>\n",
              "      <td>0.000000</td>\n",
              "      <td>6.000000</td>\n",
              "      <td>2.000000</td>\n",
              "      <td>2.000000</td>\n",
              "      <td>3.000000</td>\n",
              "      <td>2.000000</td>\n",
              "      <td>0.000000</td>\n",
              "      <td>2.000000</td>\n",
              "    </tr>\n",
              "    <tr>\n",
              "      <th>50%</th>\n",
              "      <td>36.000000</td>\n",
              "      <td>802.000000</td>\n",
              "      <td>7.000000</td>\n",
              "      <td>3.000000</td>\n",
              "      <td>1.0</td>\n",
              "      <td>1020.500000</td>\n",
              "      <td>3.000000</td>\n",
              "      <td>66.000000</td>\n",
              "      <td>3.000000</td>\n",
              "      <td>2.000000</td>\n",
              "      <td>3.000000</td>\n",
              "      <td>4919.000000</td>\n",
              "      <td>14235.500000</td>\n",
              "      <td>2.000000</td>\n",
              "      <td>14.000000</td>\n",
              "      <td>3.000000</td>\n",
              "      <td>3.000000</td>\n",
              "      <td>80.0</td>\n",
              "      <td>1.000000</td>\n",
              "      <td>10.000000</td>\n",
              "      <td>3.000000</td>\n",
              "      <td>3.000000</td>\n",
              "      <td>5.000000</td>\n",
              "      <td>3.000000</td>\n",
              "      <td>1.000000</td>\n",
              "      <td>3.000000</td>\n",
              "    </tr>\n",
              "    <tr>\n",
              "      <th>75%</th>\n",
              "      <td>43.000000</td>\n",
              "      <td>1157.000000</td>\n",
              "      <td>14.000000</td>\n",
              "      <td>4.000000</td>\n",
              "      <td>1.0</td>\n",
              "      <td>1555.750000</td>\n",
              "      <td>4.000000</td>\n",
              "      <td>83.750000</td>\n",
              "      <td>3.000000</td>\n",
              "      <td>3.000000</td>\n",
              "      <td>4.000000</td>\n",
              "      <td>8379.000000</td>\n",
              "      <td>20461.500000</td>\n",
              "      <td>4.000000</td>\n",
              "      <td>18.000000</td>\n",
              "      <td>3.000000</td>\n",
              "      <td>4.000000</td>\n",
              "      <td>80.0</td>\n",
              "      <td>1.000000</td>\n",
              "      <td>15.000000</td>\n",
              "      <td>3.000000</td>\n",
              "      <td>3.000000</td>\n",
              "      <td>9.000000</td>\n",
              "      <td>7.000000</td>\n",
              "      <td>3.000000</td>\n",
              "      <td>7.000000</td>\n",
              "    </tr>\n",
              "    <tr>\n",
              "      <th>max</th>\n",
              "      <td>60.000000</td>\n",
              "      <td>1499.000000</td>\n",
              "      <td>29.000000</td>\n",
              "      <td>5.000000</td>\n",
              "      <td>1.0</td>\n",
              "      <td>2068.000000</td>\n",
              "      <td>4.000000</td>\n",
              "      <td>100.000000</td>\n",
              "      <td>4.000000</td>\n",
              "      <td>5.000000</td>\n",
              "      <td>4.000000</td>\n",
              "      <td>19999.000000</td>\n",
              "      <td>26999.000000</td>\n",
              "      <td>9.000000</td>\n",
              "      <td>25.000000</td>\n",
              "      <td>4.000000</td>\n",
              "      <td>4.000000</td>\n",
              "      <td>80.0</td>\n",
              "      <td>3.000000</td>\n",
              "      <td>40.000000</td>\n",
              "      <td>6.000000</td>\n",
              "      <td>4.000000</td>\n",
              "      <td>40.000000</td>\n",
              "      <td>18.000000</td>\n",
              "      <td>15.000000</td>\n",
              "      <td>17.000000</td>\n",
              "    </tr>\n",
              "  </tbody>\n",
              "</table>\n",
              "</div>"
            ],
            "text/plain": [
              "               Age    DailyRate  ...  YearsSinceLastPromotion  YearsWithCurrManager\n",
              "count  1470.000000  1470.000000  ...              1470.000000           1470.000000\n",
              "mean     36.923810   802.485714  ...                 2.187755              4.123129\n",
              "std       9.135373   403.509100  ...                 3.222430              3.568136\n",
              "min      18.000000   102.000000  ...                 0.000000              0.000000\n",
              "25%      30.000000   465.000000  ...                 0.000000              2.000000\n",
              "50%      36.000000   802.000000  ...                 1.000000              3.000000\n",
              "75%      43.000000  1157.000000  ...                 3.000000              7.000000\n",
              "max      60.000000  1499.000000  ...                15.000000             17.000000\n",
              "\n",
              "[8 rows x 26 columns]"
            ]
          },
          "metadata": {
            "tags": []
          },
          "execution_count": 69
        }
      ]
    },
    {
      "cell_type": "markdown",
      "metadata": {
        "id": "fAcnPkwDt8ov",
        "colab_type": "text"
      },
      "source": [
        "## Preparing our data further\n",
        "\n",
        "We will now drop columns that we have decided we do not need for our machine learning model.\n"
      ]
    },
    {
      "cell_type": "code",
      "metadata": {
        "id": "a0VGfnzluMYZ",
        "colab_type": "code",
        "colab": {
          "base_uri": "https://localhost:8080/",
          "height": 72
        },
        "outputId": "1f5f9ca3-6936-430e-d277-57bf0f83fbc1"
      },
      "source": [
        "# Shape before dropping values\n",
        "print(f'Shape of our dataset before dropping columns: \\nRows:{df.shape[0]} \\nColumns: {df.shape[1]}')"
      ],
      "execution_count": null,
      "outputs": [
        {
          "output_type": "stream",
          "text": [
            "Shape of our dataset before dropping columns: \n",
            "Rows:1470 \n",
            "Columns: 35\n"
          ],
          "name": "stdout"
        }
      ]
    },
    {
      "cell_type": "code",
      "metadata": {
        "id": "fAKhe-XkBilJ",
        "colab_type": "code",
        "colab": {}
      },
      "source": [
        "# Dropping columns in our dataframe\n",
        "df.drop('EmployeeCount', \n",
        "             axis = 1, \n",
        "             inplace = True)\n",
        "df.drop('StandardHours', \n",
        "             axis = 1, \n",
        "             inplace = True) \n",
        "df.drop('EmployeeNumber', \n",
        "             axis = 1,  \n",
        "             inplace = True) \n",
        "df.drop('Over18',  \n",
        "             axis = 1, \n",
        "             inplace = True) \n",
        "df.drop('JobInvolvement',  \n",
        "             axis = 1, \n",
        "             inplace = True) \n",
        "df.drop('DailyRate',  \n",
        "             axis = 1, \n",
        "             inplace = True) \n",
        "df.drop('EnvironmentSatisfaction',  \n",
        "             axis = 1, \n",
        "             inplace = True) \n",
        "df.drop('JobSatisfaction',  \n",
        "             axis = 1, \n",
        "             inplace = True) \n",
        "df.drop('MonthlyIncome',  \n",
        "             axis = 1, \n",
        "             inplace = True) \n",
        "df.drop('MonthlyRate',  \n",
        "             axis = 1, \n",
        "             inplace = True) \n",
        "df.drop('PercentSalaryHike',  \n",
        "             axis = 1, \n",
        "             inplace = True) \n",
        "df.drop('PerformanceRating',  \n",
        "             axis = 1, \n",
        "             inplace = True) \n",
        "df.drop('RelationshipSatisfaction',  \n",
        "             axis = 1, \n",
        "             inplace = True) \n",
        "df.drop('StockOptionLevel',  \n",
        "             axis = 1, \n",
        "             inplace = True) \n",
        "df.drop('TrainingTimesLastYear',  \n",
        "             axis = 1, \n",
        "             inplace = True) \n",
        "df.drop('YearsAtCompany',  \n",
        "             axis = 1, \n",
        "             inplace = True) \n",
        "df.drop('YearsInCurrentRole',  \n",
        "             axis = 1, \n",
        "             inplace = True) \n",
        "df.drop('YearsSinceLastPromotion',  \n",
        "             axis = 1, \n",
        "             inplace = True) \n",
        "df.drop('YearsWithCurrManager',  \n",
        "             axis = 1, \n",
        "             inplace = True) \n",
        "df.drop('OverTime',  \n",
        "             axis = 1, \n",
        "             inplace = True) \n",
        "df.drop('JobRole',  \n",
        "             axis = 1, \n",
        "             inplace = True) "
      ],
      "execution_count": 3,
      "outputs": []
    },
    {
      "cell_type": "code",
      "metadata": {
        "id": "1Bwmho80u3mX",
        "colab_type": "code",
        "colab": {
          "base_uri": "https://localhost:8080/",
          "height": 72
        },
        "outputId": "bc7eed0d-1761-4633-f58c-84f9f2451766"
      },
      "source": [
        "# Shape after dropping values\n",
        "print(f'Shape of our dataset after dropping columns: \\nRows:{df.shape[0]} \\nColumns: {df.shape[1]}')"
      ],
      "execution_count": null,
      "outputs": [
        {
          "output_type": "stream",
          "text": [
            "Shape of our dataset after dropping columns: \n",
            "Rows:1470 \n",
            "Columns: 14\n"
          ],
          "name": "stdout"
        }
      ]
    },
    {
      "cell_type": "markdown",
      "metadata": {
        "id": "j7I1SShWu-eN",
        "colab_type": "text"
      },
      "source": [
        "We now have 14 columns instead of 35, let's examine that we got the right ones."
      ]
    },
    {
      "cell_type": "code",
      "metadata": {
        "id": "sKaO7F5PvCoh",
        "colab_type": "code",
        "colab": {
          "base_uri": "https://localhost:8080/",
          "height": 108
        },
        "outputId": "9a4fdb3b-473a-46d7-860f-d9bcb7e89f29"
      },
      "source": [
        "# Checking our columns\n",
        "df.columns"
      ],
      "execution_count": null,
      "outputs": [
        {
          "output_type": "execute_result",
          "data": {
            "text/plain": [
              "Index(['Age', 'Attrition', 'BusinessTravel', 'Department', 'DistanceFromHome',\n",
              "       'Education', 'EducationField', 'Gender', 'HourlyRate', 'JobLevel',\n",
              "       'MaritalStatus', 'NumCompaniesWorked', 'TotalWorkingYears',\n",
              "       'WorkLifeBalance'],\n",
              "      dtype='object')"
            ]
          },
          "metadata": {
            "tags": []
          },
          "execution_count": 5
        }
      ]
    },
    {
      "cell_type": "code",
      "metadata": {
        "id": "H-g8-egz7ChD",
        "colab_type": "code",
        "colab": {
          "base_uri": "https://localhost:8080/",
          "height": 295
        },
        "outputId": "ab0f7e0f-6af4-40aa-ca64-55ab9b6df665"
      },
      "source": [
        "# First 5 rows of our dataframe\n",
        "df.head()"
      ],
      "execution_count": null,
      "outputs": [
        {
          "output_type": "execute_result",
          "data": {
            "text/html": [
              "<div>\n",
              "<style scoped>\n",
              "    .dataframe tbody tr th:only-of-type {\n",
              "        vertical-align: middle;\n",
              "    }\n",
              "\n",
              "    .dataframe tbody tr th {\n",
              "        vertical-align: top;\n",
              "    }\n",
              "\n",
              "    .dataframe thead th {\n",
              "        text-align: right;\n",
              "    }\n",
              "</style>\n",
              "<table border=\"1\" class=\"dataframe\">\n",
              "  <thead>\n",
              "    <tr style=\"text-align: right;\">\n",
              "      <th></th>\n",
              "      <th>Age</th>\n",
              "      <th>Attrition</th>\n",
              "      <th>BusinessTravel</th>\n",
              "      <th>Department</th>\n",
              "      <th>DistanceFromHome</th>\n",
              "      <th>Education</th>\n",
              "      <th>EducationField</th>\n",
              "      <th>Gender</th>\n",
              "      <th>HourlyRate</th>\n",
              "      <th>JobLevel</th>\n",
              "      <th>MaritalStatus</th>\n",
              "      <th>NumCompaniesWorked</th>\n",
              "      <th>TotalWorkingYears</th>\n",
              "      <th>WorkLifeBalance</th>\n",
              "    </tr>\n",
              "  </thead>\n",
              "  <tbody>\n",
              "    <tr>\n",
              "      <th>0</th>\n",
              "      <td>41</td>\n",
              "      <td>Yes</td>\n",
              "      <td>Travel_Rarely</td>\n",
              "      <td>Sales</td>\n",
              "      <td>1</td>\n",
              "      <td>2</td>\n",
              "      <td>Life Sciences</td>\n",
              "      <td>Female</td>\n",
              "      <td>94</td>\n",
              "      <td>2</td>\n",
              "      <td>Single</td>\n",
              "      <td>8</td>\n",
              "      <td>8</td>\n",
              "      <td>1</td>\n",
              "    </tr>\n",
              "    <tr>\n",
              "      <th>1</th>\n",
              "      <td>49</td>\n",
              "      <td>No</td>\n",
              "      <td>Travel_Frequently</td>\n",
              "      <td>Research &amp; Development</td>\n",
              "      <td>8</td>\n",
              "      <td>1</td>\n",
              "      <td>Life Sciences</td>\n",
              "      <td>Male</td>\n",
              "      <td>61</td>\n",
              "      <td>2</td>\n",
              "      <td>Married</td>\n",
              "      <td>1</td>\n",
              "      <td>10</td>\n",
              "      <td>3</td>\n",
              "    </tr>\n",
              "    <tr>\n",
              "      <th>2</th>\n",
              "      <td>37</td>\n",
              "      <td>Yes</td>\n",
              "      <td>Travel_Rarely</td>\n",
              "      <td>Research &amp; Development</td>\n",
              "      <td>2</td>\n",
              "      <td>2</td>\n",
              "      <td>Other</td>\n",
              "      <td>Male</td>\n",
              "      <td>92</td>\n",
              "      <td>1</td>\n",
              "      <td>Single</td>\n",
              "      <td>6</td>\n",
              "      <td>7</td>\n",
              "      <td>3</td>\n",
              "    </tr>\n",
              "    <tr>\n",
              "      <th>3</th>\n",
              "      <td>33</td>\n",
              "      <td>No</td>\n",
              "      <td>Travel_Frequently</td>\n",
              "      <td>Research &amp; Development</td>\n",
              "      <td>3</td>\n",
              "      <td>4</td>\n",
              "      <td>Life Sciences</td>\n",
              "      <td>Female</td>\n",
              "      <td>56</td>\n",
              "      <td>1</td>\n",
              "      <td>Married</td>\n",
              "      <td>1</td>\n",
              "      <td>8</td>\n",
              "      <td>3</td>\n",
              "    </tr>\n",
              "    <tr>\n",
              "      <th>4</th>\n",
              "      <td>27</td>\n",
              "      <td>No</td>\n",
              "      <td>Travel_Rarely</td>\n",
              "      <td>Research &amp; Development</td>\n",
              "      <td>2</td>\n",
              "      <td>1</td>\n",
              "      <td>Medical</td>\n",
              "      <td>Male</td>\n",
              "      <td>40</td>\n",
              "      <td>1</td>\n",
              "      <td>Married</td>\n",
              "      <td>9</td>\n",
              "      <td>6</td>\n",
              "      <td>3</td>\n",
              "    </tr>\n",
              "  </tbody>\n",
              "</table>\n",
              "</div>"
            ],
            "text/plain": [
              "   Age Attrition  ... TotalWorkingYears WorkLifeBalance\n",
              "0   41       Yes  ...                 8               1\n",
              "1   49        No  ...                10               3\n",
              "2   37       Yes  ...                 7               3\n",
              "3   33        No  ...                 8               3\n",
              "4   27        No  ...                 6               3\n",
              "\n",
              "[5 rows x 14 columns]"
            ]
          },
          "metadata": {
            "tags": []
          },
          "execution_count": 175
        }
      ]
    },
    {
      "cell_type": "markdown",
      "metadata": {
        "id": "6ncmAtAs7f2c",
        "colab_type": "text"
      },
      "source": [
        "We need to prepare our data to be proceed by our model. Before doing this we need to re-shape our categorical data into numbers.\n",
        "Below we will see Dtype, we will then go ahead and extract the categorical data to make it numerical."
      ]
    },
    {
      "cell_type": "code",
      "metadata": {
        "id": "ge3BXvPJ7o1j",
        "colab_type": "code",
        "colab": {
          "base_uri": "https://localhost:8080/",
          "height": 399
        },
        "outputId": "87209033-fa9d-4fec-c285-a406a035bb8d"
      },
      "source": [
        "df.info()"
      ],
      "execution_count": null,
      "outputs": [
        {
          "output_type": "stream",
          "text": [
            "<class 'pandas.core.frame.DataFrame'>\n",
            "RangeIndex: 1470 entries, 0 to 1469\n",
            "Data columns (total 14 columns):\n",
            " #   Column              Non-Null Count  Dtype \n",
            "---  ------              --------------  ----- \n",
            " 0   Age                 1470 non-null   int64 \n",
            " 1   Attrition           1470 non-null   object\n",
            " 2   BusinessTravel      1470 non-null   object\n",
            " 3   Department          1470 non-null   object\n",
            " 4   DistanceFromHome    1470 non-null   int64 \n",
            " 5   Education           1470 non-null   int64 \n",
            " 6   EducationField      1470 non-null   object\n",
            " 7   Gender              1470 non-null   object\n",
            " 8   HourlyRate          1470 non-null   int64 \n",
            " 9   JobLevel            1470 non-null   int64 \n",
            " 10  MaritalStatus       1470 non-null   object\n",
            " 11  NumCompaniesWorked  1470 non-null   int64 \n",
            " 12  TotalWorkingYears   1470 non-null   int64 \n",
            " 13  WorkLifeBalance     1470 non-null   int64 \n",
            "dtypes: int64(8), object(6)\n",
            "memory usage: 160.9+ KB\n"
          ],
          "name": "stdout"
        }
      ]
    },
    {
      "cell_type": "code",
      "metadata": {
        "id": "ObGrUlze725i",
        "colab_type": "code",
        "colab": {
          "base_uri": "https://localhost:8080/",
          "height": 253
        },
        "outputId": "ce2c6a0e-2ad8-4de6-f0cf-364a0f1d19c0"
      },
      "source": [
        "# Saving a new dataframe with a copy from our df, extracting Dtype object (categorical)\n",
        "df_categorical = df[['Attrition','BusinessTravel','Department',\n",
        "                       'EducationField','Gender',\n",
        "                       'MaritalStatus']].copy()\n",
        "\n",
        "df_categorical.info()"
      ],
      "execution_count": 4,
      "outputs": [
        {
          "output_type": "stream",
          "text": [
            "<class 'pandas.core.frame.DataFrame'>\n",
            "RangeIndex: 1470 entries, 0 to 1469\n",
            "Data columns (total 6 columns):\n",
            " #   Column          Non-Null Count  Dtype \n",
            "---  ------          --------------  ----- \n",
            " 0   Attrition       1470 non-null   object\n",
            " 1   BusinessTravel  1470 non-null   object\n",
            " 2   Department      1470 non-null   object\n",
            " 3   EducationField  1470 non-null   object\n",
            " 4   Gender          1470 non-null   object\n",
            " 5   MaritalStatus   1470 non-null   object\n",
            "dtypes: object(6)\n",
            "memory usage: 69.0+ KB\n"
          ],
          "name": "stdout"
        }
      ]
    },
    {
      "cell_type": "markdown",
      "metadata": {
        "id": "N1xcVlj_YRCH",
        "colab_type": "text"
      },
      "source": [
        "# Replace categorical values with numbers\n",
        "\n",
        "We can replace the categorical values manually:\n",
        "`yes_no = {'Yes': 1, 'No': 0}`\n",
        "\n",
        "**One-Hot encoding**\n",
        "When using one-hot encoding, we replace the categorical values with a 1 or 0 (true or false). We will do this with the pandas method `get_dummies()`."
      ]
    },
    {
      "cell_type": "code",
      "metadata": {
        "id": "XZpU0pnj8bh_",
        "colab_type": "code",
        "colab": {
          "base_uri": "https://localhost:8080/",
          "height": 206
        },
        "outputId": "a6344f3e-9fe9-4ba6-f180-038cd3c53c9a"
      },
      "source": [
        "# Replacing the categorical values manually\n",
        "yes_no = {'Yes': 1, 'No': 0}\n",
        "df_categorical['Attrition'] = df_categorical['Attrition'].apply(lambda x: yes_no[x])\n",
        "\n",
        "df_categorical.head()"
      ],
      "execution_count": 5,
      "outputs": [
        {
          "output_type": "execute_result",
          "data": {
            "text/html": [
              "<div>\n",
              "<style scoped>\n",
              "    .dataframe tbody tr th:only-of-type {\n",
              "        vertical-align: middle;\n",
              "    }\n",
              "\n",
              "    .dataframe tbody tr th {\n",
              "        vertical-align: top;\n",
              "    }\n",
              "\n",
              "    .dataframe thead th {\n",
              "        text-align: right;\n",
              "    }\n",
              "</style>\n",
              "<table border=\"1\" class=\"dataframe\">\n",
              "  <thead>\n",
              "    <tr style=\"text-align: right;\">\n",
              "      <th></th>\n",
              "      <th>Attrition</th>\n",
              "      <th>BusinessTravel</th>\n",
              "      <th>Department</th>\n",
              "      <th>EducationField</th>\n",
              "      <th>Gender</th>\n",
              "      <th>MaritalStatus</th>\n",
              "    </tr>\n",
              "  </thead>\n",
              "  <tbody>\n",
              "    <tr>\n",
              "      <th>0</th>\n",
              "      <td>1</td>\n",
              "      <td>Travel_Rarely</td>\n",
              "      <td>Sales</td>\n",
              "      <td>Life Sciences</td>\n",
              "      <td>Female</td>\n",
              "      <td>Single</td>\n",
              "    </tr>\n",
              "    <tr>\n",
              "      <th>1</th>\n",
              "      <td>0</td>\n",
              "      <td>Travel_Frequently</td>\n",
              "      <td>Research &amp; Development</td>\n",
              "      <td>Life Sciences</td>\n",
              "      <td>Male</td>\n",
              "      <td>Married</td>\n",
              "    </tr>\n",
              "    <tr>\n",
              "      <th>2</th>\n",
              "      <td>1</td>\n",
              "      <td>Travel_Rarely</td>\n",
              "      <td>Research &amp; Development</td>\n",
              "      <td>Other</td>\n",
              "      <td>Male</td>\n",
              "      <td>Single</td>\n",
              "    </tr>\n",
              "    <tr>\n",
              "      <th>3</th>\n",
              "      <td>0</td>\n",
              "      <td>Travel_Frequently</td>\n",
              "      <td>Research &amp; Development</td>\n",
              "      <td>Life Sciences</td>\n",
              "      <td>Female</td>\n",
              "      <td>Married</td>\n",
              "    </tr>\n",
              "    <tr>\n",
              "      <th>4</th>\n",
              "      <td>0</td>\n",
              "      <td>Travel_Rarely</td>\n",
              "      <td>Research &amp; Development</td>\n",
              "      <td>Medical</td>\n",
              "      <td>Male</td>\n",
              "      <td>Married</td>\n",
              "    </tr>\n",
              "  </tbody>\n",
              "</table>\n",
              "</div>"
            ],
            "text/plain": [
              "   Attrition     BusinessTravel  ...  Gender MaritalStatus\n",
              "0          1      Travel_Rarely  ...  Female        Single\n",
              "1          0  Travel_Frequently  ...    Male       Married\n",
              "2          1      Travel_Rarely  ...    Male        Single\n",
              "3          0  Travel_Frequently  ...  Female       Married\n",
              "4          0      Travel_Rarely  ...    Male       Married\n",
              "\n",
              "[5 rows x 6 columns]"
            ]
          },
          "metadata": {
            "tags": []
          },
          "execution_count": 5
        }
      ]
    },
    {
      "cell_type": "code",
      "metadata": {
        "id": "UgDxhT7N9PQo",
        "colab_type": "code",
        "colab": {
          "base_uri": "https://localhost:8080/",
          "height": 243
        },
        "outputId": "5841771f-9496-4564-f214-be0b2074cd64"
      },
      "source": [
        "# One-hot encoding\n",
        "df_categorical = pd.get_dummies(df_categorical)\n",
        "df_categorical.head()"
      ],
      "execution_count": 6,
      "outputs": [
        {
          "output_type": "execute_result",
          "data": {
            "text/html": [
              "<div>\n",
              "<style scoped>\n",
              "    .dataframe tbody tr th:only-of-type {\n",
              "        vertical-align: middle;\n",
              "    }\n",
              "\n",
              "    .dataframe tbody tr th {\n",
              "        vertical-align: top;\n",
              "    }\n",
              "\n",
              "    .dataframe thead th {\n",
              "        text-align: right;\n",
              "    }\n",
              "</style>\n",
              "<table border=\"1\" class=\"dataframe\">\n",
              "  <thead>\n",
              "    <tr style=\"text-align: right;\">\n",
              "      <th></th>\n",
              "      <th>Attrition</th>\n",
              "      <th>BusinessTravel_Non-Travel</th>\n",
              "      <th>BusinessTravel_Travel_Frequently</th>\n",
              "      <th>BusinessTravel_Travel_Rarely</th>\n",
              "      <th>Department_Human Resources</th>\n",
              "      <th>Department_Research &amp; Development</th>\n",
              "      <th>Department_Sales</th>\n",
              "      <th>EducationField_Human Resources</th>\n",
              "      <th>EducationField_Life Sciences</th>\n",
              "      <th>EducationField_Marketing</th>\n",
              "      <th>EducationField_Medical</th>\n",
              "      <th>EducationField_Other</th>\n",
              "      <th>EducationField_Technical Degree</th>\n",
              "      <th>Gender_Female</th>\n",
              "      <th>Gender_Male</th>\n",
              "      <th>MaritalStatus_Divorced</th>\n",
              "      <th>MaritalStatus_Married</th>\n",
              "      <th>MaritalStatus_Single</th>\n",
              "    </tr>\n",
              "  </thead>\n",
              "  <tbody>\n",
              "    <tr>\n",
              "      <th>0</th>\n",
              "      <td>1</td>\n",
              "      <td>0</td>\n",
              "      <td>0</td>\n",
              "      <td>1</td>\n",
              "      <td>0</td>\n",
              "      <td>0</td>\n",
              "      <td>1</td>\n",
              "      <td>0</td>\n",
              "      <td>1</td>\n",
              "      <td>0</td>\n",
              "      <td>0</td>\n",
              "      <td>0</td>\n",
              "      <td>0</td>\n",
              "      <td>1</td>\n",
              "      <td>0</td>\n",
              "      <td>0</td>\n",
              "      <td>0</td>\n",
              "      <td>1</td>\n",
              "    </tr>\n",
              "    <tr>\n",
              "      <th>1</th>\n",
              "      <td>0</td>\n",
              "      <td>0</td>\n",
              "      <td>1</td>\n",
              "      <td>0</td>\n",
              "      <td>0</td>\n",
              "      <td>1</td>\n",
              "      <td>0</td>\n",
              "      <td>0</td>\n",
              "      <td>1</td>\n",
              "      <td>0</td>\n",
              "      <td>0</td>\n",
              "      <td>0</td>\n",
              "      <td>0</td>\n",
              "      <td>0</td>\n",
              "      <td>1</td>\n",
              "      <td>0</td>\n",
              "      <td>1</td>\n",
              "      <td>0</td>\n",
              "    </tr>\n",
              "    <tr>\n",
              "      <th>2</th>\n",
              "      <td>1</td>\n",
              "      <td>0</td>\n",
              "      <td>0</td>\n",
              "      <td>1</td>\n",
              "      <td>0</td>\n",
              "      <td>1</td>\n",
              "      <td>0</td>\n",
              "      <td>0</td>\n",
              "      <td>0</td>\n",
              "      <td>0</td>\n",
              "      <td>0</td>\n",
              "      <td>1</td>\n",
              "      <td>0</td>\n",
              "      <td>0</td>\n",
              "      <td>1</td>\n",
              "      <td>0</td>\n",
              "      <td>0</td>\n",
              "      <td>1</td>\n",
              "    </tr>\n",
              "    <tr>\n",
              "      <th>3</th>\n",
              "      <td>0</td>\n",
              "      <td>0</td>\n",
              "      <td>1</td>\n",
              "      <td>0</td>\n",
              "      <td>0</td>\n",
              "      <td>1</td>\n",
              "      <td>0</td>\n",
              "      <td>0</td>\n",
              "      <td>1</td>\n",
              "      <td>0</td>\n",
              "      <td>0</td>\n",
              "      <td>0</td>\n",
              "      <td>0</td>\n",
              "      <td>1</td>\n",
              "      <td>0</td>\n",
              "      <td>0</td>\n",
              "      <td>1</td>\n",
              "      <td>0</td>\n",
              "    </tr>\n",
              "    <tr>\n",
              "      <th>4</th>\n",
              "      <td>0</td>\n",
              "      <td>0</td>\n",
              "      <td>0</td>\n",
              "      <td>1</td>\n",
              "      <td>0</td>\n",
              "      <td>1</td>\n",
              "      <td>0</td>\n",
              "      <td>0</td>\n",
              "      <td>0</td>\n",
              "      <td>0</td>\n",
              "      <td>1</td>\n",
              "      <td>0</td>\n",
              "      <td>0</td>\n",
              "      <td>0</td>\n",
              "      <td>1</td>\n",
              "      <td>0</td>\n",
              "      <td>1</td>\n",
              "      <td>0</td>\n",
              "    </tr>\n",
              "  </tbody>\n",
              "</table>\n",
              "</div>"
            ],
            "text/plain": [
              "   Attrition  ...  MaritalStatus_Single\n",
              "0          1  ...                     1\n",
              "1          0  ...                     0\n",
              "2          1  ...                     1\n",
              "3          0  ...                     0\n",
              "4          0  ...                     0\n",
              "\n",
              "[5 rows x 18 columns]"
            ]
          },
          "metadata": {
            "tags": []
          },
          "execution_count": 6
        }
      ]
    },
    {
      "cell_type": "markdown",
      "metadata": {
        "id": "fKtpyzOaZGz7",
        "colab_type": "text"
      },
      "source": [
        "We will extract all the numerical values from the df we already had, and make a copy of this. Then we will concat df_categorical and df_numerical and have a new dataframe with only numerical values."
      ]
    },
    {
      "cell_type": "code",
      "metadata": {
        "id": "IVo8g5qyZWh0",
        "colab_type": "code",
        "colab": {}
      },
      "source": [
        "# Numerical features in our dataframe\n",
        "df_numerical = df[['Age', 'DistanceFromHome', 'Education', 'HourlyRate', 'JobLevel',\n",
        "'NumCompaniesWorked', 'TotalWorkingYears', 'WorkLifeBalance']].copy()"
      ],
      "execution_count": 7,
      "outputs": []
    },
    {
      "cell_type": "code",
      "metadata": {
        "id": "vBrFyKC6bGcN",
        "colab_type": "code",
        "colab": {}
      },
      "source": [
        "# Joining the 2 dataframes into one with concat\n",
        "df_concat = pd.concat([df_categorical, df_numerical, ], axis=1)"
      ],
      "execution_count": 8,
      "outputs": []
    },
    {
      "cell_type": "markdown",
      "metadata": {
        "id": "ak5PMVeKb_pO",
        "colab_type": "text"
      },
      "source": [
        "Now when we have merged our two dataframes, we will have a look to see if all the values are numerical."
      ]
    },
    {
      "cell_type": "code",
      "metadata": {
        "id": "X9hj3zjruy4R",
        "colab_type": "code",
        "colab": {
          "base_uri": "https://localhost:8080/",
          "height": 243
        },
        "outputId": "f2611986-3f85-4b1b-8f9c-de08b7a4cb8f"
      },
      "source": [
        "# See first 5 rows\n",
        "df_concat.head()"
      ],
      "execution_count": null,
      "outputs": [
        {
          "output_type": "execute_result",
          "data": {
            "text/html": [
              "<div>\n",
              "<style scoped>\n",
              "    .dataframe tbody tr th:only-of-type {\n",
              "        vertical-align: middle;\n",
              "    }\n",
              "\n",
              "    .dataframe tbody tr th {\n",
              "        vertical-align: top;\n",
              "    }\n",
              "\n",
              "    .dataframe thead th {\n",
              "        text-align: right;\n",
              "    }\n",
              "</style>\n",
              "<table border=\"1\" class=\"dataframe\">\n",
              "  <thead>\n",
              "    <tr style=\"text-align: right;\">\n",
              "      <th></th>\n",
              "      <th>Attrition</th>\n",
              "      <th>BusinessTravel_Non-Travel</th>\n",
              "      <th>BusinessTravel_Travel_Frequently</th>\n",
              "      <th>BusinessTravel_Travel_Rarely</th>\n",
              "      <th>Department_Human Resources</th>\n",
              "      <th>Department_Research &amp; Development</th>\n",
              "      <th>Department_Sales</th>\n",
              "      <th>EducationField_Human Resources</th>\n",
              "      <th>EducationField_Life Sciences</th>\n",
              "      <th>EducationField_Marketing</th>\n",
              "      <th>EducationField_Medical</th>\n",
              "      <th>EducationField_Other</th>\n",
              "      <th>EducationField_Technical Degree</th>\n",
              "      <th>Gender_Female</th>\n",
              "      <th>Gender_Male</th>\n",
              "      <th>MaritalStatus_Divorced</th>\n",
              "      <th>MaritalStatus_Married</th>\n",
              "      <th>MaritalStatus_Single</th>\n",
              "      <th>Age</th>\n",
              "      <th>DistanceFromHome</th>\n",
              "      <th>Education</th>\n",
              "      <th>HourlyRate</th>\n",
              "      <th>JobLevel</th>\n",
              "      <th>NumCompaniesWorked</th>\n",
              "      <th>TotalWorkingYears</th>\n",
              "      <th>WorkLifeBalance</th>\n",
              "    </tr>\n",
              "  </thead>\n",
              "  <tbody>\n",
              "    <tr>\n",
              "      <th>0</th>\n",
              "      <td>1</td>\n",
              "      <td>0</td>\n",
              "      <td>0</td>\n",
              "      <td>1</td>\n",
              "      <td>0</td>\n",
              "      <td>0</td>\n",
              "      <td>1</td>\n",
              "      <td>0</td>\n",
              "      <td>1</td>\n",
              "      <td>0</td>\n",
              "      <td>0</td>\n",
              "      <td>0</td>\n",
              "      <td>0</td>\n",
              "      <td>1</td>\n",
              "      <td>0</td>\n",
              "      <td>0</td>\n",
              "      <td>0</td>\n",
              "      <td>1</td>\n",
              "      <td>41</td>\n",
              "      <td>1</td>\n",
              "      <td>2</td>\n",
              "      <td>94</td>\n",
              "      <td>2</td>\n",
              "      <td>8</td>\n",
              "      <td>8</td>\n",
              "      <td>1</td>\n",
              "    </tr>\n",
              "    <tr>\n",
              "      <th>1</th>\n",
              "      <td>0</td>\n",
              "      <td>0</td>\n",
              "      <td>1</td>\n",
              "      <td>0</td>\n",
              "      <td>0</td>\n",
              "      <td>1</td>\n",
              "      <td>0</td>\n",
              "      <td>0</td>\n",
              "      <td>1</td>\n",
              "      <td>0</td>\n",
              "      <td>0</td>\n",
              "      <td>0</td>\n",
              "      <td>0</td>\n",
              "      <td>0</td>\n",
              "      <td>1</td>\n",
              "      <td>0</td>\n",
              "      <td>1</td>\n",
              "      <td>0</td>\n",
              "      <td>49</td>\n",
              "      <td>8</td>\n",
              "      <td>1</td>\n",
              "      <td>61</td>\n",
              "      <td>2</td>\n",
              "      <td>1</td>\n",
              "      <td>10</td>\n",
              "      <td>3</td>\n",
              "    </tr>\n",
              "    <tr>\n",
              "      <th>2</th>\n",
              "      <td>1</td>\n",
              "      <td>0</td>\n",
              "      <td>0</td>\n",
              "      <td>1</td>\n",
              "      <td>0</td>\n",
              "      <td>1</td>\n",
              "      <td>0</td>\n",
              "      <td>0</td>\n",
              "      <td>0</td>\n",
              "      <td>0</td>\n",
              "      <td>0</td>\n",
              "      <td>1</td>\n",
              "      <td>0</td>\n",
              "      <td>0</td>\n",
              "      <td>1</td>\n",
              "      <td>0</td>\n",
              "      <td>0</td>\n",
              "      <td>1</td>\n",
              "      <td>37</td>\n",
              "      <td>2</td>\n",
              "      <td>2</td>\n",
              "      <td>92</td>\n",
              "      <td>1</td>\n",
              "      <td>6</td>\n",
              "      <td>7</td>\n",
              "      <td>3</td>\n",
              "    </tr>\n",
              "    <tr>\n",
              "      <th>3</th>\n",
              "      <td>0</td>\n",
              "      <td>0</td>\n",
              "      <td>1</td>\n",
              "      <td>0</td>\n",
              "      <td>0</td>\n",
              "      <td>1</td>\n",
              "      <td>0</td>\n",
              "      <td>0</td>\n",
              "      <td>1</td>\n",
              "      <td>0</td>\n",
              "      <td>0</td>\n",
              "      <td>0</td>\n",
              "      <td>0</td>\n",
              "      <td>1</td>\n",
              "      <td>0</td>\n",
              "      <td>0</td>\n",
              "      <td>1</td>\n",
              "      <td>0</td>\n",
              "      <td>33</td>\n",
              "      <td>3</td>\n",
              "      <td>4</td>\n",
              "      <td>56</td>\n",
              "      <td>1</td>\n",
              "      <td>1</td>\n",
              "      <td>8</td>\n",
              "      <td>3</td>\n",
              "    </tr>\n",
              "    <tr>\n",
              "      <th>4</th>\n",
              "      <td>0</td>\n",
              "      <td>0</td>\n",
              "      <td>0</td>\n",
              "      <td>1</td>\n",
              "      <td>0</td>\n",
              "      <td>1</td>\n",
              "      <td>0</td>\n",
              "      <td>0</td>\n",
              "      <td>0</td>\n",
              "      <td>0</td>\n",
              "      <td>1</td>\n",
              "      <td>0</td>\n",
              "      <td>0</td>\n",
              "      <td>0</td>\n",
              "      <td>1</td>\n",
              "      <td>0</td>\n",
              "      <td>1</td>\n",
              "      <td>0</td>\n",
              "      <td>27</td>\n",
              "      <td>2</td>\n",
              "      <td>1</td>\n",
              "      <td>40</td>\n",
              "      <td>1</td>\n",
              "      <td>9</td>\n",
              "      <td>6</td>\n",
              "      <td>3</td>\n",
              "    </tr>\n",
              "  </tbody>\n",
              "</table>\n",
              "</div>"
            ],
            "text/plain": [
              "   Attrition  BusinessTravel_Non-Travel  ...  TotalWorkingYears  WorkLifeBalance\n",
              "0          1                          0  ...                  8                1\n",
              "1          0                          0  ...                 10                3\n",
              "2          1                          0  ...                  7                3\n",
              "3          0                          0  ...                  8                3\n",
              "4          0                          0  ...                  6                3\n",
              "\n",
              "[5 rows x 26 columns]"
            ]
          },
          "metadata": {
            "tags": []
          },
          "execution_count": 11
        }
      ]
    },
    {
      "cell_type": "code",
      "metadata": {
        "id": "4bt7LQ_wbiEo",
        "colab_type": "code",
        "colab": {
          "base_uri": "https://localhost:8080/",
          "height": 617
        },
        "outputId": "c612194e-8c67-48b7-d294-f498802ea1bc"
      },
      "source": [
        "# Checking the Dtypes \n",
        "df_concat.info()"
      ],
      "execution_count": null,
      "outputs": [
        {
          "output_type": "stream",
          "text": [
            "<class 'pandas.core.frame.DataFrame'>\n",
            "RangeIndex: 1470 entries, 0 to 1469\n",
            "Data columns (total 26 columns):\n",
            " #   Column                             Non-Null Count  Dtype\n",
            "---  ------                             --------------  -----\n",
            " 0   Attrition                          1470 non-null   int64\n",
            " 1   BusinessTravel_Non-Travel          1470 non-null   uint8\n",
            " 2   BusinessTravel_Travel_Frequently   1470 non-null   uint8\n",
            " 3   BusinessTravel_Travel_Rarely       1470 non-null   uint8\n",
            " 4   Department_Human Resources         1470 non-null   uint8\n",
            " 5   Department_Research & Development  1470 non-null   uint8\n",
            " 6   Department_Sales                   1470 non-null   uint8\n",
            " 7   EducationField_Human Resources     1470 non-null   uint8\n",
            " 8   EducationField_Life Sciences       1470 non-null   uint8\n",
            " 9   EducationField_Marketing           1470 non-null   uint8\n",
            " 10  EducationField_Medical             1470 non-null   uint8\n",
            " 11  EducationField_Other               1470 non-null   uint8\n",
            " 12  EducationField_Technical Degree    1470 non-null   uint8\n",
            " 13  Gender_Female                      1470 non-null   uint8\n",
            " 14  Gender_Male                        1470 non-null   uint8\n",
            " 15  MaritalStatus_Divorced             1470 non-null   uint8\n",
            " 16  MaritalStatus_Married              1470 non-null   uint8\n",
            " 17  MaritalStatus_Single               1470 non-null   uint8\n",
            " 18  Age                                1470 non-null   int64\n",
            " 19  DistanceFromHome                   1470 non-null   int64\n",
            " 20  Education                          1470 non-null   int64\n",
            " 21  HourlyRate                         1470 non-null   int64\n",
            " 22  JobLevel                           1470 non-null   int64\n",
            " 23  NumCompaniesWorked                 1470 non-null   int64\n",
            " 24  TotalWorkingYears                  1470 non-null   int64\n",
            " 25  WorkLifeBalance                    1470 non-null   int64\n",
            "dtypes: int64(9), uint8(17)\n",
            "memory usage: 127.9 KB\n"
          ],
          "name": "stdout"
        }
      ]
    },
    {
      "cell_type": "markdown",
      "metadata": {
        "id": "6SxamQHKcWWf",
        "colab_type": "text"
      },
      "source": [
        "Now we have our dataset processed and we can move to the next step and start defining our machine learning model."
      ]
    },
    {
      "cell_type": "markdown",
      "metadata": {
        "id": "8lG9o6lNcoZY",
        "colab_type": "text"
      },
      "source": [
        "## Defining our machine learning model\n",
        "\n",
        "We will use Random Forest Classifier and compare it to K-Nearest Neighbor (KNN).\n",
        "We will start out with the Random Forest Classifier and then move to KNN.\n",
        "\n",
        "**Random Forest Classification** \n",
        "* Supervised learning algorithm\n",
        "* Good indicator of feature importance\n",
        "* Made up from many decision trees\n",
        "* Get's prediction from the best solution and voting of decision trees\n",
        "* Does not overfit\n",
        "\n",
        "**K-Nearest Neighbor (KNN)**\n",
        "* Implementing the k-nearest neighbors vote\n",
        "* Uses the entire dataset in its training phase\n",
        "* Does not make any underlying assumptions about the distribution of data\n",
        "* Important to have the right k-value to avoid overfitting and underfitting of the datase\n"
      ]
    },
    {
      "cell_type": "markdown",
      "metadata": {
        "id": "pktm3eBcRRnP",
        "colab_type": "text"
      },
      "source": [
        "### **Random Forest Classification** "
      ]
    },
    {
      "cell_type": "code",
      "metadata": {
        "id": "1JVUQe95f2PG",
        "colab_type": "code",
        "colab": {}
      },
      "source": [
        "# Import sklearn and machine learning libraries\n",
        "import sklearn\n",
        "from sklearn.model_selection import train_test_split\n",
        "from sklearn.ensemble import RandomForestClassifier\n",
        "from sklearn.metrics import accuracy_score"
      ],
      "execution_count": 9,
      "outputs": []
    },
    {
      "cell_type": "code",
      "metadata": {
        "id": "n9OyLiNfzK1H",
        "colab_type": "code",
        "colab": {}
      },
      "source": [
        "# Predict function for rf\n",
        "def rf_predict(x):\n",
        "  prediction = rf_model.predict(x)\n",
        "  return prediction"
      ],
      "execution_count": 10,
      "outputs": []
    },
    {
      "cell_type": "markdown",
      "metadata": {
        "id": "DjWlKR8Jpr4y",
        "colab_type": "text"
      },
      "source": [
        "The dataset will be divided into a 75% training size and 25% test size. Random state will be set to 42 as we want to keep the same split."
      ]
    },
    {
      "cell_type": "code",
      "metadata": {
        "id": "hXBv-Gh033eL",
        "colab_type": "code",
        "colab": {
          "base_uri": "https://localhost:8080/",
          "height": 35
        },
        "outputId": "8cefe9cf-4781-4ba3-b78c-85de469317ea"
      },
      "source": [
        "# We will re-shape the features and target to arrays\n",
        "#features = df_concat.iloc[:, 1:df_concat.shape[1]].values\n",
        "#target = df_concat.iloc[:, 0].values\n",
        "\n",
        "# Setting our target and adding the features\n",
        "rf_target = df_concat['Attrition'].values\n",
        "rf_features = df_concat.drop('Attrition', axis = 1).values\n",
        "\n",
        "# Create train and test set\n",
        "X_train_rf, X_test_rf, y_train_rf, y_test_rf = train_test_split(rf_features, rf_target, test_size=0.25, random_state=42)\n",
        "\n",
        "# Create our model and start training\n",
        "rf_model = RandomForestClassifier()\n",
        "rf_model.fit(X_train_rf, y_train_rf)\n",
        "\n",
        "# Predict and see prediction on our test set\n",
        "predict_X_test_rf= rf_predict(X_test_rf)\n",
        "\n",
        "# Check the accuracy comparing our test values to true values\n",
        "rf_acc = accuracy_score(y_test_rf, predict_X_test_rf)\n",
        "\n",
        "print(f'Accuracy: {int(round(rf_acc*100))}%')"
      ],
      "execution_count": 12,
      "outputs": [
        {
          "output_type": "stream",
          "text": [
            "Accuracy: 87%\n"
          ],
          "name": "stdout"
        }
      ]
    },
    {
      "cell_type": "markdown",
      "metadata": {
        "id": "3Lj671T3HqKv",
        "colab_type": "text"
      },
      "source": [
        "## Feature importance\n",
        "\n",
        "To see which factors contributed to attrition we will visualize the 5 top reasons that affect this."
      ]
    },
    {
      "cell_type": "code",
      "metadata": {
        "id": "hctnO9_sErhp",
        "colab_type": "code",
        "colab": {
          "base_uri": "https://localhost:8080/",
          "height": 505
        },
        "outputId": "785158a3-1c49-4526-d81d-cdb82371ce98"
      },
      "source": [
        "feature_importance = pd.Series(rf_model.feature_importances_, index=rf_features.columns)\n",
        "\n",
        "# Show 5 most contributing factors to attrition\n",
        "feature_importance = feature_importance.nlargest(5)\n",
        "\n",
        "plt.xticks(fontsize=12)\n",
        "\n",
        "feature_importance.plot(kind='bar', figsize = (8, 6));\n"
      ],
      "execution_count": null,
      "outputs": [
        {
          "output_type": "display_data",
          "data": {
            "image/png": "[encoded data removed]",
            "text/plain": [
              "<Figure size 576x432 with 1 Axes>"
            ]
          },
          "metadata": {
            "tags": [],
            "needs_background": "light"
          }
        }
      ]
    },
    {
      "cell_type": "markdown",
      "metadata": {
        "id": "QtvVuMO9IB24",
        "colab_type": "text"
      },
      "source": [
        "Looking at the bar above we can see that age, the hourly rate, total working years, distance from home and number of companies previously worked at are top contributing factors to attrition."
      ]
    },
    {
      "cell_type": "markdown",
      "metadata": {
        "id": "CtzPGXzbvP3O",
        "colab_type": "text"
      },
      "source": [
        "**We will test our data with one sample**\n",
        "\n",
        "We have a new applicant who will answer the following questions:\n",
        "* Would the applicant be open to travel? (No, frequently, rarely)\n",
        "* Department applicant is joining (HR, Research&Development, Sales)\n",
        "* Educational field (HR, life sciences, marketing, medical, other, technical)\n",
        "* Gender (female, male)\n",
        "* Martial status (divorced, married, single)\n",
        "* Age\n",
        "* How long will the applicant commute \n",
        "* Educational  level (1, 2, 3, 4)\n",
        "* Hourly rate proposed\n",
        "* Initial job level (1, 2, 3, 4, 5)\n",
        "* Number of companies worked at previously\n",
        "* Total years of working\n",
        "* Regular work/life balance (1, 2, 3)"
      ]
    },
    {
      "cell_type": "markdown",
      "metadata": {
        "id": "fJV41ikdxP55",
        "colab_type": "text"
      },
      "source": [
        "**Our new applicant:**\n",
        "* Would not like to travel.\n",
        "* Applying for the sales department\n",
        "* Educational field: Other\n",
        "* Female\n",
        "* Single\n",
        "* 28 years of age\n",
        "* Live close to the working place\n",
        "* Low educational level\n",
        "* Wants 80 as an hourly rate\n",
        "* Has some previous experience (job level)\n",
        "* Has worked at 1 previous company\n",
        "* Total 8 years of working\n",
        "* Work life balance middle"
      ]
    },
    {
      "cell_type": "code",
      "metadata": {
        "id": "KWL9Z4M1tulB",
        "colab_type": "code",
        "colab": {
          "base_uri": "https://localhost:8080/",
          "height": 53
        },
        "outputId": "49c4c9fa-65f1-40f5-c8cf-02aa008fee7f"
      },
      "source": [
        "# Adding our new applicant\n",
        "new_applicant = np.array([1, 0, 0, 0, 0, 1, 0, 0, 0, 0, 1, 0, 1, 0, 0, 0, 1, 28, 2, 2, 80, 3, 1, 8, 2])\n",
        " \n",
        "# The type is a list, so we need to re-shape it into a 2D array\n",
        "type(new_applicant)\n",
        "new_applicant"
      ],
      "execution_count": 16,
      "outputs": [
        {
          "output_type": "execute_result",
          "data": {
            "text/plain": [
              "array([ 1,  0,  0,  0,  0,  1,  0,  0,  0,  0,  1,  0,  1,  0,  0,  0,  1,\n",
              "       28,  2,  2, 80,  3,  1,  8,  2])"
            ]
          },
          "metadata": {
            "tags": []
          },
          "execution_count": 16
        }
      ]
    },
    {
      "cell_type": "code",
      "metadata": {
        "id": "ItKdtlo095Ai",
        "colab_type": "code",
        "colab": {
          "base_uri": "https://localhost:8080/",
          "height": 53
        },
        "outputId": "46e06362-7a83-4f94-850b-fbd250b79acf"
      },
      "source": [
        "# Re-shaping our list to a 2D array\n",
        "new_applicant = np.reshape(new_applicant, (-1, 25))\n",
        "new_applicant"
      ],
      "execution_count": 17,
      "outputs": [
        {
          "output_type": "execute_result",
          "data": {
            "text/plain": [
              "array([[ 1,  0,  0,  0,  0,  1,  0,  0,  0,  0,  1,  0,  1,  0,  0,  0,\n",
              "         1, 28,  2,  2, 80,  3,  1,  8,  2]])"
            ]
          },
          "metadata": {
            "tags": []
          },
          "execution_count": 17
        }
      ]
    },
    {
      "cell_type": "code",
      "metadata": {
        "id": "FQKSAgfB6cj6",
        "colab_type": "code",
        "colab": {
          "base_uri": "https://localhost:8080/",
          "height": 53
        },
        "outputId": "0f02270a-f2a5-4204-ece5-1f1758c21303"
      },
      "source": [
        "predict_new_applicant = rf_predict(new_applicant)\n",
        "\n",
        "if(predict_new_applicant == 0):\n",
        "  print(f'This person seems to be a good fit for the company\\nOutput: {predict_new_applicant}')\n",
        "else:\n",
        "  print('This person might not be a good fit for the company.\\nOutput: {predict_new_applicant}')"
      ],
      "execution_count": 18,
      "outputs": [
        {
          "output_type": "stream",
          "text": [
            "This person seems to be a good fit for the company\n",
            "Output: [0]\n"
          ],
          "name": "stdout"
        }
      ]
    },
    {
      "cell_type": "markdown",
      "metadata": {
        "id": "WK9mGFNWAq7V",
        "colab_type": "text"
      },
      "source": [
        "Our new applicant seems to be a good fit for the company so we will go ahead with the recruiting process."
      ]
    },
    {
      "cell_type": "markdown",
      "metadata": {
        "id": "-g02MYskIflK",
        "colab_type": "text"
      },
      "source": [
        "### **K-Nearest Neighbor (KNN)**"
      ]
    },
    {
      "cell_type": "code",
      "metadata": {
        "id": "1qANCOBW6TOS",
        "colab_type": "code",
        "colab": {}
      },
      "source": [
        "# Import KNN model\n",
        "from sklearn.neighbors import KNeighborsClassifier\n",
        "\n",
        "# Predict function for knn\n",
        "def knn_predict(x):\n",
        "  prediction = knn.predict(x)\n",
        "  return prediction"
      ],
      "execution_count": 13,
      "outputs": []
    },
    {
      "cell_type": "code",
      "metadata": {
        "id": "8V6KZfU7RW8A",
        "colab_type": "code",
        "colab": {
          "base_uri": "https://localhost:8080/",
          "height": 35
        },
        "outputId": "dac772d9-5328-43f5-d219-a5a529bdb0d3"
      },
      "source": [
        "# Setting our target and adding the features\n",
        "knn_target = df_concat['Attrition'].values\n",
        "knn_features = df_concat.drop('Attrition', axis = 1).values\n",
        "\n",
        "# Create train and test set\n",
        "X_train_knn, X_test_knn, y_train_knn, y_test_knn = train_test_split(knn_features, knn_target, test_size=0.20, random_state=42)\n",
        "\n",
        "#Create KNN Classifier and set number of neigbors\n",
        "knn = KNeighborsClassifier(n_neighbors=5)\n",
        "\n",
        "# Trainig phase\n",
        "knn.fit(X_train_knn, y_train_knn)\n",
        "\n",
        "# Predict on the test set\n",
        "prediction_X_test_knn = knn_predict(X_test_knn)\n",
        "\n",
        "# Check the accuracy comparing our test values to true values\n",
        "acc = accuracy_score(y_test_knn, prediction_X_test_knn)\n",
        "\n",
        "print(f'Accuracy: {int(round(acc*100))}%')"
      ],
      "execution_count": 14,
      "outputs": [
        {
          "output_type": "stream",
          "text": [
            "Accuracy: 87%\n"
          ],
          "name": "stdout"
        }
      ]
    },
    {
      "cell_type": "code",
      "metadata": {
        "id": "OnkCMX7E6tII",
        "colab_type": "code",
        "colab": {
          "base_uri": "https://localhost:8080/",
          "height": 53
        },
        "outputId": "129121c4-b999-42e5-e2e0-2361c91d6c34"
      },
      "source": [
        "# Test our applicant through the knn model\n",
        "knn_new_applicant = knn_predict(new_applicant)\n",
        "\n",
        "if(knn_new_applicant == 0):\n",
        "  print(f'This person seems to be a good fit for the company\\nOutput: {knn_new_applicant}')\n",
        "else:\n",
        "  print('This person might not be a good fit for the company.\\nOutput: {predict_new_applicant}')"
      ],
      "execution_count": 19,
      "outputs": [
        {
          "output_type": "stream",
          "text": [
            "This person seems to be a good fit for the company\n",
            "Output: [0]\n"
          ],
          "name": "stdout"
        }
      ]
    },
    {
      "cell_type": "markdown",
      "metadata": {
        "id": "C3k57ruu6--n",
        "colab_type": "text"
      },
      "source": [
        "We get the same result with our knn model as we did with our rf model."
      ]
    },
    {
      "cell_type": "markdown",
      "metadata": {
        "id": "9ojdr7TWc3SH",
        "colab_type": "text"
      },
      "source": [
        "### Confusion matrix\n",
        "\n",
        "\n",
        "![confusion_matrix(1).png](data:image/png;base64,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)"
      ]
    },
    {
      "cell_type": "code",
      "metadata": {
        "id": "Ok9ODehWWD2u",
        "colab_type": "code",
        "colab": {
          "base_uri": "https://localhost:8080/",
          "height": 53
        },
        "outputId": "830b7be0-d16e-400a-e52a-5879b1f87102"
      },
      "source": [
        "# Import confusion_matrix\n",
        "from sklearn.metrics import confusion_matrix\n",
        "\n",
        "cf_matrix = confusion_matrix(y_test_knn, prediction_X_test_knn)\n",
        "cf_matrix"
      ],
      "execution_count": 20,
      "outputs": [
        {
          "output_type": "execute_result",
          "data": {
            "text/plain": [
              "array([[250,   5],\n",
              "       [ 33,   6]])"
            ]
          },
          "metadata": {
            "tags": []
          },
          "execution_count": 20
        }
      ]
    },
    {
      "cell_type": "markdown",
      "metadata": {
        "id": "m6d-3RpP_Swd",
        "colab_type": "text"
      },
      "source": [
        "We will visualize our confusion matrix to make it more clear."
      ]
    },
    {
      "cell_type": "code",
      "metadata": {
        "id": "2Xd9WhVXZ9qh",
        "colab_type": "code",
        "colab": {
          "base_uri": "https://localhost:8080/",
          "height": 392
        },
        "outputId": "048dd365-5c11-488e-b5d2-ec70e49ad15e"
      },
      "source": [
        "fig, ax = plt.subplots(figsize=(8, 6))\n",
        "\n",
        "sns.heatmap(cf_matrix, cmap=sns.diverging_palette(220, 10, as_cmap=True), annot=True,\n",
        "            linewidths=5, fmt='g',\n",
        "            vmin=-1, vmax=1, annot_kws={'size': \"16\"})\n",
        "\n",
        "ax.set(ylabel='Actual label', xlabel='Predicted label');"
      ],
      "execution_count": 21,
      "outputs": [
        {
          "output_type": "display_data",
          "data": {
            "image/png": "[encoded data removed]",
            "text/plain": [
              "<Figure size 576x432 with 2 Axes>"
            ]
          },
          "metadata": {
            "tags": [],
            "needs_background": "light"
          }
        }
      ]
    },
    {
      "cell_type": "markdown",
      "metadata": {
        "id": "ZEVozSoo_Xkd",
        "colab_type": "text"
      },
      "source": [
        "True Negative: 250 <br>\n",
        "False Positive: 5 <br>\n",
        "False Negative: 33 <br>\n",
        "True Positive: 6 <br>\n"
      ]
    },
    {
      "cell_type": "markdown",
      "metadata": {
        "id": "3pIrLc7F_4WG",
        "colab_type": "text"
      },
      "source": [
        "Let's see if we can find a more optimal k for our KNN classifier. We would like to improve our TP (True Positive) and decreasethe FN (False Negative)."
      ]
    },
    {
      "cell_type": "code",
      "metadata": {
        "id": "H-hYXlI_SZLN",
        "colab_type": "code",
        "colab": {}
      },
      "source": [
        "# List to append the error\n",
        "error_rate = []\n",
        "\n",
        "# Loop through range 1 to 35\n",
        "for i in range (1, 35):\n",
        "  knn_k_value = KNeighborsClassifier(n_neighbors=i)\n",
        "  knn_k_value.fit(X_train_knn, y_train_knn)\n",
        "  predict = knn_k_value.predict(X_test_knn)\n",
        "  error_rate.append(np.mean(predict != y_test_knn))\n",
        "  "
      ],
      "execution_count": 22,
      "outputs": []
    },
    {
      "cell_type": "code",
      "metadata": {
        "id": "8Ta6hHTrGf40",
        "colab_type": "code",
        "colab": {
          "base_uri": "https://localhost:8080/",
          "height": 483
        },
        "outputId": "46d53481-fc7b-45df-8ef8-05ac31960541"
      },
      "source": [
        "# Plot the error rate and K \n",
        "plt.figure(figsize=(10, 8))\n",
        "plt.plot(range(1, 35), error_rate, color=\"blue\", linestyle=\"dashed\", marker=\"o\", markerfacecolor=\"red\", markersize=10);"
      ],
      "execution_count": null,
      "outputs": [
        {
          "output_type": "display_data",
          "data": {
            "image/png": "[encoded data removed]",
            "text/plain": [
              "<Figure size 720x576 with 1 Axes>"
            ]
          },
          "metadata": {
            "tags": [],
            "needs_background": "light"
          }
        }
      ]
    },
    {
      "cell_type": "markdown",
      "metadata": {
        "id": "BzblqATLG3S5",
        "colab_type": "text"
      },
      "source": [
        "Looking at the plot it seems like we already have the right K for our KNN classifier.\n",
        "\n",
        "Comparing our 2 models they are giving the same output and one is not better than the other at a first glance.\n"
      ]
    },
    {
      "cell_type": "markdown",
      "metadata": {
        "id": "8g9egqRkQnE6",
        "colab_type": "text"
      },
      "source": [
        "## PyTorch\n",
        "\n",
        "PyTorch is an open source deep learning framework. It provides a Python package for high-level features like tensor computation (like NumPy) with strong GPU acceleration."
      ]
    },
    {
      "cell_type": "markdown",
      "metadata": {
        "id": "16uHpyVS7DMg",
        "colab_type": "text"
      },
      "source": [
        "### **Activation functions**\n",
        "Non-linearity to the linear output. Helps the network use the important information and suppress the irrelevant data points.\n",
        "\n",
        "We use activation functions in the hidden layer as well as the output layer.\n",
        "\n",
        "\n",
        "##### **ReLU (Rectified linear unit)**\n",
        "Non-linearity to the linear output. Output will be x if it is positive, negative values will be converted to 0.<br>\n",
        "Matematical expression: `A(x) = max(0,x)`\n"
      ]
    },
    {
      "cell_type": "code",
      "metadata": {
        "id": "7w8Dk83UO8gO",
        "colab_type": "code",
        "colab": {}
      },
      "source": [
        "# Import PyTorch\n",
        "import torch\n",
        "import torch.nn as nn\n",
        "import torch.nn.functional as F\n",
        "#from torch.utils.data import Dataset, DataLoader\n",
        "\n",
        "# Features and target to arrays\n",
        "features_torch = df_concat.iloc[:, 1:df_concat.shape[1]].values\n",
        "target_torch = df_concat.iloc[:, 0].values\n",
        "\n",
        "# Create train and test set\n",
        "X_train, X_test, y_train, y_test = train_test_split(features_torch, target_torch, test_size=0.20, random_state=0)"
      ],
      "execution_count": 136,
      "outputs": []
    },
    {
      "cell_type": "code",
      "metadata": {
        "id": "GdlW_DvPby0r",
        "colab_type": "code",
        "colab": {}
      },
      "source": [
        "# Convert to tensors\n",
        "X_train = torch.FloatTensor(X_train)\n",
        "X_test = torch.FloatTensor(X_test)\n",
        "y_train = torch.LongTensor(y_train)\n",
        "y_test = torch.LongTensor(y_test)"
      ],
      "execution_count": 137,
      "outputs": []
    },
    {
      "cell_type": "markdown",
      "metadata": {
        "id": "VEDH00-dmr-S",
        "colab_type": "text"
      },
      "source": [
        "#### Create our model"
      ]
    },
    {
      "cell_type": "code",
      "metadata": {
        "id": "kFBqk1KucEHA",
        "colab_type": "code",
        "colab": {}
      },
      "source": [
        "class ANN_Model(nn.Module):\n",
        "  def __init__(self, input_features=25, hidden1=20, hidden2=20, output=2):\n",
        "    super().__init__()\n",
        "    self.fc1 = nn.Linear(input_features, hidden1)\n",
        "    self.fc2 = nn.Linear(hidden1, hidden2)\n",
        "    self.output = nn.Linear(hidden2, output)\n",
        "\n",
        "  def forward(self,x):\n",
        "    x = F.relu(self.fc1(x))\n",
        "    x = F.relu(self.fc2(x))\n",
        "    x = self.output(x)\n",
        "\n",
        "    return x"
      ],
      "execution_count": 138,
      "outputs": []
    },
    {
      "cell_type": "markdown",
      "metadata": {
        "id": "MmJoe1YynVG3",
        "colab_type": "text"
      },
      "source": [
        "#### Set our model"
      ]
    },
    {
      "cell_type": "code",
      "metadata": {
        "id": "9mO0BA3Odxoz",
        "colab_type": "code",
        "colab": {}
      },
      "source": [
        "# Set the seed of the random number generator to a fixed value\n",
        "torch.manual_seed(20)\n",
        "\n",
        "# Instantiate model\n",
        "ann_model = ANN_Model()"
      ],
      "execution_count": 139,
      "outputs": []
    },
    {
      "cell_type": "code",
      "metadata": {
        "id": "D_83XQFWeBPV",
        "colab_type": "code",
        "colab": {
          "base_uri": "https://localhost:8080/",
          "height": 108
        },
        "outputId": "ce1a7522-edde-431f-f972-f0068d9cd714"
      },
      "source": [
        "# Model parameters\n",
        "ann_model.parameters"
      ],
      "execution_count": 140,
      "outputs": [
        {
          "output_type": "execute_result",
          "data": {
            "text/plain": [
              "<bound method Module.parameters of ANN_Model(\n",
              "  (fc1): Linear(in_features=25, out_features=20, bias=True)\n",
              "  (fc2): Linear(in_features=20, out_features=20, bias=True)\n",
              "  (output): Linear(in_features=20, out_features=2, bias=True)\n",
              ")>"
            ]
          },
          "metadata": {
            "tags": []
          },
          "execution_count": 140
        }
      ]
    },
    {
      "cell_type": "markdown",
      "metadata": {
        "id": "ywCZHmqDmQg1",
        "colab_type": "text"
      },
      "source": [
        "#### Loss function and optimizer"
      ]
    },
    {
      "cell_type": "code",
      "metadata": {
        "id": "tLYUvi5peF0C",
        "colab_type": "code",
        "colab": {}
      },
      "source": [
        "# Comparing predicted value to y-value\n",
        "loss_function = nn.CrossEntropyLoss()\n",
        "\n",
        "# Optimizer\n",
        "optimizer = torch.optim.Adam(ann_model.parameters(), lr=0.01)"
      ],
      "execution_count": 141,
      "outputs": []
    },
    {
      "cell_type": "markdown",
      "metadata": {
        "id": "qVS7wthhneLI",
        "colab_type": "text"
      },
      "source": [
        "#### Model training"
      ]
    },
    {
      "cell_type": "code",
      "metadata": {
        "id": "ocFOVOuOelNs",
        "colab_type": "code",
        "colab": {
          "base_uri": "https://localhost:8080/",
          "height": 925
        },
        "outputId": "719e4119-e789-4f06-9f83-44af5e3cf4c9"
      },
      "source": [
        "epochs = 500\n",
        "\n",
        "# Store losses\n",
        "losses = []\n",
        "\n",
        "for i in range(epochs):\n",
        "  \n",
        "  # Feedforward\n",
        "  y_pred = ann_model.forward(X_train)\n",
        "\n",
        "  # Calculate loss\n",
        "  loss = loss_function(y_pred, y_train)\n",
        "  losses.append(loss)\n",
        "\n",
        "  # Print every 10 epoch\n",
        "  if i%10==1:\n",
        "    print('Epoch {}: train loss: {}'.format(i-1, loss.item()))\n",
        "\n",
        "  # Reduce loss\n",
        "  optimizer.zero_grad()\n",
        "  loss.backward()\n",
        "  optimizer.step()"
      ],
      "execution_count": 142,
      "outputs": [
        {
          "output_type": "stream",
          "text": [
            "Epoch 0: train loss: 0.5884421467781067\n",
            "Epoch 10: train loss: 0.4319330155849457\n",
            "Epoch 20: train loss: 0.4106155037879944\n",
            "Epoch 30: train loss: 0.3990304470062256\n",
            "Epoch 40: train loss: 0.387857049703598\n",
            "Epoch 50: train loss: 0.376865029335022\n",
            "Epoch 60: train loss: 0.3659222424030304\n",
            "Epoch 70: train loss: 0.3557947278022766\n",
            "Epoch 80: train loss: 0.3474240005016327\n",
            "Epoch 90: train loss: 0.3395010828971863\n",
            "Epoch 100: train loss: 0.334743857383728\n",
            "Epoch 110: train loss: 0.3320009112358093\n",
            "Epoch 120: train loss: 0.32132861018180847\n",
            "Epoch 130: train loss: 0.3152037262916565\n",
            "Epoch 140: train loss: 0.3162335753440857\n",
            "Epoch 150: train loss: 0.3094227612018585\n",
            "Epoch 160: train loss: 0.30143991112709045\n",
            "Epoch 170: train loss: 0.30465880036354065\n",
            "Epoch 180: train loss: 0.2959979176521301\n",
            "Epoch 190: train loss: 0.2885368764400482\n",
            "Epoch 200: train loss: 0.3230023682117462\n",
            "Epoch 210: train loss: 0.2844941318035126\n",
            "Epoch 220: train loss: 0.2810313403606415\n",
            "Epoch 230: train loss: 0.28332892060279846\n",
            "Epoch 240: train loss: 0.2828781306743622\n",
            "Epoch 250: train loss: 0.28949129581451416\n",
            "Epoch 260: train loss: 0.27291983366012573\n",
            "Epoch 270: train loss: 0.26717400550842285\n",
            "Epoch 280: train loss: 0.2736401855945587\n",
            "Epoch 290: train loss: 0.2629660665988922\n",
            "Epoch 300: train loss: 0.25810593366622925\n",
            "Epoch 310: train loss: 0.27659404277801514\n",
            "Epoch 320: train loss: 0.2721378207206726\n",
            "Epoch 330: train loss: 0.25847387313842773\n",
            "Epoch 340: train loss: 0.2613045871257782\n",
            "Epoch 350: train loss: 0.26029080152511597\n",
            "Epoch 360: train loss: 0.25185590982437134\n",
            "Epoch 370: train loss: 0.2523806691169739\n",
            "Epoch 380: train loss: 0.24995870888233185\n",
            "Epoch 390: train loss: 0.24834246933460236\n",
            "Epoch 400: train loss: 0.24663011729717255\n",
            "Epoch 410: train loss: 0.24729065597057343\n",
            "Epoch 420: train loss: 0.25257155299186707\n",
            "Epoch 430: train loss: 0.24176903069019318\n",
            "Epoch 440: train loss: 0.2352369725704193\n",
            "Epoch 450: train loss: 0.27620190382003784\n",
            "Epoch 460: train loss: 0.2629488408565521\n",
            "Epoch 470: train loss: 0.2590235769748688\n",
            "Epoch 480: train loss: 0.22801481187343597\n",
            "Epoch 490: train loss: 0.2316809743642807\n"
          ],
          "name": "stdout"
        }
      ]
    },
    {
      "cell_type": "markdown",
      "metadata": {
        "id": "AVj1bT5cnhwV",
        "colab_type": "text"
      },
      "source": [
        "#### Prediction"
      ]
    },
    {
      "cell_type": "code",
      "metadata": {
        "id": "0RLVyp9zjkqN",
        "colab_type": "code",
        "colab": {}
      },
      "source": [
        "# List to append predictions\n",
        "predictions = []\n",
        "\n",
        "with torch.no_grad():\n",
        "  for i, data in enumerate(X_test):\n",
        "    y_pred = ann_model(data)\n",
        "    predictions.append(y_pred.argmax().item())"
      ],
      "execution_count": 143,
      "outputs": []
    },
    {
      "cell_type": "code",
      "metadata": {
        "id": "KXCf-2cHlMgU",
        "colab_type": "code",
        "colab": {
          "base_uri": "https://localhost:8080/",
          "height": 53
        },
        "outputId": "600cfb35-ad4a-4cf6-bce1-c6418e2154b3"
      },
      "source": [
        "# Confusion matrix\n",
        "cf = confusion_matrix(predictions,y_test)\n",
        "cf"
      ],
      "execution_count": 144,
      "outputs": [
        {
          "output_type": "execute_result",
          "data": {
            "text/plain": [
              "array([[229,  38],\n",
              "       [ 16,  11]])"
            ]
          },
          "metadata": {
            "tags": []
          },
          "execution_count": 144
        }
      ]
    },
    {
      "cell_type": "code",
      "metadata": {
        "id": "2f19_ps9L7Jk",
        "colab_type": "code",
        "colab": {
          "base_uri": "https://localhost:8080/",
          "height": 35
        },
        "outputId": "802e42b1-1cbd-4e4c-9b57-57c1cc719525"
      },
      "source": [
        "acc_pt = accuracy_score(predictions,y_test)\n",
        "print(\"Accuracy score: \", acc_pt)"
      ],
      "execution_count": 145,
      "outputs": [
        {
          "output_type": "stream",
          "text": [
            "Accuracy score:  0.8163265306122449\n"
          ],
          "name": "stdout"
        }
      ]
    },
    {
      "cell_type": "markdown",
      "metadata": {
        "id": "fZJkX2R9iruc",
        "colab_type": "text"
      },
      "source": [
        "#### Test our applicant throught the model"
      ]
    },
    {
      "cell_type": "code",
      "metadata": {
        "id": "f2sbqofuL0md",
        "colab_type": "code",
        "colab": {
          "base_uri": "https://localhost:8080/",
          "height": 53
        },
        "outputId": "94bb89c3-1cea-4401-a97e-be7517cab36d"
      },
      "source": [
        "# Convert to tensor\n",
        "app = torch.from_numpy(new_applicant).type(torch.FloatTensor)\n",
        "\n",
        "with torch.no_grad():\n",
        "  value = ann_model(app).argmax().item()\n",
        "  if(value == 0):\n",
        "    print(f'This person seems to be a good fit for the company\\nOutput: {value}')\n",
        "  else:\n",
        "    print(f'This person might not be a good fit for the company.\\nOutput: {value}')"
      ],
      "execution_count": 146,
      "outputs": [
        {
          "output_type": "stream",
          "text": [
            "This person seems to be a good fit for the company\n",
            "Output: 0\n"
          ],
          "name": "stdout"
        }
      ]
    },
    {
      "cell_type": "markdown",
      "metadata": {
        "id": "xo54ffbKi_Ow",
        "colab_type": "text"
      },
      "source": [
        "#### Comparing accuracy between our models"
      ]
    },
    {
      "cell_type": "code",
      "metadata": {
        "id": "Ohs70TWNiuY6",
        "colab_type": "code",
        "colab": {
          "base_uri": "https://localhost:8080/",
          "height": 72
        },
        "outputId": "6af8886e-4942-46c7-d892-2c32395a016c"
      },
      "source": [
        "# Random Forest\n",
        "print(f'Random Forest Accuracy: {int(round(rf_acc*100))}%')\n",
        "\n",
        "# KNN\n",
        "print(f'KNN Accuracy: {int(round(acc*100))}%')\n",
        "\n",
        "# PyTorch\n",
        "print(f'PyTorch Accuracy: {int(round(acc_pt*100))}%')"
      ],
      "execution_count": 147,
      "outputs": [
        {
          "output_type": "stream",
          "text": [
            "Random Forest Accuracy: 87%\n",
            "KNN Accuracy: 87%\n",
            "PyTorch Accuracy: 82%\n"
          ],
          "name": "stdout"
        }
      ]
    }
  ]
}
