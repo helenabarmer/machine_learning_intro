{
 "cells": [
  {
   "cell_type": "markdown",
   "metadata": {},
   "source": [
    "# Time series forecasting\n",
    "\n",
    "### What is time series forecasting?\n",
    "We will use time data to forecast (predict) upcoming COVID-19 cases for the Skåne region in Sweden.\n",
    "\n",
    "### **Dataset**\n",
    "Number of COVID-19 cases in Sweden per day and region. The dataset is from [Sveriges dataportal](https://www.dataportal.se/sv) and can be found [here](https://www.dataportal.se/sv/datasets/525_1424/antal-fall-av-covid-19-i-sverige-per-dag-och-region).\n",
    "\n",
    "### What time frames are we looking at?\n",
    "* Short term: Week\n",
    "* Medium term: Few months\n",
    "* Long term: Yearss\n"
   ]
  },
  {
   "cell_type": "code",
   "execution_count": 530,
   "metadata": {},
   "outputs": [],
   "source": [
    "import numpy as np\n",
    "import pandas as pd\n",
    "import matplotlib.pyplot as plt\n",
    "%matplotlib inline"
   ]
  },
  {
   "cell_type": "code",
   "execution_count": 531,
   "metadata": {},
   "outputs": [],
   "source": [
    "# Import data\n",
    "#data = 'covid-cases.csv'\n",
    "data = 'covid19.csv'\n",
    "df = pd.read_csv(data)\n",
    "\n",
    "# Lock Skåne column\n",
    "skåne = df.iloc[:, 12:13]\n",
    "\n",
    "# Lock date column\n",
    "datum = df.iloc[:, -1:]\n",
    "\n",
    "# Merge dataframes\n",
    "df_covid = pd.merge(skåne, datum, left_index=True, right_index=True)\n",
    "df_covid.head()\n",
    "\n",
    "# Rename column Statistikdatum to Datum\n",
    "df_covid.rename(columns={'Statistikdatum': 'Datum'}, inplace=True)\n",
    "\n",
    "# Drop all zero values in the dataframe\n",
    "df_covid = df_covid[(df_covid != 0).all(1)]"
   ]
  },
  {
   "cell_type": "code",
   "execution_count": 532,
   "metadata": {},
   "outputs": [
    {
     "data": {
      "text/html": [
       "<div>\n",
       "<style scoped>\n",
       "    .dataframe tbody tr th:only-of-type {\n",
       "        vertical-align: middle;\n",
       "    }\n",
       "\n",
       "    .dataframe tbody tr th {\n",
       "        vertical-align: top;\n",
       "    }\n",
       "\n",
       "    .dataframe thead th {\n",
       "        text-align: right;\n",
       "    }\n",
       "</style>\n",
       "<table border=\"1\" class=\"dataframe\">\n",
       "  <thead>\n",
       "    <tr style=\"text-align: right;\">\n",
       "      <th></th>\n",
       "      <th>Skåne</th>\n",
       "      <th>Datum</th>\n",
       "    </tr>\n",
       "  </thead>\n",
       "  <tbody>\n",
       "    <tr>\n",
       "      <th>274</th>\n",
       "      <td>1</td>\n",
       "      <td>02/03/2020</td>\n",
       "    </tr>\n",
       "    <tr>\n",
       "      <th>273</th>\n",
       "      <td>1</td>\n",
       "      <td>03/03/2020</td>\n",
       "    </tr>\n",
       "    <tr>\n",
       "      <th>272</th>\n",
       "      <td>7</td>\n",
       "      <td>04/03/2020</td>\n",
       "    </tr>\n",
       "    <tr>\n",
       "      <th>270</th>\n",
       "      <td>8</td>\n",
       "      <td>06/03/2020</td>\n",
       "    </tr>\n",
       "    <tr>\n",
       "      <th>269</th>\n",
       "      <td>5</td>\n",
       "      <td>07/03/2020</td>\n",
       "    </tr>\n",
       "  </tbody>\n",
       "</table>\n",
       "</div>"
      ],
      "text/plain": [
       "     Skåne       Datum\n",
       "274      1  02/03/2020\n",
       "273      1  03/03/2020\n",
       "272      7  04/03/2020\n",
       "270      8  06/03/2020\n",
       "269      5  07/03/2020"
      ]
     },
     "execution_count": 532,
     "metadata": {},
     "output_type": "execute_result"
    }
   ],
   "source": [
    "# Reverse order of dataframe\n",
    "df_covid = df_covid.iloc[::-1]\n",
    "df_covid.head()"
   ]
  },
  {
   "cell_type": "code",
   "execution_count": 534,
   "metadata": {},
   "outputs": [],
   "source": [
    "# Prepare dataframe\n",
    "df_covid = pd.Series( df_covid['Skåne'].values, \n",
    "                    index=pd.DatetimeIndex(data= (tuple(pd.date_range('2020-03-02', periods=272, freq='D'))),\n",
    "                                          freq='D'))"
   ]
  },
  {
   "cell_type": "code",
   "execution_count": 535,
   "metadata": {},
   "outputs": [
    {
     "data": {
      "text/plain": [
       "2020-03-02    1\n",
       "2020-03-03    1\n",
       "2020-03-04    7\n",
       "2020-03-05    8\n",
       "2020-03-06    5\n",
       "Freq: D, dtype: int64"
      ]
     },
     "execution_count": 535,
     "metadata": {},
     "output_type": "execute_result"
    }
   ],
   "source": [
    "df_covid.head()"
   ]
  },
  {
   "cell_type": "code",
   "execution_count": 536,
   "metadata": {},
   "outputs": [
    {
     "data": {
      "text/plain": [
       "pandas.core.indexes.datetimes.DatetimeIndex"
      ]
     },
     "execution_count": 536,
     "metadata": {},
     "output_type": "execute_result"
    }
   ],
   "source": [
    "type(df_covid.index)"
   ]
  },
  {
   "cell_type": "code",
   "execution_count": 537,
   "metadata": {},
   "outputs": [],
   "source": [
    "# Check type of datum\n",
    "#print(\"Datum data type: \", type(df_covid['Datum'][0]))\n",
    "\n",
    "# Convert column Datum from string to datetime\n",
    "#df_covid['Datum'] = pd.to_datetime(df_covid['Datum'], infer_datetime_format=True)\n",
    "\n",
    "# Check type of datum\n",
    "#print(\"Datum data type after converting: \", type(df_covid['Datum'][0]))"
   ]
  },
  {
   "cell_type": "code",
   "execution_count": 538,
   "metadata": {},
   "outputs": [],
   "source": [
    "# Set date as the index of the dataframe\n",
    "#df_covid = df_covid.set_index(['Datum'])"
   ]
  },
  {
   "cell_type": "code",
   "execution_count": 539,
   "metadata": {},
   "outputs": [],
   "source": [
    "#df_covid = df_covid.iloc[::-1]"
   ]
  },
  {
   "cell_type": "markdown",
   "metadata": {},
   "source": [
    "# Visualization and data exploration"
   ]
  },
  {
   "cell_type": "code",
   "execution_count": 540,
   "metadata": {},
   "outputs": [
    {
     "data": {
      "image/png": "[encoded data removed]",
      "text/plain": [
       "<Figure size 864x576 with 1 Axes>"
      ]
     },
     "metadata": {
      "needs_background": "light"
     },
     "output_type": "display_data"
    }
   ],
   "source": [
    "plt.figure(figsize=(12,8))\n",
    "plt.plot(df_covid)\n",
    "plt.title('Daily Cases of COVID-19 in Skåne (Sweden)')\n",
    "plt.xlabel('Date', fontsize=18)\n",
    "plt.ylabel('Number of daily cases', fontsize=18)\n",
    "plt.legend('C', fontsize=18);"
   ]
  },
  {
   "cell_type": "markdown",
   "metadata": {},
   "source": [
    "## Cumulative sums\n",
    "The total sum of data as it grows with time."
   ]
  },
  {
   "cell_type": "code",
   "execution_count": 541,
   "metadata": {},
   "outputs": [],
   "source": [
    "# We need to reverse the dataframe to get the total sum counting from the first case\n",
    "#reversed_df = df_covid.iloc[::-1]"
   ]
  },
  {
   "cell_type": "code",
   "execution_count": 542,
   "metadata": {},
   "outputs": [],
   "source": [
    "# Save as a new dataframe\n",
    "covid_cumulative = np.cumsum(df_covid)"
   ]
  },
  {
   "cell_type": "code",
   "execution_count": 543,
   "metadata": {},
   "outputs": [
    {
     "data": {
      "text/plain": [
       "2020-11-24    27261\n",
       "2020-11-25    27638\n",
       "2020-11-26    27993\n",
       "2020-11-27    28758\n",
       "2020-11-28    29581\n",
       "Freq: D, dtype: int64"
      ]
     },
     "execution_count": 543,
     "metadata": {},
     "output_type": "execute_result"
    }
   ],
   "source": [
    "# Last entries\n",
    "covid_cumulative.tail()"
   ]
  },
  {
   "cell_type": "code",
   "execution_count": 544,
   "metadata": {},
   "outputs": [
    {
     "data": {
      "image/png": "[encoded data removed]",
      "text/plain": [
       "<Figure size 864x576 with 1 Axes>"
      ]
     },
     "metadata": {
      "needs_background": "light"
     },
     "output_type": "display_data"
    }
   ],
   "source": [
    "# Plot time series with cumulative\n",
    "plt.figure(figsize=(12,8))\n",
    "plt.plot(df_covid)\n",
    "plt.plot(covid_cumulative)\n",
    "plt.title('Daily Cases of COVID-19 in Skåne (Sweden)')\n",
    "plt.xlabel('Date', fontsize=18)\n",
    "plt.ylabel('Number of daily cases', fontsize=18)\n",
    "plt.legend(['Daily cases', 'Total cases'], fontsize=12);"
   ]
  },
  {
   "cell_type": "markdown",
   "metadata": {},
   "source": [
    "# Stationary vs non-stationary\n",
    "* **Seasonality**: Variations that occur at specific regular intervals \n",
    "* **Trend**: Tendency of the data to increase or decrease during a longer period of time\n",
    "* **Stationary**: No trends or seasonality, easier to model around\n",
    "* **Non-stationary**: If there is seasonality or a trend to the time series it is non-stationary.\n",
    "<br><br>\n",
    "Let us test the dataset for stationarity."
   ]
  },
  {
   "cell_type": "markdown",
   "metadata": {},
   "source": [
    "## The Augmented Dickey-Fuller test \n",
    "* Statistical test called a unit root test\n",
    "* Determines how strongly a time series is defined by a trend\n",
    "* The p-value should be less than the significance level (say 0.05) in order for the time series to be stationary."
   ]
  },
  {
   "cell_type": "code",
   "execution_count": 545,
   "metadata": {},
   "outputs": [],
   "source": [
    "from statsmodels.tsa.stattools import adfuller\n",
    "\n",
    "def stationarity_test(df):\n",
    "    \n",
    "    result=adfuller(df)\n",
    "    output = pd.Series(result[0:1], index=['P-value'])\n",
    "    \n",
    "    if result[1] <= 0.05:\n",
    "        print('---Dataset is stationary---')\n",
    "        print(output)\n",
    "        \n",
    "    elif result[1] >= 0.05:\n",
    "        print('---Dataset is non-stationary---')\n",
    "        print(output)\n",
    "    \n",
    "    "
   ]
  },
  {
   "cell_type": "code",
   "execution_count": 546,
   "metadata": {},
   "outputs": [
    {
     "name": "stdout",
     "output_type": "stream",
     "text": [
      "---Dataset is non-stationary---\n",
      "P-value    2.730175\n",
      "dtype: float64\n"
     ]
    }
   ],
   "source": [
    "stationarity_test(df_covid)"
   ]
  },
  {
   "cell_type": "markdown",
   "metadata": {},
   "source": [
    "## Autocorrelation\n",
    "* Similarity between observations as a function of the time\n",
    "* Correlation within the data on a time scale\n",
    "<br><br>\n",
    "\n",
    "We will test for autocorrelation in our data. <br>\n",
    "If the plots are outside of the blue area it shows correlation in the data."
   ]
  },
  {
   "cell_type": "code",
   "execution_count": 549,
   "metadata": {},
   "outputs": [
    {
     "data": {
      "image/png": "[encoded data removed]",
      "text/plain": [
       "<Figure size 864x864 with 2 Axes>"
      ]
     },
     "metadata": {
      "needs_background": "light"
     },
     "output_type": "display_data"
    }
   ],
   "source": [
    "from statsmodels.graphics.tsaplots import plot_acf, plot_pacf\n",
    "\n",
    "fig, (ax1, ax2) = plt.subplots(2, 1, figsize=(12, 12))\n",
    "\n",
    "plot_acf(df_covid, lags=7, ax=ax1)\n",
    "plot_pacf(df_covid, lags=7, ax=ax2);"
   ]
  },
  {
   "cell_type": "markdown",
   "metadata": {},
   "source": [
    "## ARIMA Model\n",
    "\n",
    "* **p**: Order of autoregression (AR)\n",
    "* **d**: Grade of differencing\n",
    "* **q**: Order of moving average (MA)\n",
    "* Arima can only be used on a stationary dataset"
   ]
  },
  {
   "cell_type": "code",
   "execution_count": 550,
   "metadata": {},
   "outputs": [],
   "source": [
    "from statsmodels.tsa.arima_model import ARIMA"
   ]
  },
  {
   "cell_type": "code",
   "execution_count": 552,
   "metadata": {},
   "outputs": [
    {
     "data": {
      "image/png": "[encoded data removed]",
      "text/plain": [
       "<Figure size 864x576 with 1 Axes>"
      ]
     },
     "metadata": {
      "needs_background": "light"
     },
     "output_type": "display_data"
    }
   ],
   "source": [
    "model=ARIMA(df_covid,order=(5,0,0)).fit()\n",
    "#model = model.fit()\n",
    "\n",
    "plt.figure(figsize=(12,8))\n",
    "plt.plot(df_covid)\n",
    "plt.plot(model.fittedvalues, color='red');"
   ]
  },
  {
   "cell_type": "code",
   "execution_count": 553,
   "metadata": {},
   "outputs": [
    {
     "data": {
      "text/html": [
       "<div>\n",
       "<style scoped>\n",
       "    .dataframe tbody tr th:only-of-type {\n",
       "        vertical-align: middle;\n",
       "    }\n",
       "\n",
       "    .dataframe tbody tr th {\n",
       "        vertical-align: top;\n",
       "    }\n",
       "\n",
       "    .dataframe thead th {\n",
       "        text-align: right;\n",
       "    }\n",
       "</style>\n",
       "<table border=\"1\" class=\"dataframe\">\n",
       "  <thead>\n",
       "    <tr style=\"text-align: right;\">\n",
       "      <th></th>\n",
       "      <th>Upcoming 30 days</th>\n",
       "    </tr>\n",
       "  </thead>\n",
       "  <tbody>\n",
       "    <tr>\n",
       "      <th>0</th>\n",
       "      <td>523.001549</td>\n",
       "    </tr>\n",
       "    <tr>\n",
       "      <th>1</th>\n",
       "      <td>513.139629</td>\n",
       "    </tr>\n",
       "    <tr>\n",
       "      <th>2</th>\n",
       "      <td>622.500153</td>\n",
       "    </tr>\n",
       "    <tr>\n",
       "      <th>3</th>\n",
       "      <td>613.039338</td>\n",
       "    </tr>\n",
       "    <tr>\n",
       "      <th>4</th>\n",
       "      <td>522.872037</td>\n",
       "    </tr>\n",
       "    <tr>\n",
       "      <th>5</th>\n",
       "      <td>514.190050</td>\n",
       "    </tr>\n",
       "    <tr>\n",
       "      <th>6</th>\n",
       "      <td>535.770319</td>\n",
       "    </tr>\n",
       "    <tr>\n",
       "      <th>7</th>\n",
       "      <td>520.406835</td>\n",
       "    </tr>\n",
       "    <tr>\n",
       "      <th>8</th>\n",
       "      <td>487.424771</td>\n",
       "    </tr>\n",
       "    <tr>\n",
       "      <th>9</th>\n",
       "      <td>477.770644</td>\n",
       "    </tr>\n",
       "    <tr>\n",
       "      <th>10</th>\n",
       "      <td>475.533456</td>\n",
       "    </tr>\n",
       "    <tr>\n",
       "      <th>11</th>\n",
       "      <td>462.485861</td>\n",
       "    </tr>\n",
       "    <tr>\n",
       "      <th>12</th>\n",
       "      <td>445.970544</td>\n",
       "    </tr>\n",
       "    <tr>\n",
       "      <th>13</th>\n",
       "      <td>436.317442</td>\n",
       "    </tr>\n",
       "    <tr>\n",
       "      <th>14</th>\n",
       "      <td>428.556798</td>\n",
       "    </tr>\n",
       "    <tr>\n",
       "      <th>15</th>\n",
       "      <td>417.886006</td>\n",
       "    </tr>\n",
       "    <tr>\n",
       "      <th>16</th>\n",
       "      <td>406.796578</td>\n",
       "    </tr>\n",
       "    <tr>\n",
       "      <th>17</th>\n",
       "      <td>397.869848</td>\n",
       "    </tr>\n",
       "    <tr>\n",
       "      <th>18</th>\n",
       "      <td>389.563138</td>\n",
       "    </tr>\n",
       "    <tr>\n",
       "      <th>19</th>\n",
       "      <td>380.638076</td>\n",
       "    </tr>\n",
       "    <tr>\n",
       "      <th>20</th>\n",
       "      <td>371.887097</td>\n",
       "    </tr>\n",
       "    <tr>\n",
       "      <th>21</th>\n",
       "      <td>363.941242</td>\n",
       "    </tr>\n",
       "    <tr>\n",
       "      <th>22</th>\n",
       "      <td>356.324092</td>\n",
       "    </tr>\n",
       "    <tr>\n",
       "      <th>23</th>\n",
       "      <td>348.719425</td>\n",
       "    </tr>\n",
       "    <tr>\n",
       "      <th>24</th>\n",
       "      <td>341.365977</td>\n",
       "    </tr>\n",
       "    <tr>\n",
       "      <th>25</th>\n",
       "      <td>334.410139</td>\n",
       "    </tr>\n",
       "    <tr>\n",
       "      <th>26</th>\n",
       "      <td>327.703173</td>\n",
       "    </tr>\n",
       "    <tr>\n",
       "      <th>27</th>\n",
       "      <td>321.162124</td>\n",
       "    </tr>\n",
       "    <tr>\n",
       "      <th>28</th>\n",
       "      <td>314.853375</td>\n",
       "    </tr>\n",
       "    <tr>\n",
       "      <th>29</th>\n",
       "      <td>308.805580</td>\n",
       "    </tr>\n",
       "  </tbody>\n",
       "</table>\n",
       "</div>"
      ],
      "text/plain": [
       "    Upcoming 30 days\n",
       "0         523.001549\n",
       "1         513.139629\n",
       "2         622.500153\n",
       "3         613.039338\n",
       "4         522.872037\n",
       "5         514.190050\n",
       "6         535.770319\n",
       "7         520.406835\n",
       "8         487.424771\n",
       "9         477.770644\n",
       "10        475.533456\n",
       "11        462.485861\n",
       "12        445.970544\n",
       "13        436.317442\n",
       "14        428.556798\n",
       "15        417.886006\n",
       "16        406.796578\n",
       "17        397.869848\n",
       "18        389.563138\n",
       "19        380.638076\n",
       "20        371.887097\n",
       "21        363.941242\n",
       "22        356.324092\n",
       "23        348.719425\n",
       "24        341.365977\n",
       "25        334.410139\n",
       "26        327.703173\n",
       "27        321.162124\n",
       "28        314.853375\n",
       "29        308.805580"
      ]
     },
     "execution_count": 553,
     "metadata": {},
     "output_type": "execute_result"
    }
   ],
   "source": [
    "# Forecast upcoming 30 days\n",
    "forecast = model.forecast(steps=30)[0]\n",
    "df_forecast = pd.DataFrame(forecast, columns=['Upcoming 30 days'])\n",
    "df_forecast"
   ]
  },
  {
   "cell_type": "code",
   "execution_count": 565,
   "metadata": {},
   "outputs": [
    {
     "data": {
      "text/plain": [
       "(30, 1)"
      ]
     },
     "execution_count": 565,
     "metadata": {},
     "output_type": "execute_result"
    }
   ],
   "source": [
    "df = df_forecast.copy()\n",
    "df.shape"
   ]
  },
  {
   "cell_type": "code",
   "execution_count": 573,
   "metadata": {},
   "outputs": [
    {
     "data": {
      "text/html": [
       "<div>\n",
       "<style scoped>\n",
       "    .dataframe tbody tr th:only-of-type {\n",
       "        vertical-align: middle;\n",
       "    }\n",
       "\n",
       "    .dataframe tbody tr th {\n",
       "        vertical-align: top;\n",
       "    }\n",
       "\n",
       "    .dataframe thead th {\n",
       "        text-align: right;\n",
       "    }\n",
       "</style>\n",
       "<table border=\"1\" class=\"dataframe\">\n",
       "  <thead>\n",
       "    <tr style=\"text-align: right;\">\n",
       "      <th></th>\n",
       "      <th>Date</th>\n",
       "    </tr>\n",
       "  </thead>\n",
       "  <tbody>\n",
       "    <tr>\n",
       "      <th>0</th>\n",
       "      <td>2020-12-01</td>\n",
       "    </tr>\n",
       "    <tr>\n",
       "      <th>1</th>\n",
       "      <td>2020-12-02</td>\n",
       "    </tr>\n",
       "    <tr>\n",
       "      <th>2</th>\n",
       "      <td>2020-12-03</td>\n",
       "    </tr>\n",
       "    <tr>\n",
       "      <th>3</th>\n",
       "      <td>2020-12-04</td>\n",
       "    </tr>\n",
       "    <tr>\n",
       "      <th>4</th>\n",
       "      <td>2020-12-05</td>\n",
       "    </tr>\n",
       "    <tr>\n",
       "      <th>5</th>\n",
       "      <td>2020-12-06</td>\n",
       "    </tr>\n",
       "    <tr>\n",
       "      <th>6</th>\n",
       "      <td>2020-12-07</td>\n",
       "    </tr>\n",
       "    <tr>\n",
       "      <th>7</th>\n",
       "      <td>2020-12-08</td>\n",
       "    </tr>\n",
       "    <tr>\n",
       "      <th>8</th>\n",
       "      <td>2020-12-09</td>\n",
       "    </tr>\n",
       "    <tr>\n",
       "      <th>9</th>\n",
       "      <td>2020-12-10</td>\n",
       "    </tr>\n",
       "    <tr>\n",
       "      <th>10</th>\n",
       "      <td>2020-12-11</td>\n",
       "    </tr>\n",
       "    <tr>\n",
       "      <th>11</th>\n",
       "      <td>2020-12-12</td>\n",
       "    </tr>\n",
       "    <tr>\n",
       "      <th>12</th>\n",
       "      <td>2020-12-13</td>\n",
       "    </tr>\n",
       "    <tr>\n",
       "      <th>13</th>\n",
       "      <td>2020-12-14</td>\n",
       "    </tr>\n",
       "    <tr>\n",
       "      <th>14</th>\n",
       "      <td>2020-12-15</td>\n",
       "    </tr>\n",
       "    <tr>\n",
       "      <th>15</th>\n",
       "      <td>2020-12-16</td>\n",
       "    </tr>\n",
       "    <tr>\n",
       "      <th>16</th>\n",
       "      <td>2020-12-17</td>\n",
       "    </tr>\n",
       "    <tr>\n",
       "      <th>17</th>\n",
       "      <td>2020-12-18</td>\n",
       "    </tr>\n",
       "    <tr>\n",
       "      <th>18</th>\n",
       "      <td>2020-12-19</td>\n",
       "    </tr>\n",
       "    <tr>\n",
       "      <th>19</th>\n",
       "      <td>2020-12-20</td>\n",
       "    </tr>\n",
       "    <tr>\n",
       "      <th>20</th>\n",
       "      <td>2020-12-21</td>\n",
       "    </tr>\n",
       "    <tr>\n",
       "      <th>21</th>\n",
       "      <td>2020-12-22</td>\n",
       "    </tr>\n",
       "    <tr>\n",
       "      <th>22</th>\n",
       "      <td>2020-12-23</td>\n",
       "    </tr>\n",
       "    <tr>\n",
       "      <th>23</th>\n",
       "      <td>2020-12-24</td>\n",
       "    </tr>\n",
       "    <tr>\n",
       "      <th>24</th>\n",
       "      <td>2020-12-25</td>\n",
       "    </tr>\n",
       "    <tr>\n",
       "      <th>25</th>\n",
       "      <td>2020-12-26</td>\n",
       "    </tr>\n",
       "    <tr>\n",
       "      <th>26</th>\n",
       "      <td>2020-12-27</td>\n",
       "    </tr>\n",
       "    <tr>\n",
       "      <th>27</th>\n",
       "      <td>2020-12-28</td>\n",
       "    </tr>\n",
       "    <tr>\n",
       "      <th>28</th>\n",
       "      <td>2020-12-29</td>\n",
       "    </tr>\n",
       "    <tr>\n",
       "      <th>29</th>\n",
       "      <td>2020-12-30</td>\n",
       "    </tr>\n",
       "  </tbody>\n",
       "</table>\n",
       "</div>"
      ],
      "text/plain": [
       "         Date\n",
       "0  2020-12-01\n",
       "1  2020-12-02\n",
       "2  2020-12-03\n",
       "3  2020-12-04\n",
       "4  2020-12-05\n",
       "5  2020-12-06\n",
       "6  2020-12-07\n",
       "7  2020-12-08\n",
       "8  2020-12-09\n",
       "9  2020-12-10\n",
       "10 2020-12-11\n",
       "11 2020-12-12\n",
       "12 2020-12-13\n",
       "13 2020-12-14\n",
       "14 2020-12-15\n",
       "15 2020-12-16\n",
       "16 2020-12-17\n",
       "17 2020-12-18\n",
       "18 2020-12-19\n",
       "19 2020-12-20\n",
       "20 2020-12-21\n",
       "21 2020-12-22\n",
       "22 2020-12-23\n",
       "23 2020-12-24\n",
       "24 2020-12-25\n",
       "25 2020-12-26\n",
       "26 2020-12-27\n",
       "27 2020-12-28\n",
       "28 2020-12-29\n",
       "29 2020-12-30"
      ]
     },
     "execution_count": 573,
     "metadata": {},
     "output_type": "execute_result"
    }
   ],
   "source": [
    "date = pd.DataFrame(pd.date_range('2020-12-01', '2020-12-30', \n",
    "                     freq='D'), columns=['Date']) \n",
    "date"
   ]
  },
  {
   "cell_type": "code",
   "execution_count": 568,
   "metadata": {},
   "outputs": [
    {
     "data": {
      "text/plain": [
       "DatetimeIndex(['2020-12-01', '2020-12-02', '2020-12-03', '2020-12-04',\n",
       "               '2020-12-05', '2020-12-06', '2020-12-07', '2020-12-08',\n",
       "               '2020-12-09', '2020-12-10', '2020-12-11', '2020-12-12',\n",
       "               '2020-12-13', '2020-12-14', '2020-12-15', '2020-12-16',\n",
       "               '2020-12-17', '2020-12-18', '2020-12-19', '2020-12-20',\n",
       "               '2020-12-21', '2020-12-22', '2020-12-23', '2020-12-24',\n",
       "               '2020-12-25', '2020-12-26', '2020-12-27', '2020-12-28',\n",
       "               '2020-12-29', '2020-12-30'],\n",
       "              dtype='datetime64[ns]', freq='D')"
      ]
     },
     "execution_count": 568,
     "metadata": {},
     "output_type": "execute_result"
    }
   ],
   "source": [
    "# Merge dataframes\n",
    "test = pd.merge(skåne, datum, left_index=True, right_index=True)\n",
    "df_covid.head()"
   ]
  },
  {
   "cell_type": "code",
   "execution_count": 561,
   "metadata": {},
   "outputs": [
    {
     "data": {
      "text/html": [
       "<div>\n",
       "<style scoped>\n",
       "    .dataframe tbody tr th:only-of-type {\n",
       "        vertical-align: middle;\n",
       "    }\n",
       "\n",
       "    .dataframe tbody tr th {\n",
       "        vertical-align: top;\n",
       "    }\n",
       "\n",
       "    .dataframe thead th {\n",
       "        text-align: right;\n",
       "    }\n",
       "</style>\n",
       "<table border=\"1\" class=\"dataframe\">\n",
       "  <thead>\n",
       "    <tr style=\"text-align: right;\">\n",
       "      <th></th>\n",
       "      <th>Upcoming 30 days</th>\n",
       "      <th>Date</th>\n",
       "    </tr>\n",
       "  </thead>\n",
       "  <tbody>\n",
       "    <tr>\n",
       "      <th>0</th>\n",
       "      <td>523.001549</td>\n",
       "      <td>NaT</td>\n",
       "    </tr>\n",
       "    <tr>\n",
       "      <th>1</th>\n",
       "      <td>513.139629</td>\n",
       "      <td>NaT</td>\n",
       "    </tr>\n",
       "    <tr>\n",
       "      <th>2</th>\n",
       "      <td>622.500153</td>\n",
       "      <td>NaT</td>\n",
       "    </tr>\n",
       "    <tr>\n",
       "      <th>3</th>\n",
       "      <td>613.039338</td>\n",
       "      <td>NaT</td>\n",
       "    </tr>\n",
       "    <tr>\n",
       "      <th>4</th>\n",
       "      <td>522.872037</td>\n",
       "      <td>NaT</td>\n",
       "    </tr>\n",
       "  </tbody>\n",
       "</table>\n",
       "</div>"
      ],
      "text/plain": [
       "   Upcoming 30 days Date\n",
       "0        523.001549  NaT\n",
       "1        513.139629  NaT\n",
       "2        622.500153  NaT\n",
       "3        613.039338  NaT\n",
       "4        522.872037  NaT"
      ]
     },
     "execution_count": 561,
     "metadata": {},
     "output_type": "execute_result"
    }
   ],
   "source": [
    "df.head()"
   ]
  },
  {
   "cell_type": "code",
   "execution_count": null,
   "metadata": {},
   "outputs": [],
   "source": []
  },
  {
   "cell_type": "code",
   "execution_count": null,
   "metadata": {},
   "outputs": [],
   "source": []
  },
  {
   "cell_type": "code",
   "execution_count": null,
   "metadata": {},
   "outputs": [],
   "source": []
  }
 ],
 "metadata": {
  "kernelspec": {
   "display_name": "Python 3",
   "language": "python",
   "name": "python3"
  },
  "language_info": {
   "codemirror_mode": {
    "name": "ipython",
    "version": 3
   },
   "file_extension": ".py",
   "mimetype": "text/x-python",
   "name": "python",
   "nbconvert_exporter": "python",
   "pygments_lexer": "ipython3",
   "version": "3.7.7"
  }
 },
 "nbformat": 4,
 "nbformat_minor": 4
}
